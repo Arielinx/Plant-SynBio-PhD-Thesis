{
 "cells": [
  {
   "cell_type": "code",
   "execution_count": 130,
   "metadata": {},
   "outputs": [],
   "source": [
    "#Importar librerias necesarias\n",
    "\n",
    "import dnaplotlib as dpl\n",
    "import matplotlib.pyplot as plt\n",
    "from matplotlib import gridspec\n",
    "%matplotlib inline \n",
    "from skimage import io"
   ]
  },
  {
   "cell_type": "code",
   "execution_count": 131,
   "metadata": {},
   "outputs": [],
   "source": [
    "# Required for drawing shapes\n",
    "from matplotlib.patches import Polygon\n",
    "from matplotlib.lines import Line2D\n",
    "from matplotlib.patheffects import Stroke\n",
    "import matplotlib.patches as patches"
   ]
  },
  {
   "cell_type": "code",
   "execution_count": 132,
   "metadata": {},
   "outputs": [],
   "source": [
    "# Crear el renderer de dnaplotlib\n",
    "dr = dpl.DNARenderer(scale=5, linewidth=0.7)\n",
    "part_renderers = dr.SBOL_part_renderers()"
   ]
  },
  {
   "cell_type": "code",
   "execution_count": 150,
   "metadata": {},
   "outputs": [
    {
     "name": "stdout",
     "output_type": "stream",
     "text": [
      "(0.0, 0.0546875, 0.7265625)\n",
      "(0.0, 0.0546875, 0.7265625)\n"
     ]
    },
    {
     "data": {
      "text/plain": [
       "(0.1, 0.14921875, 0.75390625)"
      ]
     },
     "execution_count": 150,
     "metadata": {},
     "output_type": "execute_result"
    }
   ],
   "source": [
    "# Funcion para pasar colores a RGB con valores de 0 y 1\n",
    "#Para encontrar el color que quiero uso la pagina rgb.to\n",
    "\n",
    "def RGB01converter(rgbcode):\n",
    "    rgb01 = (rgbcode[0]/256,rgbcode[1]/256,rgbcode[2]/256)\n",
    "    print (rgb01)\n",
    "    return rgb01\n",
    "\n",
    "rgbcode = (0, 14, 186)\n",
    "\n",
    "RGB01converter(rgbcode)\n",
    "\n",
    "def lighten_color (col, fac):\n",
    "    r = col[0] + (fac*(1.0-col[0]))\n",
    "    g = col[1] + (fac*(1.0-col[1]))\n",
    "    b = col[2] + (fac*(1.0-col[2]))\n",
    "    return (r,g,b)\n",
    "\n",
    "lighten_color (RGB01converter(rgbcode), 0.1)"
   ]
  },
  {
   "cell_type": "code",
   "execution_count": 238,
   "metadata": {},
   "outputs": [],
   "source": [
    "# Crear el constructo programable para graficar\n",
    "letra = 10\n",
    "\n",
    "prom1 = {'type':'Promoter', 'name':'prom1', 'fwd':True, 'opts':{'color':(0, 0, 0), 'x_extent':10, 'label':'Mpef1a', 'label_size': 5, 'label_color':(0,0,0), 'label_y_offset':14,'label_x_offset':2, 'start_pad':5,'end_pad':-5}}\n",
    "cds1_1 = {'type':'CDS', 'name':'cds1.3', 'fwd':True, 'opts':{'color':(0.82421875, 0.99609375, 0.0), 'x_extent':40,'label':'YPet', 'label_size': 7, 'label_color':(0,0,0), 'label_x_offset':-2,'arrowhead_height':0, 'arrowhead_length':0}}\n",
    "cds1_2 = {'type':'CDS', 'name':'cds1.3', 'fwd':True, 'opts':{'color':(0.2,0.2,0.2), 'x_extent':20,'label':'Hemme', 'label_size': 7, 'label_color':(1,1,1), 'label_x_offset':-1}}\n",
    "term1= {'type':'Terminator', 'name':'term1', 'fwd':True,'opts':{ 'label':'NosT-35ST', 'label_size': 5, 'label_color':(0,0,0), 'label_y_offset':12,'label_x_offset':-5, 'start_pad':-2, 'end_pad':2}}\n",
    "\n",
    "\n",
    "\n",
    "#cds1_3 = {'type':'CDS', 'name':'UNSX', 'fwd':True, 'opts':{'color':UNSX, 'x_extent':21,'label':'UNSX', 'label_size': letra, 'label_color':(1,1,1), 'label_x_offset':0, 'arrowhead_height':0, 'arrowhead_length':0}}\n",
    "\n",
    "sp = {'type':'EmptySpace', 'name':'S1', 'fwd':True, 'opts':{'x_extent':10}}"
   ]
  },
  {
   "cell_type": "code",
   "execution_count": 239,
   "metadata": {},
   "outputs": [],
   "source": [
    "# Crear el diseno base\n",
    "design1 = [prom1,cds1_1,cds1_2, term1]"
   ]
  },
  {
   "cell_type": "code",
   "execution_count": 240,
   "metadata": {},
   "outputs": [
    {
     "data": {
      "text/plain": [
       "(0.0, 82.0, -25.0, 28.0)"
      ]
     },
     "execution_count": 240,
     "metadata": {},
     "output_type": "execute_result"
    },
    {
     "data": {
      "image/png": "[encoded data removed]",
      "text/plain": [
       "<Figure size 316.8x108 with 1 Axes>"
      ]
     },
     "metadata": {},
     "output_type": "display_data"
    }
   ],
   "source": [
    "# Crear la figura\n",
    "fig = plt.figure(figsize=(4.4,1.5))\n",
    "gs = gridspec.GridSpec(1, 1)\n",
    "ax_dna = plt.subplot(gs[0])\n",
    "# Renderiar el ADN al eje\n",
    "start, end = dr.renderDNA(ax_dna, design1, part_renderers)\n",
    "ax_dna.set_xlim([start, end])\n",
    "ax_dna.set_ylim([-25,28])\n",
    "ax_dna.set_aspect('equal')\n",
    "ax_dna.set_xticks([])\n",
    "ax_dna.set_yticks([])\n",
    "ax_dna.axis('off')"
   ]
  },
  {
   "cell_type": "code",
   "execution_count": 241,
   "metadata": {},
   "outputs": [
    {
     "data": {
      "text/plain": [
       "<Figure size 432x288 with 0 Axes>"
      ]
     },
     "metadata": {},
     "output_type": "display_data"
    }
   ],
   "source": [
    "# Update subplot spacing\n",
    "plt.subplots_adjust(left=0.01, right=0.99, top=0.99, bottom=0.01)"
   ]
  },
  {
   "cell_type": "code",
   "execution_count": 242,
   "metadata": {
    "scrolled": true
   },
   "outputs": [
    {
     "data": {
      "text/plain": [
       "<matplotlib.image.AxesImage at 0x22a99717dd8>"
      ]
     },
     "execution_count": 242,
     "metadata": {},
     "output_type": "execute_result"
    },
    {
     "data": {
      "image/png": "[encoded data removed]",
      "text/plain": [
       "<Figure size 1200x1200 with 1 Axes>"
      ]
     },
     "metadata": {
      "needs_background": "light"
     },
     "output_type": "display_data"
    }
   ],
   "source": [
    "# Save the figure\n",
    "fig.savefig('YPetHemme.pdf', transparent=True)\n",
    "fig.savefig('YPetHemme.png', dpi=300)\n",
    "# Clear the plotting cache\n",
    "plt.close('all')\n",
    "#Solo para ver cambios realizados en el codigo mas rapido\n",
    "img = io.imread('YPetHemme.png')\n",
    "plt.figure(figsize=(4, 4), dpi=300)\n",
    "io.imshow(img, cmap = 'gray')"
   ]
  },
  {
   "cell_type": "code",
   "execution_count": null,
   "metadata": {},
   "outputs": [],
   "source": []
  },
  {
   "cell_type": "code",
   "execution_count": null,
   "metadata": {},
   "outputs": [],
   "source": []
  },
  {
   "cell_type": "code",
   "execution_count": null,
   "metadata": {},
   "outputs": [],
   "source": []
  }
 ],
 "metadata": {
  "kernelspec": {
   "display_name": "Python 3",
   "language": "python",
   "name": "python3"
  },
  "language_info": {
   "codemirror_mode": {
    "name": "ipython",
    "version": 3
   },
   "file_extension": ".py",
   "mimetype": "text/x-python",
   "name": "python",
   "nbconvert_exporter": "python",
   "pygments_lexer": "ipython3",
   "version": "3.6.12"
  }
 },
 "nbformat": 4,
 "nbformat_minor": 2
}
