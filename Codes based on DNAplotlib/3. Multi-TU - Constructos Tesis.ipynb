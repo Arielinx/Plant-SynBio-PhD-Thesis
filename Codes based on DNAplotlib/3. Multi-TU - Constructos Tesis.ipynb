{
 "cells": [
  {
   "cell_type": "code",
   "execution_count": 19,
   "metadata": {},
   "outputs": [],
   "source": [
    "#Importar librerias necesarias\n",
    "\n",
    "import dnaplotlib as dpl\n",
    "import matplotlib.pyplot as plt\n",
    "from matplotlib import gridspec\n",
    "%matplotlib inline \n",
    "from skimage import io"
   ]
  },
  {
   "cell_type": "code",
   "execution_count": 20,
   "metadata": {},
   "outputs": [],
   "source": [
    "# Required for drawing shapes\n",
    "from matplotlib.patches import Polygon\n",
    "from matplotlib.lines import Line2D\n",
    "from matplotlib.patheffects import Stroke\n",
    "import matplotlib.patches as patches"
   ]
  },
  {
   "cell_type": "code",
   "execution_count": 21,
   "metadata": {},
   "outputs": [],
   "source": [
    "# Custom renderer for promoter -35 to -10 site (this is used by DNAplotlib to render the sites in a design)\n",
    "def promoter_region (ax, type, num, start, end, prev_end, scale, linewidth, opts):\n",
    "\t# Default parameters - these can be added to, but we usually use this style (probably should simplify in future)\n",
    "\ty_offset = 0.0\n",
    "\tcolor_35 = (0.5,0.5,0.5)\n",
    "\tcolor_10 = (0.5,0.5,0.5)\n",
    "\tcolor_connector = (0,0,0)\n",
    "\tlinewidth_connector = 2.0\n",
    "\tlen_35 = 4\n",
    "\tlen_10 = 2\n",
    "\ty_extent = 4.0\n",
    "\t# Update default parameters if provided\n",
    "\tif opts != None:\n",
    "\t\tif 'y_extent' in list(opts.keys()):\n",
    "\t\t\ty_extent = opts['y_extent']\n",
    "\t\tif 'y_offset' in list(opts.keys()):\n",
    "\t\t\ty_offset = opts['y_offset']\n",
    "\t\tif 'linewidth' in list(opts.keys()):\n",
    "\t\t\tlinewidth = opts['linewidth']\n",
    "\t\tif 'color_35' in list(opts.keys()):\n",
    "\t\t\tcolor_35 = opts['color_35']\n",
    "\t\tif 'color_10' in list(opts.keys()):\n",
    "\t\t\tcolor_10 = opts['color_10']\n",
    "\t\tif 'color_connector' in list(opts.keys()):\n",
    "\t\t\tcolor_connector = opts['color_connector']\n",
    "\t\tif 'linewidth_connector' in list(opts.keys()):\n",
    "\t\t\tlinewidth_connector = opts['linewidth_connector']\n",
    "\t\tif 'len_35' in list(opts.keys()):\n",
    "\t\t\tlen_35 = opts['len_35']\n",
    "\t\tif 'len_10' in list(opts.keys()):\n",
    "\t\t\tlen_10 = opts['len_10']\n",
    "\t# Check direction (we don't use at moment)\n",
    "\tfwd = True\n",
    "\tif start > end:\n",
    "\t\tfwd = False\n",
    "\t# Draw the -35 site (from start to start + length of -35 site)\n",
    "\tp35 = Polygon([(start, y_offset), \n",
    "\t\t           (start, y_offset+y_extent),\n",
    "\t\t           (start+len_35,y_offset+y_extent),\n",
    "\t\t           (start+len_35,y_offset)],\n",
    "\t\t            edgecolor=(0,0,0), facecolor=color_35, linewidth=linewidth, zorder=11, \n",
    "\t\t            path_effects=[Stroke(joinstyle=\"miter\")])\t\t\n",
    "\tax.add_patch(p35)\n",
    "\t# Draw the -10 site (from end-length of -10 site to end)\n",
    "\tp10 = Polygon([(end-len_10, y_offset), \n",
    "\t\t           (end-len_10, y_offset+y_extent),\n",
    "\t\t           (end,y_offset+y_extent),\n",
    "\t\t           (end,y_offset)],\n",
    "\t\t            edgecolor=(0,0,0), facecolor=color_10, linewidth=linewidth, zorder=11, \n",
    "\t\t            path_effects=[Stroke(joinstyle=\"miter\")])\t\t\n",
    "\tax.add_patch(p10)\n",
    "\tl1 = Line2D([start+len_35, end-len_10],\n",
    "                [y_offset+(y_extent/2.0), y_offset+(y_extent/2.0)], linewidth=linewidth_connector, \n",
    "                color=color_connector, zorder=10)\n",
    "\tax.add_line(l1)\n",
    "\n",
    "\t# Add a label if needed\n",
    "\tif opts != None and 'label' in list(opts.keys()):\n",
    "\t\tif final_start > final_end:\n",
    "\t\t\tdpl.write_label(ax, opts['label'], final_end+((final_start-final_end)/2.0), opts=opts)\n",
    "\t\telse:\n",
    "\t\t\tdpl.write_label(ax, opts['label'], final_start+((final_end-final_start)/2.0), opts=opts)\n",
    "\t# Return the final start and end positions to the DNA renderer\n",
    "\treturn start, end\n"
   ]
  },
  {
   "cell_type": "code",
   "execution_count": 22,
   "metadata": {},
   "outputs": [],
   "source": [
    "# Crear el renderer de dnaplotlib\n",
    "dr = dpl.DNARenderer(scale=5, linewidth=0.7)\n",
    "part_renderers = dr.SBOL_part_renderers()\n",
    "part_renderers['PromoterRegion'] = promoter_region"
   ]
  },
  {
   "cell_type": "code",
   "execution_count": 23,
   "metadata": {},
   "outputs": [
    {
     "name": "stdout",
     "output_type": "stream",
     "text": [
      "(0.8828125, 0.32421875, 0.01171875)\n"
     ]
    },
    {
     "data": {
      "text/plain": [
       "(0.82625, 0.459375, 0.209375)"
      ]
     },
     "execution_count": 23,
     "metadata": {},
     "output_type": "execute_result"
    }
   ],
   "source": [
    "# Funcion para pasar colores a RGB con valores de 0 y 1\n",
    "#Para encontrar el color que quiero uso la pagina rgb.to\n",
    "\n",
    "def RGB01converter(rgbcode):\n",
    "    rgb01 = (rgbcode[0]/256,rgbcode[1]/256,rgbcode[2]/256)\n",
    "    print (rgb01)\n",
    "\n",
    "rgbcode = (226, 83, 3)\n",
    "\n",
    "RGB01converter(rgbcode)\n",
    "\n",
    "def lighten_color (col, fac):\n",
    "    r = col[0] + (fac*(1.0-col[0]))\n",
    "    g = col[1] + (fac*(1.0-col[1]))\n",
    "    b = col[2] + (fac*(1.0-col[2]))\n",
    "    return (r,g,b)\n",
    "\n",
    "lighten_color ((0.7828125, 0.32421875, 0.01171875), 0.2)"
   ]
  },
  {
   "cell_type": "code",
   "execution_count": 24,
   "metadata": {},
   "outputs": [],
   "source": [
    "# Crear el constructo programable para graficar\n",
    "prom1 = {'type':'Promoter', 'name':'prom1', 'fwd':True}\n",
    "cds1_1 = {'type':'CDS', 'name':'cds1.1', 'fwd':True, 'opts':{'color':(0.01171875, 0.8828125, 0.765625), 'x_extent':19,'arrowhead_height':0,\n",
    "    'arrowhead_length':0, 'label':'BD', 'label_size': 3, 'label_color':(0,0,0), 'label_x_offset':1, 'start_pad':2}}\n",
    "cds1_2 = {'type':'CDS', 'name':'cds1.2', 'fwd':True, 'opts':{'color':(0.8828125, 0.32421875, 0.01171875), 'x_extent':21,'label':'AD/RD', 'label_size': 3, 'label_color':(0,0,0), 'label_x_offset':0, 'arrowhead_height':0,\n",
    "    'arrowhead_length':0}}\n",
    "cds1_3 = {'type':'CDS', 'name':'cds1.3', 'fwd':True, 'opts':{'color':(0.5,0.5,0.5), 'x_extent':21,'label':'GR', 'label_size': 3, 'label_color':(0,0,0), 'label_x_offset':-2}}\n",
    "\n",
    "term1= {'type':'Terminator', 'name':'term1', 'fwd':True}\n",
    "\n",
    "prom2 = {'type':'Promoter', 'name':'prom2', 'fwd':True, 'opts':{'color':(0.5, 0.5, 0.5)}}\n",
    "cds2 = {'type':'CDS', 'name':'cds2', 'fwd':True, 'opts':{'color':(0.65, 0.90625, 0.209375), 'x_extent':42, 'label':'Reporter', 'label_size': 3, 'label_color':(0,0,0), 'label_x_offset':-2}}\n",
    "term2= {'type':'Terminator', 'name':'term2', 'fwd':True}\n",
    "\n",
    "prom3 = {'type':'Promoter', 'name':'prom3', 'fwd':True}\n",
    "cds3 = {'type':'CDS', 'name':'cds3', 'fwd':True, 'opts':{'color':(0.209375, 0.65, 0.90625), 'x_extent':42, 'label':'Reference Reporter', 'label_size': 2.5, 'label_color':(1,1,1), 'label_x_offset':-1}}\n",
    "term3= {'type':'Terminator', 'name':'term3', 'fwd':True}\n",
    "\n",
    "prom4 = {'type':'Promoter', 'name':'prom4', 'fwd':True}\n",
    "cds4 = {'type':'CDS', 'name':'cds4', 'fwd':True, 'opts':{'color':(0.465625, 0.209375, 0.90625), 'x_extent':42, 'label':'Selection Marker', 'label_size': 2.5, 'label_color':(1,1,1), 'label_x_offset':-2}}\n",
    "term4= {'type':'Terminator', 'name':'term4', 'fwd':True}\n",
    "\n",
    "sp = {'type':'EmptySpace', 'name':'S1', 'fwd':True, 'opts':{'x_extent':10}}\n",
    "sp1 = {'type':'EmptySpace', 'name':'S2', 'fwd':True, 'opts':{'x_extent':0}}\n",
    "#Use Tetrad \n",
    "#e25303 (represores)\n",
    "#90e203\n",
    "#0390e2\n",
    "#5503e2\n",
    "#c8e203 (activadores)\n",
    "\n",
    "arc1 = {'type':'Activation', 'from_part':cds1_2, 'to_part':prom2, 'opts':{'color':(0.4, 0.4, 1.0), 'linewidth':0.7, 'arc_height':25}}"
   ]
  },
  {
   "cell_type": "code",
   "execution_count": 25,
   "metadata": {},
   "outputs": [],
   "source": [
    "# Crear el diseno base\n",
    "design1 = [ prom1, cds1_1,sp1, cds1_2,sp1,cds1_3 , term1,sp, prom2, cds2, term2,sp, prom3, cds3, term3,sp, prom4, cds4, term4]\n",
    "reg1 = [arc1]"
   ]
  },
  {
   "cell_type": "code",
   "execution_count": 26,
   "metadata": {},
   "outputs": [
    {
     "data": {
      "text/plain": [
       "(0.0, 334.0, -25.0, 28.0)"
      ]
     },
     "execution_count": 26,
     "metadata": {},
     "output_type": "execute_result"
    },
    {
     "data": {
      "image/png": "[encoded data removed]",
      "text/plain": [
       "<Figure size 316.8x108 with 1 Axes>"
      ]
     },
     "metadata": {},
     "output_type": "display_data"
    }
   ],
   "source": [
    "# Crear la figura\n",
    "fig = plt.figure(figsize=(4.4,1.5))\n",
    "gs = gridspec.GridSpec(1, 1)\n",
    "ax_dna = plt.subplot(gs[0])\n",
    "# Renderiar el ADN al eje\n",
    "start, end = dr.renderDNA(ax_dna, design1, part_renderers, regs=reg1, reg_renderers=dr.std_reg_renderers())\n",
    "ax_dna.set_xlim([start, end])\n",
    "ax_dna.set_ylim([-25,28])\n",
    "ax_dna.set_aspect('equal')\n",
    "ax_dna.set_xticks([])\n",
    "ax_dna.set_yticks([])\n",
    "ax_dna.axis('off')"
   ]
  },
  {
   "cell_type": "code",
   "execution_count": 27,
   "metadata": {},
   "outputs": [],
   "source": [
    "# Agregar cosas sobre el diseno ya hecho\n",
    "\n",
    "BD1 = {'type':'PromoterRegion', 'name':'region1', 'start': cds1_1['start']+2, 'end': cds1_2['end']-4, 'fwd':True, 'opts':{'y_offset':-25, 'len_35':cds1_1['end']-cds1_1['start']+4, 'len_10':cds1_2['end']-cds1_2['start']-4, 'color_35':(0.01171875, 0.8828125, 0.765625), 'color_10':(0.78125, 0.8828125, 0.01171875), 'linewidth_connector':1.0, 'y_extent' : 10.0}}\n",
    "dr.annotate(ax_dna, part_renderers, BD1)\n",
    "BD1label = {'type':'PrimerBindingSite', 'start': 30, 'end': cds1_1['end'], 'name':'BD1label', 'fwd':True, 'opts':{'color':(1.0,1.0,1.0), 'y_offset':-30.0, 'label':'HAPI/VP16', 'label_size': 3}}\n",
    "dr.annotate(ax_dna, part_renderers, BD1label)\n",
    "\n",
    "BD2 = {'type':'PromoterRegion', 'name':'region1', 'start': cds1_1['start']+2, 'end': cds1_2['end']-4, 'fwd':True, 'opts':{'y_offset':-45, 'len_35':cds1_1['end']-cds1_1['start']+4, 'len_10':cds1_2['end']-cds1_2['start']-4, 'color_35':(0.01171875, 0.8828125, 0.765625), 'color_10':(0.78125, 0.8828125, 0.01171875), 'linewidth_connector':1.0, 'y_extent' : 10.0}}\n",
    "dr.annotate(ax_dna, part_renderers, BD2)\n",
    "BD2label = {'type':'PrimerBindingSite', 'start': 30, 'end': cds1_1['end'], 'name':'BD2label', 'fwd':True, 'opts':{'color':(1.0,1.0,1.0), 'y_offset':-50.0, 'label':'GAL4/VP16', 'label_size': 3}}\n",
    "dr.annotate(ax_dna, part_renderers, BD2label)\n",
    "\n",
    "BD3 = {'type':'PromoterRegion', 'name':'region1', 'start': cds1_1['start']+2, 'end': cds1_2['end']-4, 'fwd':True, 'opts':{'y_offset':-65, 'len_35':cds1_1['end']-cds1_1['start']+4, 'len_10':cds1_2['end']-cds1_2['start']-4, 'color_35':(0.01171875, 0.8828125, 0.765625), 'color_10':(0.78125, 0.8828125, 0.01171875), 'linewidth_connector':1.0, 'y_extent' : 10.0}}\n",
    "dr.annotate(ax_dna, part_renderers, BD3)\n",
    "BD3label = {'type':'PrimerBindingSite', 'start': 30, 'end': cds1_1['end'], 'name':'BD3label', 'fwd':True, 'opts':{'color':(1.0,1.0,1.0), 'y_offset':-70.0, 'label':'TetR/VP16', 'label_size': 3}}\n",
    "dr.annotate(ax_dna, part_renderers, BD3label)\n",
    "\n",
    "BD4 = {'type':'PromoterRegion', 'name':'region1', 'start': cds1_1['start']+2, 'end': cds1_2['end']-4, 'fwd':True, 'opts':{'y_offset':-85, 'len_35':cds1_1['end']-cds1_1['start']+4, 'len_10':cds1_2['end']-cds1_2['start']-4, 'color_35':(0.01171875, 0.8828125, 0.765625), 'color_10':(0.78125, 0.8828125, 0.01171875), 'linewidth_connector':1.0, 'y_extent' : 10.0}}\n",
    "dr.annotate(ax_dna, part_renderers, BD4)\n",
    "BD4label = {'type':'PrimerBindingSite', 'start': 30, 'end': cds1_1['end'], 'name':'BD4label', 'fwd':True, 'opts':{'color':(1.0,1.0,1.0), 'y_offset':-90.0, 'label':'SprR/VP16', 'label_size': 3}}\n",
    "dr.annotate(ax_dna, part_renderers, BD4label)\n"
   ]
  },
  {
   "cell_type": "code",
   "execution_count": 28,
   "metadata": {},
   "outputs": [
    {
     "data": {
      "text/plain": [
       "<Figure size 432x288 with 0 Axes>"
      ]
     },
     "metadata": {},
     "output_type": "display_data"
    }
   ],
   "source": [
    "# Update subplot spacing\n",
    "plt.subplots_adjust(left=0.01, right=0.99, top=0.99, bottom=0.01)"
   ]
  },
  {
   "cell_type": "code",
   "execution_count": 29,
   "metadata": {},
   "outputs": [
    {
     "data": {
      "text/plain": [
       "<matplotlib.image.AxesImage at 0x1f266e48438>"
      ]
     },
     "execution_count": 29,
     "metadata": {},
     "output_type": "execute_result"
    },
    {
     "data": {
      "image/png": "[encoded data removed]",
      "text/plain": [
       "<Figure size 1200x1200 with 1 Axes>"
      ]
     },
     "metadata": {
      "needs_background": "light"
     },
     "output_type": "display_data"
    }
   ],
   "source": [
    "# Save the figure\n",
    "fig.savefig('General.pdf', transparent=True)\n",
    "fig.savefig('General.png', dpi=300)\n",
    "# Clear the plotting cache\n",
    "plt.close('all')\n",
    "#Solo para ver cambios realizados en el codigo mas rapido\n",
    "img = io.imread('General.png')\n",
    "plt.figure(figsize=(4, 4), dpi=300)\n",
    "io.imshow(img, cmap = 'gray')"
   ]
  },
  {
   "cell_type": "code",
   "execution_count": null,
   "metadata": {},
   "outputs": [],
   "source": []
  },
  {
   "cell_type": "code",
   "execution_count": null,
   "metadata": {},
   "outputs": [],
   "source": []
  },
  {
   "cell_type": "code",
   "execution_count": null,
   "metadata": {},
   "outputs": [],
   "source": []
  },
  {
   "cell_type": "code",
   "execution_count": null,
   "metadata": {},
   "outputs": [],
   "source": []
  },
  {
   "cell_type": "code",
   "execution_count": null,
   "metadata": {},
   "outputs": [],
   "source": []
  },
  {
   "cell_type": "code",
   "execution_count": null,
   "metadata": {},
   "outputs": [],
   "source": []
  }
 ],
 "metadata": {
  "kernelspec": {
   "display_name": "Python 3",
   "language": "python",
   "name": "python3"
  },
  "language_info": {
   "codemirror_mode": {
    "name": "ipython",
    "version": 3
   },
   "file_extension": ".py",
   "mimetype": "text/x-python",
   "name": "python",
   "nbconvert_exporter": "python",
   "pygments_lexer": "ipython3",
   "version": "3.6.12"
  }
 },
 "nbformat": 4,
 "nbformat_minor": 2
}
