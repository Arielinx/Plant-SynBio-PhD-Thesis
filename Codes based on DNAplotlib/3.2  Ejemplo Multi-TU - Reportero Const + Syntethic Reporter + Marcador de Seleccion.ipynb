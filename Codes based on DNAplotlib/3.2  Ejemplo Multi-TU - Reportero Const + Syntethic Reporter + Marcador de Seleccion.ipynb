{
 "cells": [
  {
   "cell_type": "code",
   "execution_count": 1,
   "metadata": {},
   "outputs": [],
   "source": [
    "#Importar librerias necesarias\n",
    "\n",
    "import dnaplotlib as dpl\n",
    "import matplotlib.pyplot as plt\n",
    "from matplotlib import gridspec\n",
    "%matplotlib inline \n",
    "from skimage import io"
   ]
  },
  {
   "cell_type": "code",
   "execution_count": 2,
   "metadata": {},
   "outputs": [],
   "source": [
    "# Required for drawing shapes\n",
    "from matplotlib.patches import Polygon\n",
    "from matplotlib.lines import Line2D\n",
    "from matplotlib.patheffects import Stroke\n",
    "import matplotlib.patches as patches"
   ]
  },
  {
   "cell_type": "code",
   "execution_count": 3,
   "metadata": {},
   "outputs": [],
   "source": [
    "# Custom renderer for promoter -35 to -10 site (this is used by DNAplotlib to render the sites in a design)\n",
    "def promoter_region (ax, type, num, start, end, prev_end, scale, linewidth, opts):\n",
    "\t# Default parameters - these can be added to, but we usually use this style (probably should simplify in future)\n",
    "\ty_offset = 0.0\n",
    "\tcolor_35 = (0.5,0.5,0.5)\n",
    "\tcolor_10 = (0.5,0.5,0.5)\n",
    "\tcolor_connector = (0,0,0)\n",
    "\tlinewidth_connector = 2.0\n",
    "\tlen_35 = 4\n",
    "\tlen_10 = 2\n",
    "\ty_extent = 4.0\n",
    "\t# Update default parameters if provided\n",
    "\tif opts != None:\n",
    "\t\tif 'y_extent' in list(opts.keys()):\n",
    "\t\t\ty_extent = opts['y_extent']\n",
    "\t\tif 'y_offset' in list(opts.keys()):\n",
    "\t\t\ty_offset = opts['y_offset']\n",
    "\t\tif 'linewidth' in list(opts.keys()):\n",
    "\t\t\tlinewidth = opts['linewidth']\n",
    "\t\tif 'color_35' in list(opts.keys()):\n",
    "\t\t\tcolor_35 = opts['color_35']\n",
    "\t\tif 'color_10' in list(opts.keys()):\n",
    "\t\t\tcolor_10 = opts['color_10']\n",
    "\t\tif 'color_connector' in list(opts.keys()):\n",
    "\t\t\tcolor_connector = opts['color_connector']\n",
    "\t\tif 'linewidth_connector' in list(opts.keys()):\n",
    "\t\t\tlinewidth_connector = opts['linewidth_connector']\n",
    "\t\tif 'len_35' in list(opts.keys()):\n",
    "\t\t\tlen_35 = opts['len_35']\n",
    "\t\tif 'len_10' in list(opts.keys()):\n",
    "\t\t\tlen_10 = opts['len_10']\n",
    "\t# Check direction (we don't use at moment)\n",
    "\tfwd = True\n",
    "\tif start > end:\n",
    "\t\tfwd = False\n",
    "\t# Draw the -35 site (from start to start + length of -35 site)\n",
    "\tp35 = Polygon([(start, y_offset), \n",
    "\t\t           (start, y_offset+y_extent),\n",
    "\t\t           (start+len_35,y_offset+y_extent),\n",
    "\t\t           (start+len_35,y_offset)],\n",
    "\t\t            edgecolor=(0,0,0), facecolor=color_35, linewidth=linewidth, zorder=11, \n",
    "\t\t            path_effects=[Stroke(joinstyle=\"miter\")])\t\t\n",
    "\tax.add_patch(p35)\n",
    "\t# Draw the -10 site (from end-length of -10 site to end)\n",
    "\tp10 = Polygon([(end-len_10, y_offset), \n",
    "\t\t           (end-len_10, y_offset+y_extent),\n",
    "\t\t           (end,y_offset+y_extent),\n",
    "\t\t           (end,y_offset)],\n",
    "\t\t            edgecolor=(0,0,0), facecolor=color_10, linewidth=linewidth, zorder=11, \n",
    "\t\t            path_effects=[Stroke(joinstyle=\"miter\")])\t\t\n",
    "\tax.add_patch(p10)\n",
    "\tl1 = Line2D([start+len_35, end-len_10],\n",
    "                [y_offset+(y_extent/2.0), y_offset+(y_extent/2.0)], linewidth=linewidth_connector, \n",
    "                color=color_connector, zorder=10)\n",
    "\tax.add_line(l1)\n",
    "\n",
    "\t# Add a label if needed\n",
    "\tif opts != None and 'label' in list(opts.keys()):\n",
    "\t\tif final_start > final_end:\n",
    "\t\t\tdpl.write_label(ax, opts['label'], final_end+((final_start-final_end)/2.0), opts=opts)\n",
    "\t\telse:\n",
    "\t\t\tdpl.write_label(ax, opts['label'], final_start+((final_end-final_start)/2.0), opts=opts)\n",
    "\t# Return the final start and end positions to the DNA renderer\n",
    "\treturn start, end\n"
   ]
  },
  {
   "cell_type": "code",
   "execution_count": 650,
   "metadata": {},
   "outputs": [],
   "source": [
    "# Crear el renderer de dnaplotlib\n",
    "dr = dpl.DNARenderer(scale=5, linewidth=0.7)\n",
    "part_renderers = dr.SBOL_part_renderers()\n",
    "part_renderers['PromoterRegion'] = promoter_region"
   ]
  },
  {
   "cell_type": "code",
   "execution_count": 848,
   "metadata": {},
   "outputs": [
    {
     "name": "stdout",
     "output_type": "stream",
     "text": [
      "(0.0, 0.33203125, 0.99609375)\n"
     ]
    },
    {
     "data": {
      "text/plain": [
       "(0.3, 0.532421875, 0.997265625)"
      ]
     },
     "execution_count": 848,
     "metadata": {},
     "output_type": "execute_result"
    }
   ],
   "source": [
    "# Funcion para pasar colores a RGB con valores de 0 y 1\n",
    "#Para encontrar el color que quiero uso la pagina rgb.to\n",
    "\n",
    "def RGB01converter(rgbcode):\n",
    "    rgb01 = (rgbcode[0]/256,rgbcode[1]/256,rgbcode[2]/256)\n",
    "    print (rgb01)\n",
    "\n",
    "rgbcode = (0, 85, 255)\n",
    "\n",
    "RGB01converter(rgbcode)\n",
    "\n",
    "def lighten_color (col, fac):\n",
    "    r = col[0] + (fac*(1.0-col[0]))\n",
    "    g = col[1] + (fac*(1.0-col[1]))\n",
    "    b = col[2] + (fac*(1.0-col[2]))\n",
    "    return (r,g,b)\n",
    "\n",
    "lighten_color ((0.0, 0.33203125, 0.99609375), 0.3)"
   ]
  },
  {
   "cell_type": "code",
   "execution_count": 855,
   "metadata": {},
   "outputs": [],
   "source": [
    "# Crear el constructo programable para graficar\n",
    "prom1 = {'type':'Promoter', 'name':'prom1', 'fwd':True, 'opts':{'color':(0, 0, 0), 'x_extent':10, 'label':'Mpef1a', 'label_size': 5, 'label_color':(0,0,0), 'label_y_offset':14,'label_x_offset':2, 'start_pad':2,'end_pad':-5}}\n",
    "cds1_2 = {'type':'CDS', 'name':'cds1.2', 'fwd':True, 'opts':{'color':(0.0, 0.33203125, 0.99609375), 'x_extent':18,'label':'BD', 'label_size':7, 'label_color':(0,0,0), 'label_x_offset':0,'arrowhead_height':0, 'arrowhead_length':0}}\n",
    "cds1_3 = {'type':'CDS', 'name':'cds1.3', 'fwd':True, 'opts':{'color':(0.99609375, 0.4140625, 0.0), 'x_extent':20,'label':'VP16', 'label_size':7, 'label_color':(0,0,0), 'label_x_offset':-1,'linewidth':0.9, 'start_pad':-0.5}}\n",
    "term1= {'type':'Terminator', 'name':'term1', 'fwd':True,'opts':{ 'label':'NosT-35ST', 'label_size': 5, 'label_color':(0,0,0), 'label_y_offset':12,'label_x_offset':-5, 'start_pad':-2, 'end_pad':10}}\n",
    "\n",
    "SP1 = {'type':'CDS', 'name':'SpacerPromoter', 'fwd':True, 'opts':{'color':(0, 0, 0), 'x_extent':6,'y_extent':3 ,'label':'Sp', 'label_size': 4, 'label_color':(1,1,1), 'label_x_offset':0.5, 'arrowhead_height':0,\n",
    "    'arrowhead_length':0,'end_pad':0}}\n",
    "SP2 = {'type':'CDS', 'name':'SpacerPromoter', 'fwd':True, 'opts':{'color':(0, 0, 0), 'x_extent':6,'y_extent':3 ,'label':'Sp', 'label_size': 4, 'label_color':(1,1,1), 'label_x_offset':0.5, 'arrowhead_height':0,\n",
    "    'arrowhead_length':0,'end_pad':0}}\n",
    "SP3 = {'type':'CDS', 'name':'SpacerPromoter', 'fwd':True, 'opts':{'color':(0, 0, 0), 'x_extent':6,'y_extent':3 ,'label':'Sp', 'label_size': 4, 'label_color':(1,1,1), 'label_x_offset':0.5, 'arrowhead_height':0,\n",
    "    'arrowhead_length':0,'end_pad':0}}\n",
    "BB1 = {'type':'CDS', 'name':'SpacerPromoter', 'fwd':True, 'opts':{'color':(0.3, 0.532421875, 0.997265625), 'x_extent':6,'y_extent':3 ,'label':'Box', 'label_size': 4, 'label_color':(1,1,1), 'label_x_offset':0.5, 'arrowhead_height':0,\n",
    "    'arrowhead_length':0,'end_pad':0}}\n",
    "BB2 = {'type':'CDS', 'name':'SpacerPromoter', 'fwd':True, 'opts':{'color':(0.3, 0.532421875, 0.997265625), 'x_extent':6,'y_extent':3 ,'label':'Box', 'label_size': 4, 'label_color':(1,1,1), 'label_x_offset':0.5, 'arrowhead_height':0,\n",
    "    'arrowhead_length':0,'end_pad':0}}\n",
    "BB3 = {'type':'CDS', 'name':'SpacerPromoter', 'fwd':True, 'opts':{'color':(0.3, 0.532421875, 0.997265625), 'x_extent':6,'y_extent':3 ,'label':'Box', 'label_size': 4, 'label_color':(1,1,1), 'label_x_offset':0.5, 'arrowhead_height':0,\n",
    "    'arrowhead_length':0,'end_pad':0}}\n",
    "BB4 = {'type':'CDS', 'name':'SpacerPromoter', 'fwd':True, 'opts':{'color':(0.3, 0.532421875, 0.997265625), 'x_extent':6,'y_extent':3 ,'label':'Box', 'label_size': 4, 'label_color':(1,1,1), 'label_x_offset':0.5, 'arrowhead_height':0,\n",
    "    'arrowhead_length':0,'end_pad':0}}\n",
    "\n",
    "prom2 = {'type':'Promoter', 'name':'prom1', 'fwd':True, 'opts':{'color':(0, 0, 0), 'x_extent':10, 'label':'pMin35S', 'label_size': 5, 'label_color':(0,0,0), 'label_y_offset':14,'label_x_offset':2, 'start_pad':5,'end_pad':-5}}\n",
    "cds2_2 = {'type':'CDS', 'name':'cds1.2', 'fwd':True, 'opts':{'color':(0.82421875, 0.99609375, 0.0), 'x_extent':30,'label':'Venus', 'label_size':7, 'label_color':(0,0,0), 'label_x_offset':0}}\n",
    "term2= {'type':'Terminator', 'name':'term1', 'fwd':True,'opts':{ 'label':'NosT-35ST', 'label_size': 5, 'label_color':(0,0,0), 'label_y_offset':12,'label_x_offset':-5, 'start_pad':-2, 'end_pad':10}}\n",
    "\n",
    "\n",
    "\n",
    "cds3 = {'type':'CDS', 'name':'cds1.2', 'fwd':True, 'opts':{'color':(0, 0, 0), 'x_extent':10,'label':'Spacer', 'label_size': 4, 'label_color':(1,1,1), 'label_x_offset':0, 'arrowhead_height':0,\n",
    "    'arrowhead_length':0}}\n",
    "\n",
    "prom4 = {'type':'Promoter', 'name':'prom4', 'fwd':True, 'opts':{'color':(0, 0, 0), 'x_extent':10, 'start_pad':10,'end_pad':-5}}\n",
    "cds4 = {'type':'CDS', 'name':'cds4', 'fwd':True, 'opts':{'color':(0.2, 0.2, 0.2), 'x_extent':43, 'label':'Hygromycin Resistance', 'label_size': 4.5, 'label_color':(1,1,1), 'label_x_offset':-0.5}}\n",
    "term4= {'type':'Terminator', 'name':'term4', 'fwd':True, 'opts':{'start_pad':-2}}\n",
    "\n",
    "\n",
    "arc1 = {'type':'Activation', 'from_part':cds1_2, 'to_part':BB1, 'opts':{'color':(0, 0, 0), 'linewidth':0.7, 'arc_height':20, 'arrowhead_length':1,'arc_height_end':5,'arc_start_x_offset':9}}\n",
    "arc2 = {'type':'Activation', 'from_part':cds1_2, 'to_part':BB2, 'opts':{'color':(0, 0, 0), 'linewidth':0.7, 'arc_height':20, 'arrowhead_length':1,'arc_height_end':5,'arc_start_x_offset':9}}\n",
    "arc3 = {'type':'Activation', 'from_part':cds1_2, 'to_part':BB3, 'opts':{'color':(0, 0, 0), 'linewidth':0.7, 'arc_height':20, 'arrowhead_length':1,'arc_height_end':5,'arc_start_x_offset':9}}\n",
    "arc4 = {'type':'Activation', 'from_part':cds1_2, 'to_part':BB4, 'opts':{'color':(0, 0, 0), 'linewidth':0.7, 'arc_height':20, 'arrowhead_length':1,'arc_height_end':5,'arc_start_x_offset':9}}"
   ]
  },
  {
   "cell_type": "code",
   "execution_count": 856,
   "metadata": {},
   "outputs": [],
   "source": [
    "# Crear el diseno base\n",
    "design1 = [prom1, cds1_2, cds1_3, term1,BB1,SP1,BB2,SP2,BB3,SP3,BB4,prom2,cds2_2, term2, cds3, prom4, cds4, term4]\n",
    "reg1 = [arc1, arc2, arc3, arc4]\n"
   ]
  },
  {
   "cell_type": "code",
   "execution_count": 857,
   "metadata": {},
   "outputs": [
    {
     "data": {
      "text/plain": [
       "(0.0, 250.5, -25.0, 28.0)"
      ]
     },
     "execution_count": 857,
     "metadata": {},
     "output_type": "execute_result"
    },
    {
     "data": {
      "image/png": "[encoded data removed]",
      "text/plain": [
       "<Figure size 432x108 with 1 Axes>"
      ]
     },
     "metadata": {},
     "output_type": "display_data"
    }
   ],
   "source": [
    "# Crear la figura\n",
    "fig = plt.figure(figsize=(6,1.5))\n",
    "gs = gridspec.GridSpec(1, 1)\n",
    "ax_dna = plt.subplot(gs[0])\n",
    "# Renderiar el ADN al eje\n",
    "start, end = dr.renderDNA(ax_dna, design1, part_renderers,regs=reg1, reg_renderers=dr.std_reg_renderers())\n",
    "ax_dna.set_xlim([start, end])\n",
    "ax_dna.set_ylim([-25,28])\n",
    "ax_dna.set_aspect('equal')\n",
    "ax_dna.set_xticks([])\n",
    "ax_dna.set_yticks([])\n",
    "ax_dna.axis('off')\n",
    "\n"
   ]
  },
  {
   "cell_type": "code",
   "execution_count": 858,
   "metadata": {},
   "outputs": [],
   "source": [
    "primer_f_opts = {'color':(1,1,1), 'y_offset':-8,'label':'200 pb', 'label_size': 4, 'label_color':(0,0,0),'label_x_offset':1}\n",
    "primer1_f = {'type':'PrimerBindingSite', 'start': cds3['start'], 'end': cds3['end'], 'name':'pri1f', 'fwd':True, 'opts':primer_f_opts}\n",
    "dr.annotate(ax_dna, part_renderers, primer1_f)\n",
    "\n",
    "primer2_f_opts = {'color':(1,1,1), 'y_offset':-5.5,'label':'20 pb', 'label_size':3, 'label_color':(0,0,0),'label_x_offset':-2}\n",
    "primer2_f = {'type':'PrimerBindingSite', 'start': SP1['start'], 'end':SP1['end'], 'name':'pri1f', 'fwd':True, 'opts':primer2_f_opts}\n",
    "dr.annotate(ax_dna, part_renderers, primer2_f)\n",
    "\n",
    "primer3_f_opts = {'color':(1,1,1), 'y_offset':-5.5,'label':'20 pb', 'label_size':3, 'label_color':(0,0,0),'label_x_offset':-2}\n",
    "primer3_f = {'type':'PrimerBindingSite', 'start': SP2['start'], 'end':SP2['end'], 'name':'pri1f', 'fwd':True, 'opts':primer3_f_opts}\n",
    "dr.annotate(ax_dna, part_renderers, primer3_f)\n",
    "\n",
    "primer4_f_opts = {'color':(1,1,1), 'y_offset':-5.5,'label':'20 pb', 'label_size':3, 'label_color':(0,0,0),'label_x_offset':-2}\n",
    "primer4_f = {'type':'PrimerBindingSite', 'start': SP3['start'], 'end':SP3['end'], 'name':'pri1f', 'fwd':True, 'opts':primer4_f_opts}\n",
    "dr.annotate(ax_dna, part_renderers, primer4_f)\n",
    "\n",
    "\n",
    "BD1 = {'type':'PromoterRegion', 'name':'region1', 'start': cds1_2['start']+35, 'end': term1['end']-11, 'fwd':True, 'opts':{'y_offset':23,'len_35':5, 'len_10':5, 'color_35':(0.0, 0.33203125, 0.99609375), 'color_10':(0.99609375, 0.4140625, 0.0), 'linewidth_connector':1.0, 'y_extent' : 4}}\n",
    "dr.annotate(ax_dna, part_renderers, BD1)\n",
    "\n",
    "BD1label = {'type':'PrimerBindingSite', 'start': 41, 'end': cds1_2['end'], 'name':'BD1label', 'fwd':True, 'opts':{'color':(1.0,1.0,1.0), 'y_offset':29, 'label':'TF (BD+VP16)', 'label_size': 3}}\n",
    "dr.annotate(ax_dna, part_renderers, BD1label)\n",
    "\n"
   ]
  },
  {
   "cell_type": "code",
   "execution_count": 859,
   "metadata": {},
   "outputs": [
    {
     "data": {
      "text/plain": [
       "<Figure size 432x288 with 0 Axes>"
      ]
     },
     "metadata": {},
     "output_type": "display_data"
    }
   ],
   "source": [
    "# Update subplot spacing\n",
    "plt.subplots_adjust(left=0.01, right=0.99, top=0.99, bottom=0.01)"
   ]
  },
  {
   "cell_type": "code",
   "execution_count": 860,
   "metadata": {},
   "outputs": [
    {
     "data": {
      "text/plain": [
       "<matplotlib.image.AxesImage at 0x2c50085ffd0>"
      ]
     },
     "execution_count": 860,
     "metadata": {},
     "output_type": "execute_result"
    },
    {
     "data": {
      "image/png": "[encoded data removed]",
      "text/plain": [
       "<Figure size 1200x1200 with 1 Axes>"
      ]
     },
     "metadata": {
      "needs_background": "light"
     },
     "output_type": "display_data"
    }
   ],
   "source": [
    "# Save the figure\n",
    "fig.savefig('General.pdf', transparent=True)\n",
    "fig.savefig('General.png', dpi=300)\n",
    "# Clear the plotting cache\n",
    "plt.close('all')\n",
    "#Solo para ver cambios realizados en el codigo mas rapido\n",
    "img = io.imread('General.png')\n",
    "plt.figure(figsize=(4, 4), dpi=300)\n",
    "io.imshow(img, cmap = 'gray')"
   ]
  },
  {
   "cell_type": "markdown",
   "metadata": {},
   "source": [
    "## "
   ]
  },
  {
   "cell_type": "code",
   "execution_count": null,
   "metadata": {},
   "outputs": [],
   "source": []
  },
  {
   "cell_type": "code",
   "execution_count": null,
   "metadata": {},
   "outputs": [],
   "source": []
  },
  {
   "cell_type": "code",
   "execution_count": null,
   "metadata": {},
   "outputs": [],
   "source": []
  },
  {
   "cell_type": "code",
   "execution_count": null,
   "metadata": {},
   "outputs": [],
   "source": []
  },
  {
   "cell_type": "code",
   "execution_count": null,
   "metadata": {},
   "outputs": [],
   "source": []
  },
  {
   "cell_type": "code",
   "execution_count": null,
   "metadata": {},
   "outputs": [],
   "source": []
  }
 ],
 "metadata": {
  "kernelspec": {
   "display_name": "Python 3",
   "language": "python",
   "name": "python3"
  },
  "language_info": {
   "codemirror_mode": {
    "name": "ipython",
    "version": 3
   },
   "file_extension": ".py",
   "mimetype": "text/x-python",
   "name": "python",
   "nbconvert_exporter": "python",
   "pygments_lexer": "ipython3",
   "version": "3.6.12"
  }
 },
 "nbformat": 4,
 "nbformat_minor": 2
}
