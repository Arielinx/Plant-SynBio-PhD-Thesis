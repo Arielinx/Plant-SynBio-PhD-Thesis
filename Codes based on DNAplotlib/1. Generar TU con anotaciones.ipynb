{
 "cells": [
  {
   "cell_type": "code",
   "execution_count": 1,
   "metadata": {},
   "outputs": [],
   "source": [
    "#Importar librerias necesarias\n",
    "\n",
    "import dnaplotlib as dpl\n",
    "import matplotlib.pyplot as plt\n",
    "from matplotlib import gridspec\n",
    "from skimage import io\n",
    "%matplotlib inline "
   ]
  },
  {
   "cell_type": "code",
   "execution_count": 2,
   "metadata": {},
   "outputs": [],
   "source": [
    "# Crear el renderer de dnaplotlib\n",
    "dr = dpl.DNARenderer()\n",
    "part_renderers = dr.SBOL_part_renderers()"
   ]
  },
  {
   "cell_type": "code",
   "execution_count": 3,
   "metadata": {},
   "outputs": [],
   "source": [
    "# Crear el constructo programable para graficar\n",
    "sp = {'type':'EmptySpace', 'name':'S1', 'fwd':True, 'opts':{'x_extent':1}}\n",
    "prom = {'type':'Promoter', 'name':'prom', 'fwd':True}\n",
    "ins  = {'type':'Insulator', 'name':'ins', 'fwd':True}\n",
    "ribo_f = {'type':'Ribozyme', 'name':'ribo', 'fwd':True}\n",
    "rbs_f = {'type':'RBS', 'name':'rbs', 'fwd':True, 'opts':{'color':(0.0,0.0,0.0)}}\n",
    "cds_f = {'type':'CDS', 'name':'cds', 'fwd':True, 'opts':{'color':(0.8828125, 0.32421875, 0.01171875), 'x_extent':80}}\n",
    "cds1_f = {'type':'CDS', 'name':'cds', 'fwd':True, 'opts':{'color':(0.01171875, 0.8828125, 0.33203125), 'x_extent':80}}\n",
    "cds2_f = {'type':'CDS', 'name':'cds', 'fwd':True, 'opts':{'color':(0.33203125, 0.01171875, 0.8828125), 'x_extent':80}}\n",
    "term = {'type':'Terminator', 'name':'term', 'fwd':True}"
   ]
  },
  {
   "cell_type": "code",
   "execution_count": 4,
   "metadata": {},
   "outputs": [],
   "source": [
    "# Crear el diseno base\n",
    "design1 = [sp, prom, ins, cds1_f, cds2_f, cds_f, term, sp]"
   ]
  },
  {
   "cell_type": "code",
   "execution_count": 5,
   "metadata": {},
   "outputs": [
    {
     "data": {
      "image/png": "[encoded data removed]",
      "text/plain": [
       "<Figure size 158.4x43.2 with 1 Axes>"
      ]
     },
     "metadata": {
      "needs_background": "light"
     },
     "output_type": "display_data"
    }
   ],
   "source": [
    "# Crear la figura\n",
    "fig = plt.figure(figsize=(2.2,0.6))\n",
    "gs = gridspec.GridSpec(1, 1)\n",
    "ax_dna = plt.subplot(gs[0])"
   ]
  },
  {
   "cell_type": "code",
   "execution_count": 7,
   "metadata": {},
   "outputs": [
    {
     "data": {
      "text/plain": [
       "(0.0, 286.0, -15.0, 28.0)"
      ]
     },
     "execution_count": 7,
     "metadata": {},
     "output_type": "execute_result"
    }
   ],
   "source": [
    "# Renderiar el ADN al eje\n",
    "start, end = dr.renderDNA(ax_dna, design1, part_renderers)\n",
    "ax_dna.set_xlim([start, end])\n",
    "ax_dna.set_ylim([-15,28])\n",
    "ax_dna.set_aspect('equal')\n",
    "ax_dna.set_xticks([])\n",
    "ax_dna.set_yticks([])\n",
    "ax_dna.axis('off')"
   ]
  },
  {
   "cell_type": "code",
   "execution_count": 8,
   "metadata": {},
   "outputs": [],
   "source": [
    "# Crear un diseno sobre la base ya fabricada\n",
    "primer_f_opts = {'color':(1.0,1.0,0.0), 'y_offset':10}\n",
    "primer_f_opts2 = {'color':(1.0,0.0,0.0), 'y_offset':15}\n",
    "primer_r_opts = {'color':(1.0,0.0,1.0), 'y_offset':10}\n",
    "rbs2_f_opts = {'color':(1.0,0.0,0.0), 'x_extent':7.5} #El x_extend da idea del tamano de la pieza\n",
    "rbs3_f_opts = {'color':(1.0,0.0,0.0), 'x_extent':5}\n",
    "primer1_f = {'type':'PrimerBindingSite', 'start': cds_f['start'], 'end': cds_f['end'], 'name':'pri1f', 'fwd':True, 'opts':primer_f_opts}\n",
    "primer2_f = {'type':'PrimerBindingSite', 'start': cds_f['start']+10, 'end': cds_f['end'], 'name':'pri2f', 'fwd':True, 'opts':primer_f_opts2}\n",
    "primer3_f = {'type':'PrimerBindingSite', 'start': cds_f['start']+50, 'end': cds_f['end'], 'name':'pri3f', 'fwd':True, 'opts':primer_f_opts}\n",
    "primer4_r = {'type':'PrimerBindingSite', 'start': cds_f['end']-25, 'end': cds_f['end']-35, 'name':'pri4r', 'fwd':False, 'opts':primer_r_opts}\n",
    "rbs2_f = {'type':'RBS', 'start': cds_f['start']+40, 'end': cds_f['start']+41, 'name':'rbs2f', 'fwd':True, 'opts':rbs2_f_opts}\n",
    "rbs3_f = {'type':'RBS', 'start': cds_f['start']+70, 'end': cds_f['start']+71, 'name':'rbs3f', 'fwd':True, 'opts':rbs3_f_opts}\n"
   ]
  },
  {
   "cell_type": "code",
   "execution_count": 9,
   "metadata": {},
   "outputs": [],
   "source": [
    "# Renderiar las anotaciones al diseño\n",
    "dr.annotate(ax_dna, part_renderers, primer1_f)\n",
    "dr.annotate(ax_dna, part_renderers, primer2_f)\n",
    "dr.annotate(ax_dna, part_renderers, primer3_f)\n",
    "dr.annotate(ax_dna, part_renderers, primer4_r)\n",
    "dr.annotate(ax_dna, part_renderers, rbs2_f)\n",
    "dr.annotate(ax_dna, part_renderers, rbs3_f)"
   ]
  },
  {
   "cell_type": "code",
   "execution_count": 10,
   "metadata": {},
   "outputs": [
    {
     "data": {
      "text/plain": [
       "<Figure size 432x288 with 0 Axes>"
      ]
     },
     "metadata": {},
     "output_type": "display_data"
    }
   ],
   "source": [
    "# Update subplot spacing\n",
    "plt.subplots_adjust(left=0.01, right=0.99, top=0.99, bottom=0.01)"
   ]
  },
  {
   "cell_type": "code",
   "execution_count": 11,
   "metadata": {},
   "outputs": [],
   "source": [
    "# Guardar la figura\n",
    "fig.savefig('annotate_design.pdf', transparent=True)\n",
    "fig.savefig('annotate_design.png', dpi=300)\n"
   ]
  },
  {
   "cell_type": "code",
   "execution_count": 12,
   "metadata": {},
   "outputs": [],
   "source": [
    "# Limpiar cache del plotting\n",
    "plt.close('all')"
   ]
  },
  {
   "cell_type": "code",
   "execution_count": 13,
   "metadata": {},
   "outputs": [
    {
     "data": {
      "text/plain": [
       "<matplotlib.image.AxesImage at 0x20508207710>"
      ]
     },
     "execution_count": 13,
     "metadata": {},
     "output_type": "execute_result"
    },
    {
     "data": {
      "image/png": "[encoded data removed]",
      "text/plain": [
       "<Figure size 1200x1200 with 1 Axes>"
      ]
     },
     "metadata": {
      "needs_background": "light"
     },
     "output_type": "display_data"
    }
   ],
   "source": [
    "#Solo para ver cambios realizados en el codigo mas rapido\n",
    "img = io.imread('annotate_design.png')\n",
    "plt.figure(figsize=(4, 4), dpi=300)\n",
    "io.imshow(img, cmap = 'gray')"
   ]
  },
  {
   "cell_type": "code",
   "execution_count": 16,
   "metadata": {},
   "outputs": [],
   "source": [
    "def RGB01converter(rgbcode):\n",
    "    rgb01 = (rgbcode[0]/256,rgbcode[1]/256,rgbcode[2]/256)\n",
    "    print (rgb01)"
   ]
  },
  {
   "cell_type": "code",
   "execution_count": 17,
   "metadata": {},
   "outputs": [
    {
     "name": "stdout",
     "output_type": "stream",
     "text": [
      "(0.33203125, 0.01171875, 0.8828125)\n"
     ]
    }
   ],
   "source": [
    "rgbcode = (85, 3, 226)\n",
    "\n",
    "RGB01converter(rgbcode)"
   ]
  },
  {
   "cell_type": "code",
   "execution_count": null,
   "metadata": {},
   "outputs": [],
   "source": []
  }
 ],
 "metadata": {
  "kernelspec": {
   "display_name": "Python 3",
   "language": "python",
   "name": "python3"
  },
  "language_info": {
   "codemirror_mode": {
    "name": "ipython",
    "version": 3
   },
   "file_extension": ".py",
   "mimetype": "text/x-python",
   "name": "python",
   "nbconvert_exporter": "python",
   "pygments_lexer": "ipython3",
   "version": "3.6.12"
  }
 },
 "nbformat": 4,
 "nbformat_minor": 2
}
