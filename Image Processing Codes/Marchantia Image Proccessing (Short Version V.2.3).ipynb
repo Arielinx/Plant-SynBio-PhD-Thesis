{
 "cells": [
  {
   "cell_type": "code",
   "execution_count": 20,
   "metadata": {},
   "outputs": [],
   "source": [
    "# MODULE IMPORT\n",
    "import os # For manipulating system information (file & folder paths and related)\n",
    "from skimage import io # For importing and saving images\n",
    "from skimage import img_as_float # To transform an 8 bit image to floating points\n",
    "from skimage.color import * # For color manipulation and transforming\n",
    "import matplotlib.pyplot as plt # for plotting all the figures\n",
    "from skimage import filters # for thresholding algorithms\n",
    "from skimage import morphology # for dilation, erosion and other binary transforms\n",
    "import numpy as np # for array manipulation\n",
    "import scipy.ndimage as ndi \n",
    "import pandas as pd\n",
    "%matplotlib inline\n",
    "# Required for viewing images in silico\n"
   ]
  },
  {
   "cell_type": "code",
   "execution_count": 66,
   "metadata": {},
   "outputs": [],
   "source": [
    "# Working directory\n",
    "\n",
    "working_directory ='/Users/Ariel/Desktop/Gemmae/'\n",
    "os.chdir(working_directory)"
   ]
  },
  {
   "cell_type": "code",
   "execution_count": 67,
   "metadata": {},
   "outputs": [],
   "source": [
    "def openImage(file):\n",
    "    \n",
    "    '''\n",
    "    Open the TIF or TIFF file as a three dimensional array for further manipulation\n",
    "    Input:\n",
    "        - file: string which corresponds to the filepath of the image\n",
    "    Output:\n",
    "        - img: three dimensional array that contains all the image information\n",
    "    '''\n",
    "    \n",
    "    img = io.imread(file)\n",
    "    \n",
    "    return img\n",
    "\n",
    "def image2HSV(image):\n",
    "    \n",
    "    img_HSV = rgb2hsv(image)\n",
    "    \n",
    "    return img_HSV\n",
    "\n",
    "def quickPlotImg(image):\n",
    "\n",
    "    '''\n",
    "    Plot the image in a quick way\n",
    "    Input:\n",
    "        - image: three dimensional array that contains all the image information\n",
    "    Output:\n",
    "        - None\n",
    "    '''\n",
    "    plt.figure(figsize = (1,1))\n",
    "    plt.imshow(image)\n",
    "    plt.show()\n",
    "    \n",
    "    return"
   ]
  },
  {
   "cell_type": "code",
   "execution_count": 69,
   "metadata": {},
   "outputs": [
    {
     "name": "stdout",
     "output_type": "stream",
     "text": [
      "Do you want to work with brightfield or fluorescent images? (b = 0; f = 1)1\n",
      "The last day of the experiment was: 1\n"
     ]
    },
    {
     "data": {
      "image/png": "[encoded data removed]",
      "text/plain": [
       "<Figure size 72x72 with 1 Axes>"
      ]
     },
     "metadata": {
      "needs_background": "light"
     },
     "output_type": "display_data"
    },
    {
     "data": {
      "image/png": "[encoded data removed]",
      "text/plain": [
       "<Figure size 72x72 with 1 Axes>"
      ]
     },
     "metadata": {
      "needs_background": "light"
     },
     "output_type": "display_data"
    },
    {
     "data": {
      "image/png": "[encoded data removed]",
      "text/plain": [
       "<Figure size 72x72 with 1 Axes>"
      ]
     },
     "metadata": {
      "needs_background": "light"
     },
     "output_type": "display_data"
    },
    {
     "data": {
      "image/png": "[encoded data removed]",
      "text/plain": [
       "<Figure size 72x72 with 1 Axes>"
      ]
     },
     "metadata": {
      "needs_background": "light"
     },
     "output_type": "display_data"
    },
    {
     "name": "stdout",
     "output_type": "stream",
     "text": [
      "Finished analyzing day 0\n"
     ]
    }
   ],
   "source": [
    "# Ask the user for input, whether they want to work with brightfield or fluorescent photos\n",
    "option = int(input('Do you want to work with brightfield or fluorescent images? (b = 0; f = 1)'))\n",
    "\n",
    "if option == 0:\n",
    "    # Brightfield images\n",
    "    os.chdir(working_directory + 'Campo Claro/')\n",
    "    # Save in the files list, all the files with extension .tif or .tiff\n",
    "    files = [f for f in os.listdir() if f.endswith('.tif') or f.endswith('.tiff')]\n",
    "    # Obtain the second last number in the name of each file, and save it in a list\n",
    "    numbers = [int(f.rsplit(\" \")[-2]) for f in files]\n",
    "    # Get the maximum number of the list and save it in a variable\n",
    "    max_number = max(numbers)\n",
    "    # Print the last day of experiment was max_number + 1\n",
    "    print('The last day of the experiment was: ' + str(max_number + 1))\n",
    "\n",
    "    # Create a dictionary to store the data obtained from each day\n",
    "    data = {}\n",
    "\n",
    "    # Loop over all the days (numbers)\n",
    "    for i in range(max_number + 1):\n",
    "        # Create an entry in data dictionary for the day i\n",
    "        data[i] = []\n",
    "        # Search for all the files with the number i in the name\n",
    "        files_per_day = [f for f in os.listdir() if str(i) in f.rsplit(\" \")[-2]]\n",
    "\n",
    "        # Loop over all the files in the list\n",
    "        for file in files_per_day:\n",
    "            \n",
    "            # Open the file\n",
    "            img = openImage(file)\n",
    "            \n",
    "            # Convert the image to a floating point image\n",
    "            img = img_as_float(img)\n",
    "            \n",
    "            # Take only the blue channel of the image\n",
    "            img_blue = img[:,:,0]\n",
    "            \n",
    "            # Apply a threshold to the image\n",
    "            img_threshold = filters.threshold_otsu(img_blue)\n",
    "            \n",
    "            # Create a binary image with the threshold\n",
    "            img_binary = img_blue < img_threshold-0.2 \n",
    "            \n",
    "            # Fill small holes in the binary image\n",
    "            img_filled = ndi.binary_fill_holes(img_binary)\n",
    "            \n",
    "            # Apply a binary closing to the image, with a selem of 20x20 pixels\n",
    "            img_closing = morphology.binary_closing(img_filled, selem=np.ones((20,20)))\n",
    "                        \n",
    "             # Fill small holes in the closed image\n",
    "            img_filled2 = ndi.binary_fill_holes(img_closing)\n",
    "            \n",
    "            # Remove small objects from the image, with min_size = 10000\n",
    "            img_cleaned = morphology.remove_small_objects(img_filled2, min_size=10000)\n",
    "                       \n",
    "            # Perform a second binary closing with a selem of 15x15 pixels\n",
    "            img_closing2 = morphology.binary_closing(img_cleaned, selem=np.ones((15,15)))\n",
    "\n",
    "            # Finally, perform a binary erosion with a selem of 5x5 pixels\n",
    "            img_erosion = morphology.binary_erosion(img_closing2, selem=np.ones((15,15)))\n",
    "            quickPlotImg(img_erosion)\n",
    "            \n",
    "            # Calculate the area of the final eroded image\n",
    "            area = np.sum(img_erosion)\n",
    "\n",
    "            # Since each pixel is around 5 squared micrometers, we multiply the area by 5^2\n",
    "            area = area * 5**2\n",
    "\n",
    "            # Save the area in the dictionary\n",
    "            data[i].append(area)\n",
    "\n",
    "            # Quick plot the image\n",
    "            #if \"0\" in file.rsplit(\"(\")[-1].rsplit(\")\")[0]:\n",
    "            #quickPlotImg(img_erosion)\n",
    "\n",
    "        # Print that we have finished analyzing the current day\n",
    "        print('Finished analyzing day ' + str(i))\n",
    "\n",
    "    # Convert the dictionary to a pandas dataframe\n",
    "    df = pd.DataFrame.from_dict(data, orient='index')\n",
    "\n",
    "    # Download the dataframe as an excel file, with the name 'data_brightfield.xlsx'\n",
    "    df.to_excel('data_brightfield.xlsx')\n",
    "                \n",
    "    # Return to the working directory\n",
    "    os.chdir(working_directory)\n",
    "\n",
    "\n",
    "elif option == 1:\n",
    "    \n",
    "    # Change directory to Fluo directory\n",
    "    os.chdir(working_directory + 'Fluo/')\n",
    "    # Save in the files list, all the files with extension .tif or .tiff\n",
    "    files = [f for f in os.listdir() if f.endswith('.tif') or f.endswith('.tiff')]\n",
    "    # Obtain the second last number in the name of each file, and save it in a list\n",
    "    numbers = [int(f.rsplit(\" \")[-2]) for f in files]\n",
    "    # Get the maximum number of the list and save it in a variable\n",
    "    max_number = max(numbers)\n",
    "    # Print the last day of experiment was max_number + 1\n",
    "    print('The last day of the experiment was: ' + str(max_number + 1))\n",
    "\n",
    "    # Create a dictionary to store the data obtained from each day\n",
    "    data = {}\n",
    "\n",
    "    # Loop over all the days (numbers)\n",
    "    for i in range(max_number + 1):\n",
    "        # Create an entry in data dictionary for the day i\n",
    "        data[i] = []\n",
    "        # Search for all the files with the number i in the name\n",
    "        files_per_day = [f for f in os.listdir() if str(i) in f.rsplit(\" \")[-2]]\n",
    "\n",
    "        # Loop over all the files in the list\n",
    "        for file in files_per_day:\n",
    "            \n",
    "            # Open the file\n",
    "            img = openImage(file)\n",
    "            # Take only the blue channel of the image\n",
    "                        \n",
    "            img_blue = img[:,:,1]\n",
    "            \n",
    "            # Convert the image to a floating point image\n",
    "            #img = img_as_float(img)\n",
    "\n",
    "            # Convert image to greyscale\n",
    "            #img_grey = rgb2gray(img)\n",
    "            \n",
    "            # Apply a threshold to the image\n",
    "            img_threshold = filters.threshold_otsu(img_blue)\n",
    "            \n",
    "            # Create a binary image with the threshold\n",
    "            img_binary = img_blue > img_threshold\n",
    "            \n",
    "            # Fill small holes in the binary image\n",
    "            img_filled = ndi.binary_fill_holes(img_binary)\n",
    "            \n",
    "            # Apply a binary closing to the image, with a selem of 30x30 pixels\n",
    "            img_closing = morphology.binary_closing(img_filled, selem=np.ones((20,20)))\n",
    "                               \n",
    "            # Fill small holes in the closed image\n",
    "            img_filled2 = ndi.binary_fill_holes(img_closing)\n",
    "            \n",
    "             # Remove small objects from the image, with min_size = 10000\n",
    "            img_cleaned = morphology.remove_small_objects(img_filled2, min_size=10000)\n",
    "                        \n",
    "            # Perform a second binary closing with a selem of 15x15 pixels\n",
    "            img_closing2 = morphology.binary_closing(img_cleaned, selem=np.ones((30,30)))\n",
    "                        \n",
    "            # Fill small holes in the second closed image\n",
    "            img_filled3 = ndi.binary_fill_holes(img_closing2)\n",
    "            \n",
    "            # Finally, perform a binary erosion with a selem of 5x5 pixels - This is the mask\n",
    "            img_erosion = morphology.binary_erosion(img_filled3, selem=np.ones((15,15)))\n",
    "            quickPlotImg(img_erosion)                        \n",
    "            # Extract the R, G and B channels of the img\n",
    "            R, G, B = img[:,:,0], img[:,:,1], img[:,:,2]\n",
    "\n",
    "            # Multiply the R, G and B channels with the img_erosion\n",
    "            R_eroded = img_erosion * R\n",
    "            G_eroded = img_erosion * G\n",
    "            B_eroded = img_erosion * B\n",
    "\n",
    "            # Sum the R, G and B channels\n",
    "            channel_sum = R_eroded + G_eroded + B_eroded\n",
    "\n",
    "            # Sum the channel_sum\n",
    "            intensity = np.sum(channel_sum)\n",
    "\n",
    "            # Append the intensity to the dictionary\n",
    "            data[i].append(intensity)\n",
    "\n",
    "            # Quick plot the image\n",
    "            #if \"0\" in file.rsplit(\"(\")[-1].rsplit(\")\")[0]:\n",
    "            #    quickPlotImg(img_erosion)\n",
    "\n",
    "        # Print that we have finished analyzing the current day\n",
    "        print('Finished analyzing day ' + str(i))\n",
    "\n",
    "    # Convert the dictionary to a pandas dataframe\n",
    "    df = pd.DataFrame.from_dict(data, orient='index')\n",
    "\n",
    "    # Download the dataframe as an excel file, with the name 'data_fluo.xlsx'\n",
    "    df.to_excel('data_fluo.xlsx')\n",
    "\n",
    "    # ESTO VA AL FINAL\n",
    "    os.chdir(working_directory)"
   ]
  },
  {
   "cell_type": "code",
   "execution_count": null,
   "metadata": {},
   "outputs": [],
   "source": []
  },
  {
   "cell_type": "code",
   "execution_count": null,
   "metadata": {},
   "outputs": [],
   "source": []
  }
 ],
 "metadata": {
  "interpreter": {
   "hash": "d18ee26367eec6a9b05133fe9e7dde9d43f010d79aaef65907f70602f9bc912d"
  },
  "kernelspec": {
   "display_name": "Python 3",
   "language": "python",
   "name": "python3"
  },
  "language_info": {
   "codemirror_mode": {
    "name": "ipython",
    "version": 3
   },
   "file_extension": ".py",
   "mimetype": "text/x-python",
   "name": "python",
   "nbconvert_exporter": "python",
   "pygments_lexer": "ipython3",
   "version": "3.6.12"
  }
 },
 "nbformat": 4,
 "nbformat_minor": 2
}
