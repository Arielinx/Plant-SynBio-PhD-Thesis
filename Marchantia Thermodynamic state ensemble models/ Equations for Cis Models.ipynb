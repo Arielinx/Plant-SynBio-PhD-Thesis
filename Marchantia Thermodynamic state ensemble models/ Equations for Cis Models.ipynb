{
  "nbformat": 4,
  "nbformat_minor": 0,
  "metadata": {
    "kernelspec": {
      "display_name": "Python 3",
      "language": "python",
      "name": "python3"
    },
    "language_info": {
      "codemirror_mode": {
        "name": "ipython",
        "version": 3
      },
      "file_extension": ".py",
      "mimetype": "text/x-python",
      "name": "python",
      "nbconvert_exporter": "python",
      "pygments_lexer": "ipython3",
      "version": "3.7.4"
    },
    "colab": {
      "name": "Equations for Cis Models.ipynb",
      "provenance": []
    }
  },
  "cells": [
    {
      "cell_type": "code",
      "metadata": {
        "id": "9RyghBZY8hyc"
      },
      "source": [
        "from itertools import *\n",
        "from IPython.display import Latex, display, Math\n",
        "\n",
        "# Synthetic promoter definition\n",
        "\n",
        "syn_prom = 'ABCDEFG' # Number of boxes that could be theoretically filled (Different letters according to the number of boxes to use)\n",
        "syn_prom_string = ['_', '_', '_', '_', '_', '_', '_'] # Strings for generating output (adjust to the number of boxes to use)\n",
        "tf_numbers = [1, 2, 3, 4, 5, 6, 7] # Number of possible TFs that could be used\n",
        "tf_names = ['ACT1', 'ACT2', 'ACT3', 'ACT4', 'REP1', 'REP2', 'REP3'] # Names for the TFs\n",
        "min_prom = ['35S_Min'] # Minimal promoter\n",
        "rna_pol = ['RNApol'] # Polymerase term\n",
        "\n",
        "# Boolean term for empty spaces\n",
        "\n",
        "boolean = 1\n",
        "\n",
        "# Defining the L matrix\n",
        "\n",
        "L_matrix = []\n",
        "Final_L_matrix = []\n",
        "\n",
        "for box in range(0, len(syn_prom)+1):\n",
        "\n",
        "    possible_combinations = list(combinations(syn_prom, box))\n",
        "\n",
        "    for combination in possible_combinations:\n",
        "\n",
        "        aux = syn_prom_string.copy()\n",
        "\n",
        "        for element in combination:\n",
        "\n",
        "            replace = syn_prom.index(element)\n",
        "            aux[replace] = tf_names[replace]\n",
        "\n",
        "        if aux not in L_matrix:\n",
        "            \n",
        "            L_matrix.append(aux+['1']) # For each possible state, there are also 2 possible states, with RNApol and w/o\n",
        "            L_matrix.append(aux+['RNAPol'])\n",
        "            \n",
        "        else:\n",
        "            continue\n",
        "\n",
        "for line in L_matrix:\n",
        "    \n",
        "    for element in range(0, len(line)):\n",
        "        \n",
        "        if line[element] == '_':\n",
        "            \n",
        "            line[element] = '['+'1'+']'\n",
        "            \n",
        "        elif line[element] == 'RNAPol':\n",
        "            \n",
        "            line[element] = '[RNA_{pol}]'\n",
        "        \n",
        "        else:\n",
        "            \n",
        "            line[element] = '['+line[element]+']'            \n",
        "\n",
        "    final_line = ('$$ '+'-'.join(line) +' $$')\n",
        "    \n",
        "    Final_L_matrix.append(final_line)"
      ],
      "execution_count": null,
      "outputs": []
    },
    {
      "cell_type": "code",
      "metadata": {
        "id": "kVigro948hyh",
        "outputId": "f9ec2325-195d-422b-b7e2-35f48e31b778"
      },
      "source": [
        "## Generating the S matrix\n",
        "\n",
        "S_matrix = []\n",
        "\n",
        "for line in L_matrix:\n",
        "    \n",
        "    s_value = ''''''\n",
        "    \n",
        "    if L_matrix.index(line) == 0:\n",
        "        \n",
        "        S_matrix.append('$$' + '1'+ '$$')\n",
        "        \n",
        "    else:\n",
        "\n",
        "        for element in line:\n",
        "\n",
        "            if element == '[1]':\n",
        "\n",
        "                continue\n",
        "\n",
        "            else:\n",
        "\n",
        "                element_to_append = element + ' \\cdot '\n",
        "                s_value += element_to_append\n",
        "\n",
        "        final_s_value = s_value.rstrip(' \\cdot ')\n",
        "\n",
        "        S_matrix.append('$$' + final_s_value + '$$')\n",
        "    \n",
        "for s in S_matrix:\n",
        "    \n",
        "    display(Math(s))"
      ],
      "execution_count": null,
      "outputs": [
        {
          "output_type": "display_data",
          "data": {
            "text/latex": "$\\displaystyle 1$",
            "text/plain": [
              "<IPython.core.display.Math object>"
            ]
          },
          "metadata": {
            "tags": []
          }
        },
        {
          "output_type": "display_data",
          "data": {
            "text/latex": "$\\displaystyle [RNA_{pol}]$",
            "text/plain": [
              "<IPython.core.display.Math object>"
            ]
          },
          "metadata": {
            "tags": []
          }
        },
        {
          "output_type": "display_data",
          "data": {
            "text/latex": "$\\displaystyle [ACT1]$",
            "text/plain": [
              "<IPython.core.display.Math object>"
            ]
          },
          "metadata": {
            "tags": []
          }
        },
        {
          "output_type": "display_data",
          "data": {
            "text/latex": "$\\displaystyle [ACT1] \\cdot [RNA_{pol}]$",
            "text/plain": [
              "<IPython.core.display.Math object>"
            ]
          },
          "metadata": {
            "tags": []
          }
        },
        {
          "output_type": "display_data",
          "data": {
            "text/latex": "$\\displaystyle [ACT2]$",
            "text/plain": [
              "<IPython.core.display.Math object>"
            ]
          },
          "metadata": {
            "tags": []
          }
        },
        {
          "output_type": "display_data",
          "data": {
            "text/latex": "$\\displaystyle [ACT2] \\cdot [RNA_{pol}]$",
            "text/plain": [
              "<IPython.core.display.Math object>"
            ]
          },
          "metadata": {
            "tags": []
          }
        },
        {
          "output_type": "display_data",
          "data": {
            "text/latex": "$\\displaystyle [ACT3]$",
            "text/plain": [
              "<IPython.core.display.Math object>"
            ]
          },
          "metadata": {
            "tags": []
          }
        },
        {
          "output_type": "display_data",
          "data": {
            "text/latex": "$\\displaystyle [ACT3] \\cdot [RNA_{pol}]$",
            "text/plain": [
              "<IPython.core.display.Math object>"
            ]
          },
          "metadata": {
            "tags": []
          }
        },
        {
          "output_type": "display_data",
          "data": {
            "text/latex": "$\\displaystyle [ACT4]$",
            "text/plain": [
              "<IPython.core.display.Math object>"
            ]
          },
          "metadata": {
            "tags": []
          }
        },
        {
          "output_type": "display_data",
          "data": {
            "text/latex": "$\\displaystyle [ACT4] \\cdot [RNA_{pol}]$",
            "text/plain": [
              "<IPython.core.display.Math object>"
            ]
          },
          "metadata": {
            "tags": []
          }
        },
        {
          "output_type": "display_data",
          "data": {
            "text/latex": "$\\displaystyle [REP1]$",
            "text/plain": [
              "<IPython.core.display.Math object>"
            ]
          },
          "metadata": {
            "tags": []
          }
        },
        {
          "output_type": "display_data",
          "data": {
            "text/latex": "$\\displaystyle [REP1] \\cdot [RNA_{pol}]$",
            "text/plain": [
              "<IPython.core.display.Math object>"
            ]
          },
          "metadata": {
            "tags": []
          }
        },
        {
          "output_type": "display_data",
          "data": {
            "text/latex": "$\\displaystyle [REP2]$",
            "text/plain": [
              "<IPython.core.display.Math object>"
            ]
          },
          "metadata": {
            "tags": []
          }
        },
        {
          "output_type": "display_data",
          "data": {
            "text/latex": "$\\displaystyle [REP2] \\cdot [RNA_{pol}]$",
            "text/plain": [
              "<IPython.core.display.Math object>"
            ]
          },
          "metadata": {
            "tags": []
          }
        },
        {
          "output_type": "display_data",
          "data": {
            "text/latex": "$\\displaystyle [REP3]$",
            "text/plain": [
              "<IPython.core.display.Math object>"
            ]
          },
          "metadata": {
            "tags": []
          }
        },
        {
          "output_type": "display_data",
          "data": {
            "text/latex": "$\\displaystyle [REP3] \\cdot [RNA_{pol}]$",
            "text/plain": [
              "<IPython.core.display.Math object>"
            ]
          },
          "metadata": {
            "tags": []
          }
        },
        {
          "output_type": "display_data",
          "data": {
            "text/latex": "$\\displaystyle [ACT1] \\cdot [ACT2]$",
            "text/plain": [
              "<IPython.core.display.Math object>"
            ]
          },
          "metadata": {
            "tags": []
          }
        },
        {
          "output_type": "display_data",
          "data": {
            "text/latex": "$\\displaystyle [ACT1] \\cdot [ACT2] \\cdot [RNA_{pol}]$",
            "text/plain": [
              "<IPython.core.display.Math object>"
            ]
          },
          "metadata": {
            "tags": []
          }
        },
        {
          "output_type": "display_data",
          "data": {
            "text/latex": "$\\displaystyle [ACT1] \\cdot [ACT3]$",
            "text/plain": [
              "<IPython.core.display.Math object>"
            ]
          },
          "metadata": {
            "tags": []
          }
        },
        {
          "output_type": "display_data",
          "data": {
            "text/latex": "$\\displaystyle [ACT1] \\cdot [ACT3] \\cdot [RNA_{pol}]$",
            "text/plain": [
              "<IPython.core.display.Math object>"
            ]
          },
          "metadata": {
            "tags": []
          }
        },
        {
          "output_type": "display_data",
          "data": {
            "text/latex": "$\\displaystyle [ACT1] \\cdot [ACT4]$",
            "text/plain": [
              "<IPython.core.display.Math object>"
            ]
          },
          "metadata": {
            "tags": []
          }
        },
        {
          "output_type": "display_data",
          "data": {
            "text/latex": "$\\displaystyle [ACT1] \\cdot [ACT4] \\cdot [RNA_{pol}]$",
            "text/plain": [
              "<IPython.core.display.Math object>"
            ]
          },
          "metadata": {
            "tags": []
          }
        },
        {
          "output_type": "display_data",
          "data": {
            "text/latex": "$\\displaystyle [ACT1] \\cdot [REP1]$",
            "text/plain": [
              "<IPython.core.display.Math object>"
            ]
          },
          "metadata": {
            "tags": []
          }
        },
        {
          "output_type": "display_data",
          "data": {
            "text/latex": "$\\displaystyle [ACT1] \\cdot [REP1] \\cdot [RNA_{pol}]$",
            "text/plain": [
              "<IPython.core.display.Math object>"
            ]
          },
          "metadata": {
            "tags": []
          }
        },
        {
          "output_type": "display_data",
          "data": {
            "text/latex": "$\\displaystyle [ACT1] \\cdot [REP2]$",
            "text/plain": [
              "<IPython.core.display.Math object>"
            ]
          },
          "metadata": {
            "tags": []
          }
        },
        {
          "output_type": "display_data",
          "data": {
            "text/latex": "$\\displaystyle [ACT1] \\cdot [REP2] \\cdot [RNA_{pol}]$",
            "text/plain": [
              "<IPython.core.display.Math object>"
            ]
          },
          "metadata": {
            "tags": []
          }
        },
        {
          "output_type": "display_data",
          "data": {
            "text/latex": "$\\displaystyle [ACT1] \\cdot [REP3]$",
            "text/plain": [
              "<IPython.core.display.Math object>"
            ]
          },
          "metadata": {
            "tags": []
          }
        },
        {
          "output_type": "display_data",
          "data": {
            "text/latex": "$\\displaystyle [ACT1] \\cdot [REP3] \\cdot [RNA_{pol}]$",
            "text/plain": [
              "<IPython.core.display.Math object>"
            ]
          },
          "metadata": {
            "tags": []
          }
        },
        {
          "output_type": "display_data",
          "data": {
            "text/latex": "$\\displaystyle [ACT2] \\cdot [ACT3]$",
            "text/plain": [
              "<IPython.core.display.Math object>"
            ]
          },
          "metadata": {
            "tags": []
          }
        },
        {
          "output_type": "display_data",
          "data": {
            "text/latex": "$\\displaystyle [ACT2] \\cdot [ACT3] \\cdot [RNA_{pol}]$",
            "text/plain": [
              "<IPython.core.display.Math object>"
            ]
          },
          "metadata": {
            "tags": []
          }
        },
        {
          "output_type": "display_data",
          "data": {
            "text/latex": "$\\displaystyle [ACT2] \\cdot [ACT4]$",
            "text/plain": [
              "<IPython.core.display.Math object>"
            ]
          },
          "metadata": {
            "tags": []
          }
        },
        {
          "output_type": "display_data",
          "data": {
            "text/latex": "$\\displaystyle [ACT2] \\cdot [ACT4] \\cdot [RNA_{pol}]$",
            "text/plain": [
              "<IPython.core.display.Math object>"
            ]
          },
          "metadata": {
            "tags": []
          }
        },
        {
          "output_type": "display_data",
          "data": {
            "text/latex": "$\\displaystyle [ACT2] \\cdot [REP1]$",
            "text/plain": [
              "<IPython.core.display.Math object>"
            ]
          },
          "metadata": {
            "tags": []
          }
        },
        {
          "output_type": "display_data",
          "data": {
            "text/latex": "$\\displaystyle [ACT2] \\cdot [REP1] \\cdot [RNA_{pol}]$",
            "text/plain": [
              "<IPython.core.display.Math object>"
            ]
          },
          "metadata": {
            "tags": []
          }
        },
        {
          "output_type": "display_data",
          "data": {
            "text/latex": "$\\displaystyle [ACT2] \\cdot [REP2]$",
            "text/plain": [
              "<IPython.core.display.Math object>"
            ]
          },
          "metadata": {
            "tags": []
          }
        },
        {
          "output_type": "display_data",
          "data": {
            "text/latex": "$\\displaystyle [ACT2] \\cdot [REP2] \\cdot [RNA_{pol}]$",
            "text/plain": [
              "<IPython.core.display.Math object>"
            ]
          },
          "metadata": {
            "tags": []
          }
        },
        {
          "output_type": "display_data",
          "data": {
            "text/latex": "$\\displaystyle [ACT2] \\cdot [REP3]$",
            "text/plain": [
              "<IPython.core.display.Math object>"
            ]
          },
          "metadata": {
            "tags": []
          }
        },
        {
          "output_type": "display_data",
          "data": {
            "text/latex": "$\\displaystyle [ACT2] \\cdot [REP3] \\cdot [RNA_{pol}]$",
            "text/plain": [
              "<IPython.core.display.Math object>"
            ]
          },
          "metadata": {
            "tags": []
          }
        },
        {
          "output_type": "display_data",
          "data": {
            "text/latex": "$\\displaystyle [ACT3] \\cdot [ACT4]$",
            "text/plain": [
              "<IPython.core.display.Math object>"
            ]
          },
          "metadata": {
            "tags": []
          }
        },
        {
          "output_type": "display_data",
          "data": {
            "text/latex": "$\\displaystyle [ACT3] \\cdot [ACT4] \\cdot [RNA_{pol}]$",
            "text/plain": [
              "<IPython.core.display.Math object>"
            ]
          },
          "metadata": {
            "tags": []
          }
        },
        {
          "output_type": "display_data",
          "data": {
            "text/latex": "$\\displaystyle [ACT3] \\cdot [REP1]$",
            "text/plain": [
              "<IPython.core.display.Math object>"
            ]
          },
          "metadata": {
            "tags": []
          }
        },
        {
          "output_type": "display_data",
          "data": {
            "text/latex": "$\\displaystyle [ACT3] \\cdot [REP1] \\cdot [RNA_{pol}]$",
            "text/plain": [
              "<IPython.core.display.Math object>"
            ]
          },
          "metadata": {
            "tags": []
          }
        },
        {
          "output_type": "display_data",
          "data": {
            "text/latex": "$\\displaystyle [ACT3] \\cdot [REP2]$",
            "text/plain": [
              "<IPython.core.display.Math object>"
            ]
          },
          "metadata": {
            "tags": []
          }
        },
        {
          "output_type": "display_data",
          "data": {
            "text/latex": "$\\displaystyle [ACT3] \\cdot [REP2] \\cdot [RNA_{pol}]$",
            "text/plain": [
              "<IPython.core.display.Math object>"
            ]
          },
          "metadata": {
            "tags": []
          }
        },
        {
          "output_type": "display_data",
          "data": {
            "text/latex": "$\\displaystyle [ACT3] \\cdot [REP3]$",
            "text/plain": [
              "<IPython.core.display.Math object>"
            ]
          },
          "metadata": {
            "tags": []
          }
        },
        {
          "output_type": "display_data",
          "data": {
            "text/latex": "$\\displaystyle [ACT3] \\cdot [REP3] \\cdot [RNA_{pol}]$",
            "text/plain": [
              "<IPython.core.display.Math object>"
            ]
          },
          "metadata": {
            "tags": []
          }
        },
        {
          "output_type": "display_data",
          "data": {
            "text/latex": "$\\displaystyle [ACT4] \\cdot [REP1]$",
            "text/plain": [
              "<IPython.core.display.Math object>"
            ]
          },
          "metadata": {
            "tags": []
          }
        },
        {
          "output_type": "display_data",
          "data": {
            "text/latex": "$\\displaystyle [ACT4] \\cdot [REP1] \\cdot [RNA_{pol}]$",
            "text/plain": [
              "<IPython.core.display.Math object>"
            ]
          },
          "metadata": {
            "tags": []
          }
        },
        {
          "output_type": "display_data",
          "data": {
            "text/latex": "$\\displaystyle [ACT4] \\cdot [REP2]$",
            "text/plain": [
              "<IPython.core.display.Math object>"
            ]
          },
          "metadata": {
            "tags": []
          }
        },
        {
          "output_type": "display_data",
          "data": {
            "text/latex": "$\\displaystyle [ACT4] \\cdot [REP2] \\cdot [RNA_{pol}]$",
            "text/plain": [
              "<IPython.core.display.Math object>"
            ]
          },
          "metadata": {
            "tags": []
          }
        },
        {
          "output_type": "display_data",
          "data": {
            "text/latex": "$\\displaystyle [ACT4] \\cdot [REP3]$",
            "text/plain": [
              "<IPython.core.display.Math object>"
            ]
          },
          "metadata": {
            "tags": []
          }
        },
        {
          "output_type": "display_data",
          "data": {
            "text/latex": "$\\displaystyle [ACT4] \\cdot [REP3] \\cdot [RNA_{pol}]$",
            "text/plain": [
              "<IPython.core.display.Math object>"
            ]
          },
          "metadata": {
            "tags": []
          }
        },
        {
          "output_type": "display_data",
          "data": {
            "text/latex": "$\\displaystyle [REP1] \\cdot [REP2]$",
            "text/plain": [
              "<IPython.core.display.Math object>"
            ]
          },
          "metadata": {
            "tags": []
          }
        },
        {
          "output_type": "display_data",
          "data": {
            "text/latex": "$\\displaystyle [REP1] \\cdot [REP2] \\cdot [RNA_{pol}]$",
            "text/plain": [
              "<IPython.core.display.Math object>"
            ]
          },
          "metadata": {
            "tags": []
          }
        },
        {
          "output_type": "display_data",
          "data": {
            "text/latex": "$\\displaystyle [REP1] \\cdot [REP3]$",
            "text/plain": [
              "<IPython.core.display.Math object>"
            ]
          },
          "metadata": {
            "tags": []
          }
        },
        {
          "output_type": "display_data",
          "data": {
            "text/latex": "$\\displaystyle [REP1] \\cdot [REP3] \\cdot [RNA_{pol}]$",
            "text/plain": [
              "<IPython.core.display.Math object>"
            ]
          },
          "metadata": {
            "tags": []
          }
        },
        {
          "output_type": "display_data",
          "data": {
            "text/latex": "$\\displaystyle [REP2] \\cdot [REP3]$",
            "text/plain": [
              "<IPython.core.display.Math object>"
            ]
          },
          "metadata": {
            "tags": []
          }
        },
        {
          "output_type": "display_data",
          "data": {
            "text/latex": "$\\displaystyle [REP2] \\cdot [REP3] \\cdot [RNA_{pol}]$",
            "text/plain": [
              "<IPython.core.display.Math object>"
            ]
          },
          "metadata": {
            "tags": []
          }
        },
        {
          "output_type": "display_data",
          "data": {
            "text/latex": "$\\displaystyle [ACT1] \\cdot [ACT2] \\cdot [ACT3]$",
            "text/plain": [
              "<IPython.core.display.Math object>"
            ]
          },
          "metadata": {
            "tags": []
          }
        },
        {
          "output_type": "display_data",
          "data": {
            "text/latex": "$\\displaystyle [ACT1] \\cdot [ACT2] \\cdot [ACT3] \\cdot [RNA_{pol}]$",
            "text/plain": [
              "<IPython.core.display.Math object>"
            ]
          },
          "metadata": {
            "tags": []
          }
        },
        {
          "output_type": "display_data",
          "data": {
            "text/latex": "$\\displaystyle [ACT1] \\cdot [ACT2] \\cdot [ACT4]$",
            "text/plain": [
              "<IPython.core.display.Math object>"
            ]
          },
          "metadata": {
            "tags": []
          }
        },
        {
          "output_type": "display_data",
          "data": {
            "text/latex": "$\\displaystyle [ACT1] \\cdot [ACT2] \\cdot [ACT4] \\cdot [RNA_{pol}]$",
            "text/plain": [
              "<IPython.core.display.Math object>"
            ]
          },
          "metadata": {
            "tags": []
          }
        },
        {
          "output_type": "display_data",
          "data": {
            "text/latex": "$\\displaystyle [ACT1] \\cdot [ACT2] \\cdot [REP1]$",
            "text/plain": [
              "<IPython.core.display.Math object>"
            ]
          },
          "metadata": {
            "tags": []
          }
        },
        {
          "output_type": "display_data",
          "data": {
            "text/latex": "$\\displaystyle [ACT1] \\cdot [ACT2] \\cdot [REP1] \\cdot [RNA_{pol}]$",
            "text/plain": [
              "<IPython.core.display.Math object>"
            ]
          },
          "metadata": {
            "tags": []
          }
        },
        {
          "output_type": "display_data",
          "data": {
            "text/latex": "$\\displaystyle [ACT1] \\cdot [ACT2] \\cdot [REP2]$",
            "text/plain": [
              "<IPython.core.display.Math object>"
            ]
          },
          "metadata": {
            "tags": []
          }
        },
        {
          "output_type": "display_data",
          "data": {
            "text/latex": "$\\displaystyle [ACT1] \\cdot [ACT2] \\cdot [REP2] \\cdot [RNA_{pol}]$",
            "text/plain": [
              "<IPython.core.display.Math object>"
            ]
          },
          "metadata": {
            "tags": []
          }
        },
        {
          "output_type": "display_data",
          "data": {
            "text/latex": "$\\displaystyle [ACT1] \\cdot [ACT2] \\cdot [REP3]$",
            "text/plain": [
              "<IPython.core.display.Math object>"
            ]
          },
          "metadata": {
            "tags": []
          }
        },
        {
          "output_type": "display_data",
          "data": {
            "text/latex": "$\\displaystyle [ACT1] \\cdot [ACT2] \\cdot [REP3] \\cdot [RNA_{pol}]$",
            "text/plain": [
              "<IPython.core.display.Math object>"
            ]
          },
          "metadata": {
            "tags": []
          }
        },
        {
          "output_type": "display_data",
          "data": {
            "text/latex": "$\\displaystyle [ACT1] \\cdot [ACT3] \\cdot [ACT4]$",
            "text/plain": [
              "<IPython.core.display.Math object>"
            ]
          },
          "metadata": {
            "tags": []
          }
        },
        {
          "output_type": "display_data",
          "data": {
            "text/latex": "$\\displaystyle [ACT1] \\cdot [ACT3] \\cdot [ACT4] \\cdot [RNA_{pol}]$",
            "text/plain": [
              "<IPython.core.display.Math object>"
            ]
          },
          "metadata": {
            "tags": []
          }
        },
        {
          "output_type": "display_data",
          "data": {
            "text/latex": "$\\displaystyle [ACT1] \\cdot [ACT3] \\cdot [REP1]$",
            "text/plain": [
              "<IPython.core.display.Math object>"
            ]
          },
          "metadata": {
            "tags": []
          }
        },
        {
          "output_type": "display_data",
          "data": {
            "text/latex": "$\\displaystyle [ACT1] \\cdot [ACT3] \\cdot [REP1] \\cdot [RNA_{pol}]$",
            "text/plain": [
              "<IPython.core.display.Math object>"
            ]
          },
          "metadata": {
            "tags": []
          }
        },
        {
          "output_type": "display_data",
          "data": {
            "text/latex": "$\\displaystyle [ACT1] \\cdot [ACT3] \\cdot [REP2]$",
            "text/plain": [
              "<IPython.core.display.Math object>"
            ]
          },
          "metadata": {
            "tags": []
          }
        },
        {
          "output_type": "display_data",
          "data": {
            "text/latex": "$\\displaystyle [ACT1] \\cdot [ACT3] \\cdot [REP2] \\cdot [RNA_{pol}]$",
            "text/plain": [
              "<IPython.core.display.Math object>"
            ]
          },
          "metadata": {
            "tags": []
          }
        },
        {
          "output_type": "display_data",
          "data": {
            "text/latex": "$\\displaystyle [ACT1] \\cdot [ACT3] \\cdot [REP3]$",
            "text/plain": [
              "<IPython.core.display.Math object>"
            ]
          },
          "metadata": {
            "tags": []
          }
        },
        {
          "output_type": "display_data",
          "data": {
            "text/latex": "$\\displaystyle [ACT1] \\cdot [ACT3] \\cdot [REP3] \\cdot [RNA_{pol}]$",
            "text/plain": [
              "<IPython.core.display.Math object>"
            ]
          },
          "metadata": {
            "tags": []
          }
        },
        {
          "output_type": "display_data",
          "data": {
            "text/latex": "$\\displaystyle [ACT1] \\cdot [ACT4] \\cdot [REP1]$",
            "text/plain": [
              "<IPython.core.display.Math object>"
            ]
          },
          "metadata": {
            "tags": []
          }
        },
        {
          "output_type": "display_data",
          "data": {
            "text/latex": "$\\displaystyle [ACT1] \\cdot [ACT4] \\cdot [REP1] \\cdot [RNA_{pol}]$",
            "text/plain": [
              "<IPython.core.display.Math object>"
            ]
          },
          "metadata": {
            "tags": []
          }
        },
        {
          "output_type": "display_data",
          "data": {
            "text/latex": "$\\displaystyle [ACT1] \\cdot [ACT4] \\cdot [REP2]$",
            "text/plain": [
              "<IPython.core.display.Math object>"
            ]
          },
          "metadata": {
            "tags": []
          }
        },
        {
          "output_type": "display_data",
          "data": {
            "text/latex": "$\\displaystyle [ACT1] \\cdot [ACT4] \\cdot [REP2] \\cdot [RNA_{pol}]$",
            "text/plain": [
              "<IPython.core.display.Math object>"
            ]
          },
          "metadata": {
            "tags": []
          }
        },
        {
          "output_type": "display_data",
          "data": {
            "text/latex": "$\\displaystyle [ACT1] \\cdot [ACT4] \\cdot [REP3]$",
            "text/plain": [
              "<IPython.core.display.Math object>"
            ]
          },
          "metadata": {
            "tags": []
          }
        },
        {
          "output_type": "display_data",
          "data": {
            "text/latex": "$\\displaystyle [ACT1] \\cdot [ACT4] \\cdot [REP3] \\cdot [RNA_{pol}]$",
            "text/plain": [
              "<IPython.core.display.Math object>"
            ]
          },
          "metadata": {
            "tags": []
          }
        },
        {
          "output_type": "display_data",
          "data": {
            "text/latex": "$\\displaystyle [ACT1] \\cdot [REP1] \\cdot [REP2]$",
            "text/plain": [
              "<IPython.core.display.Math object>"
            ]
          },
          "metadata": {
            "tags": []
          }
        },
        {
          "output_type": "display_data",
          "data": {
            "text/latex": "$\\displaystyle [ACT1] \\cdot [REP1] \\cdot [REP2] \\cdot [RNA_{pol}]$",
            "text/plain": [
              "<IPython.core.display.Math object>"
            ]
          },
          "metadata": {
            "tags": []
          }
        },
        {
          "output_type": "display_data",
          "data": {
            "text/latex": "$\\displaystyle [ACT1] \\cdot [REP1] \\cdot [REP3]$",
            "text/plain": [
              "<IPython.core.display.Math object>"
            ]
          },
          "metadata": {
            "tags": []
          }
        },
        {
          "output_type": "display_data",
          "data": {
            "text/latex": "$\\displaystyle [ACT1] \\cdot [REP1] \\cdot [REP3] \\cdot [RNA_{pol}]$",
            "text/plain": [
              "<IPython.core.display.Math object>"
            ]
          },
          "metadata": {
            "tags": []
          }
        },
        {
          "output_type": "display_data",
          "data": {
            "text/latex": "$\\displaystyle [ACT1] \\cdot [REP2] \\cdot [REP3]$",
            "text/plain": [
              "<IPython.core.display.Math object>"
            ]
          },
          "metadata": {
            "tags": []
          }
        },
        {
          "output_type": "display_data",
          "data": {
            "text/latex": "$\\displaystyle [ACT1] \\cdot [REP2] \\cdot [REP3] \\cdot [RNA_{pol}]$",
            "text/plain": [
              "<IPython.core.display.Math object>"
            ]
          },
          "metadata": {
            "tags": []
          }
        },
        {
          "output_type": "display_data",
          "data": {
            "text/latex": "$\\displaystyle [ACT2] \\cdot [ACT3] \\cdot [ACT4]$",
            "text/plain": [
              "<IPython.core.display.Math object>"
            ]
          },
          "metadata": {
            "tags": []
          }
        },
        {
          "output_type": "display_data",
          "data": {
            "text/latex": "$\\displaystyle [ACT2] \\cdot [ACT3] \\cdot [ACT4] \\cdot [RNA_{pol}]$",
            "text/plain": [
              "<IPython.core.display.Math object>"
            ]
          },
          "metadata": {
            "tags": []
          }
        },
        {
          "output_type": "display_data",
          "data": {
            "text/latex": "$\\displaystyle [ACT2] \\cdot [ACT3] \\cdot [REP1]$",
            "text/plain": [
              "<IPython.core.display.Math object>"
            ]
          },
          "metadata": {
            "tags": []
          }
        },
        {
          "output_type": "display_data",
          "data": {
            "text/latex": "$\\displaystyle [ACT2] \\cdot [ACT3] \\cdot [REP1] \\cdot [RNA_{pol}]$",
            "text/plain": [
              "<IPython.core.display.Math object>"
            ]
          },
          "metadata": {
            "tags": []
          }
        },
        {
          "output_type": "display_data",
          "data": {
            "text/latex": "$\\displaystyle [ACT2] \\cdot [ACT3] \\cdot [REP2]$",
            "text/plain": [
              "<IPython.core.display.Math object>"
            ]
          },
          "metadata": {
            "tags": []
          }
        },
        {
          "output_type": "display_data",
          "data": {
            "text/latex": "$\\displaystyle [ACT2] \\cdot [ACT3] \\cdot [REP2] \\cdot [RNA_{pol}]$",
            "text/plain": [
              "<IPython.core.display.Math object>"
            ]
          },
          "metadata": {
            "tags": []
          }
        },
        {
          "output_type": "display_data",
          "data": {
            "text/latex": "$\\displaystyle [ACT2] \\cdot [ACT3] \\cdot [REP3]$",
            "text/plain": [
              "<IPython.core.display.Math object>"
            ]
          },
          "metadata": {
            "tags": []
          }
        },
        {
          "output_type": "display_data",
          "data": {
            "text/latex": "$\\displaystyle [ACT2] \\cdot [ACT3] \\cdot [REP3] \\cdot [RNA_{pol}]$",
            "text/plain": [
              "<IPython.core.display.Math object>"
            ]
          },
          "metadata": {
            "tags": []
          }
        },
        {
          "output_type": "display_data",
          "data": {
            "text/latex": "$\\displaystyle [ACT2] \\cdot [ACT4] \\cdot [REP1]$",
            "text/plain": [
              "<IPython.core.display.Math object>"
            ]
          },
          "metadata": {
            "tags": []
          }
        },
        {
          "output_type": "display_data",
          "data": {
            "text/latex": "$\\displaystyle [ACT2] \\cdot [ACT4] \\cdot [REP1] \\cdot [RNA_{pol}]$",
            "text/plain": [
              "<IPython.core.display.Math object>"
            ]
          },
          "metadata": {
            "tags": []
          }
        },
        {
          "output_type": "display_data",
          "data": {
            "text/latex": "$\\displaystyle [ACT2] \\cdot [ACT4] \\cdot [REP2]$",
            "text/plain": [
              "<IPython.core.display.Math object>"
            ]
          },
          "metadata": {
            "tags": []
          }
        },
        {
          "output_type": "display_data",
          "data": {
            "text/latex": "$\\displaystyle [ACT2] \\cdot [ACT4] \\cdot [REP2] \\cdot [RNA_{pol}]$",
            "text/plain": [
              "<IPython.core.display.Math object>"
            ]
          },
          "metadata": {
            "tags": []
          }
        },
        {
          "output_type": "display_data",
          "data": {
            "text/latex": "$\\displaystyle [ACT2] \\cdot [ACT4] \\cdot [REP3]$",
            "text/plain": [
              "<IPython.core.display.Math object>"
            ]
          },
          "metadata": {
            "tags": []
          }
        },
        {
          "output_type": "display_data",
          "data": {
            "text/latex": "$\\displaystyle [ACT2] \\cdot [ACT4] \\cdot [REP3] \\cdot [RNA_{pol}]$",
            "text/plain": [
              "<IPython.core.display.Math object>"
            ]
          },
          "metadata": {
            "tags": []
          }
        },
        {
          "output_type": "display_data",
          "data": {
            "text/latex": "$\\displaystyle [ACT2] \\cdot [REP1] \\cdot [REP2]$",
            "text/plain": [
              "<IPython.core.display.Math object>"
            ]
          },
          "metadata": {
            "tags": []
          }
        },
        {
          "output_type": "display_data",
          "data": {
            "text/latex": "$\\displaystyle [ACT2] \\cdot [REP1] \\cdot [REP2] \\cdot [RNA_{pol}]$",
            "text/plain": [
              "<IPython.core.display.Math object>"
            ]
          },
          "metadata": {
            "tags": []
          }
        },
        {
          "output_type": "display_data",
          "data": {
            "text/latex": "$\\displaystyle [ACT2] \\cdot [REP1] \\cdot [REP3]$",
            "text/plain": [
              "<IPython.core.display.Math object>"
            ]
          },
          "metadata": {
            "tags": []
          }
        },
        {
          "output_type": "display_data",
          "data": {
            "text/latex": "$\\displaystyle [ACT2] \\cdot [REP1] \\cdot [REP3] \\cdot [RNA_{pol}]$",
            "text/plain": [
              "<IPython.core.display.Math object>"
            ]
          },
          "metadata": {
            "tags": []
          }
        },
        {
          "output_type": "display_data",
          "data": {
            "text/latex": "$\\displaystyle [ACT2] \\cdot [REP2] \\cdot [REP3]$",
            "text/plain": [
              "<IPython.core.display.Math object>"
            ]
          },
          "metadata": {
            "tags": []
          }
        },
        {
          "output_type": "display_data",
          "data": {
            "text/latex": "$\\displaystyle [ACT2] \\cdot [REP2] \\cdot [REP3] \\cdot [RNA_{pol}]$",
            "text/plain": [
              "<IPython.core.display.Math object>"
            ]
          },
          "metadata": {
            "tags": []
          }
        },
        {
          "output_type": "display_data",
          "data": {
            "text/latex": "$\\displaystyle [ACT3] \\cdot [ACT4] \\cdot [REP1]$",
            "text/plain": [
              "<IPython.core.display.Math object>"
            ]
          },
          "metadata": {
            "tags": []
          }
        },
        {
          "output_type": "display_data",
          "data": {
            "text/latex": "$\\displaystyle [ACT3] \\cdot [ACT4] \\cdot [REP1] \\cdot [RNA_{pol}]$",
            "text/plain": [
              "<IPython.core.display.Math object>"
            ]
          },
          "metadata": {
            "tags": []
          }
        },
        {
          "output_type": "display_data",
          "data": {
            "text/latex": "$\\displaystyle [ACT3] \\cdot [ACT4] \\cdot [REP2]$",
            "text/plain": [
              "<IPython.core.display.Math object>"
            ]
          },
          "metadata": {
            "tags": []
          }
        },
        {
          "output_type": "display_data",
          "data": {
            "text/latex": "$\\displaystyle [ACT3] \\cdot [ACT4] \\cdot [REP2] \\cdot [RNA_{pol}]$",
            "text/plain": [
              "<IPython.core.display.Math object>"
            ]
          },
          "metadata": {
            "tags": []
          }
        },
        {
          "output_type": "display_data",
          "data": {
            "text/latex": "$\\displaystyle [ACT3] \\cdot [ACT4] \\cdot [REP3]$",
            "text/plain": [
              "<IPython.core.display.Math object>"
            ]
          },
          "metadata": {
            "tags": []
          }
        },
        {
          "output_type": "display_data",
          "data": {
            "text/latex": "$\\displaystyle [ACT3] \\cdot [ACT4] \\cdot [REP3] \\cdot [RNA_{pol}]$",
            "text/plain": [
              "<IPython.core.display.Math object>"
            ]
          },
          "metadata": {
            "tags": []
          }
        },
        {
          "output_type": "display_data",
          "data": {
            "text/latex": "$\\displaystyle [ACT3] \\cdot [REP1] \\cdot [REP2]$",
            "text/plain": [
              "<IPython.core.display.Math object>"
            ]
          },
          "metadata": {
            "tags": []
          }
        },
        {
          "output_type": "display_data",
          "data": {
            "text/latex": "$\\displaystyle [ACT3] \\cdot [REP1] \\cdot [REP2] \\cdot [RNA_{pol}]$",
            "text/plain": [
              "<IPython.core.display.Math object>"
            ]
          },
          "metadata": {
            "tags": []
          }
        },
        {
          "output_type": "display_data",
          "data": {
            "text/latex": "$\\displaystyle [ACT3] \\cdot [REP1] \\cdot [REP3]$",
            "text/plain": [
              "<IPython.core.display.Math object>"
            ]
          },
          "metadata": {
            "tags": []
          }
        },
        {
          "output_type": "display_data",
          "data": {
            "text/latex": "$\\displaystyle [ACT3] \\cdot [REP1] \\cdot [REP3] \\cdot [RNA_{pol}]$",
            "text/plain": [
              "<IPython.core.display.Math object>"
            ]
          },
          "metadata": {
            "tags": []
          }
        },
        {
          "output_type": "display_data",
          "data": {
            "text/latex": "$\\displaystyle [ACT3] \\cdot [REP2] \\cdot [REP3]$",
            "text/plain": [
              "<IPython.core.display.Math object>"
            ]
          },
          "metadata": {
            "tags": []
          }
        },
        {
          "output_type": "display_data",
          "data": {
            "text/latex": "$\\displaystyle [ACT3] \\cdot [REP2] \\cdot [REP3] \\cdot [RNA_{pol}]$",
            "text/plain": [
              "<IPython.core.display.Math object>"
            ]
          },
          "metadata": {
            "tags": []
          }
        },
        {
          "output_type": "display_data",
          "data": {
            "text/latex": "$\\displaystyle [ACT4] \\cdot [REP1] \\cdot [REP2]$",
            "text/plain": [
              "<IPython.core.display.Math object>"
            ]
          },
          "metadata": {
            "tags": []
          }
        },
        {
          "output_type": "display_data",
          "data": {
            "text/latex": "$\\displaystyle [ACT4] \\cdot [REP1] \\cdot [REP2] \\cdot [RNA_{pol}]$",
            "text/plain": [
              "<IPython.core.display.Math object>"
            ]
          },
          "metadata": {
            "tags": []
          }
        },
        {
          "output_type": "display_data",
          "data": {
            "text/latex": "$\\displaystyle [ACT4] \\cdot [REP1] \\cdot [REP3]$",
            "text/plain": [
              "<IPython.core.display.Math object>"
            ]
          },
          "metadata": {
            "tags": []
          }
        },
        {
          "output_type": "display_data",
          "data": {
            "text/latex": "$\\displaystyle [ACT4] \\cdot [REP1] \\cdot [REP3] \\cdot [RNA_{pol}]$",
            "text/plain": [
              "<IPython.core.display.Math object>"
            ]
          },
          "metadata": {
            "tags": []
          }
        },
        {
          "output_type": "display_data",
          "data": {
            "text/latex": "$\\displaystyle [ACT4] \\cdot [REP2] \\cdot [REP3]$",
            "text/plain": [
              "<IPython.core.display.Math object>"
            ]
          },
          "metadata": {
            "tags": []
          }
        },
        {
          "output_type": "display_data",
          "data": {
            "text/latex": "$\\displaystyle [ACT4] \\cdot [REP2] \\cdot [REP3] \\cdot [RNA_{pol}]$",
            "text/plain": [
              "<IPython.core.display.Math object>"
            ]
          },
          "metadata": {
            "tags": []
          }
        },
        {
          "output_type": "display_data",
          "data": {
            "text/latex": "$\\displaystyle [REP1] \\cdot [REP2] \\cdot [REP3]$",
            "text/plain": [
              "<IPython.core.display.Math object>"
            ]
          },
          "metadata": {
            "tags": []
          }
        },
        {
          "output_type": "display_data",
          "data": {
            "text/latex": "$\\displaystyle [REP1] \\cdot [REP2] \\cdot [REP3] \\cdot [RNA_{pol}]$",
            "text/plain": [
              "<IPython.core.display.Math object>"
            ]
          },
          "metadata": {
            "tags": []
          }
        },
        {
          "output_type": "display_data",
          "data": {
            "text/latex": "$\\displaystyle [ACT1] \\cdot [ACT2] \\cdot [ACT3] \\cdot [ACT4]$",
            "text/plain": [
              "<IPython.core.display.Math object>"
            ]
          },
          "metadata": {
            "tags": []
          }
        },
        {
          "output_type": "display_data",
          "data": {
            "text/latex": "$\\displaystyle [ACT1] \\cdot [ACT2] \\cdot [ACT3] \\cdot [ACT4] \\cdot [RNA_{pol}]$",
            "text/plain": [
              "<IPython.core.display.Math object>"
            ]
          },
          "metadata": {
            "tags": []
          }
        },
        {
          "output_type": "display_data",
          "data": {
            "text/latex": "$\\displaystyle [ACT1] \\cdot [ACT2] \\cdot [ACT3] \\cdot [REP1]$",
            "text/plain": [
              "<IPython.core.display.Math object>"
            ]
          },
          "metadata": {
            "tags": []
          }
        },
        {
          "output_type": "display_data",
          "data": {
            "text/latex": "$\\displaystyle [ACT1] \\cdot [ACT2] \\cdot [ACT3] \\cdot [REP1] \\cdot [RNA_{pol}]$",
            "text/plain": [
              "<IPython.core.display.Math object>"
            ]
          },
          "metadata": {
            "tags": []
          }
        },
        {
          "output_type": "display_data",
          "data": {
            "text/latex": "$\\displaystyle [ACT1] \\cdot [ACT2] \\cdot [ACT3] \\cdot [REP2]$",
            "text/plain": [
              "<IPython.core.display.Math object>"
            ]
          },
          "metadata": {
            "tags": []
          }
        },
        {
          "output_type": "display_data",
          "data": {
            "text/latex": "$\\displaystyle [ACT1] \\cdot [ACT2] \\cdot [ACT3] \\cdot [REP2] \\cdot [RNA_{pol}]$",
            "text/plain": [
              "<IPython.core.display.Math object>"
            ]
          },
          "metadata": {
            "tags": []
          }
        },
        {
          "output_type": "display_data",
          "data": {
            "text/latex": "$\\displaystyle [ACT1] \\cdot [ACT2] \\cdot [ACT3] \\cdot [REP3]$",
            "text/plain": [
              "<IPython.core.display.Math object>"
            ]
          },
          "metadata": {
            "tags": []
          }
        },
        {
          "output_type": "display_data",
          "data": {
            "text/latex": "$\\displaystyle [ACT1] \\cdot [ACT2] \\cdot [ACT3] \\cdot [REP3] \\cdot [RNA_{pol}]$",
            "text/plain": [
              "<IPython.core.display.Math object>"
            ]
          },
          "metadata": {
            "tags": []
          }
        },
        {
          "output_type": "display_data",
          "data": {
            "text/latex": "$\\displaystyle [ACT1] \\cdot [ACT2] \\cdot [ACT4] \\cdot [REP1]$",
            "text/plain": [
              "<IPython.core.display.Math object>"
            ]
          },
          "metadata": {
            "tags": []
          }
        },
        {
          "output_type": "display_data",
          "data": {
            "text/latex": "$\\displaystyle [ACT1] \\cdot [ACT2] \\cdot [ACT4] \\cdot [REP1] \\cdot [RNA_{pol}]$",
            "text/plain": [
              "<IPython.core.display.Math object>"
            ]
          },
          "metadata": {
            "tags": []
          }
        },
        {
          "output_type": "display_data",
          "data": {
            "text/latex": "$\\displaystyle [ACT1] \\cdot [ACT2] \\cdot [ACT4] \\cdot [REP2]$",
            "text/plain": [
              "<IPython.core.display.Math object>"
            ]
          },
          "metadata": {
            "tags": []
          }
        },
        {
          "output_type": "display_data",
          "data": {
            "text/latex": "$\\displaystyle [ACT1] \\cdot [ACT2] \\cdot [ACT4] \\cdot [REP2] \\cdot [RNA_{pol}]$",
            "text/plain": [
              "<IPython.core.display.Math object>"
            ]
          },
          "metadata": {
            "tags": []
          }
        },
        {
          "output_type": "display_data",
          "data": {
            "text/latex": "$\\displaystyle [ACT1] \\cdot [ACT2] \\cdot [ACT4] \\cdot [REP3]$",
            "text/plain": [
              "<IPython.core.display.Math object>"
            ]
          },
          "metadata": {
            "tags": []
          }
        },
        {
          "output_type": "display_data",
          "data": {
            "text/latex": "$\\displaystyle [ACT1] \\cdot [ACT2] \\cdot [ACT4] \\cdot [REP3] \\cdot [RNA_{pol}]$",
            "text/plain": [
              "<IPython.core.display.Math object>"
            ]
          },
          "metadata": {
            "tags": []
          }
        },
        {
          "output_type": "display_data",
          "data": {
            "text/latex": "$\\displaystyle [ACT1] \\cdot [ACT2] \\cdot [REP1] \\cdot [REP2]$",
            "text/plain": [
              "<IPython.core.display.Math object>"
            ]
          },
          "metadata": {
            "tags": []
          }
        },
        {
          "output_type": "display_data",
          "data": {
            "text/latex": "$\\displaystyle [ACT1] \\cdot [ACT2] \\cdot [REP1] \\cdot [REP2] \\cdot [RNA_{pol}]$",
            "text/plain": [
              "<IPython.core.display.Math object>"
            ]
          },
          "metadata": {
            "tags": []
          }
        },
        {
          "output_type": "display_data",
          "data": {
            "text/latex": "$\\displaystyle [ACT1] \\cdot [ACT2] \\cdot [REP1] \\cdot [REP3]$",
            "text/plain": [
              "<IPython.core.display.Math object>"
            ]
          },
          "metadata": {
            "tags": []
          }
        },
        {
          "output_type": "display_data",
          "data": {
            "text/latex": "$\\displaystyle [ACT1] \\cdot [ACT2] \\cdot [REP1] \\cdot [REP3] \\cdot [RNA_{pol}]$",
            "text/plain": [
              "<IPython.core.display.Math object>"
            ]
          },
          "metadata": {
            "tags": []
          }
        },
        {
          "output_type": "display_data",
          "data": {
            "text/latex": "$\\displaystyle [ACT1] \\cdot [ACT2] \\cdot [REP2] \\cdot [REP3]$",
            "text/plain": [
              "<IPython.core.display.Math object>"
            ]
          },
          "metadata": {
            "tags": []
          }
        },
        {
          "output_type": "display_data",
          "data": {
            "text/latex": "$\\displaystyle [ACT1] \\cdot [ACT2] \\cdot [REP2] \\cdot [REP3] \\cdot [RNA_{pol}]$",
            "text/plain": [
              "<IPython.core.display.Math object>"
            ]
          },
          "metadata": {
            "tags": []
          }
        },
        {
          "output_type": "display_data",
          "data": {
            "text/latex": "$\\displaystyle [ACT1] \\cdot [ACT3] \\cdot [ACT4] \\cdot [REP1]$",
            "text/plain": [
              "<IPython.core.display.Math object>"
            ]
          },
          "metadata": {
            "tags": []
          }
        },
        {
          "output_type": "display_data",
          "data": {
            "text/latex": "$\\displaystyle [ACT1] \\cdot [ACT3] \\cdot [ACT4] \\cdot [REP1] \\cdot [RNA_{pol}]$",
            "text/plain": [
              "<IPython.core.display.Math object>"
            ]
          },
          "metadata": {
            "tags": []
          }
        },
        {
          "output_type": "display_data",
          "data": {
            "text/latex": "$\\displaystyle [ACT1] \\cdot [ACT3] \\cdot [ACT4] \\cdot [REP2]$",
            "text/plain": [
              "<IPython.core.display.Math object>"
            ]
          },
          "metadata": {
            "tags": []
          }
        },
        {
          "output_type": "display_data",
          "data": {
            "text/latex": "$\\displaystyle [ACT1] \\cdot [ACT3] \\cdot [ACT4] \\cdot [REP2] \\cdot [RNA_{pol}]$",
            "text/plain": [
              "<IPython.core.display.Math object>"
            ]
          },
          "metadata": {
            "tags": []
          }
        },
        {
          "output_type": "display_data",
          "data": {
            "text/latex": "$\\displaystyle [ACT1] \\cdot [ACT3] \\cdot [ACT4] \\cdot [REP3]$",
            "text/plain": [
              "<IPython.core.display.Math object>"
            ]
          },
          "metadata": {
            "tags": []
          }
        },
        {
          "output_type": "display_data",
          "data": {
            "text/latex": "$\\displaystyle [ACT1] \\cdot [ACT3] \\cdot [ACT4] \\cdot [REP3] \\cdot [RNA_{pol}]$",
            "text/plain": [
              "<IPython.core.display.Math object>"
            ]
          },
          "metadata": {
            "tags": []
          }
        },
        {
          "output_type": "display_data",
          "data": {
            "text/latex": "$\\displaystyle [ACT1] \\cdot [ACT3] \\cdot [REP1] \\cdot [REP2]$",
            "text/plain": [
              "<IPython.core.display.Math object>"
            ]
          },
          "metadata": {
            "tags": []
          }
        },
        {
          "output_type": "display_data",
          "data": {
            "text/latex": "$\\displaystyle [ACT1] \\cdot [ACT3] \\cdot [REP1] \\cdot [REP2] \\cdot [RNA_{pol}]$",
            "text/plain": [
              "<IPython.core.display.Math object>"
            ]
          },
          "metadata": {
            "tags": []
          }
        },
        {
          "output_type": "display_data",
          "data": {
            "text/latex": "$\\displaystyle [ACT1] \\cdot [ACT3] \\cdot [REP1] \\cdot [REP3]$",
            "text/plain": [
              "<IPython.core.display.Math object>"
            ]
          },
          "metadata": {
            "tags": []
          }
        },
        {
          "output_type": "display_data",
          "data": {
            "text/latex": "$\\displaystyle [ACT1] \\cdot [ACT3] \\cdot [REP1] \\cdot [REP3] \\cdot [RNA_{pol}]$",
            "text/plain": [
              "<IPython.core.display.Math object>"
            ]
          },
          "metadata": {
            "tags": []
          }
        },
        {
          "output_type": "display_data",
          "data": {
            "text/latex": "$\\displaystyle [ACT1] \\cdot [ACT3] \\cdot [REP2] \\cdot [REP3]$",
            "text/plain": [
              "<IPython.core.display.Math object>"
            ]
          },
          "metadata": {
            "tags": []
          }
        },
        {
          "output_type": "display_data",
          "data": {
            "text/latex": "$\\displaystyle [ACT1] \\cdot [ACT3] \\cdot [REP2] \\cdot [REP3] \\cdot [RNA_{pol}]$",
            "text/plain": [
              "<IPython.core.display.Math object>"
            ]
          },
          "metadata": {
            "tags": []
          }
        },
        {
          "output_type": "display_data",
          "data": {
            "text/latex": "$\\displaystyle [ACT1] \\cdot [ACT4] \\cdot [REP1] \\cdot [REP2]$",
            "text/plain": [
              "<IPython.core.display.Math object>"
            ]
          },
          "metadata": {
            "tags": []
          }
        },
        {
          "output_type": "display_data",
          "data": {
            "text/latex": "$\\displaystyle [ACT1] \\cdot [ACT4] \\cdot [REP1] \\cdot [REP2] \\cdot [RNA_{pol}]$",
            "text/plain": [
              "<IPython.core.display.Math object>"
            ]
          },
          "metadata": {
            "tags": []
          }
        },
        {
          "output_type": "display_data",
          "data": {
            "text/latex": "$\\displaystyle [ACT1] \\cdot [ACT4] \\cdot [REP1] \\cdot [REP3]$",
            "text/plain": [
              "<IPython.core.display.Math object>"
            ]
          },
          "metadata": {
            "tags": []
          }
        },
        {
          "output_type": "display_data",
          "data": {
            "text/latex": "$\\displaystyle [ACT1] \\cdot [ACT4] \\cdot [REP1] \\cdot [REP3] \\cdot [RNA_{pol}]$",
            "text/plain": [
              "<IPython.core.display.Math object>"
            ]
          },
          "metadata": {
            "tags": []
          }
        },
        {
          "output_type": "display_data",
          "data": {
            "text/latex": "$\\displaystyle [ACT1] \\cdot [ACT4] \\cdot [REP2] \\cdot [REP3]$",
            "text/plain": [
              "<IPython.core.display.Math object>"
            ]
          },
          "metadata": {
            "tags": []
          }
        },
        {
          "output_type": "display_data",
          "data": {
            "text/latex": "$\\displaystyle [ACT1] \\cdot [ACT4] \\cdot [REP2] \\cdot [REP3] \\cdot [RNA_{pol}]$",
            "text/plain": [
              "<IPython.core.display.Math object>"
            ]
          },
          "metadata": {
            "tags": []
          }
        },
        {
          "output_type": "display_data",
          "data": {
            "text/latex": "$\\displaystyle [ACT1] \\cdot [REP1] \\cdot [REP2] \\cdot [REP3]$",
            "text/plain": [
              "<IPython.core.display.Math object>"
            ]
          },
          "metadata": {
            "tags": []
          }
        },
        {
          "output_type": "display_data",
          "data": {
            "text/latex": "$\\displaystyle [ACT1] \\cdot [REP1] \\cdot [REP2] \\cdot [REP3] \\cdot [RNA_{pol}]$",
            "text/plain": [
              "<IPython.core.display.Math object>"
            ]
          },
          "metadata": {
            "tags": []
          }
        },
        {
          "output_type": "display_data",
          "data": {
            "text/latex": "$\\displaystyle [ACT2] \\cdot [ACT3] \\cdot [ACT4] \\cdot [REP1]$",
            "text/plain": [
              "<IPython.core.display.Math object>"
            ]
          },
          "metadata": {
            "tags": []
          }
        },
        {
          "output_type": "display_data",
          "data": {
            "text/latex": "$\\displaystyle [ACT2] \\cdot [ACT3] \\cdot [ACT4] \\cdot [REP1] \\cdot [RNA_{pol}]$",
            "text/plain": [
              "<IPython.core.display.Math object>"
            ]
          },
          "metadata": {
            "tags": []
          }
        },
        {
          "output_type": "display_data",
          "data": {
            "text/latex": "$\\displaystyle [ACT2] \\cdot [ACT3] \\cdot [ACT4] \\cdot [REP2]$",
            "text/plain": [
              "<IPython.core.display.Math object>"
            ]
          },
          "metadata": {
            "tags": []
          }
        },
        {
          "output_type": "display_data",
          "data": {
            "text/latex": "$\\displaystyle [ACT2] \\cdot [ACT3] \\cdot [ACT4] \\cdot [REP2] \\cdot [RNA_{pol}]$",
            "text/plain": [
              "<IPython.core.display.Math object>"
            ]
          },
          "metadata": {
            "tags": []
          }
        },
        {
          "output_type": "display_data",
          "data": {
            "text/latex": "$\\displaystyle [ACT2] \\cdot [ACT3] \\cdot [ACT4] \\cdot [REP3]$",
            "text/plain": [
              "<IPython.core.display.Math object>"
            ]
          },
          "metadata": {
            "tags": []
          }
        },
        {
          "output_type": "display_data",
          "data": {
            "text/latex": "$\\displaystyle [ACT2] \\cdot [ACT3] \\cdot [ACT4] \\cdot [REP3] \\cdot [RNA_{pol}]$",
            "text/plain": [
              "<IPython.core.display.Math object>"
            ]
          },
          "metadata": {
            "tags": []
          }
        },
        {
          "output_type": "display_data",
          "data": {
            "text/latex": "$\\displaystyle [ACT2] \\cdot [ACT3] \\cdot [REP1] \\cdot [REP2]$",
            "text/plain": [
              "<IPython.core.display.Math object>"
            ]
          },
          "metadata": {
            "tags": []
          }
        },
        {
          "output_type": "display_data",
          "data": {
            "text/latex": "$\\displaystyle [ACT2] \\cdot [ACT3] \\cdot [REP1] \\cdot [REP2] \\cdot [RNA_{pol}]$",
            "text/plain": [
              "<IPython.core.display.Math object>"
            ]
          },
          "metadata": {
            "tags": []
          }
        },
        {
          "output_type": "display_data",
          "data": {
            "text/latex": "$\\displaystyle [ACT2] \\cdot [ACT3] \\cdot [REP1] \\cdot [REP3]$",
            "text/plain": [
              "<IPython.core.display.Math object>"
            ]
          },
          "metadata": {
            "tags": []
          }
        },
        {
          "output_type": "display_data",
          "data": {
            "text/latex": "$\\displaystyle [ACT2] \\cdot [ACT3] \\cdot [REP1] \\cdot [REP3] \\cdot [RNA_{pol}]$",
            "text/plain": [
              "<IPython.core.display.Math object>"
            ]
          },
          "metadata": {
            "tags": []
          }
        },
        {
          "output_type": "display_data",
          "data": {
            "text/latex": "$\\displaystyle [ACT2] \\cdot [ACT3] \\cdot [REP2] \\cdot [REP3]$",
            "text/plain": [
              "<IPython.core.display.Math object>"
            ]
          },
          "metadata": {
            "tags": []
          }
        },
        {
          "output_type": "display_data",
          "data": {
            "text/latex": "$\\displaystyle [ACT2] \\cdot [ACT3] \\cdot [REP2] \\cdot [REP3] \\cdot [RNA_{pol}]$",
            "text/plain": [
              "<IPython.core.display.Math object>"
            ]
          },
          "metadata": {
            "tags": []
          }
        },
        {
          "output_type": "display_data",
          "data": {
            "text/latex": "$\\displaystyle [ACT2] \\cdot [ACT4] \\cdot [REP1] \\cdot [REP2]$",
            "text/plain": [
              "<IPython.core.display.Math object>"
            ]
          },
          "metadata": {
            "tags": []
          }
        },
        {
          "output_type": "display_data",
          "data": {
            "text/latex": "$\\displaystyle [ACT2] \\cdot [ACT4] \\cdot [REP1] \\cdot [REP2] \\cdot [RNA_{pol}]$",
            "text/plain": [
              "<IPython.core.display.Math object>"
            ]
          },
          "metadata": {
            "tags": []
          }
        },
        {
          "output_type": "display_data",
          "data": {
            "text/latex": "$\\displaystyle [ACT2] \\cdot [ACT4] \\cdot [REP1] \\cdot [REP3]$",
            "text/plain": [
              "<IPython.core.display.Math object>"
            ]
          },
          "metadata": {
            "tags": []
          }
        },
        {
          "output_type": "display_data",
          "data": {
            "text/latex": "$\\displaystyle [ACT2] \\cdot [ACT4] \\cdot [REP1] \\cdot [REP3] \\cdot [RNA_{pol}]$",
            "text/plain": [
              "<IPython.core.display.Math object>"
            ]
          },
          "metadata": {
            "tags": []
          }
        },
        {
          "output_type": "display_data",
          "data": {
            "text/latex": "$\\displaystyle [ACT2] \\cdot [ACT4] \\cdot [REP2] \\cdot [REP3]$",
            "text/plain": [
              "<IPython.core.display.Math object>"
            ]
          },
          "metadata": {
            "tags": []
          }
        },
        {
          "output_type": "display_data",
          "data": {
            "text/latex": "$\\displaystyle [ACT2] \\cdot [ACT4] \\cdot [REP2] \\cdot [REP3] \\cdot [RNA_{pol}]$",
            "text/plain": [
              "<IPython.core.display.Math object>"
            ]
          },
          "metadata": {
            "tags": []
          }
        },
        {
          "output_type": "display_data",
          "data": {
            "text/latex": "$\\displaystyle [ACT2] \\cdot [REP1] \\cdot [REP2] \\cdot [REP3]$",
            "text/plain": [
              "<IPython.core.display.Math object>"
            ]
          },
          "metadata": {
            "tags": []
          }
        },
        {
          "output_type": "display_data",
          "data": {
            "text/latex": "$\\displaystyle [ACT2] \\cdot [REP1] \\cdot [REP2] \\cdot [REP3] \\cdot [RNA_{pol}]$",
            "text/plain": [
              "<IPython.core.display.Math object>"
            ]
          },
          "metadata": {
            "tags": []
          }
        },
        {
          "output_type": "display_data",
          "data": {
            "text/latex": "$\\displaystyle [ACT3] \\cdot [ACT4] \\cdot [REP1] \\cdot [REP2]$",
            "text/plain": [
              "<IPython.core.display.Math object>"
            ]
          },
          "metadata": {
            "tags": []
          }
        },
        {
          "output_type": "display_data",
          "data": {
            "text/latex": "$\\displaystyle [ACT3] \\cdot [ACT4] \\cdot [REP1] \\cdot [REP2] \\cdot [RNA_{pol}]$",
            "text/plain": [
              "<IPython.core.display.Math object>"
            ]
          },
          "metadata": {
            "tags": []
          }
        },
        {
          "output_type": "display_data",
          "data": {
            "text/latex": "$\\displaystyle [ACT3] \\cdot [ACT4] \\cdot [REP1] \\cdot [REP3]$",
            "text/plain": [
              "<IPython.core.display.Math object>"
            ]
          },
          "metadata": {
            "tags": []
          }
        },
        {
          "output_type": "display_data",
          "data": {
            "text/latex": "$\\displaystyle [ACT3] \\cdot [ACT4] \\cdot [REP1] \\cdot [REP3] \\cdot [RNA_{pol}]$",
            "text/plain": [
              "<IPython.core.display.Math object>"
            ]
          },
          "metadata": {
            "tags": []
          }
        },
        {
          "output_type": "display_data",
          "data": {
            "text/latex": "$\\displaystyle [ACT3] \\cdot [ACT4] \\cdot [REP2] \\cdot [REP3]$",
            "text/plain": [
              "<IPython.core.display.Math object>"
            ]
          },
          "metadata": {
            "tags": []
          }
        },
        {
          "output_type": "display_data",
          "data": {
            "text/latex": "$\\displaystyle [ACT3] \\cdot [ACT4] \\cdot [REP2] \\cdot [REP3] \\cdot [RNA_{pol}]$",
            "text/plain": [
              "<IPython.core.display.Math object>"
            ]
          },
          "metadata": {
            "tags": []
          }
        },
        {
          "output_type": "display_data",
          "data": {
            "text/latex": "$\\displaystyle [ACT3] \\cdot [REP1] \\cdot [REP2] \\cdot [REP3]$",
            "text/plain": [
              "<IPython.core.display.Math object>"
            ]
          },
          "metadata": {
            "tags": []
          }
        },
        {
          "output_type": "display_data",
          "data": {
            "text/latex": "$\\displaystyle [ACT3] \\cdot [REP1] \\cdot [REP2] \\cdot [REP3] \\cdot [RNA_{pol}]$",
            "text/plain": [
              "<IPython.core.display.Math object>"
            ]
          },
          "metadata": {
            "tags": []
          }
        },
        {
          "output_type": "display_data",
          "data": {
            "text/latex": "$\\displaystyle [ACT4] \\cdot [REP1] \\cdot [REP2] \\cdot [REP3]$",
            "text/plain": [
              "<IPython.core.display.Math object>"
            ]
          },
          "metadata": {
            "tags": []
          }
        },
        {
          "output_type": "display_data",
          "data": {
            "text/latex": "$\\displaystyle [ACT4] \\cdot [REP1] \\cdot [REP2] \\cdot [REP3] \\cdot [RNA_{pol}]$",
            "text/plain": [
              "<IPython.core.display.Math object>"
            ]
          },
          "metadata": {
            "tags": []
          }
        },
        {
          "output_type": "display_data",
          "data": {
            "text/latex": "$\\displaystyle [ACT1] \\cdot [ACT2] \\cdot [ACT3] \\cdot [ACT4] \\cdot [REP1]$",
            "text/plain": [
              "<IPython.core.display.Math object>"
            ]
          },
          "metadata": {
            "tags": []
          }
        },
        {
          "output_type": "display_data",
          "data": {
            "text/latex": "$\\displaystyle [ACT1] \\cdot [ACT2] \\cdot [ACT3] \\cdot [ACT4] \\cdot [REP1] \\cdot [RNA_{pol}]$",
            "text/plain": [
              "<IPython.core.display.Math object>"
            ]
          },
          "metadata": {
            "tags": []
          }
        },
        {
          "output_type": "display_data",
          "data": {
            "text/latex": "$\\displaystyle [ACT1] \\cdot [ACT2] \\cdot [ACT3] \\cdot [ACT4] \\cdot [REP2]$",
            "text/plain": [
              "<IPython.core.display.Math object>"
            ]
          },
          "metadata": {
            "tags": []
          }
        },
        {
          "output_type": "display_data",
          "data": {
            "text/latex": "$\\displaystyle [ACT1] \\cdot [ACT2] \\cdot [ACT3] \\cdot [ACT4] \\cdot [REP2] \\cdot [RNA_{pol}]$",
            "text/plain": [
              "<IPython.core.display.Math object>"
            ]
          },
          "metadata": {
            "tags": []
          }
        },
        {
          "output_type": "display_data",
          "data": {
            "text/latex": "$\\displaystyle [ACT1] \\cdot [ACT2] \\cdot [ACT3] \\cdot [ACT4] \\cdot [REP3]$",
            "text/plain": [
              "<IPython.core.display.Math object>"
            ]
          },
          "metadata": {
            "tags": []
          }
        },
        {
          "output_type": "display_data",
          "data": {
            "text/latex": "$\\displaystyle [ACT1] \\cdot [ACT2] \\cdot [ACT3] \\cdot [ACT4] \\cdot [REP3] \\cdot [RNA_{pol}]$",
            "text/plain": [
              "<IPython.core.display.Math object>"
            ]
          },
          "metadata": {
            "tags": []
          }
        },
        {
          "output_type": "display_data",
          "data": {
            "text/latex": "$\\displaystyle [ACT1] \\cdot [ACT2] \\cdot [ACT3] \\cdot [REP1] \\cdot [REP2]$",
            "text/plain": [
              "<IPython.core.display.Math object>"
            ]
          },
          "metadata": {
            "tags": []
          }
        },
        {
          "output_type": "display_data",
          "data": {
            "text/latex": "$\\displaystyle [ACT1] \\cdot [ACT2] \\cdot [ACT3] \\cdot [REP1] \\cdot [REP2] \\cdot [RNA_{pol}]$",
            "text/plain": [
              "<IPython.core.display.Math object>"
            ]
          },
          "metadata": {
            "tags": []
          }
        },
        {
          "output_type": "display_data",
          "data": {
            "text/latex": "$\\displaystyle [ACT1] \\cdot [ACT2] \\cdot [ACT3] \\cdot [REP1] \\cdot [REP3]$",
            "text/plain": [
              "<IPython.core.display.Math object>"
            ]
          },
          "metadata": {
            "tags": []
          }
        },
        {
          "output_type": "display_data",
          "data": {
            "text/latex": "$\\displaystyle [ACT1] \\cdot [ACT2] \\cdot [ACT3] \\cdot [REP1] \\cdot [REP3] \\cdot [RNA_{pol}]$",
            "text/plain": [
              "<IPython.core.display.Math object>"
            ]
          },
          "metadata": {
            "tags": []
          }
        },
        {
          "output_type": "display_data",
          "data": {
            "text/latex": "$\\displaystyle [ACT1] \\cdot [ACT2] \\cdot [ACT3] \\cdot [REP2] \\cdot [REP3]$",
            "text/plain": [
              "<IPython.core.display.Math object>"
            ]
          },
          "metadata": {
            "tags": []
          }
        },
        {
          "output_type": "display_data",
          "data": {
            "text/latex": "$\\displaystyle [ACT1] \\cdot [ACT2] \\cdot [ACT3] \\cdot [REP2] \\cdot [REP3] \\cdot [RNA_{pol}]$",
            "text/plain": [
              "<IPython.core.display.Math object>"
            ]
          },
          "metadata": {
            "tags": []
          }
        },
        {
          "output_type": "display_data",
          "data": {
            "text/latex": "$\\displaystyle [ACT1] \\cdot [ACT2] \\cdot [ACT4] \\cdot [REP1] \\cdot [REP2]$",
            "text/plain": [
              "<IPython.core.display.Math object>"
            ]
          },
          "metadata": {
            "tags": []
          }
        },
        {
          "output_type": "display_data",
          "data": {
            "text/latex": "$\\displaystyle [ACT1] \\cdot [ACT2] \\cdot [ACT4] \\cdot [REP1] \\cdot [REP2] \\cdot [RNA_{pol}]$",
            "text/plain": [
              "<IPython.core.display.Math object>"
            ]
          },
          "metadata": {
            "tags": []
          }
        },
        {
          "output_type": "display_data",
          "data": {
            "text/latex": "$\\displaystyle [ACT1] \\cdot [ACT2] \\cdot [ACT4] \\cdot [REP1] \\cdot [REP3]$",
            "text/plain": [
              "<IPython.core.display.Math object>"
            ]
          },
          "metadata": {
            "tags": []
          }
        },
        {
          "output_type": "display_data",
          "data": {
            "text/latex": "$\\displaystyle [ACT1] \\cdot [ACT2] \\cdot [ACT4] \\cdot [REP1] \\cdot [REP3] \\cdot [RNA_{pol}]$",
            "text/plain": [
              "<IPython.core.display.Math object>"
            ]
          },
          "metadata": {
            "tags": []
          }
        },
        {
          "output_type": "display_data",
          "data": {
            "text/latex": "$\\displaystyle [ACT1] \\cdot [ACT2] \\cdot [ACT4] \\cdot [REP2] \\cdot [REP3]$",
            "text/plain": [
              "<IPython.core.display.Math object>"
            ]
          },
          "metadata": {
            "tags": []
          }
        },
        {
          "output_type": "display_data",
          "data": {
            "text/latex": "$\\displaystyle [ACT1] \\cdot [ACT2] \\cdot [ACT4] \\cdot [REP2] \\cdot [REP3] \\cdot [RNA_{pol}]$",
            "text/plain": [
              "<IPython.core.display.Math object>"
            ]
          },
          "metadata": {
            "tags": []
          }
        },
        {
          "output_type": "display_data",
          "data": {
            "text/latex": "$\\displaystyle [ACT1] \\cdot [ACT2] \\cdot [REP1] \\cdot [REP2] \\cdot [REP3]$",
            "text/plain": [
              "<IPython.core.display.Math object>"
            ]
          },
          "metadata": {
            "tags": []
          }
        },
        {
          "output_type": "display_data",
          "data": {
            "text/latex": "$\\displaystyle [ACT1] \\cdot [ACT2] \\cdot [REP1] \\cdot [REP2] \\cdot [REP3] \\cdot [RNA_{pol}]$",
            "text/plain": [
              "<IPython.core.display.Math object>"
            ]
          },
          "metadata": {
            "tags": []
          }
        },
        {
          "output_type": "display_data",
          "data": {
            "text/latex": "$\\displaystyle [ACT1] \\cdot [ACT3] \\cdot [ACT4] \\cdot [REP1] \\cdot [REP2]$",
            "text/plain": [
              "<IPython.core.display.Math object>"
            ]
          },
          "metadata": {
            "tags": []
          }
        },
        {
          "output_type": "display_data",
          "data": {
            "text/latex": "$\\displaystyle [ACT1] \\cdot [ACT3] \\cdot [ACT4] \\cdot [REP1] \\cdot [REP2] \\cdot [RNA_{pol}]$",
            "text/plain": [
              "<IPython.core.display.Math object>"
            ]
          },
          "metadata": {
            "tags": []
          }
        },
        {
          "output_type": "display_data",
          "data": {
            "text/latex": "$\\displaystyle [ACT1] \\cdot [ACT3] \\cdot [ACT4] \\cdot [REP1] \\cdot [REP3]$",
            "text/plain": [
              "<IPython.core.display.Math object>"
            ]
          },
          "metadata": {
            "tags": []
          }
        },
        {
          "output_type": "display_data",
          "data": {
            "text/latex": "$\\displaystyle [ACT1] \\cdot [ACT3] \\cdot [ACT4] \\cdot [REP1] \\cdot [REP3] \\cdot [RNA_{pol}]$",
            "text/plain": [
              "<IPython.core.display.Math object>"
            ]
          },
          "metadata": {
            "tags": []
          }
        },
        {
          "output_type": "display_data",
          "data": {
            "text/latex": "$\\displaystyle [ACT1] \\cdot [ACT3] \\cdot [ACT4] \\cdot [REP2] \\cdot [REP3]$",
            "text/plain": [
              "<IPython.core.display.Math object>"
            ]
          },
          "metadata": {
            "tags": []
          }
        },
        {
          "output_type": "display_data",
          "data": {
            "text/latex": "$\\displaystyle [ACT1] \\cdot [ACT3] \\cdot [ACT4] \\cdot [REP2] \\cdot [REP3] \\cdot [RNA_{pol}]$",
            "text/plain": [
              "<IPython.core.display.Math object>"
            ]
          },
          "metadata": {
            "tags": []
          }
        },
        {
          "output_type": "display_data",
          "data": {
            "text/latex": "$\\displaystyle [ACT1] \\cdot [ACT3] \\cdot [REP1] \\cdot [REP2] \\cdot [REP3]$",
            "text/plain": [
              "<IPython.core.display.Math object>"
            ]
          },
          "metadata": {
            "tags": []
          }
        },
        {
          "output_type": "display_data",
          "data": {
            "text/latex": "$\\displaystyle [ACT1] \\cdot [ACT3] \\cdot [REP1] \\cdot [REP2] \\cdot [REP3] \\cdot [RNA_{pol}]$",
            "text/plain": [
              "<IPython.core.display.Math object>"
            ]
          },
          "metadata": {
            "tags": []
          }
        },
        {
          "output_type": "display_data",
          "data": {
            "text/latex": "$\\displaystyle [ACT1] \\cdot [ACT4] \\cdot [REP1] \\cdot [REP2] \\cdot [REP3]$",
            "text/plain": [
              "<IPython.core.display.Math object>"
            ]
          },
          "metadata": {
            "tags": []
          }
        },
        {
          "output_type": "display_data",
          "data": {
            "text/latex": "$\\displaystyle [ACT1] \\cdot [ACT4] \\cdot [REP1] \\cdot [REP2] \\cdot [REP3] \\cdot [RNA_{pol}]$",
            "text/plain": [
              "<IPython.core.display.Math object>"
            ]
          },
          "metadata": {
            "tags": []
          }
        },
        {
          "output_type": "display_data",
          "data": {
            "text/latex": "$\\displaystyle [ACT2] \\cdot [ACT3] \\cdot [ACT4] \\cdot [REP1] \\cdot [REP2]$",
            "text/plain": [
              "<IPython.core.display.Math object>"
            ]
          },
          "metadata": {
            "tags": []
          }
        },
        {
          "output_type": "display_data",
          "data": {
            "text/latex": "$\\displaystyle [ACT2] \\cdot [ACT3] \\cdot [ACT4] \\cdot [REP1] \\cdot [REP2] \\cdot [RNA_{pol}]$",
            "text/plain": [
              "<IPython.core.display.Math object>"
            ]
          },
          "metadata": {
            "tags": []
          }
        },
        {
          "output_type": "display_data",
          "data": {
            "text/latex": "$\\displaystyle [ACT2] \\cdot [ACT3] \\cdot [ACT4] \\cdot [REP1] \\cdot [REP3]$",
            "text/plain": [
              "<IPython.core.display.Math object>"
            ]
          },
          "metadata": {
            "tags": []
          }
        },
        {
          "output_type": "display_data",
          "data": {
            "text/latex": "$\\displaystyle [ACT2] \\cdot [ACT3] \\cdot [ACT4] \\cdot [REP1] \\cdot [REP3] \\cdot [RNA_{pol}]$",
            "text/plain": [
              "<IPython.core.display.Math object>"
            ]
          },
          "metadata": {
            "tags": []
          }
        },
        {
          "output_type": "display_data",
          "data": {
            "text/latex": "$\\displaystyle [ACT2] \\cdot [ACT3] \\cdot [ACT4] \\cdot [REP2] \\cdot [REP3]$",
            "text/plain": [
              "<IPython.core.display.Math object>"
            ]
          },
          "metadata": {
            "tags": []
          }
        },
        {
          "output_type": "display_data",
          "data": {
            "text/latex": "$\\displaystyle [ACT2] \\cdot [ACT3] \\cdot [ACT4] \\cdot [REP2] \\cdot [REP3] \\cdot [RNA_{pol}]$",
            "text/plain": [
              "<IPython.core.display.Math object>"
            ]
          },
          "metadata": {
            "tags": []
          }
        },
        {
          "output_type": "display_data",
          "data": {
            "text/latex": "$\\displaystyle [ACT2] \\cdot [ACT3] \\cdot [REP1] \\cdot [REP2] \\cdot [REP3]$",
            "text/plain": [
              "<IPython.core.display.Math object>"
            ]
          },
          "metadata": {
            "tags": []
          }
        },
        {
          "output_type": "display_data",
          "data": {
            "text/latex": "$\\displaystyle [ACT2] \\cdot [ACT3] \\cdot [REP1] \\cdot [REP2] \\cdot [REP3] \\cdot [RNA_{pol}]$",
            "text/plain": [
              "<IPython.core.display.Math object>"
            ]
          },
          "metadata": {
            "tags": []
          }
        },
        {
          "output_type": "display_data",
          "data": {
            "text/latex": "$\\displaystyle [ACT2] \\cdot [ACT4] \\cdot [REP1] \\cdot [REP2] \\cdot [REP3]$",
            "text/plain": [
              "<IPython.core.display.Math object>"
            ]
          },
          "metadata": {
            "tags": []
          }
        },
        {
          "output_type": "display_data",
          "data": {
            "text/latex": "$\\displaystyle [ACT2] \\cdot [ACT4] \\cdot [REP1] \\cdot [REP2] \\cdot [REP3] \\cdot [RNA_{pol}]$",
            "text/plain": [
              "<IPython.core.display.Math object>"
            ]
          },
          "metadata": {
            "tags": []
          }
        },
        {
          "output_type": "display_data",
          "data": {
            "text/latex": "$\\displaystyle [ACT3] \\cdot [ACT4] \\cdot [REP1] \\cdot [REP2] \\cdot [REP3]$",
            "text/plain": [
              "<IPython.core.display.Math object>"
            ]
          },
          "metadata": {
            "tags": []
          }
        },
        {
          "output_type": "display_data",
          "data": {
            "text/latex": "$\\displaystyle [ACT3] \\cdot [ACT4] \\cdot [REP1] \\cdot [REP2] \\cdot [REP3] \\cdot [RNA_{pol}]$",
            "text/plain": [
              "<IPython.core.display.Math object>"
            ]
          },
          "metadata": {
            "tags": []
          }
        },
        {
          "output_type": "display_data",
          "data": {
            "text/latex": "$\\displaystyle [ACT1] \\cdot [ACT2] \\cdot [ACT3] \\cdot [ACT4] \\cdot [REP1] \\cdot [REP2]$",
            "text/plain": [
              "<IPython.core.display.Math object>"
            ]
          },
          "metadata": {
            "tags": []
          }
        },
        {
          "output_type": "display_data",
          "data": {
            "text/latex": "$\\displaystyle [ACT1] \\cdot [ACT2] \\cdot [ACT3] \\cdot [ACT4] \\cdot [REP1] \\cdot [REP2] \\cdot [RNA_{pol}]$",
            "text/plain": [
              "<IPython.core.display.Math object>"
            ]
          },
          "metadata": {
            "tags": []
          }
        },
        {
          "output_type": "display_data",
          "data": {
            "text/latex": "$\\displaystyle [ACT1] \\cdot [ACT2] \\cdot [ACT3] \\cdot [ACT4] \\cdot [REP1] \\cdot [REP3]$",
            "text/plain": [
              "<IPython.core.display.Math object>"
            ]
          },
          "metadata": {
            "tags": []
          }
        },
        {
          "output_type": "display_data",
          "data": {
            "text/latex": "$\\displaystyle [ACT1] \\cdot [ACT2] \\cdot [ACT3] \\cdot [ACT4] \\cdot [REP1] \\cdot [REP3] \\cdot [RNA_{pol}]$",
            "text/plain": [
              "<IPython.core.display.Math object>"
            ]
          },
          "metadata": {
            "tags": []
          }
        },
        {
          "output_type": "display_data",
          "data": {
            "text/latex": "$\\displaystyle [ACT1] \\cdot [ACT2] \\cdot [ACT3] \\cdot [ACT4] \\cdot [REP2] \\cdot [REP3]$",
            "text/plain": [
              "<IPython.core.display.Math object>"
            ]
          },
          "metadata": {
            "tags": []
          }
        },
        {
          "output_type": "display_data",
          "data": {
            "text/latex": "$\\displaystyle [ACT1] \\cdot [ACT2] \\cdot [ACT3] \\cdot [ACT4] \\cdot [REP2] \\cdot [REP3] \\cdot [RNA_{pol}]$",
            "text/plain": [
              "<IPython.core.display.Math object>"
            ]
          },
          "metadata": {
            "tags": []
          }
        },
        {
          "output_type": "display_data",
          "data": {
            "text/latex": "$\\displaystyle [ACT1] \\cdot [ACT2] \\cdot [ACT3] \\cdot [REP1] \\cdot [REP2] \\cdot [REP3]$",
            "text/plain": [
              "<IPython.core.display.Math object>"
            ]
          },
          "metadata": {
            "tags": []
          }
        },
        {
          "output_type": "display_data",
          "data": {
            "text/latex": "$\\displaystyle [ACT1] \\cdot [ACT2] \\cdot [ACT3] \\cdot [REP1] \\cdot [REP2] \\cdot [REP3] \\cdot [RNA_{pol}]$",
            "text/plain": [
              "<IPython.core.display.Math object>"
            ]
          },
          "metadata": {
            "tags": []
          }
        },
        {
          "output_type": "display_data",
          "data": {
            "text/latex": "$\\displaystyle [ACT1] \\cdot [ACT2] \\cdot [ACT4] \\cdot [REP1] \\cdot [REP2] \\cdot [REP3]$",
            "text/plain": [
              "<IPython.core.display.Math object>"
            ]
          },
          "metadata": {
            "tags": []
          }
        },
        {
          "output_type": "display_data",
          "data": {
            "text/latex": "$\\displaystyle [ACT1] \\cdot [ACT2] \\cdot [ACT4] \\cdot [REP1] \\cdot [REP2] \\cdot [REP3] \\cdot [RNA_{pol}]$",
            "text/plain": [
              "<IPython.core.display.Math object>"
            ]
          },
          "metadata": {
            "tags": []
          }
        },
        {
          "output_type": "display_data",
          "data": {
            "text/latex": "$\\displaystyle [ACT1] \\cdot [ACT3] \\cdot [ACT4] \\cdot [REP1] \\cdot [REP2] \\cdot [REP3]$",
            "text/plain": [
              "<IPython.core.display.Math object>"
            ]
          },
          "metadata": {
            "tags": []
          }
        },
        {
          "output_type": "display_data",
          "data": {
            "text/latex": "$\\displaystyle [ACT1] \\cdot [ACT3] \\cdot [ACT4] \\cdot [REP1] \\cdot [REP2] \\cdot [REP3] \\cdot [RNA_{pol}]$",
            "text/plain": [
              "<IPython.core.display.Math object>"
            ]
          },
          "metadata": {
            "tags": []
          }
        },
        {
          "output_type": "display_data",
          "data": {
            "text/latex": "$\\displaystyle [ACT2] \\cdot [ACT3] \\cdot [ACT4] \\cdot [REP1] \\cdot [REP2] \\cdot [REP3]$",
            "text/plain": [
              "<IPython.core.display.Math object>"
            ]
          },
          "metadata": {
            "tags": []
          }
        },
        {
          "output_type": "display_data",
          "data": {
            "text/latex": "$\\displaystyle [ACT2] \\cdot [ACT3] \\cdot [ACT4] \\cdot [REP1] \\cdot [REP2] \\cdot [REP3] \\cdot [RNA_{pol}]$",
            "text/plain": [
              "<IPython.core.display.Math object>"
            ]
          },
          "metadata": {
            "tags": []
          }
        },
        {
          "output_type": "display_data",
          "data": {
            "text/latex": "$\\displaystyle [ACT1] \\cdot [ACT2] \\cdot [ACT3] \\cdot [ACT4] \\cdot [REP1] \\cdot [REP2] \\cdot [REP3]$",
            "text/plain": [
              "<IPython.core.display.Math object>"
            ]
          },
          "metadata": {
            "tags": []
          }
        },
        {
          "output_type": "display_data",
          "data": {
            "text/latex": "$\\displaystyle [ACT1] \\cdot [ACT2] \\cdot [ACT3] \\cdot [ACT4] \\cdot [REP1] \\cdot [REP2] \\cdot [REP3] \\cdot [RNA_{pol}]$",
            "text/plain": [
              "<IPython.core.display.Math object>"
            ]
          },
          "metadata": {
            "tags": []
          }
        }
      ]
    },
    {
      "cell_type": "code",
      "metadata": {
        "id": "PBNJm1Pn8hym",
        "outputId": "b37db182-37db-4458-d748-44c45ad7b3fd"
      },
      "source": [
        "## Generating the B matrix\n",
        "\n",
        "B_matrix = []\n",
        "\n",
        "for line in L_matrix:\n",
        "    \n",
        "    if L_matrix.index(line) == 0:\n",
        "        \n",
        "        B_matrix.append('0')\n",
        "        continue\n",
        "\n",
        "    b_value = ''''''\n",
        "    \n",
        "    for element in line:\n",
        "\n",
        "        if element == '[1]':\n",
        "            continue\n",
        "        else:\n",
        "            to_append = '{'+element+'}'\n",
        "            b_value += 'K_{}'.format(to_append)\n",
        "            b_value += ' \\cdot '\n",
        "\n",
        "    final_b_value = b_value.rstrip(' \\cdot ')\n",
        "    \n",
        "    if '-RNA_{pol}' in line:\n",
        "        \n",
        "        B_matrix.append('$$ '+final_b_value+ '\\cdot K_{RNA_{pol}}' + ' $$')\n",
        "                        \n",
        "    else:\n",
        "        \n",
        "        B_matrix.append('$$ '+final_b_value+' $$')\n",
        "\n",
        "for b in B_matrix:\n",
        "\n",
        "    display(Math(b))"
      ],
      "execution_count": null,
      "outputs": [
        {
          "output_type": "display_data",
          "data": {
            "text/latex": "$\\displaystyle 0$",
            "text/plain": [
              "<IPython.core.display.Math object>"
            ]
          },
          "metadata": {
            "tags": []
          }
        },
        {
          "output_type": "display_data",
          "data": {
            "text/latex": "$\\displaystyle  K_{[RNA_{pol}]} $",
            "text/plain": [
              "<IPython.core.display.Math object>"
            ]
          },
          "metadata": {
            "tags": []
          }
        },
        {
          "output_type": "display_data",
          "data": {
            "text/latex": "$\\displaystyle  K_{[ACT1]} $",
            "text/plain": [
              "<IPython.core.display.Math object>"
            ]
          },
          "metadata": {
            "tags": []
          }
        },
        {
          "output_type": "display_data",
          "data": {
            "text/latex": "$\\displaystyle  K_{[ACT1]} \\cdot K_{[RNA_{pol}]} $",
            "text/plain": [
              "<IPython.core.display.Math object>"
            ]
          },
          "metadata": {
            "tags": []
          }
        },
        {
          "output_type": "display_data",
          "data": {
            "text/latex": "$\\displaystyle  K_{[ACT2]} $",
            "text/plain": [
              "<IPython.core.display.Math object>"
            ]
          },
          "metadata": {
            "tags": []
          }
        },
        {
          "output_type": "display_data",
          "data": {
            "text/latex": "$\\displaystyle  K_{[ACT2]} \\cdot K_{[RNA_{pol}]} $",
            "text/plain": [
              "<IPython.core.display.Math object>"
            ]
          },
          "metadata": {
            "tags": []
          }
        },
        {
          "output_type": "display_data",
          "data": {
            "text/latex": "$\\displaystyle  K_{[ACT3]} $",
            "text/plain": [
              "<IPython.core.display.Math object>"
            ]
          },
          "metadata": {
            "tags": []
          }
        },
        {
          "output_type": "display_data",
          "data": {
            "text/latex": "$\\displaystyle  K_{[ACT3]} \\cdot K_{[RNA_{pol}]} $",
            "text/plain": [
              "<IPython.core.display.Math object>"
            ]
          },
          "metadata": {
            "tags": []
          }
        },
        {
          "output_type": "display_data",
          "data": {
            "text/latex": "$\\displaystyle  K_{[ACT4]} $",
            "text/plain": [
              "<IPython.core.display.Math object>"
            ]
          },
          "metadata": {
            "tags": []
          }
        },
        {
          "output_type": "display_data",
          "data": {
            "text/latex": "$\\displaystyle  K_{[ACT4]} \\cdot K_{[RNA_{pol}]} $",
            "text/plain": [
              "<IPython.core.display.Math object>"
            ]
          },
          "metadata": {
            "tags": []
          }
        },
        {
          "output_type": "display_data",
          "data": {
            "text/latex": "$\\displaystyle  K_{[REP1]} $",
            "text/plain": [
              "<IPython.core.display.Math object>"
            ]
          },
          "metadata": {
            "tags": []
          }
        },
        {
          "output_type": "display_data",
          "data": {
            "text/latex": "$\\displaystyle  K_{[REP1]} \\cdot K_{[RNA_{pol}]} $",
            "text/plain": [
              "<IPython.core.display.Math object>"
            ]
          },
          "metadata": {
            "tags": []
          }
        },
        {
          "output_type": "display_data",
          "data": {
            "text/latex": "$\\displaystyle  K_{[REP2]} $",
            "text/plain": [
              "<IPython.core.display.Math object>"
            ]
          },
          "metadata": {
            "tags": []
          }
        },
        {
          "output_type": "display_data",
          "data": {
            "text/latex": "$\\displaystyle  K_{[REP2]} \\cdot K_{[RNA_{pol}]} $",
            "text/plain": [
              "<IPython.core.display.Math object>"
            ]
          },
          "metadata": {
            "tags": []
          }
        },
        {
          "output_type": "display_data",
          "data": {
            "text/latex": "$\\displaystyle  K_{[REP3]} $",
            "text/plain": [
              "<IPython.core.display.Math object>"
            ]
          },
          "metadata": {
            "tags": []
          }
        },
        {
          "output_type": "display_data",
          "data": {
            "text/latex": "$\\displaystyle  K_{[REP3]} \\cdot K_{[RNA_{pol}]} $",
            "text/plain": [
              "<IPython.core.display.Math object>"
            ]
          },
          "metadata": {
            "tags": []
          }
        },
        {
          "output_type": "display_data",
          "data": {
            "text/latex": "$\\displaystyle  K_{[ACT1]} \\cdot K_{[ACT2]} $",
            "text/plain": [
              "<IPython.core.display.Math object>"
            ]
          },
          "metadata": {
            "tags": []
          }
        },
        {
          "output_type": "display_data",
          "data": {
            "text/latex": "$\\displaystyle  K_{[ACT1]} \\cdot K_{[ACT2]} \\cdot K_{[RNA_{pol}]} $",
            "text/plain": [
              "<IPython.core.display.Math object>"
            ]
          },
          "metadata": {
            "tags": []
          }
        },
        {
          "output_type": "display_data",
          "data": {
            "text/latex": "$\\displaystyle  K_{[ACT1]} \\cdot K_{[ACT3]} $",
            "text/plain": [
              "<IPython.core.display.Math object>"
            ]
          },
          "metadata": {
            "tags": []
          }
        },
        {
          "output_type": "display_data",
          "data": {
            "text/latex": "$\\displaystyle  K_{[ACT1]} \\cdot K_{[ACT3]} \\cdot K_{[RNA_{pol}]} $",
            "text/plain": [
              "<IPython.core.display.Math object>"
            ]
          },
          "metadata": {
            "tags": []
          }
        },
        {
          "output_type": "display_data",
          "data": {
            "text/latex": "$\\displaystyle  K_{[ACT1]} \\cdot K_{[ACT4]} $",
            "text/plain": [
              "<IPython.core.display.Math object>"
            ]
          },
          "metadata": {
            "tags": []
          }
        },
        {
          "output_type": "display_data",
          "data": {
            "text/latex": "$\\displaystyle  K_{[ACT1]} \\cdot K_{[ACT4]} \\cdot K_{[RNA_{pol}]} $",
            "text/plain": [
              "<IPython.core.display.Math object>"
            ]
          },
          "metadata": {
            "tags": []
          }
        },
        {
          "output_type": "display_data",
          "data": {
            "text/latex": "$\\displaystyle  K_{[ACT1]} \\cdot K_{[REP1]} $",
            "text/plain": [
              "<IPython.core.display.Math object>"
            ]
          },
          "metadata": {
            "tags": []
          }
        },
        {
          "output_type": "display_data",
          "data": {
            "text/latex": "$\\displaystyle  K_{[ACT1]} \\cdot K_{[REP1]} \\cdot K_{[RNA_{pol}]} $",
            "text/plain": [
              "<IPython.core.display.Math object>"
            ]
          },
          "metadata": {
            "tags": []
          }
        },
        {
          "output_type": "display_data",
          "data": {
            "text/latex": "$\\displaystyle  K_{[ACT1]} \\cdot K_{[REP2]} $",
            "text/plain": [
              "<IPython.core.display.Math object>"
            ]
          },
          "metadata": {
            "tags": []
          }
        },
        {
          "output_type": "display_data",
          "data": {
            "text/latex": "$\\displaystyle  K_{[ACT1]} \\cdot K_{[REP2]} \\cdot K_{[RNA_{pol}]} $",
            "text/plain": [
              "<IPython.core.display.Math object>"
            ]
          },
          "metadata": {
            "tags": []
          }
        },
        {
          "output_type": "display_data",
          "data": {
            "text/latex": "$\\displaystyle  K_{[ACT1]} \\cdot K_{[REP3]} $",
            "text/plain": [
              "<IPython.core.display.Math object>"
            ]
          },
          "metadata": {
            "tags": []
          }
        },
        {
          "output_type": "display_data",
          "data": {
            "text/latex": "$\\displaystyle  K_{[ACT1]} \\cdot K_{[REP3]} \\cdot K_{[RNA_{pol}]} $",
            "text/plain": [
              "<IPython.core.display.Math object>"
            ]
          },
          "metadata": {
            "tags": []
          }
        },
        {
          "output_type": "display_data",
          "data": {
            "text/latex": "$\\displaystyle  K_{[ACT2]} \\cdot K_{[ACT3]} $",
            "text/plain": [
              "<IPython.core.display.Math object>"
            ]
          },
          "metadata": {
            "tags": []
          }
        },
        {
          "output_type": "display_data",
          "data": {
            "text/latex": "$\\displaystyle  K_{[ACT2]} \\cdot K_{[ACT3]} \\cdot K_{[RNA_{pol}]} $",
            "text/plain": [
              "<IPython.core.display.Math object>"
            ]
          },
          "metadata": {
            "tags": []
          }
        },
        {
          "output_type": "display_data",
          "data": {
            "text/latex": "$\\displaystyle  K_{[ACT2]} \\cdot K_{[ACT4]} $",
            "text/plain": [
              "<IPython.core.display.Math object>"
            ]
          },
          "metadata": {
            "tags": []
          }
        },
        {
          "output_type": "display_data",
          "data": {
            "text/latex": "$\\displaystyle  K_{[ACT2]} \\cdot K_{[ACT4]} \\cdot K_{[RNA_{pol}]} $",
            "text/plain": [
              "<IPython.core.display.Math object>"
            ]
          },
          "metadata": {
            "tags": []
          }
        },
        {
          "output_type": "display_data",
          "data": {
            "text/latex": "$\\displaystyle  K_{[ACT2]} \\cdot K_{[REP1]} $",
            "text/plain": [
              "<IPython.core.display.Math object>"
            ]
          },
          "metadata": {
            "tags": []
          }
        },
        {
          "output_type": "display_data",
          "data": {
            "text/latex": "$\\displaystyle  K_{[ACT2]} \\cdot K_{[REP1]} \\cdot K_{[RNA_{pol}]} $",
            "text/plain": [
              "<IPython.core.display.Math object>"
            ]
          },
          "metadata": {
            "tags": []
          }
        },
        {
          "output_type": "display_data",
          "data": {
            "text/latex": "$\\displaystyle  K_{[ACT2]} \\cdot K_{[REP2]} $",
            "text/plain": [
              "<IPython.core.display.Math object>"
            ]
          },
          "metadata": {
            "tags": []
          }
        },
        {
          "output_type": "display_data",
          "data": {
            "text/latex": "$\\displaystyle  K_{[ACT2]} \\cdot K_{[REP2]} \\cdot K_{[RNA_{pol}]} $",
            "text/plain": [
              "<IPython.core.display.Math object>"
            ]
          },
          "metadata": {
            "tags": []
          }
        },
        {
          "output_type": "display_data",
          "data": {
            "text/latex": "$\\displaystyle  K_{[ACT2]} \\cdot K_{[REP3]} $",
            "text/plain": [
              "<IPython.core.display.Math object>"
            ]
          },
          "metadata": {
            "tags": []
          }
        },
        {
          "output_type": "display_data",
          "data": {
            "text/latex": "$\\displaystyle  K_{[ACT2]} \\cdot K_{[REP3]} \\cdot K_{[RNA_{pol}]} $",
            "text/plain": [
              "<IPython.core.display.Math object>"
            ]
          },
          "metadata": {
            "tags": []
          }
        },
        {
          "output_type": "display_data",
          "data": {
            "text/latex": "$\\displaystyle  K_{[ACT3]} \\cdot K_{[ACT4]} $",
            "text/plain": [
              "<IPython.core.display.Math object>"
            ]
          },
          "metadata": {
            "tags": []
          }
        },
        {
          "output_type": "display_data",
          "data": {
            "text/latex": "$\\displaystyle  K_{[ACT3]} \\cdot K_{[ACT4]} \\cdot K_{[RNA_{pol}]} $",
            "text/plain": [
              "<IPython.core.display.Math object>"
            ]
          },
          "metadata": {
            "tags": []
          }
        },
        {
          "output_type": "display_data",
          "data": {
            "text/latex": "$\\displaystyle  K_{[ACT3]} \\cdot K_{[REP1]} $",
            "text/plain": [
              "<IPython.core.display.Math object>"
            ]
          },
          "metadata": {
            "tags": []
          }
        },
        {
          "output_type": "display_data",
          "data": {
            "text/latex": "$\\displaystyle  K_{[ACT3]} \\cdot K_{[REP1]} \\cdot K_{[RNA_{pol}]} $",
            "text/plain": [
              "<IPython.core.display.Math object>"
            ]
          },
          "metadata": {
            "tags": []
          }
        },
        {
          "output_type": "display_data",
          "data": {
            "text/latex": "$\\displaystyle  K_{[ACT3]} \\cdot K_{[REP2]} $",
            "text/plain": [
              "<IPython.core.display.Math object>"
            ]
          },
          "metadata": {
            "tags": []
          }
        },
        {
          "output_type": "display_data",
          "data": {
            "text/latex": "$\\displaystyle  K_{[ACT3]} \\cdot K_{[REP2]} \\cdot K_{[RNA_{pol}]} $",
            "text/plain": [
              "<IPython.core.display.Math object>"
            ]
          },
          "metadata": {
            "tags": []
          }
        },
        {
          "output_type": "display_data",
          "data": {
            "text/latex": "$\\displaystyle  K_{[ACT3]} \\cdot K_{[REP3]} $",
            "text/plain": [
              "<IPython.core.display.Math object>"
            ]
          },
          "metadata": {
            "tags": []
          }
        },
        {
          "output_type": "display_data",
          "data": {
            "text/latex": "$\\displaystyle  K_{[ACT3]} \\cdot K_{[REP3]} \\cdot K_{[RNA_{pol}]} $",
            "text/plain": [
              "<IPython.core.display.Math object>"
            ]
          },
          "metadata": {
            "tags": []
          }
        },
        {
          "output_type": "display_data",
          "data": {
            "text/latex": "$\\displaystyle  K_{[ACT4]} \\cdot K_{[REP1]} $",
            "text/plain": [
              "<IPython.core.display.Math object>"
            ]
          },
          "metadata": {
            "tags": []
          }
        },
        {
          "output_type": "display_data",
          "data": {
            "text/latex": "$\\displaystyle  K_{[ACT4]} \\cdot K_{[REP1]} \\cdot K_{[RNA_{pol}]} $",
            "text/plain": [
              "<IPython.core.display.Math object>"
            ]
          },
          "metadata": {
            "tags": []
          }
        },
        {
          "output_type": "display_data",
          "data": {
            "text/latex": "$\\displaystyle  K_{[ACT4]} \\cdot K_{[REP2]} $",
            "text/plain": [
              "<IPython.core.display.Math object>"
            ]
          },
          "metadata": {
            "tags": []
          }
        },
        {
          "output_type": "display_data",
          "data": {
            "text/latex": "$\\displaystyle  K_{[ACT4]} \\cdot K_{[REP2]} \\cdot K_{[RNA_{pol}]} $",
            "text/plain": [
              "<IPython.core.display.Math object>"
            ]
          },
          "metadata": {
            "tags": []
          }
        },
        {
          "output_type": "display_data",
          "data": {
            "text/latex": "$\\displaystyle  K_{[ACT4]} \\cdot K_{[REP3]} $",
            "text/plain": [
              "<IPython.core.display.Math object>"
            ]
          },
          "metadata": {
            "tags": []
          }
        },
        {
          "output_type": "display_data",
          "data": {
            "text/latex": "$\\displaystyle  K_{[ACT4]} \\cdot K_{[REP3]} \\cdot K_{[RNA_{pol}]} $",
            "text/plain": [
              "<IPython.core.display.Math object>"
            ]
          },
          "metadata": {
            "tags": []
          }
        },
        {
          "output_type": "display_data",
          "data": {
            "text/latex": "$\\displaystyle  K_{[REP1]} \\cdot K_{[REP2]} $",
            "text/plain": [
              "<IPython.core.display.Math object>"
            ]
          },
          "metadata": {
            "tags": []
          }
        },
        {
          "output_type": "display_data",
          "data": {
            "text/latex": "$\\displaystyle  K_{[REP1]} \\cdot K_{[REP2]} \\cdot K_{[RNA_{pol}]} $",
            "text/plain": [
              "<IPython.core.display.Math object>"
            ]
          },
          "metadata": {
            "tags": []
          }
        },
        {
          "output_type": "display_data",
          "data": {
            "text/latex": "$\\displaystyle  K_{[REP1]} \\cdot K_{[REP3]} $",
            "text/plain": [
              "<IPython.core.display.Math object>"
            ]
          },
          "metadata": {
            "tags": []
          }
        },
        {
          "output_type": "display_data",
          "data": {
            "text/latex": "$\\displaystyle  K_{[REP1]} \\cdot K_{[REP3]} \\cdot K_{[RNA_{pol}]} $",
            "text/plain": [
              "<IPython.core.display.Math object>"
            ]
          },
          "metadata": {
            "tags": []
          }
        },
        {
          "output_type": "display_data",
          "data": {
            "text/latex": "$\\displaystyle  K_{[REP2]} \\cdot K_{[REP3]} $",
            "text/plain": [
              "<IPython.core.display.Math object>"
            ]
          },
          "metadata": {
            "tags": []
          }
        },
        {
          "output_type": "display_data",
          "data": {
            "text/latex": "$\\displaystyle  K_{[REP2]} \\cdot K_{[REP3]} \\cdot K_{[RNA_{pol}]} $",
            "text/plain": [
              "<IPython.core.display.Math object>"
            ]
          },
          "metadata": {
            "tags": []
          }
        },
        {
          "output_type": "display_data",
          "data": {
            "text/latex": "$\\displaystyle  K_{[ACT1]} \\cdot K_{[ACT2]} \\cdot K_{[ACT3]} $",
            "text/plain": [
              "<IPython.core.display.Math object>"
            ]
          },
          "metadata": {
            "tags": []
          }
        },
        {
          "output_type": "display_data",
          "data": {
            "text/latex": "$\\displaystyle  K_{[ACT1]} \\cdot K_{[ACT2]} \\cdot K_{[ACT3]} \\cdot K_{[RNA_{pol}]} $",
            "text/plain": [
              "<IPython.core.display.Math object>"
            ]
          },
          "metadata": {
            "tags": []
          }
        },
        {
          "output_type": "display_data",
          "data": {
            "text/latex": "$\\displaystyle  K_{[ACT1]} \\cdot K_{[ACT2]} \\cdot K_{[ACT4]} $",
            "text/plain": [
              "<IPython.core.display.Math object>"
            ]
          },
          "metadata": {
            "tags": []
          }
        },
        {
          "output_type": "display_data",
          "data": {
            "text/latex": "$\\displaystyle  K_{[ACT1]} \\cdot K_{[ACT2]} \\cdot K_{[ACT4]} \\cdot K_{[RNA_{pol}]} $",
            "text/plain": [
              "<IPython.core.display.Math object>"
            ]
          },
          "metadata": {
            "tags": []
          }
        },
        {
          "output_type": "display_data",
          "data": {
            "text/latex": "$\\displaystyle  K_{[ACT1]} \\cdot K_{[ACT2]} \\cdot K_{[REP1]} $",
            "text/plain": [
              "<IPython.core.display.Math object>"
            ]
          },
          "metadata": {
            "tags": []
          }
        },
        {
          "output_type": "display_data",
          "data": {
            "text/latex": "$\\displaystyle  K_{[ACT1]} \\cdot K_{[ACT2]} \\cdot K_{[REP1]} \\cdot K_{[RNA_{pol}]} $",
            "text/plain": [
              "<IPython.core.display.Math object>"
            ]
          },
          "metadata": {
            "tags": []
          }
        },
        {
          "output_type": "display_data",
          "data": {
            "text/latex": "$\\displaystyle  K_{[ACT1]} \\cdot K_{[ACT2]} \\cdot K_{[REP2]} $",
            "text/plain": [
              "<IPython.core.display.Math object>"
            ]
          },
          "metadata": {
            "tags": []
          }
        },
        {
          "output_type": "display_data",
          "data": {
            "text/latex": "$\\displaystyle  K_{[ACT1]} \\cdot K_{[ACT2]} \\cdot K_{[REP2]} \\cdot K_{[RNA_{pol}]} $",
            "text/plain": [
              "<IPython.core.display.Math object>"
            ]
          },
          "metadata": {
            "tags": []
          }
        },
        {
          "output_type": "display_data",
          "data": {
            "text/latex": "$\\displaystyle  K_{[ACT1]} \\cdot K_{[ACT2]} \\cdot K_{[REP3]} $",
            "text/plain": [
              "<IPython.core.display.Math object>"
            ]
          },
          "metadata": {
            "tags": []
          }
        },
        {
          "output_type": "display_data",
          "data": {
            "text/latex": "$\\displaystyle  K_{[ACT1]} \\cdot K_{[ACT2]} \\cdot K_{[REP3]} \\cdot K_{[RNA_{pol}]} $",
            "text/plain": [
              "<IPython.core.display.Math object>"
            ]
          },
          "metadata": {
            "tags": []
          }
        },
        {
          "output_type": "display_data",
          "data": {
            "text/latex": "$\\displaystyle  K_{[ACT1]} \\cdot K_{[ACT3]} \\cdot K_{[ACT4]} $",
            "text/plain": [
              "<IPython.core.display.Math object>"
            ]
          },
          "metadata": {
            "tags": []
          }
        },
        {
          "output_type": "display_data",
          "data": {
            "text/latex": "$\\displaystyle  K_{[ACT1]} \\cdot K_{[ACT3]} \\cdot K_{[ACT4]} \\cdot K_{[RNA_{pol}]} $",
            "text/plain": [
              "<IPython.core.display.Math object>"
            ]
          },
          "metadata": {
            "tags": []
          }
        },
        {
          "output_type": "display_data",
          "data": {
            "text/latex": "$\\displaystyle  K_{[ACT1]} \\cdot K_{[ACT3]} \\cdot K_{[REP1]} $",
            "text/plain": [
              "<IPython.core.display.Math object>"
            ]
          },
          "metadata": {
            "tags": []
          }
        },
        {
          "output_type": "display_data",
          "data": {
            "text/latex": "$\\displaystyle  K_{[ACT1]} \\cdot K_{[ACT3]} \\cdot K_{[REP1]} \\cdot K_{[RNA_{pol}]} $",
            "text/plain": [
              "<IPython.core.display.Math object>"
            ]
          },
          "metadata": {
            "tags": []
          }
        },
        {
          "output_type": "display_data",
          "data": {
            "text/latex": "$\\displaystyle  K_{[ACT1]} \\cdot K_{[ACT3]} \\cdot K_{[REP2]} $",
            "text/plain": [
              "<IPython.core.display.Math object>"
            ]
          },
          "metadata": {
            "tags": []
          }
        },
        {
          "output_type": "display_data",
          "data": {
            "text/latex": "$\\displaystyle  K_{[ACT1]} \\cdot K_{[ACT3]} \\cdot K_{[REP2]} \\cdot K_{[RNA_{pol}]} $",
            "text/plain": [
              "<IPython.core.display.Math object>"
            ]
          },
          "metadata": {
            "tags": []
          }
        },
        {
          "output_type": "display_data",
          "data": {
            "text/latex": "$\\displaystyle  K_{[ACT1]} \\cdot K_{[ACT3]} \\cdot K_{[REP3]} $",
            "text/plain": [
              "<IPython.core.display.Math object>"
            ]
          },
          "metadata": {
            "tags": []
          }
        },
        {
          "output_type": "display_data",
          "data": {
            "text/latex": "$\\displaystyle  K_{[ACT1]} \\cdot K_{[ACT3]} \\cdot K_{[REP3]} \\cdot K_{[RNA_{pol}]} $",
            "text/plain": [
              "<IPython.core.display.Math object>"
            ]
          },
          "metadata": {
            "tags": []
          }
        },
        {
          "output_type": "display_data",
          "data": {
            "text/latex": "$\\displaystyle  K_{[ACT1]} \\cdot K_{[ACT4]} \\cdot K_{[REP1]} $",
            "text/plain": [
              "<IPython.core.display.Math object>"
            ]
          },
          "metadata": {
            "tags": []
          }
        },
        {
          "output_type": "display_data",
          "data": {
            "text/latex": "$\\displaystyle  K_{[ACT1]} \\cdot K_{[ACT4]} \\cdot K_{[REP1]} \\cdot K_{[RNA_{pol}]} $",
            "text/plain": [
              "<IPython.core.display.Math object>"
            ]
          },
          "metadata": {
            "tags": []
          }
        },
        {
          "output_type": "display_data",
          "data": {
            "text/latex": "$\\displaystyle  K_{[ACT1]} \\cdot K_{[ACT4]} \\cdot K_{[REP2]} $",
            "text/plain": [
              "<IPython.core.display.Math object>"
            ]
          },
          "metadata": {
            "tags": []
          }
        },
        {
          "output_type": "display_data",
          "data": {
            "text/latex": "$\\displaystyle  K_{[ACT1]} \\cdot K_{[ACT4]} \\cdot K_{[REP2]} \\cdot K_{[RNA_{pol}]} $",
            "text/plain": [
              "<IPython.core.display.Math object>"
            ]
          },
          "metadata": {
            "tags": []
          }
        },
        {
          "output_type": "display_data",
          "data": {
            "text/latex": "$\\displaystyle  K_{[ACT1]} \\cdot K_{[ACT4]} \\cdot K_{[REP3]} $",
            "text/plain": [
              "<IPython.core.display.Math object>"
            ]
          },
          "metadata": {
            "tags": []
          }
        },
        {
          "output_type": "display_data",
          "data": {
            "text/latex": "$\\displaystyle  K_{[ACT1]} \\cdot K_{[ACT4]} \\cdot K_{[REP3]} \\cdot K_{[RNA_{pol}]} $",
            "text/plain": [
              "<IPython.core.display.Math object>"
            ]
          },
          "metadata": {
            "tags": []
          }
        },
        {
          "output_type": "display_data",
          "data": {
            "text/latex": "$\\displaystyle  K_{[ACT1]} \\cdot K_{[REP1]} \\cdot K_{[REP2]} $",
            "text/plain": [
              "<IPython.core.display.Math object>"
            ]
          },
          "metadata": {
            "tags": []
          }
        },
        {
          "output_type": "display_data",
          "data": {
            "text/latex": "$\\displaystyle  K_{[ACT1]} \\cdot K_{[REP1]} \\cdot K_{[REP2]} \\cdot K_{[RNA_{pol}]} $",
            "text/plain": [
              "<IPython.core.display.Math object>"
            ]
          },
          "metadata": {
            "tags": []
          }
        },
        {
          "output_type": "display_data",
          "data": {
            "text/latex": "$\\displaystyle  K_{[ACT1]} \\cdot K_{[REP1]} \\cdot K_{[REP3]} $",
            "text/plain": [
              "<IPython.core.display.Math object>"
            ]
          },
          "metadata": {
            "tags": []
          }
        },
        {
          "output_type": "display_data",
          "data": {
            "text/latex": "$\\displaystyle  K_{[ACT1]} \\cdot K_{[REP1]} \\cdot K_{[REP3]} \\cdot K_{[RNA_{pol}]} $",
            "text/plain": [
              "<IPython.core.display.Math object>"
            ]
          },
          "metadata": {
            "tags": []
          }
        },
        {
          "output_type": "display_data",
          "data": {
            "text/latex": "$\\displaystyle  K_{[ACT1]} \\cdot K_{[REP2]} \\cdot K_{[REP3]} $",
            "text/plain": [
              "<IPython.core.display.Math object>"
            ]
          },
          "metadata": {
            "tags": []
          }
        },
        {
          "output_type": "display_data",
          "data": {
            "text/latex": "$\\displaystyle  K_{[ACT1]} \\cdot K_{[REP2]} \\cdot K_{[REP3]} \\cdot K_{[RNA_{pol}]} $",
            "text/plain": [
              "<IPython.core.display.Math object>"
            ]
          },
          "metadata": {
            "tags": []
          }
        },
        {
          "output_type": "display_data",
          "data": {
            "text/latex": "$\\displaystyle  K_{[ACT2]} \\cdot K_{[ACT3]} \\cdot K_{[ACT4]} $",
            "text/plain": [
              "<IPython.core.display.Math object>"
            ]
          },
          "metadata": {
            "tags": []
          }
        },
        {
          "output_type": "display_data",
          "data": {
            "text/latex": "$\\displaystyle  K_{[ACT2]} \\cdot K_{[ACT3]} \\cdot K_{[ACT4]} \\cdot K_{[RNA_{pol}]} $",
            "text/plain": [
              "<IPython.core.display.Math object>"
            ]
          },
          "metadata": {
            "tags": []
          }
        },
        {
          "output_type": "display_data",
          "data": {
            "text/latex": "$\\displaystyle  K_{[ACT2]} \\cdot K_{[ACT3]} \\cdot K_{[REP1]} $",
            "text/plain": [
              "<IPython.core.display.Math object>"
            ]
          },
          "metadata": {
            "tags": []
          }
        },
        {
          "output_type": "display_data",
          "data": {
            "text/latex": "$\\displaystyle  K_{[ACT2]} \\cdot K_{[ACT3]} \\cdot K_{[REP1]} \\cdot K_{[RNA_{pol}]} $",
            "text/plain": [
              "<IPython.core.display.Math object>"
            ]
          },
          "metadata": {
            "tags": []
          }
        },
        {
          "output_type": "display_data",
          "data": {
            "text/latex": "$\\displaystyle  K_{[ACT2]} \\cdot K_{[ACT3]} \\cdot K_{[REP2]} $",
            "text/plain": [
              "<IPython.core.display.Math object>"
            ]
          },
          "metadata": {
            "tags": []
          }
        },
        {
          "output_type": "display_data",
          "data": {
            "text/latex": "$\\displaystyle  K_{[ACT2]} \\cdot K_{[ACT3]} \\cdot K_{[REP2]} \\cdot K_{[RNA_{pol}]} $",
            "text/plain": [
              "<IPython.core.display.Math object>"
            ]
          },
          "metadata": {
            "tags": []
          }
        },
        {
          "output_type": "display_data",
          "data": {
            "text/latex": "$\\displaystyle  K_{[ACT2]} \\cdot K_{[ACT3]} \\cdot K_{[REP3]} $",
            "text/plain": [
              "<IPython.core.display.Math object>"
            ]
          },
          "metadata": {
            "tags": []
          }
        },
        {
          "output_type": "display_data",
          "data": {
            "text/latex": "$\\displaystyle  K_{[ACT2]} \\cdot K_{[ACT3]} \\cdot K_{[REP3]} \\cdot K_{[RNA_{pol}]} $",
            "text/plain": [
              "<IPython.core.display.Math object>"
            ]
          },
          "metadata": {
            "tags": []
          }
        },
        {
          "output_type": "display_data",
          "data": {
            "text/latex": "$\\displaystyle  K_{[ACT2]} \\cdot K_{[ACT4]} \\cdot K_{[REP1]} $",
            "text/plain": [
              "<IPython.core.display.Math object>"
            ]
          },
          "metadata": {
            "tags": []
          }
        },
        {
          "output_type": "display_data",
          "data": {
            "text/latex": "$\\displaystyle  K_{[ACT2]} \\cdot K_{[ACT4]} \\cdot K_{[REP1]} \\cdot K_{[RNA_{pol}]} $",
            "text/plain": [
              "<IPython.core.display.Math object>"
            ]
          },
          "metadata": {
            "tags": []
          }
        },
        {
          "output_type": "display_data",
          "data": {
            "text/latex": "$\\displaystyle  K_{[ACT2]} \\cdot K_{[ACT4]} \\cdot K_{[REP2]} $",
            "text/plain": [
              "<IPython.core.display.Math object>"
            ]
          },
          "metadata": {
            "tags": []
          }
        },
        {
          "output_type": "display_data",
          "data": {
            "text/latex": "$\\displaystyle  K_{[ACT2]} \\cdot K_{[ACT4]} \\cdot K_{[REP2]} \\cdot K_{[RNA_{pol}]} $",
            "text/plain": [
              "<IPython.core.display.Math object>"
            ]
          },
          "metadata": {
            "tags": []
          }
        },
        {
          "output_type": "display_data",
          "data": {
            "text/latex": "$\\displaystyle  K_{[ACT2]} \\cdot K_{[ACT4]} \\cdot K_{[REP3]} $",
            "text/plain": [
              "<IPython.core.display.Math object>"
            ]
          },
          "metadata": {
            "tags": []
          }
        },
        {
          "output_type": "display_data",
          "data": {
            "text/latex": "$\\displaystyle  K_{[ACT2]} \\cdot K_{[ACT4]} \\cdot K_{[REP3]} \\cdot K_{[RNA_{pol}]} $",
            "text/plain": [
              "<IPython.core.display.Math object>"
            ]
          },
          "metadata": {
            "tags": []
          }
        },
        {
          "output_type": "display_data",
          "data": {
            "text/latex": "$\\displaystyle  K_{[ACT2]} \\cdot K_{[REP1]} \\cdot K_{[REP2]} $",
            "text/plain": [
              "<IPython.core.display.Math object>"
            ]
          },
          "metadata": {
            "tags": []
          }
        },
        {
          "output_type": "display_data",
          "data": {
            "text/latex": "$\\displaystyle  K_{[ACT2]} \\cdot K_{[REP1]} \\cdot K_{[REP2]} \\cdot K_{[RNA_{pol}]} $",
            "text/plain": [
              "<IPython.core.display.Math object>"
            ]
          },
          "metadata": {
            "tags": []
          }
        },
        {
          "output_type": "display_data",
          "data": {
            "text/latex": "$\\displaystyle  K_{[ACT2]} \\cdot K_{[REP1]} \\cdot K_{[REP3]} $",
            "text/plain": [
              "<IPython.core.display.Math object>"
            ]
          },
          "metadata": {
            "tags": []
          }
        },
        {
          "output_type": "display_data",
          "data": {
            "text/latex": "$\\displaystyle  K_{[ACT2]} \\cdot K_{[REP1]} \\cdot K_{[REP3]} \\cdot K_{[RNA_{pol}]} $",
            "text/plain": [
              "<IPython.core.display.Math object>"
            ]
          },
          "metadata": {
            "tags": []
          }
        },
        {
          "output_type": "display_data",
          "data": {
            "text/latex": "$\\displaystyle  K_{[ACT2]} \\cdot K_{[REP2]} \\cdot K_{[REP3]} $",
            "text/plain": [
              "<IPython.core.display.Math object>"
            ]
          },
          "metadata": {
            "tags": []
          }
        },
        {
          "output_type": "display_data",
          "data": {
            "text/latex": "$\\displaystyle  K_{[ACT2]} \\cdot K_{[REP2]} \\cdot K_{[REP3]} \\cdot K_{[RNA_{pol}]} $",
            "text/plain": [
              "<IPython.core.display.Math object>"
            ]
          },
          "metadata": {
            "tags": []
          }
        },
        {
          "output_type": "display_data",
          "data": {
            "text/latex": "$\\displaystyle  K_{[ACT3]} \\cdot K_{[ACT4]} \\cdot K_{[REP1]} $",
            "text/plain": [
              "<IPython.core.display.Math object>"
            ]
          },
          "metadata": {
            "tags": []
          }
        },
        {
          "output_type": "display_data",
          "data": {
            "text/latex": "$\\displaystyle  K_{[ACT3]} \\cdot K_{[ACT4]} \\cdot K_{[REP1]} \\cdot K_{[RNA_{pol}]} $",
            "text/plain": [
              "<IPython.core.display.Math object>"
            ]
          },
          "metadata": {
            "tags": []
          }
        },
        {
          "output_type": "display_data",
          "data": {
            "text/latex": "$\\displaystyle  K_{[ACT3]} \\cdot K_{[ACT4]} \\cdot K_{[REP2]} $",
            "text/plain": [
              "<IPython.core.display.Math object>"
            ]
          },
          "metadata": {
            "tags": []
          }
        },
        {
          "output_type": "display_data",
          "data": {
            "text/latex": "$\\displaystyle  K_{[ACT3]} \\cdot K_{[ACT4]} \\cdot K_{[REP2]} \\cdot K_{[RNA_{pol}]} $",
            "text/plain": [
              "<IPython.core.display.Math object>"
            ]
          },
          "metadata": {
            "tags": []
          }
        },
        {
          "output_type": "display_data",
          "data": {
            "text/latex": "$\\displaystyle  K_{[ACT3]} \\cdot K_{[ACT4]} \\cdot K_{[REP3]} $",
            "text/plain": [
              "<IPython.core.display.Math object>"
            ]
          },
          "metadata": {
            "tags": []
          }
        },
        {
          "output_type": "display_data",
          "data": {
            "text/latex": "$\\displaystyle  K_{[ACT3]} \\cdot K_{[ACT4]} \\cdot K_{[REP3]} \\cdot K_{[RNA_{pol}]} $",
            "text/plain": [
              "<IPython.core.display.Math object>"
            ]
          },
          "metadata": {
            "tags": []
          }
        },
        {
          "output_type": "display_data",
          "data": {
            "text/latex": "$\\displaystyle  K_{[ACT3]} \\cdot K_{[REP1]} \\cdot K_{[REP2]} $",
            "text/plain": [
              "<IPython.core.display.Math object>"
            ]
          },
          "metadata": {
            "tags": []
          }
        },
        {
          "output_type": "display_data",
          "data": {
            "text/latex": "$\\displaystyle  K_{[ACT3]} \\cdot K_{[REP1]} \\cdot K_{[REP2]} \\cdot K_{[RNA_{pol}]} $",
            "text/plain": [
              "<IPython.core.display.Math object>"
            ]
          },
          "metadata": {
            "tags": []
          }
        },
        {
          "output_type": "display_data",
          "data": {
            "text/latex": "$\\displaystyle  K_{[ACT3]} \\cdot K_{[REP1]} \\cdot K_{[REP3]} $",
            "text/plain": [
              "<IPython.core.display.Math object>"
            ]
          },
          "metadata": {
            "tags": []
          }
        },
        {
          "output_type": "display_data",
          "data": {
            "text/latex": "$\\displaystyle  K_{[ACT3]} \\cdot K_{[REP1]} \\cdot K_{[REP3]} \\cdot K_{[RNA_{pol}]} $",
            "text/plain": [
              "<IPython.core.display.Math object>"
            ]
          },
          "metadata": {
            "tags": []
          }
        },
        {
          "output_type": "display_data",
          "data": {
            "text/latex": "$\\displaystyle  K_{[ACT3]} \\cdot K_{[REP2]} \\cdot K_{[REP3]} $",
            "text/plain": [
              "<IPython.core.display.Math object>"
            ]
          },
          "metadata": {
            "tags": []
          }
        },
        {
          "output_type": "display_data",
          "data": {
            "text/latex": "$\\displaystyle  K_{[ACT3]} \\cdot K_{[REP2]} \\cdot K_{[REP3]} \\cdot K_{[RNA_{pol}]} $",
            "text/plain": [
              "<IPython.core.display.Math object>"
            ]
          },
          "metadata": {
            "tags": []
          }
        },
        {
          "output_type": "display_data",
          "data": {
            "text/latex": "$\\displaystyle  K_{[ACT4]} \\cdot K_{[REP1]} \\cdot K_{[REP2]} $",
            "text/plain": [
              "<IPython.core.display.Math object>"
            ]
          },
          "metadata": {
            "tags": []
          }
        },
        {
          "output_type": "display_data",
          "data": {
            "text/latex": "$\\displaystyle  K_{[ACT4]} \\cdot K_{[REP1]} \\cdot K_{[REP2]} \\cdot K_{[RNA_{pol}]} $",
            "text/plain": [
              "<IPython.core.display.Math object>"
            ]
          },
          "metadata": {
            "tags": []
          }
        },
        {
          "output_type": "display_data",
          "data": {
            "text/latex": "$\\displaystyle  K_{[ACT4]} \\cdot K_{[REP1]} \\cdot K_{[REP3]} $",
            "text/plain": [
              "<IPython.core.display.Math object>"
            ]
          },
          "metadata": {
            "tags": []
          }
        },
        {
          "output_type": "display_data",
          "data": {
            "text/latex": "$\\displaystyle  K_{[ACT4]} \\cdot K_{[REP1]} \\cdot K_{[REP3]} \\cdot K_{[RNA_{pol}]} $",
            "text/plain": [
              "<IPython.core.display.Math object>"
            ]
          },
          "metadata": {
            "tags": []
          }
        },
        {
          "output_type": "display_data",
          "data": {
            "text/latex": "$\\displaystyle  K_{[ACT4]} \\cdot K_{[REP2]} \\cdot K_{[REP3]} $",
            "text/plain": [
              "<IPython.core.display.Math object>"
            ]
          },
          "metadata": {
            "tags": []
          }
        },
        {
          "output_type": "display_data",
          "data": {
            "text/latex": "$\\displaystyle  K_{[ACT4]} \\cdot K_{[REP2]} \\cdot K_{[REP3]} \\cdot K_{[RNA_{pol}]} $",
            "text/plain": [
              "<IPython.core.display.Math object>"
            ]
          },
          "metadata": {
            "tags": []
          }
        },
        {
          "output_type": "display_data",
          "data": {
            "text/latex": "$\\displaystyle  K_{[REP1]} \\cdot K_{[REP2]} \\cdot K_{[REP3]} $",
            "text/plain": [
              "<IPython.core.display.Math object>"
            ]
          },
          "metadata": {
            "tags": []
          }
        },
        {
          "output_type": "display_data",
          "data": {
            "text/latex": "$\\displaystyle  K_{[REP1]} \\cdot K_{[REP2]} \\cdot K_{[REP3]} \\cdot K_{[RNA_{pol}]} $",
            "text/plain": [
              "<IPython.core.display.Math object>"
            ]
          },
          "metadata": {
            "tags": []
          }
        },
        {
          "output_type": "display_data",
          "data": {
            "text/latex": "$\\displaystyle  K_{[ACT1]} \\cdot K_{[ACT2]} \\cdot K_{[ACT3]} \\cdot K_{[ACT4]} $",
            "text/plain": [
              "<IPython.core.display.Math object>"
            ]
          },
          "metadata": {
            "tags": []
          }
        },
        {
          "output_type": "display_data",
          "data": {
            "text/latex": "$\\displaystyle  K_{[ACT1]} \\cdot K_{[ACT2]} \\cdot K_{[ACT3]} \\cdot K_{[ACT4]} \\cdot K_{[RNA_{pol}]} $",
            "text/plain": [
              "<IPython.core.display.Math object>"
            ]
          },
          "metadata": {
            "tags": []
          }
        },
        {
          "output_type": "display_data",
          "data": {
            "text/latex": "$\\displaystyle  K_{[ACT1]} \\cdot K_{[ACT2]} \\cdot K_{[ACT3]} \\cdot K_{[REP1]} $",
            "text/plain": [
              "<IPython.core.display.Math object>"
            ]
          },
          "metadata": {
            "tags": []
          }
        },
        {
          "output_type": "display_data",
          "data": {
            "text/latex": "$\\displaystyle  K_{[ACT1]} \\cdot K_{[ACT2]} \\cdot K_{[ACT3]} \\cdot K_{[REP1]} \\cdot K_{[RNA_{pol}]} $",
            "text/plain": [
              "<IPython.core.display.Math object>"
            ]
          },
          "metadata": {
            "tags": []
          }
        },
        {
          "output_type": "display_data",
          "data": {
            "text/latex": "$\\displaystyle  K_{[ACT1]} \\cdot K_{[ACT2]} \\cdot K_{[ACT3]} \\cdot K_{[REP2]} $",
            "text/plain": [
              "<IPython.core.display.Math object>"
            ]
          },
          "metadata": {
            "tags": []
          }
        },
        {
          "output_type": "display_data",
          "data": {
            "text/latex": "$\\displaystyle  K_{[ACT1]} \\cdot K_{[ACT2]} \\cdot K_{[ACT3]} \\cdot K_{[REP2]} \\cdot K_{[RNA_{pol}]} $",
            "text/plain": [
              "<IPython.core.display.Math object>"
            ]
          },
          "metadata": {
            "tags": []
          }
        },
        {
          "output_type": "display_data",
          "data": {
            "text/latex": "$\\displaystyle  K_{[ACT1]} \\cdot K_{[ACT2]} \\cdot K_{[ACT3]} \\cdot K_{[REP3]} $",
            "text/plain": [
              "<IPython.core.display.Math object>"
            ]
          },
          "metadata": {
            "tags": []
          }
        },
        {
          "output_type": "display_data",
          "data": {
            "text/latex": "$\\displaystyle  K_{[ACT1]} \\cdot K_{[ACT2]} \\cdot K_{[ACT3]} \\cdot K_{[REP3]} \\cdot K_{[RNA_{pol}]} $",
            "text/plain": [
              "<IPython.core.display.Math object>"
            ]
          },
          "metadata": {
            "tags": []
          }
        },
        {
          "output_type": "display_data",
          "data": {
            "text/latex": "$\\displaystyle  K_{[ACT1]} \\cdot K_{[ACT2]} \\cdot K_{[ACT4]} \\cdot K_{[REP1]} $",
            "text/plain": [
              "<IPython.core.display.Math object>"
            ]
          },
          "metadata": {
            "tags": []
          }
        },
        {
          "output_type": "display_data",
          "data": {
            "text/latex": "$\\displaystyle  K_{[ACT1]} \\cdot K_{[ACT2]} \\cdot K_{[ACT4]} \\cdot K_{[REP1]} \\cdot K_{[RNA_{pol}]} $",
            "text/plain": [
              "<IPython.core.display.Math object>"
            ]
          },
          "metadata": {
            "tags": []
          }
        },
        {
          "output_type": "display_data",
          "data": {
            "text/latex": "$\\displaystyle  K_{[ACT1]} \\cdot K_{[ACT2]} \\cdot K_{[ACT4]} \\cdot K_{[REP2]} $",
            "text/plain": [
              "<IPython.core.display.Math object>"
            ]
          },
          "metadata": {
            "tags": []
          }
        },
        {
          "output_type": "display_data",
          "data": {
            "text/latex": "$\\displaystyle  K_{[ACT1]} \\cdot K_{[ACT2]} \\cdot K_{[ACT4]} \\cdot K_{[REP2]} \\cdot K_{[RNA_{pol}]} $",
            "text/plain": [
              "<IPython.core.display.Math object>"
            ]
          },
          "metadata": {
            "tags": []
          }
        },
        {
          "output_type": "display_data",
          "data": {
            "text/latex": "$\\displaystyle  K_{[ACT1]} \\cdot K_{[ACT2]} \\cdot K_{[ACT4]} \\cdot K_{[REP3]} $",
            "text/plain": [
              "<IPython.core.display.Math object>"
            ]
          },
          "metadata": {
            "tags": []
          }
        },
        {
          "output_type": "display_data",
          "data": {
            "text/latex": "$\\displaystyle  K_{[ACT1]} \\cdot K_{[ACT2]} \\cdot K_{[ACT4]} \\cdot K_{[REP3]} \\cdot K_{[RNA_{pol}]} $",
            "text/plain": [
              "<IPython.core.display.Math object>"
            ]
          },
          "metadata": {
            "tags": []
          }
        },
        {
          "output_type": "display_data",
          "data": {
            "text/latex": "$\\displaystyle  K_{[ACT1]} \\cdot K_{[ACT2]} \\cdot K_{[REP1]} \\cdot K_{[REP2]} $",
            "text/plain": [
              "<IPython.core.display.Math object>"
            ]
          },
          "metadata": {
            "tags": []
          }
        },
        {
          "output_type": "display_data",
          "data": {
            "text/latex": "$\\displaystyle  K_{[ACT1]} \\cdot K_{[ACT2]} \\cdot K_{[REP1]} \\cdot K_{[REP2]} \\cdot K_{[RNA_{pol}]} $",
            "text/plain": [
              "<IPython.core.display.Math object>"
            ]
          },
          "metadata": {
            "tags": []
          }
        },
        {
          "output_type": "display_data",
          "data": {
            "text/latex": "$\\displaystyle  K_{[ACT1]} \\cdot K_{[ACT2]} \\cdot K_{[REP1]} \\cdot K_{[REP3]} $",
            "text/plain": [
              "<IPython.core.display.Math object>"
            ]
          },
          "metadata": {
            "tags": []
          }
        },
        {
          "output_type": "display_data",
          "data": {
            "text/latex": "$\\displaystyle  K_{[ACT1]} \\cdot K_{[ACT2]} \\cdot K_{[REP1]} \\cdot K_{[REP3]} \\cdot K_{[RNA_{pol}]} $",
            "text/plain": [
              "<IPython.core.display.Math object>"
            ]
          },
          "metadata": {
            "tags": []
          }
        },
        {
          "output_type": "display_data",
          "data": {
            "text/latex": "$\\displaystyle  K_{[ACT1]} \\cdot K_{[ACT2]} \\cdot K_{[REP2]} \\cdot K_{[REP3]} $",
            "text/plain": [
              "<IPython.core.display.Math object>"
            ]
          },
          "metadata": {
            "tags": []
          }
        },
        {
          "output_type": "display_data",
          "data": {
            "text/latex": "$\\displaystyle  K_{[ACT1]} \\cdot K_{[ACT2]} \\cdot K_{[REP2]} \\cdot K_{[REP3]} \\cdot K_{[RNA_{pol}]} $",
            "text/plain": [
              "<IPython.core.display.Math object>"
            ]
          },
          "metadata": {
            "tags": []
          }
        },
        {
          "output_type": "display_data",
          "data": {
            "text/latex": "$\\displaystyle  K_{[ACT1]} \\cdot K_{[ACT3]} \\cdot K_{[ACT4]} \\cdot K_{[REP1]} $",
            "text/plain": [
              "<IPython.core.display.Math object>"
            ]
          },
          "metadata": {
            "tags": []
          }
        },
        {
          "output_type": "display_data",
          "data": {
            "text/latex": "$\\displaystyle  K_{[ACT1]} \\cdot K_{[ACT3]} \\cdot K_{[ACT4]} \\cdot K_{[REP1]} \\cdot K_{[RNA_{pol}]} $",
            "text/plain": [
              "<IPython.core.display.Math object>"
            ]
          },
          "metadata": {
            "tags": []
          }
        },
        {
          "output_type": "display_data",
          "data": {
            "text/latex": "$\\displaystyle  K_{[ACT1]} \\cdot K_{[ACT3]} \\cdot K_{[ACT4]} \\cdot K_{[REP2]} $",
            "text/plain": [
              "<IPython.core.display.Math object>"
            ]
          },
          "metadata": {
            "tags": []
          }
        },
        {
          "output_type": "display_data",
          "data": {
            "text/latex": "$\\displaystyle  K_{[ACT1]} \\cdot K_{[ACT3]} \\cdot K_{[ACT4]} \\cdot K_{[REP2]} \\cdot K_{[RNA_{pol}]} $",
            "text/plain": [
              "<IPython.core.display.Math object>"
            ]
          },
          "metadata": {
            "tags": []
          }
        },
        {
          "output_type": "display_data",
          "data": {
            "text/latex": "$\\displaystyle  K_{[ACT1]} \\cdot K_{[ACT3]} \\cdot K_{[ACT4]} \\cdot K_{[REP3]} $",
            "text/plain": [
              "<IPython.core.display.Math object>"
            ]
          },
          "metadata": {
            "tags": []
          }
        },
        {
          "output_type": "display_data",
          "data": {
            "text/latex": "$\\displaystyle  K_{[ACT1]} \\cdot K_{[ACT3]} \\cdot K_{[ACT4]} \\cdot K_{[REP3]} \\cdot K_{[RNA_{pol}]} $",
            "text/plain": [
              "<IPython.core.display.Math object>"
            ]
          },
          "metadata": {
            "tags": []
          }
        },
        {
          "output_type": "display_data",
          "data": {
            "text/latex": "$\\displaystyle  K_{[ACT1]} \\cdot K_{[ACT3]} \\cdot K_{[REP1]} \\cdot K_{[REP2]} $",
            "text/plain": [
              "<IPython.core.display.Math object>"
            ]
          },
          "metadata": {
            "tags": []
          }
        },
        {
          "output_type": "display_data",
          "data": {
            "text/latex": "$\\displaystyle  K_{[ACT1]} \\cdot K_{[ACT3]} \\cdot K_{[REP1]} \\cdot K_{[REP2]} \\cdot K_{[RNA_{pol}]} $",
            "text/plain": [
              "<IPython.core.display.Math object>"
            ]
          },
          "metadata": {
            "tags": []
          }
        },
        {
          "output_type": "display_data",
          "data": {
            "text/latex": "$\\displaystyle  K_{[ACT1]} \\cdot K_{[ACT3]} \\cdot K_{[REP1]} \\cdot K_{[REP3]} $",
            "text/plain": [
              "<IPython.core.display.Math object>"
            ]
          },
          "metadata": {
            "tags": []
          }
        },
        {
          "output_type": "display_data",
          "data": {
            "text/latex": "$\\displaystyle  K_{[ACT1]} \\cdot K_{[ACT3]} \\cdot K_{[REP1]} \\cdot K_{[REP3]} \\cdot K_{[RNA_{pol}]} $",
            "text/plain": [
              "<IPython.core.display.Math object>"
            ]
          },
          "metadata": {
            "tags": []
          }
        },
        {
          "output_type": "display_data",
          "data": {
            "text/latex": "$\\displaystyle  K_{[ACT1]} \\cdot K_{[ACT3]} \\cdot K_{[REP2]} \\cdot K_{[REP3]} $",
            "text/plain": [
              "<IPython.core.display.Math object>"
            ]
          },
          "metadata": {
            "tags": []
          }
        },
        {
          "output_type": "display_data",
          "data": {
            "text/latex": "$\\displaystyle  K_{[ACT1]} \\cdot K_{[ACT3]} \\cdot K_{[REP2]} \\cdot K_{[REP3]} \\cdot K_{[RNA_{pol}]} $",
            "text/plain": [
              "<IPython.core.display.Math object>"
            ]
          },
          "metadata": {
            "tags": []
          }
        },
        {
          "output_type": "display_data",
          "data": {
            "text/latex": "$\\displaystyle  K_{[ACT1]} \\cdot K_{[ACT4]} \\cdot K_{[REP1]} \\cdot K_{[REP2]} $",
            "text/plain": [
              "<IPython.core.display.Math object>"
            ]
          },
          "metadata": {
            "tags": []
          }
        },
        {
          "output_type": "display_data",
          "data": {
            "text/latex": "$\\displaystyle  K_{[ACT1]} \\cdot K_{[ACT4]} \\cdot K_{[REP1]} \\cdot K_{[REP2]} \\cdot K_{[RNA_{pol}]} $",
            "text/plain": [
              "<IPython.core.display.Math object>"
            ]
          },
          "metadata": {
            "tags": []
          }
        },
        {
          "output_type": "display_data",
          "data": {
            "text/latex": "$\\displaystyle  K_{[ACT1]} \\cdot K_{[ACT4]} \\cdot K_{[REP1]} \\cdot K_{[REP3]} $",
            "text/plain": [
              "<IPython.core.display.Math object>"
            ]
          },
          "metadata": {
            "tags": []
          }
        },
        {
          "output_type": "display_data",
          "data": {
            "text/latex": "$\\displaystyle  K_{[ACT1]} \\cdot K_{[ACT4]} \\cdot K_{[REP1]} \\cdot K_{[REP3]} \\cdot K_{[RNA_{pol}]} $",
            "text/plain": [
              "<IPython.core.display.Math object>"
            ]
          },
          "metadata": {
            "tags": []
          }
        },
        {
          "output_type": "display_data",
          "data": {
            "text/latex": "$\\displaystyle  K_{[ACT1]} \\cdot K_{[ACT4]} \\cdot K_{[REP2]} \\cdot K_{[REP3]} $",
            "text/plain": [
              "<IPython.core.display.Math object>"
            ]
          },
          "metadata": {
            "tags": []
          }
        },
        {
          "output_type": "display_data",
          "data": {
            "text/latex": "$\\displaystyle  K_{[ACT1]} \\cdot K_{[ACT4]} \\cdot K_{[REP2]} \\cdot K_{[REP3]} \\cdot K_{[RNA_{pol}]} $",
            "text/plain": [
              "<IPython.core.display.Math object>"
            ]
          },
          "metadata": {
            "tags": []
          }
        },
        {
          "output_type": "display_data",
          "data": {
            "text/latex": "$\\displaystyle  K_{[ACT1]} \\cdot K_{[REP1]} \\cdot K_{[REP2]} \\cdot K_{[REP3]} $",
            "text/plain": [
              "<IPython.core.display.Math object>"
            ]
          },
          "metadata": {
            "tags": []
          }
        },
        {
          "output_type": "display_data",
          "data": {
            "text/latex": "$\\displaystyle  K_{[ACT1]} \\cdot K_{[REP1]} \\cdot K_{[REP2]} \\cdot K_{[REP3]} \\cdot K_{[RNA_{pol}]} $",
            "text/plain": [
              "<IPython.core.display.Math object>"
            ]
          },
          "metadata": {
            "tags": []
          }
        },
        {
          "output_type": "display_data",
          "data": {
            "text/latex": "$\\displaystyle  K_{[ACT2]} \\cdot K_{[ACT3]} \\cdot K_{[ACT4]} \\cdot K_{[REP1]} $",
            "text/plain": [
              "<IPython.core.display.Math object>"
            ]
          },
          "metadata": {
            "tags": []
          }
        },
        {
          "output_type": "display_data",
          "data": {
            "text/latex": "$\\displaystyle  K_{[ACT2]} \\cdot K_{[ACT3]} \\cdot K_{[ACT4]} \\cdot K_{[REP1]} \\cdot K_{[RNA_{pol}]} $",
            "text/plain": [
              "<IPython.core.display.Math object>"
            ]
          },
          "metadata": {
            "tags": []
          }
        },
        {
          "output_type": "display_data",
          "data": {
            "text/latex": "$\\displaystyle  K_{[ACT2]} \\cdot K_{[ACT3]} \\cdot K_{[ACT4]} \\cdot K_{[REP2]} $",
            "text/plain": [
              "<IPython.core.display.Math object>"
            ]
          },
          "metadata": {
            "tags": []
          }
        },
        {
          "output_type": "display_data",
          "data": {
            "text/latex": "$\\displaystyle  K_{[ACT2]} \\cdot K_{[ACT3]} \\cdot K_{[ACT4]} \\cdot K_{[REP2]} \\cdot K_{[RNA_{pol}]} $",
            "text/plain": [
              "<IPython.core.display.Math object>"
            ]
          },
          "metadata": {
            "tags": []
          }
        },
        {
          "output_type": "display_data",
          "data": {
            "text/latex": "$\\displaystyle  K_{[ACT2]} \\cdot K_{[ACT3]} \\cdot K_{[ACT4]} \\cdot K_{[REP3]} $",
            "text/plain": [
              "<IPython.core.display.Math object>"
            ]
          },
          "metadata": {
            "tags": []
          }
        },
        {
          "output_type": "display_data",
          "data": {
            "text/latex": "$\\displaystyle  K_{[ACT2]} \\cdot K_{[ACT3]} \\cdot K_{[ACT4]} \\cdot K_{[REP3]} \\cdot K_{[RNA_{pol}]} $",
            "text/plain": [
              "<IPython.core.display.Math object>"
            ]
          },
          "metadata": {
            "tags": []
          }
        },
        {
          "output_type": "display_data",
          "data": {
            "text/latex": "$\\displaystyle  K_{[ACT2]} \\cdot K_{[ACT3]} \\cdot K_{[REP1]} \\cdot K_{[REP2]} $",
            "text/plain": [
              "<IPython.core.display.Math object>"
            ]
          },
          "metadata": {
            "tags": []
          }
        },
        {
          "output_type": "display_data",
          "data": {
            "text/latex": "$\\displaystyle  K_{[ACT2]} \\cdot K_{[ACT3]} \\cdot K_{[REP1]} \\cdot K_{[REP2]} \\cdot K_{[RNA_{pol}]} $",
            "text/plain": [
              "<IPython.core.display.Math object>"
            ]
          },
          "metadata": {
            "tags": []
          }
        },
        {
          "output_type": "display_data",
          "data": {
            "text/latex": "$\\displaystyle  K_{[ACT2]} \\cdot K_{[ACT3]} \\cdot K_{[REP1]} \\cdot K_{[REP3]} $",
            "text/plain": [
              "<IPython.core.display.Math object>"
            ]
          },
          "metadata": {
            "tags": []
          }
        },
        {
          "output_type": "display_data",
          "data": {
            "text/latex": "$\\displaystyle  K_{[ACT2]} \\cdot K_{[ACT3]} \\cdot K_{[REP1]} \\cdot K_{[REP3]} \\cdot K_{[RNA_{pol}]} $",
            "text/plain": [
              "<IPython.core.display.Math object>"
            ]
          },
          "metadata": {
            "tags": []
          }
        },
        {
          "output_type": "display_data",
          "data": {
            "text/latex": "$\\displaystyle  K_{[ACT2]} \\cdot K_{[ACT3]} \\cdot K_{[REP2]} \\cdot K_{[REP3]} $",
            "text/plain": [
              "<IPython.core.display.Math object>"
            ]
          },
          "metadata": {
            "tags": []
          }
        },
        {
          "output_type": "display_data",
          "data": {
            "text/latex": "$\\displaystyle  K_{[ACT2]} \\cdot K_{[ACT3]} \\cdot K_{[REP2]} \\cdot K_{[REP3]} \\cdot K_{[RNA_{pol}]} $",
            "text/plain": [
              "<IPython.core.display.Math object>"
            ]
          },
          "metadata": {
            "tags": []
          }
        },
        {
          "output_type": "display_data",
          "data": {
            "text/latex": "$\\displaystyle  K_{[ACT2]} \\cdot K_{[ACT4]} \\cdot K_{[REP1]} \\cdot K_{[REP2]} $",
            "text/plain": [
              "<IPython.core.display.Math object>"
            ]
          },
          "metadata": {
            "tags": []
          }
        },
        {
          "output_type": "display_data",
          "data": {
            "text/latex": "$\\displaystyle  K_{[ACT2]} \\cdot K_{[ACT4]} \\cdot K_{[REP1]} \\cdot K_{[REP2]} \\cdot K_{[RNA_{pol}]} $",
            "text/plain": [
              "<IPython.core.display.Math object>"
            ]
          },
          "metadata": {
            "tags": []
          }
        },
        {
          "output_type": "display_data",
          "data": {
            "text/latex": "$\\displaystyle  K_{[ACT2]} \\cdot K_{[ACT4]} \\cdot K_{[REP1]} \\cdot K_{[REP3]} $",
            "text/plain": [
              "<IPython.core.display.Math object>"
            ]
          },
          "metadata": {
            "tags": []
          }
        },
        {
          "output_type": "display_data",
          "data": {
            "text/latex": "$\\displaystyle  K_{[ACT2]} \\cdot K_{[ACT4]} \\cdot K_{[REP1]} \\cdot K_{[REP3]} \\cdot K_{[RNA_{pol}]} $",
            "text/plain": [
              "<IPython.core.display.Math object>"
            ]
          },
          "metadata": {
            "tags": []
          }
        },
        {
          "output_type": "display_data",
          "data": {
            "text/latex": "$\\displaystyle  K_{[ACT2]} \\cdot K_{[ACT4]} \\cdot K_{[REP2]} \\cdot K_{[REP3]} $",
            "text/plain": [
              "<IPython.core.display.Math object>"
            ]
          },
          "metadata": {
            "tags": []
          }
        },
        {
          "output_type": "display_data",
          "data": {
            "text/latex": "$\\displaystyle  K_{[ACT2]} \\cdot K_{[ACT4]} \\cdot K_{[REP2]} \\cdot K_{[REP3]} \\cdot K_{[RNA_{pol}]} $",
            "text/plain": [
              "<IPython.core.display.Math object>"
            ]
          },
          "metadata": {
            "tags": []
          }
        },
        {
          "output_type": "display_data",
          "data": {
            "text/latex": "$\\displaystyle  K_{[ACT2]} \\cdot K_{[REP1]} \\cdot K_{[REP2]} \\cdot K_{[REP3]} $",
            "text/plain": [
              "<IPython.core.display.Math object>"
            ]
          },
          "metadata": {
            "tags": []
          }
        },
        {
          "output_type": "display_data",
          "data": {
            "text/latex": "$\\displaystyle  K_{[ACT2]} \\cdot K_{[REP1]} \\cdot K_{[REP2]} \\cdot K_{[REP3]} \\cdot K_{[RNA_{pol}]} $",
            "text/plain": [
              "<IPython.core.display.Math object>"
            ]
          },
          "metadata": {
            "tags": []
          }
        },
        {
          "output_type": "display_data",
          "data": {
            "text/latex": "$\\displaystyle  K_{[ACT3]} \\cdot K_{[ACT4]} \\cdot K_{[REP1]} \\cdot K_{[REP2]} $",
            "text/plain": [
              "<IPython.core.display.Math object>"
            ]
          },
          "metadata": {
            "tags": []
          }
        },
        {
          "output_type": "display_data",
          "data": {
            "text/latex": "$\\displaystyle  K_{[ACT3]} \\cdot K_{[ACT4]} \\cdot K_{[REP1]} \\cdot K_{[REP2]} \\cdot K_{[RNA_{pol}]} $",
            "text/plain": [
              "<IPython.core.display.Math object>"
            ]
          },
          "metadata": {
            "tags": []
          }
        },
        {
          "output_type": "display_data",
          "data": {
            "text/latex": "$\\displaystyle  K_{[ACT3]} \\cdot K_{[ACT4]} \\cdot K_{[REP1]} \\cdot K_{[REP3]} $",
            "text/plain": [
              "<IPython.core.display.Math object>"
            ]
          },
          "metadata": {
            "tags": []
          }
        },
        {
          "output_type": "display_data",
          "data": {
            "text/latex": "$\\displaystyle  K_{[ACT3]} \\cdot K_{[ACT4]} \\cdot K_{[REP1]} \\cdot K_{[REP3]} \\cdot K_{[RNA_{pol}]} $",
            "text/plain": [
              "<IPython.core.display.Math object>"
            ]
          },
          "metadata": {
            "tags": []
          }
        },
        {
          "output_type": "display_data",
          "data": {
            "text/latex": "$\\displaystyle  K_{[ACT3]} \\cdot K_{[ACT4]} \\cdot K_{[REP2]} \\cdot K_{[REP3]} $",
            "text/plain": [
              "<IPython.core.display.Math object>"
            ]
          },
          "metadata": {
            "tags": []
          }
        },
        {
          "output_type": "display_data",
          "data": {
            "text/latex": "$\\displaystyle  K_{[ACT3]} \\cdot K_{[ACT4]} \\cdot K_{[REP2]} \\cdot K_{[REP3]} \\cdot K_{[RNA_{pol}]} $",
            "text/plain": [
              "<IPython.core.display.Math object>"
            ]
          },
          "metadata": {
            "tags": []
          }
        },
        {
          "output_type": "display_data",
          "data": {
            "text/latex": "$\\displaystyle  K_{[ACT3]} \\cdot K_{[REP1]} \\cdot K_{[REP2]} \\cdot K_{[REP3]} $",
            "text/plain": [
              "<IPython.core.display.Math object>"
            ]
          },
          "metadata": {
            "tags": []
          }
        },
        {
          "output_type": "display_data",
          "data": {
            "text/latex": "$\\displaystyle  K_{[ACT3]} \\cdot K_{[REP1]} \\cdot K_{[REP2]} \\cdot K_{[REP3]} \\cdot K_{[RNA_{pol}]} $",
            "text/plain": [
              "<IPython.core.display.Math object>"
            ]
          },
          "metadata": {
            "tags": []
          }
        },
        {
          "output_type": "display_data",
          "data": {
            "text/latex": "$\\displaystyle  K_{[ACT4]} \\cdot K_{[REP1]} \\cdot K_{[REP2]} \\cdot K_{[REP3]} $",
            "text/plain": [
              "<IPython.core.display.Math object>"
            ]
          },
          "metadata": {
            "tags": []
          }
        },
        {
          "output_type": "display_data",
          "data": {
            "text/latex": "$\\displaystyle  K_{[ACT4]} \\cdot K_{[REP1]} \\cdot K_{[REP2]} \\cdot K_{[REP3]} \\cdot K_{[RNA_{pol}]} $",
            "text/plain": [
              "<IPython.core.display.Math object>"
            ]
          },
          "metadata": {
            "tags": []
          }
        },
        {
          "output_type": "display_data",
          "data": {
            "text/latex": "$\\displaystyle  K_{[ACT1]} \\cdot K_{[ACT2]} \\cdot K_{[ACT3]} \\cdot K_{[ACT4]} \\cdot K_{[REP1]} $",
            "text/plain": [
              "<IPython.core.display.Math object>"
            ]
          },
          "metadata": {
            "tags": []
          }
        },
        {
          "output_type": "display_data",
          "data": {
            "text/latex": "$\\displaystyle  K_{[ACT1]} \\cdot K_{[ACT2]} \\cdot K_{[ACT3]} \\cdot K_{[ACT4]} \\cdot K_{[REP1]} \\cdot K_{[RNA_{pol}]} $",
            "text/plain": [
              "<IPython.core.display.Math object>"
            ]
          },
          "metadata": {
            "tags": []
          }
        },
        {
          "output_type": "display_data",
          "data": {
            "text/latex": "$\\displaystyle  K_{[ACT1]} \\cdot K_{[ACT2]} \\cdot K_{[ACT3]} \\cdot K_{[ACT4]} \\cdot K_{[REP2]} $",
            "text/plain": [
              "<IPython.core.display.Math object>"
            ]
          },
          "metadata": {
            "tags": []
          }
        },
        {
          "output_type": "display_data",
          "data": {
            "text/latex": "$\\displaystyle  K_{[ACT1]} \\cdot K_{[ACT2]} \\cdot K_{[ACT3]} \\cdot K_{[ACT4]} \\cdot K_{[REP2]} \\cdot K_{[RNA_{pol}]} $",
            "text/plain": [
              "<IPython.core.display.Math object>"
            ]
          },
          "metadata": {
            "tags": []
          }
        },
        {
          "output_type": "display_data",
          "data": {
            "text/latex": "$\\displaystyle  K_{[ACT1]} \\cdot K_{[ACT2]} \\cdot K_{[ACT3]} \\cdot K_{[ACT4]} \\cdot K_{[REP3]} $",
            "text/plain": [
              "<IPython.core.display.Math object>"
            ]
          },
          "metadata": {
            "tags": []
          }
        },
        {
          "output_type": "display_data",
          "data": {
            "text/latex": "$\\displaystyle  K_{[ACT1]} \\cdot K_{[ACT2]} \\cdot K_{[ACT3]} \\cdot K_{[ACT4]} \\cdot K_{[REP3]} \\cdot K_{[RNA_{pol}]} $",
            "text/plain": [
              "<IPython.core.display.Math object>"
            ]
          },
          "metadata": {
            "tags": []
          }
        },
        {
          "output_type": "display_data",
          "data": {
            "text/latex": "$\\displaystyle  K_{[ACT1]} \\cdot K_{[ACT2]} \\cdot K_{[ACT3]} \\cdot K_{[REP1]} \\cdot K_{[REP2]} $",
            "text/plain": [
              "<IPython.core.display.Math object>"
            ]
          },
          "metadata": {
            "tags": []
          }
        },
        {
          "output_type": "display_data",
          "data": {
            "text/latex": "$\\displaystyle  K_{[ACT1]} \\cdot K_{[ACT2]} \\cdot K_{[ACT3]} \\cdot K_{[REP1]} \\cdot K_{[REP2]} \\cdot K_{[RNA_{pol}]} $",
            "text/plain": [
              "<IPython.core.display.Math object>"
            ]
          },
          "metadata": {
            "tags": []
          }
        },
        {
          "output_type": "display_data",
          "data": {
            "text/latex": "$\\displaystyle  K_{[ACT1]} \\cdot K_{[ACT2]} \\cdot K_{[ACT3]} \\cdot K_{[REP1]} \\cdot K_{[REP3]} $",
            "text/plain": [
              "<IPython.core.display.Math object>"
            ]
          },
          "metadata": {
            "tags": []
          }
        },
        {
          "output_type": "display_data",
          "data": {
            "text/latex": "$\\displaystyle  K_{[ACT1]} \\cdot K_{[ACT2]} \\cdot K_{[ACT3]} \\cdot K_{[REP1]} \\cdot K_{[REP3]} \\cdot K_{[RNA_{pol}]} $",
            "text/plain": [
              "<IPython.core.display.Math object>"
            ]
          },
          "metadata": {
            "tags": []
          }
        },
        {
          "output_type": "display_data",
          "data": {
            "text/latex": "$\\displaystyle  K_{[ACT1]} \\cdot K_{[ACT2]} \\cdot K_{[ACT3]} \\cdot K_{[REP2]} \\cdot K_{[REP3]} $",
            "text/plain": [
              "<IPython.core.display.Math object>"
            ]
          },
          "metadata": {
            "tags": []
          }
        },
        {
          "output_type": "display_data",
          "data": {
            "text/latex": "$\\displaystyle  K_{[ACT1]} \\cdot K_{[ACT2]} \\cdot K_{[ACT3]} \\cdot K_{[REP2]} \\cdot K_{[REP3]} \\cdot K_{[RNA_{pol}]} $",
            "text/plain": [
              "<IPython.core.display.Math object>"
            ]
          },
          "metadata": {
            "tags": []
          }
        },
        {
          "output_type": "display_data",
          "data": {
            "text/latex": "$\\displaystyle  K_{[ACT1]} \\cdot K_{[ACT2]} \\cdot K_{[ACT4]} \\cdot K_{[REP1]} \\cdot K_{[REP2]} $",
            "text/plain": [
              "<IPython.core.display.Math object>"
            ]
          },
          "metadata": {
            "tags": []
          }
        },
        {
          "output_type": "display_data",
          "data": {
            "text/latex": "$\\displaystyle  K_{[ACT1]} \\cdot K_{[ACT2]} \\cdot K_{[ACT4]} \\cdot K_{[REP1]} \\cdot K_{[REP2]} \\cdot K_{[RNA_{pol}]} $",
            "text/plain": [
              "<IPython.core.display.Math object>"
            ]
          },
          "metadata": {
            "tags": []
          }
        },
        {
          "output_type": "display_data",
          "data": {
            "text/latex": "$\\displaystyle  K_{[ACT1]} \\cdot K_{[ACT2]} \\cdot K_{[ACT4]} \\cdot K_{[REP1]} \\cdot K_{[REP3]} $",
            "text/plain": [
              "<IPython.core.display.Math object>"
            ]
          },
          "metadata": {
            "tags": []
          }
        },
        {
          "output_type": "display_data",
          "data": {
            "text/latex": "$\\displaystyle  K_{[ACT1]} \\cdot K_{[ACT2]} \\cdot K_{[ACT4]} \\cdot K_{[REP1]} \\cdot K_{[REP3]} \\cdot K_{[RNA_{pol}]} $",
            "text/plain": [
              "<IPython.core.display.Math object>"
            ]
          },
          "metadata": {
            "tags": []
          }
        },
        {
          "output_type": "display_data",
          "data": {
            "text/latex": "$\\displaystyle  K_{[ACT1]} \\cdot K_{[ACT2]} \\cdot K_{[ACT4]} \\cdot K_{[REP2]} \\cdot K_{[REP3]} $",
            "text/plain": [
              "<IPython.core.display.Math object>"
            ]
          },
          "metadata": {
            "tags": []
          }
        },
        {
          "output_type": "display_data",
          "data": {
            "text/latex": "$\\displaystyle  K_{[ACT1]} \\cdot K_{[ACT2]} \\cdot K_{[ACT4]} \\cdot K_{[REP2]} \\cdot K_{[REP3]} \\cdot K_{[RNA_{pol}]} $",
            "text/plain": [
              "<IPython.core.display.Math object>"
            ]
          },
          "metadata": {
            "tags": []
          }
        },
        {
          "output_type": "display_data",
          "data": {
            "text/latex": "$\\displaystyle  K_{[ACT1]} \\cdot K_{[ACT2]} \\cdot K_{[REP1]} \\cdot K_{[REP2]} \\cdot K_{[REP3]} $",
            "text/plain": [
              "<IPython.core.display.Math object>"
            ]
          },
          "metadata": {
            "tags": []
          }
        },
        {
          "output_type": "display_data",
          "data": {
            "text/latex": "$\\displaystyle  K_{[ACT1]} \\cdot K_{[ACT2]} \\cdot K_{[REP1]} \\cdot K_{[REP2]} \\cdot K_{[REP3]} \\cdot K_{[RNA_{pol}]} $",
            "text/plain": [
              "<IPython.core.display.Math object>"
            ]
          },
          "metadata": {
            "tags": []
          }
        },
        {
          "output_type": "display_data",
          "data": {
            "text/latex": "$\\displaystyle  K_{[ACT1]} \\cdot K_{[ACT3]} \\cdot K_{[ACT4]} \\cdot K_{[REP1]} \\cdot K_{[REP2]} $",
            "text/plain": [
              "<IPython.core.display.Math object>"
            ]
          },
          "metadata": {
            "tags": []
          }
        },
        {
          "output_type": "display_data",
          "data": {
            "text/latex": "$\\displaystyle  K_{[ACT1]} \\cdot K_{[ACT3]} \\cdot K_{[ACT4]} \\cdot K_{[REP1]} \\cdot K_{[REP2]} \\cdot K_{[RNA_{pol}]} $",
            "text/plain": [
              "<IPython.core.display.Math object>"
            ]
          },
          "metadata": {
            "tags": []
          }
        },
        {
          "output_type": "display_data",
          "data": {
            "text/latex": "$\\displaystyle  K_{[ACT1]} \\cdot K_{[ACT3]} \\cdot K_{[ACT4]} \\cdot K_{[REP1]} \\cdot K_{[REP3]} $",
            "text/plain": [
              "<IPython.core.display.Math object>"
            ]
          },
          "metadata": {
            "tags": []
          }
        },
        {
          "output_type": "display_data",
          "data": {
            "text/latex": "$\\displaystyle  K_{[ACT1]} \\cdot K_{[ACT3]} \\cdot K_{[ACT4]} \\cdot K_{[REP1]} \\cdot K_{[REP3]} \\cdot K_{[RNA_{pol}]} $",
            "text/plain": [
              "<IPython.core.display.Math object>"
            ]
          },
          "metadata": {
            "tags": []
          }
        },
        {
          "output_type": "display_data",
          "data": {
            "text/latex": "$\\displaystyle  K_{[ACT1]} \\cdot K_{[ACT3]} \\cdot K_{[ACT4]} \\cdot K_{[REP2]} \\cdot K_{[REP3]} $",
            "text/plain": [
              "<IPython.core.display.Math object>"
            ]
          },
          "metadata": {
            "tags": []
          }
        },
        {
          "output_type": "display_data",
          "data": {
            "text/latex": "$\\displaystyle  K_{[ACT1]} \\cdot K_{[ACT3]} \\cdot K_{[ACT4]} \\cdot K_{[REP2]} \\cdot K_{[REP3]} \\cdot K_{[RNA_{pol}]} $",
            "text/plain": [
              "<IPython.core.display.Math object>"
            ]
          },
          "metadata": {
            "tags": []
          }
        },
        {
          "output_type": "display_data",
          "data": {
            "text/latex": "$\\displaystyle  K_{[ACT1]} \\cdot K_{[ACT3]} \\cdot K_{[REP1]} \\cdot K_{[REP2]} \\cdot K_{[REP3]} $",
            "text/plain": [
              "<IPython.core.display.Math object>"
            ]
          },
          "metadata": {
            "tags": []
          }
        },
        {
          "output_type": "display_data",
          "data": {
            "text/latex": "$\\displaystyle  K_{[ACT1]} \\cdot K_{[ACT3]} \\cdot K_{[REP1]} \\cdot K_{[REP2]} \\cdot K_{[REP3]} \\cdot K_{[RNA_{pol}]} $",
            "text/plain": [
              "<IPython.core.display.Math object>"
            ]
          },
          "metadata": {
            "tags": []
          }
        },
        {
          "output_type": "display_data",
          "data": {
            "text/latex": "$\\displaystyle  K_{[ACT1]} \\cdot K_{[ACT4]} \\cdot K_{[REP1]} \\cdot K_{[REP2]} \\cdot K_{[REP3]} $",
            "text/plain": [
              "<IPython.core.display.Math object>"
            ]
          },
          "metadata": {
            "tags": []
          }
        },
        {
          "output_type": "display_data",
          "data": {
            "text/latex": "$\\displaystyle  K_{[ACT1]} \\cdot K_{[ACT4]} \\cdot K_{[REP1]} \\cdot K_{[REP2]} \\cdot K_{[REP3]} \\cdot K_{[RNA_{pol}]} $",
            "text/plain": [
              "<IPython.core.display.Math object>"
            ]
          },
          "metadata": {
            "tags": []
          }
        },
        {
          "output_type": "display_data",
          "data": {
            "text/latex": "$\\displaystyle  K_{[ACT2]} \\cdot K_{[ACT3]} \\cdot K_{[ACT4]} \\cdot K_{[REP1]} \\cdot K_{[REP2]} $",
            "text/plain": [
              "<IPython.core.display.Math object>"
            ]
          },
          "metadata": {
            "tags": []
          }
        },
        {
          "output_type": "display_data",
          "data": {
            "text/latex": "$\\displaystyle  K_{[ACT2]} \\cdot K_{[ACT3]} \\cdot K_{[ACT4]} \\cdot K_{[REP1]} \\cdot K_{[REP2]} \\cdot K_{[RNA_{pol}]} $",
            "text/plain": [
              "<IPython.core.display.Math object>"
            ]
          },
          "metadata": {
            "tags": []
          }
        },
        {
          "output_type": "display_data",
          "data": {
            "text/latex": "$\\displaystyle  K_{[ACT2]} \\cdot K_{[ACT3]} \\cdot K_{[ACT4]} \\cdot K_{[REP1]} \\cdot K_{[REP3]} $",
            "text/plain": [
              "<IPython.core.display.Math object>"
            ]
          },
          "metadata": {
            "tags": []
          }
        },
        {
          "output_type": "display_data",
          "data": {
            "text/latex": "$\\displaystyle  K_{[ACT2]} \\cdot K_{[ACT3]} \\cdot K_{[ACT4]} \\cdot K_{[REP1]} \\cdot K_{[REP3]} \\cdot K_{[RNA_{pol}]} $",
            "text/plain": [
              "<IPython.core.display.Math object>"
            ]
          },
          "metadata": {
            "tags": []
          }
        },
        {
          "output_type": "display_data",
          "data": {
            "text/latex": "$\\displaystyle  K_{[ACT2]} \\cdot K_{[ACT3]} \\cdot K_{[ACT4]} \\cdot K_{[REP2]} \\cdot K_{[REP3]} $",
            "text/plain": [
              "<IPython.core.display.Math object>"
            ]
          },
          "metadata": {
            "tags": []
          }
        },
        {
          "output_type": "display_data",
          "data": {
            "text/latex": "$\\displaystyle  K_{[ACT2]} \\cdot K_{[ACT3]} \\cdot K_{[ACT4]} \\cdot K_{[REP2]} \\cdot K_{[REP3]} \\cdot K_{[RNA_{pol}]} $",
            "text/plain": [
              "<IPython.core.display.Math object>"
            ]
          },
          "metadata": {
            "tags": []
          }
        },
        {
          "output_type": "display_data",
          "data": {
            "text/latex": "$\\displaystyle  K_{[ACT2]} \\cdot K_{[ACT3]} \\cdot K_{[REP1]} \\cdot K_{[REP2]} \\cdot K_{[REP3]} $",
            "text/plain": [
              "<IPython.core.display.Math object>"
            ]
          },
          "metadata": {
            "tags": []
          }
        },
        {
          "output_type": "display_data",
          "data": {
            "text/latex": "$\\displaystyle  K_{[ACT2]} \\cdot K_{[ACT3]} \\cdot K_{[REP1]} \\cdot K_{[REP2]} \\cdot K_{[REP3]} \\cdot K_{[RNA_{pol}]} $",
            "text/plain": [
              "<IPython.core.display.Math object>"
            ]
          },
          "metadata": {
            "tags": []
          }
        },
        {
          "output_type": "display_data",
          "data": {
            "text/latex": "$\\displaystyle  K_{[ACT2]} \\cdot K_{[ACT4]} \\cdot K_{[REP1]} \\cdot K_{[REP2]} \\cdot K_{[REP3]} $",
            "text/plain": [
              "<IPython.core.display.Math object>"
            ]
          },
          "metadata": {
            "tags": []
          }
        },
        {
          "output_type": "display_data",
          "data": {
            "text/latex": "$\\displaystyle  K_{[ACT2]} \\cdot K_{[ACT4]} \\cdot K_{[REP1]} \\cdot K_{[REP2]} \\cdot K_{[REP3]} \\cdot K_{[RNA_{pol}]} $",
            "text/plain": [
              "<IPython.core.display.Math object>"
            ]
          },
          "metadata": {
            "tags": []
          }
        },
        {
          "output_type": "display_data",
          "data": {
            "text/latex": "$\\displaystyle  K_{[ACT3]} \\cdot K_{[ACT4]} \\cdot K_{[REP1]} \\cdot K_{[REP2]} \\cdot K_{[REP3]} $",
            "text/plain": [
              "<IPython.core.display.Math object>"
            ]
          },
          "metadata": {
            "tags": []
          }
        },
        {
          "output_type": "display_data",
          "data": {
            "text/latex": "$\\displaystyle  K_{[ACT3]} \\cdot K_{[ACT4]} \\cdot K_{[REP1]} \\cdot K_{[REP2]} \\cdot K_{[REP3]} \\cdot K_{[RNA_{pol}]} $",
            "text/plain": [
              "<IPython.core.display.Math object>"
            ]
          },
          "metadata": {
            "tags": []
          }
        },
        {
          "output_type": "display_data",
          "data": {
            "text/latex": "$\\displaystyle  K_{[ACT1]} \\cdot K_{[ACT2]} \\cdot K_{[ACT3]} \\cdot K_{[ACT4]} \\cdot K_{[REP1]} \\cdot K_{[REP2]} $",
            "text/plain": [
              "<IPython.core.display.Math object>"
            ]
          },
          "metadata": {
            "tags": []
          }
        },
        {
          "output_type": "display_data",
          "data": {
            "text/latex": "$\\displaystyle  K_{[ACT1]} \\cdot K_{[ACT2]} \\cdot K_{[ACT3]} \\cdot K_{[ACT4]} \\cdot K_{[REP1]} \\cdot K_{[REP2]} \\cdot K_{[RNA_{pol}]} $",
            "text/plain": [
              "<IPython.core.display.Math object>"
            ]
          },
          "metadata": {
            "tags": []
          }
        },
        {
          "output_type": "display_data",
          "data": {
            "text/latex": "$\\displaystyle  K_{[ACT1]} \\cdot K_{[ACT2]} \\cdot K_{[ACT3]} \\cdot K_{[ACT4]} \\cdot K_{[REP1]} \\cdot K_{[REP3]} $",
            "text/plain": [
              "<IPython.core.display.Math object>"
            ]
          },
          "metadata": {
            "tags": []
          }
        },
        {
          "output_type": "display_data",
          "data": {
            "text/latex": "$\\displaystyle  K_{[ACT1]} \\cdot K_{[ACT2]} \\cdot K_{[ACT3]} \\cdot K_{[ACT4]} \\cdot K_{[REP1]} \\cdot K_{[REP3]} \\cdot K_{[RNA_{pol}]} $",
            "text/plain": [
              "<IPython.core.display.Math object>"
            ]
          },
          "metadata": {
            "tags": []
          }
        },
        {
          "output_type": "display_data",
          "data": {
            "text/latex": "$\\displaystyle  K_{[ACT1]} \\cdot K_{[ACT2]} \\cdot K_{[ACT3]} \\cdot K_{[ACT4]} \\cdot K_{[REP2]} \\cdot K_{[REP3]} $",
            "text/plain": [
              "<IPython.core.display.Math object>"
            ]
          },
          "metadata": {
            "tags": []
          }
        },
        {
          "output_type": "display_data",
          "data": {
            "text/latex": "$\\displaystyle  K_{[ACT1]} \\cdot K_{[ACT2]} \\cdot K_{[ACT3]} \\cdot K_{[ACT4]} \\cdot K_{[REP2]} \\cdot K_{[REP3]} \\cdot K_{[RNA_{pol}]} $",
            "text/plain": [
              "<IPython.core.display.Math object>"
            ]
          },
          "metadata": {
            "tags": []
          }
        },
        {
          "output_type": "display_data",
          "data": {
            "text/latex": "$\\displaystyle  K_{[ACT1]} \\cdot K_{[ACT2]} \\cdot K_{[ACT3]} \\cdot K_{[REP1]} \\cdot K_{[REP2]} \\cdot K_{[REP3]} $",
            "text/plain": [
              "<IPython.core.display.Math object>"
            ]
          },
          "metadata": {
            "tags": []
          }
        },
        {
          "output_type": "display_data",
          "data": {
            "text/latex": "$\\displaystyle  K_{[ACT1]} \\cdot K_{[ACT2]} \\cdot K_{[ACT3]} \\cdot K_{[REP1]} \\cdot K_{[REP2]} \\cdot K_{[REP3]} \\cdot K_{[RNA_{pol}]} $",
            "text/plain": [
              "<IPython.core.display.Math object>"
            ]
          },
          "metadata": {
            "tags": []
          }
        },
        {
          "output_type": "display_data",
          "data": {
            "text/latex": "$\\displaystyle  K_{[ACT1]} \\cdot K_{[ACT2]} \\cdot K_{[ACT4]} \\cdot K_{[REP1]} \\cdot K_{[REP2]} \\cdot K_{[REP3]} $",
            "text/plain": [
              "<IPython.core.display.Math object>"
            ]
          },
          "metadata": {
            "tags": []
          }
        },
        {
          "output_type": "display_data",
          "data": {
            "text/latex": "$\\displaystyle  K_{[ACT1]} \\cdot K_{[ACT2]} \\cdot K_{[ACT4]} \\cdot K_{[REP1]} \\cdot K_{[REP2]} \\cdot K_{[REP3]} \\cdot K_{[RNA_{pol}]} $",
            "text/plain": [
              "<IPython.core.display.Math object>"
            ]
          },
          "metadata": {
            "tags": []
          }
        },
        {
          "output_type": "display_data",
          "data": {
            "text/latex": "$\\displaystyle  K_{[ACT1]} \\cdot K_{[ACT3]} \\cdot K_{[ACT4]} \\cdot K_{[REP1]} \\cdot K_{[REP2]} \\cdot K_{[REP3]} $",
            "text/plain": [
              "<IPython.core.display.Math object>"
            ]
          },
          "metadata": {
            "tags": []
          }
        },
        {
          "output_type": "display_data",
          "data": {
            "text/latex": "$\\displaystyle  K_{[ACT1]} \\cdot K_{[ACT3]} \\cdot K_{[ACT4]} \\cdot K_{[REP1]} \\cdot K_{[REP2]} \\cdot K_{[REP3]} \\cdot K_{[RNA_{pol}]} $",
            "text/plain": [
              "<IPython.core.display.Math object>"
            ]
          },
          "metadata": {
            "tags": []
          }
        },
        {
          "output_type": "display_data",
          "data": {
            "text/latex": "$\\displaystyle  K_{[ACT2]} \\cdot K_{[ACT3]} \\cdot K_{[ACT4]} \\cdot K_{[REP1]} \\cdot K_{[REP2]} \\cdot K_{[REP3]} $",
            "text/plain": [
              "<IPython.core.display.Math object>"
            ]
          },
          "metadata": {
            "tags": []
          }
        },
        {
          "output_type": "display_data",
          "data": {
            "text/latex": "$\\displaystyle  K_{[ACT2]} \\cdot K_{[ACT3]} \\cdot K_{[ACT4]} \\cdot K_{[REP1]} \\cdot K_{[REP2]} \\cdot K_{[REP3]} \\cdot K_{[RNA_{pol}]} $",
            "text/plain": [
              "<IPython.core.display.Math object>"
            ]
          },
          "metadata": {
            "tags": []
          }
        },
        {
          "output_type": "display_data",
          "data": {
            "text/latex": "$\\displaystyle  K_{[ACT1]} \\cdot K_{[ACT2]} \\cdot K_{[ACT3]} \\cdot K_{[ACT4]} \\cdot K_{[REP1]} \\cdot K_{[REP2]} \\cdot K_{[REP3]} $",
            "text/plain": [
              "<IPython.core.display.Math object>"
            ]
          },
          "metadata": {
            "tags": []
          }
        },
        {
          "output_type": "display_data",
          "data": {
            "text/latex": "$\\displaystyle  K_{[ACT1]} \\cdot K_{[ACT2]} \\cdot K_{[ACT3]} \\cdot K_{[ACT4]} \\cdot K_{[REP1]} \\cdot K_{[REP2]} \\cdot K_{[REP3]} \\cdot K_{[RNA_{pol}]} $",
            "text/plain": [
              "<IPython.core.display.Math object>"
            ]
          },
          "metadata": {
            "tags": []
          }
        }
      ]
    },
    {
      "cell_type": "code",
      "metadata": {
        "id": "uvbvEKkM8hyq",
        "outputId": "0d6a09cf-9142-405c-92ac-7c5a0524e00f"
      },
      "source": [
        "## Generating the T matrix\n",
        "\n",
        "T_matrix = []\n",
        "\n",
        "for line in B_matrix:\n",
        "\n",
        "    if 'TF' in line and 'RNA' in line:  \n",
        "        t_value = '1'\n",
        "        T_matrix.append('$$ '+t_value+' $$')\n",
        "    else:\n",
        "        t_value = '0'\n",
        "        T_matrix.append('$$ '+t_value+' $$')\n",
        "\n",
        "for t in T_matrix:\n",
        "\n",
        "    display(Math(t))"
      ],
      "execution_count": null,
      "outputs": [
        {
          "output_type": "display_data",
          "data": {
            "text/latex": "$\\displaystyle  0 $",
            "text/plain": [
              "<IPython.core.display.Math object>"
            ]
          },
          "metadata": {
            "tags": []
          }
        },
        {
          "output_type": "display_data",
          "data": {
            "text/latex": "$\\displaystyle  0 $",
            "text/plain": [
              "<IPython.core.display.Math object>"
            ]
          },
          "metadata": {
            "tags": []
          }
        },
        {
          "output_type": "display_data",
          "data": {
            "text/latex": "$\\displaystyle  0 $",
            "text/plain": [
              "<IPython.core.display.Math object>"
            ]
          },
          "metadata": {
            "tags": []
          }
        },
        {
          "output_type": "display_data",
          "data": {
            "text/latex": "$\\displaystyle  0 $",
            "text/plain": [
              "<IPython.core.display.Math object>"
            ]
          },
          "metadata": {
            "tags": []
          }
        },
        {
          "output_type": "display_data",
          "data": {
            "text/latex": "$\\displaystyle  0 $",
            "text/plain": [
              "<IPython.core.display.Math object>"
            ]
          },
          "metadata": {
            "tags": []
          }
        },
        {
          "output_type": "display_data",
          "data": {
            "text/latex": "$\\displaystyle  0 $",
            "text/plain": [
              "<IPython.core.display.Math object>"
            ]
          },
          "metadata": {
            "tags": []
          }
        },
        {
          "output_type": "display_data",
          "data": {
            "text/latex": "$\\displaystyle  0 $",
            "text/plain": [
              "<IPython.core.display.Math object>"
            ]
          },
          "metadata": {
            "tags": []
          }
        },
        {
          "output_type": "display_data",
          "data": {
            "text/latex": "$\\displaystyle  0 $",
            "text/plain": [
              "<IPython.core.display.Math object>"
            ]
          },
          "metadata": {
            "tags": []
          }
        },
        {
          "output_type": "display_data",
          "data": {
            "text/latex": "$\\displaystyle  0 $",
            "text/plain": [
              "<IPython.core.display.Math object>"
            ]
          },
          "metadata": {
            "tags": []
          }
        },
        {
          "output_type": "display_data",
          "data": {
            "text/latex": "$\\displaystyle  0 $",
            "text/plain": [
              "<IPython.core.display.Math object>"
            ]
          },
          "metadata": {
            "tags": []
          }
        },
        {
          "output_type": "display_data",
          "data": {
            "text/latex": "$\\displaystyle  0 $",
            "text/plain": [
              "<IPython.core.display.Math object>"
            ]
          },
          "metadata": {
            "tags": []
          }
        },
        {
          "output_type": "display_data",
          "data": {
            "text/latex": "$\\displaystyle  0 $",
            "text/plain": [
              "<IPython.core.display.Math object>"
            ]
          },
          "metadata": {
            "tags": []
          }
        },
        {
          "output_type": "display_data",
          "data": {
            "text/latex": "$\\displaystyle  0 $",
            "text/plain": [
              "<IPython.core.display.Math object>"
            ]
          },
          "metadata": {
            "tags": []
          }
        },
        {
          "output_type": "display_data",
          "data": {
            "text/latex": "$\\displaystyle  0 $",
            "text/plain": [
              "<IPython.core.display.Math object>"
            ]
          },
          "metadata": {
            "tags": []
          }
        },
        {
          "output_type": "display_data",
          "data": {
            "text/latex": "$\\displaystyle  0 $",
            "text/plain": [
              "<IPython.core.display.Math object>"
            ]
          },
          "metadata": {
            "tags": []
          }
        },
        {
          "output_type": "display_data",
          "data": {
            "text/latex": "$\\displaystyle  0 $",
            "text/plain": [
              "<IPython.core.display.Math object>"
            ]
          },
          "metadata": {
            "tags": []
          }
        },
        {
          "output_type": "display_data",
          "data": {
            "text/latex": "$\\displaystyle  0 $",
            "text/plain": [
              "<IPython.core.display.Math object>"
            ]
          },
          "metadata": {
            "tags": []
          }
        },
        {
          "output_type": "display_data",
          "data": {
            "text/latex": "$\\displaystyle  0 $",
            "text/plain": [
              "<IPython.core.display.Math object>"
            ]
          },
          "metadata": {
            "tags": []
          }
        },
        {
          "output_type": "display_data",
          "data": {
            "text/latex": "$\\displaystyle  0 $",
            "text/plain": [
              "<IPython.core.display.Math object>"
            ]
          },
          "metadata": {
            "tags": []
          }
        },
        {
          "output_type": "display_data",
          "data": {
            "text/latex": "$\\displaystyle  0 $",
            "text/plain": [
              "<IPython.core.display.Math object>"
            ]
          },
          "metadata": {
            "tags": []
          }
        },
        {
          "output_type": "display_data",
          "data": {
            "text/latex": "$\\displaystyle  0 $",
            "text/plain": [
              "<IPython.core.display.Math object>"
            ]
          },
          "metadata": {
            "tags": []
          }
        },
        {
          "output_type": "display_data",
          "data": {
            "text/latex": "$\\displaystyle  0 $",
            "text/plain": [
              "<IPython.core.display.Math object>"
            ]
          },
          "metadata": {
            "tags": []
          }
        },
        {
          "output_type": "display_data",
          "data": {
            "text/latex": "$\\displaystyle  0 $",
            "text/plain": [
              "<IPython.core.display.Math object>"
            ]
          },
          "metadata": {
            "tags": []
          }
        },
        {
          "output_type": "display_data",
          "data": {
            "text/latex": "$\\displaystyle  0 $",
            "text/plain": [
              "<IPython.core.display.Math object>"
            ]
          },
          "metadata": {
            "tags": []
          }
        },
        {
          "output_type": "display_data",
          "data": {
            "text/latex": "$\\displaystyle  0 $",
            "text/plain": [
              "<IPython.core.display.Math object>"
            ]
          },
          "metadata": {
            "tags": []
          }
        },
        {
          "output_type": "display_data",
          "data": {
            "text/latex": "$\\displaystyle  0 $",
            "text/plain": [
              "<IPython.core.display.Math object>"
            ]
          },
          "metadata": {
            "tags": []
          }
        },
        {
          "output_type": "display_data",
          "data": {
            "text/latex": "$\\displaystyle  0 $",
            "text/plain": [
              "<IPython.core.display.Math object>"
            ]
          },
          "metadata": {
            "tags": []
          }
        },
        {
          "output_type": "display_data",
          "data": {
            "text/latex": "$\\displaystyle  0 $",
            "text/plain": [
              "<IPython.core.display.Math object>"
            ]
          },
          "metadata": {
            "tags": []
          }
        },
        {
          "output_type": "display_data",
          "data": {
            "text/latex": "$\\displaystyle  0 $",
            "text/plain": [
              "<IPython.core.display.Math object>"
            ]
          },
          "metadata": {
            "tags": []
          }
        },
        {
          "output_type": "display_data",
          "data": {
            "text/latex": "$\\displaystyle  0 $",
            "text/plain": [
              "<IPython.core.display.Math object>"
            ]
          },
          "metadata": {
            "tags": []
          }
        },
        {
          "output_type": "display_data",
          "data": {
            "text/latex": "$\\displaystyle  0 $",
            "text/plain": [
              "<IPython.core.display.Math object>"
            ]
          },
          "metadata": {
            "tags": []
          }
        },
        {
          "output_type": "display_data",
          "data": {
            "text/latex": "$\\displaystyle  0 $",
            "text/plain": [
              "<IPython.core.display.Math object>"
            ]
          },
          "metadata": {
            "tags": []
          }
        },
        {
          "output_type": "display_data",
          "data": {
            "text/latex": "$\\displaystyle  0 $",
            "text/plain": [
              "<IPython.core.display.Math object>"
            ]
          },
          "metadata": {
            "tags": []
          }
        },
        {
          "output_type": "display_data",
          "data": {
            "text/latex": "$\\displaystyle  0 $",
            "text/plain": [
              "<IPython.core.display.Math object>"
            ]
          },
          "metadata": {
            "tags": []
          }
        },
        {
          "output_type": "display_data",
          "data": {
            "text/latex": "$\\displaystyle  0 $",
            "text/plain": [
              "<IPython.core.display.Math object>"
            ]
          },
          "metadata": {
            "tags": []
          }
        },
        {
          "output_type": "display_data",
          "data": {
            "text/latex": "$\\displaystyle  0 $",
            "text/plain": [
              "<IPython.core.display.Math object>"
            ]
          },
          "metadata": {
            "tags": []
          }
        },
        {
          "output_type": "display_data",
          "data": {
            "text/latex": "$\\displaystyle  0 $",
            "text/plain": [
              "<IPython.core.display.Math object>"
            ]
          },
          "metadata": {
            "tags": []
          }
        },
        {
          "output_type": "display_data",
          "data": {
            "text/latex": "$\\displaystyle  0 $",
            "text/plain": [
              "<IPython.core.display.Math object>"
            ]
          },
          "metadata": {
            "tags": []
          }
        },
        {
          "output_type": "display_data",
          "data": {
            "text/latex": "$\\displaystyle  0 $",
            "text/plain": [
              "<IPython.core.display.Math object>"
            ]
          },
          "metadata": {
            "tags": []
          }
        },
        {
          "output_type": "display_data",
          "data": {
            "text/latex": "$\\displaystyle  0 $",
            "text/plain": [
              "<IPython.core.display.Math object>"
            ]
          },
          "metadata": {
            "tags": []
          }
        },
        {
          "output_type": "display_data",
          "data": {
            "text/latex": "$\\displaystyle  0 $",
            "text/plain": [
              "<IPython.core.display.Math object>"
            ]
          },
          "metadata": {
            "tags": []
          }
        },
        {
          "output_type": "display_data",
          "data": {
            "text/latex": "$\\displaystyle  0 $",
            "text/plain": [
              "<IPython.core.display.Math object>"
            ]
          },
          "metadata": {
            "tags": []
          }
        },
        {
          "output_type": "display_data",
          "data": {
            "text/latex": "$\\displaystyle  0 $",
            "text/plain": [
              "<IPython.core.display.Math object>"
            ]
          },
          "metadata": {
            "tags": []
          }
        },
        {
          "output_type": "display_data",
          "data": {
            "text/latex": "$\\displaystyle  0 $",
            "text/plain": [
              "<IPython.core.display.Math object>"
            ]
          },
          "metadata": {
            "tags": []
          }
        },
        {
          "output_type": "display_data",
          "data": {
            "text/latex": "$\\displaystyle  0 $",
            "text/plain": [
              "<IPython.core.display.Math object>"
            ]
          },
          "metadata": {
            "tags": []
          }
        },
        {
          "output_type": "display_data",
          "data": {
            "text/latex": "$\\displaystyle  0 $",
            "text/plain": [
              "<IPython.core.display.Math object>"
            ]
          },
          "metadata": {
            "tags": []
          }
        },
        {
          "output_type": "display_data",
          "data": {
            "text/latex": "$\\displaystyle  0 $",
            "text/plain": [
              "<IPython.core.display.Math object>"
            ]
          },
          "metadata": {
            "tags": []
          }
        },
        {
          "output_type": "display_data",
          "data": {
            "text/latex": "$\\displaystyle  0 $",
            "text/plain": [
              "<IPython.core.display.Math object>"
            ]
          },
          "metadata": {
            "tags": []
          }
        },
        {
          "output_type": "display_data",
          "data": {
            "text/latex": "$\\displaystyle  0 $",
            "text/plain": [
              "<IPython.core.display.Math object>"
            ]
          },
          "metadata": {
            "tags": []
          }
        },
        {
          "output_type": "display_data",
          "data": {
            "text/latex": "$\\displaystyle  0 $",
            "text/plain": [
              "<IPython.core.display.Math object>"
            ]
          },
          "metadata": {
            "tags": []
          }
        },
        {
          "output_type": "display_data",
          "data": {
            "text/latex": "$\\displaystyle  0 $",
            "text/plain": [
              "<IPython.core.display.Math object>"
            ]
          },
          "metadata": {
            "tags": []
          }
        },
        {
          "output_type": "display_data",
          "data": {
            "text/latex": "$\\displaystyle  0 $",
            "text/plain": [
              "<IPython.core.display.Math object>"
            ]
          },
          "metadata": {
            "tags": []
          }
        },
        {
          "output_type": "display_data",
          "data": {
            "text/latex": "$\\displaystyle  0 $",
            "text/plain": [
              "<IPython.core.display.Math object>"
            ]
          },
          "metadata": {
            "tags": []
          }
        },
        {
          "output_type": "display_data",
          "data": {
            "text/latex": "$\\displaystyle  0 $",
            "text/plain": [
              "<IPython.core.display.Math object>"
            ]
          },
          "metadata": {
            "tags": []
          }
        },
        {
          "output_type": "display_data",
          "data": {
            "text/latex": "$\\displaystyle  0 $",
            "text/plain": [
              "<IPython.core.display.Math object>"
            ]
          },
          "metadata": {
            "tags": []
          }
        },
        {
          "output_type": "display_data",
          "data": {
            "text/latex": "$\\displaystyle  0 $",
            "text/plain": [
              "<IPython.core.display.Math object>"
            ]
          },
          "metadata": {
            "tags": []
          }
        },
        {
          "output_type": "display_data",
          "data": {
            "text/latex": "$\\displaystyle  0 $",
            "text/plain": [
              "<IPython.core.display.Math object>"
            ]
          },
          "metadata": {
            "tags": []
          }
        },
        {
          "output_type": "display_data",
          "data": {
            "text/latex": "$\\displaystyle  0 $",
            "text/plain": [
              "<IPython.core.display.Math object>"
            ]
          },
          "metadata": {
            "tags": []
          }
        },
        {
          "output_type": "display_data",
          "data": {
            "text/latex": "$\\displaystyle  0 $",
            "text/plain": [
              "<IPython.core.display.Math object>"
            ]
          },
          "metadata": {
            "tags": []
          }
        },
        {
          "output_type": "display_data",
          "data": {
            "text/latex": "$\\displaystyle  0 $",
            "text/plain": [
              "<IPython.core.display.Math object>"
            ]
          },
          "metadata": {
            "tags": []
          }
        },
        {
          "output_type": "display_data",
          "data": {
            "text/latex": "$\\displaystyle  0 $",
            "text/plain": [
              "<IPython.core.display.Math object>"
            ]
          },
          "metadata": {
            "tags": []
          }
        },
        {
          "output_type": "display_data",
          "data": {
            "text/latex": "$\\displaystyle  0 $",
            "text/plain": [
              "<IPython.core.display.Math object>"
            ]
          },
          "metadata": {
            "tags": []
          }
        },
        {
          "output_type": "display_data",
          "data": {
            "text/latex": "$\\displaystyle  0 $",
            "text/plain": [
              "<IPython.core.display.Math object>"
            ]
          },
          "metadata": {
            "tags": []
          }
        },
        {
          "output_type": "display_data",
          "data": {
            "text/latex": "$\\displaystyle  0 $",
            "text/plain": [
              "<IPython.core.display.Math object>"
            ]
          },
          "metadata": {
            "tags": []
          }
        },
        {
          "output_type": "display_data",
          "data": {
            "text/latex": "$\\displaystyle  0 $",
            "text/plain": [
              "<IPython.core.display.Math object>"
            ]
          },
          "metadata": {
            "tags": []
          }
        },
        {
          "output_type": "display_data",
          "data": {
            "text/latex": "$\\displaystyle  0 $",
            "text/plain": [
              "<IPython.core.display.Math object>"
            ]
          },
          "metadata": {
            "tags": []
          }
        },
        {
          "output_type": "display_data",
          "data": {
            "text/latex": "$\\displaystyle  0 $",
            "text/plain": [
              "<IPython.core.display.Math object>"
            ]
          },
          "metadata": {
            "tags": []
          }
        },
        {
          "output_type": "display_data",
          "data": {
            "text/latex": "$\\displaystyle  0 $",
            "text/plain": [
              "<IPython.core.display.Math object>"
            ]
          },
          "metadata": {
            "tags": []
          }
        },
        {
          "output_type": "display_data",
          "data": {
            "text/latex": "$\\displaystyle  0 $",
            "text/plain": [
              "<IPython.core.display.Math object>"
            ]
          },
          "metadata": {
            "tags": []
          }
        },
        {
          "output_type": "display_data",
          "data": {
            "text/latex": "$\\displaystyle  0 $",
            "text/plain": [
              "<IPython.core.display.Math object>"
            ]
          },
          "metadata": {
            "tags": []
          }
        },
        {
          "output_type": "display_data",
          "data": {
            "text/latex": "$\\displaystyle  0 $",
            "text/plain": [
              "<IPython.core.display.Math object>"
            ]
          },
          "metadata": {
            "tags": []
          }
        },
        {
          "output_type": "display_data",
          "data": {
            "text/latex": "$\\displaystyle  0 $",
            "text/plain": [
              "<IPython.core.display.Math object>"
            ]
          },
          "metadata": {
            "tags": []
          }
        },
        {
          "output_type": "display_data",
          "data": {
            "text/latex": "$\\displaystyle  0 $",
            "text/plain": [
              "<IPython.core.display.Math object>"
            ]
          },
          "metadata": {
            "tags": []
          }
        },
        {
          "output_type": "display_data",
          "data": {
            "text/latex": "$\\displaystyle  0 $",
            "text/plain": [
              "<IPython.core.display.Math object>"
            ]
          },
          "metadata": {
            "tags": []
          }
        },
        {
          "output_type": "display_data",
          "data": {
            "text/latex": "$\\displaystyle  0 $",
            "text/plain": [
              "<IPython.core.display.Math object>"
            ]
          },
          "metadata": {
            "tags": []
          }
        },
        {
          "output_type": "display_data",
          "data": {
            "text/latex": "$\\displaystyle  0 $",
            "text/plain": [
              "<IPython.core.display.Math object>"
            ]
          },
          "metadata": {
            "tags": []
          }
        },
        {
          "output_type": "display_data",
          "data": {
            "text/latex": "$\\displaystyle  0 $",
            "text/plain": [
              "<IPython.core.display.Math object>"
            ]
          },
          "metadata": {
            "tags": []
          }
        },
        {
          "output_type": "display_data",
          "data": {
            "text/latex": "$\\displaystyle  0 $",
            "text/plain": [
              "<IPython.core.display.Math object>"
            ]
          },
          "metadata": {
            "tags": []
          }
        },
        {
          "output_type": "display_data",
          "data": {
            "text/latex": "$\\displaystyle  0 $",
            "text/plain": [
              "<IPython.core.display.Math object>"
            ]
          },
          "metadata": {
            "tags": []
          }
        },
        {
          "output_type": "display_data",
          "data": {
            "text/latex": "$\\displaystyle  0 $",
            "text/plain": [
              "<IPython.core.display.Math object>"
            ]
          },
          "metadata": {
            "tags": []
          }
        },
        {
          "output_type": "display_data",
          "data": {
            "text/latex": "$\\displaystyle  0 $",
            "text/plain": [
              "<IPython.core.display.Math object>"
            ]
          },
          "metadata": {
            "tags": []
          }
        },
        {
          "output_type": "display_data",
          "data": {
            "text/latex": "$\\displaystyle  0 $",
            "text/plain": [
              "<IPython.core.display.Math object>"
            ]
          },
          "metadata": {
            "tags": []
          }
        },
        {
          "output_type": "display_data",
          "data": {
            "text/latex": "$\\displaystyle  0 $",
            "text/plain": [
              "<IPython.core.display.Math object>"
            ]
          },
          "metadata": {
            "tags": []
          }
        },
        {
          "output_type": "display_data",
          "data": {
            "text/latex": "$\\displaystyle  0 $",
            "text/plain": [
              "<IPython.core.display.Math object>"
            ]
          },
          "metadata": {
            "tags": []
          }
        },
        {
          "output_type": "display_data",
          "data": {
            "text/latex": "$\\displaystyle  0 $",
            "text/plain": [
              "<IPython.core.display.Math object>"
            ]
          },
          "metadata": {
            "tags": []
          }
        },
        {
          "output_type": "display_data",
          "data": {
            "text/latex": "$\\displaystyle  0 $",
            "text/plain": [
              "<IPython.core.display.Math object>"
            ]
          },
          "metadata": {
            "tags": []
          }
        },
        {
          "output_type": "display_data",
          "data": {
            "text/latex": "$\\displaystyle  0 $",
            "text/plain": [
              "<IPython.core.display.Math object>"
            ]
          },
          "metadata": {
            "tags": []
          }
        },
        {
          "output_type": "display_data",
          "data": {
            "text/latex": "$\\displaystyle  0 $",
            "text/plain": [
              "<IPython.core.display.Math object>"
            ]
          },
          "metadata": {
            "tags": []
          }
        },
        {
          "output_type": "display_data",
          "data": {
            "text/latex": "$\\displaystyle  0 $",
            "text/plain": [
              "<IPython.core.display.Math object>"
            ]
          },
          "metadata": {
            "tags": []
          }
        },
        {
          "output_type": "display_data",
          "data": {
            "text/latex": "$\\displaystyle  0 $",
            "text/plain": [
              "<IPython.core.display.Math object>"
            ]
          },
          "metadata": {
            "tags": []
          }
        },
        {
          "output_type": "display_data",
          "data": {
            "text/latex": "$\\displaystyle  0 $",
            "text/plain": [
              "<IPython.core.display.Math object>"
            ]
          },
          "metadata": {
            "tags": []
          }
        },
        {
          "output_type": "display_data",
          "data": {
            "text/latex": "$\\displaystyle  0 $",
            "text/plain": [
              "<IPython.core.display.Math object>"
            ]
          },
          "metadata": {
            "tags": []
          }
        },
        {
          "output_type": "display_data",
          "data": {
            "text/latex": "$\\displaystyle  0 $",
            "text/plain": [
              "<IPython.core.display.Math object>"
            ]
          },
          "metadata": {
            "tags": []
          }
        },
        {
          "output_type": "display_data",
          "data": {
            "text/latex": "$\\displaystyle  0 $",
            "text/plain": [
              "<IPython.core.display.Math object>"
            ]
          },
          "metadata": {
            "tags": []
          }
        },
        {
          "output_type": "display_data",
          "data": {
            "text/latex": "$\\displaystyle  0 $",
            "text/plain": [
              "<IPython.core.display.Math object>"
            ]
          },
          "metadata": {
            "tags": []
          }
        },
        {
          "output_type": "display_data",
          "data": {
            "text/latex": "$\\displaystyle  0 $",
            "text/plain": [
              "<IPython.core.display.Math object>"
            ]
          },
          "metadata": {
            "tags": []
          }
        },
        {
          "output_type": "display_data",
          "data": {
            "text/latex": "$\\displaystyle  0 $",
            "text/plain": [
              "<IPython.core.display.Math object>"
            ]
          },
          "metadata": {
            "tags": []
          }
        },
        {
          "output_type": "display_data",
          "data": {
            "text/latex": "$\\displaystyle  0 $",
            "text/plain": [
              "<IPython.core.display.Math object>"
            ]
          },
          "metadata": {
            "tags": []
          }
        },
        {
          "output_type": "display_data",
          "data": {
            "text/latex": "$\\displaystyle  0 $",
            "text/plain": [
              "<IPython.core.display.Math object>"
            ]
          },
          "metadata": {
            "tags": []
          }
        },
        {
          "output_type": "display_data",
          "data": {
            "text/latex": "$\\displaystyle  0 $",
            "text/plain": [
              "<IPython.core.display.Math object>"
            ]
          },
          "metadata": {
            "tags": []
          }
        },
        {
          "output_type": "display_data",
          "data": {
            "text/latex": "$\\displaystyle  0 $",
            "text/plain": [
              "<IPython.core.display.Math object>"
            ]
          },
          "metadata": {
            "tags": []
          }
        },
        {
          "output_type": "display_data",
          "data": {
            "text/latex": "$\\displaystyle  0 $",
            "text/plain": [
              "<IPython.core.display.Math object>"
            ]
          },
          "metadata": {
            "tags": []
          }
        },
        {
          "output_type": "display_data",
          "data": {
            "text/latex": "$\\displaystyle  0 $",
            "text/plain": [
              "<IPython.core.display.Math object>"
            ]
          },
          "metadata": {
            "tags": []
          }
        },
        {
          "output_type": "display_data",
          "data": {
            "text/latex": "$\\displaystyle  0 $",
            "text/plain": [
              "<IPython.core.display.Math object>"
            ]
          },
          "metadata": {
            "tags": []
          }
        },
        {
          "output_type": "display_data",
          "data": {
            "text/latex": "$\\displaystyle  0 $",
            "text/plain": [
              "<IPython.core.display.Math object>"
            ]
          },
          "metadata": {
            "tags": []
          }
        },
        {
          "output_type": "display_data",
          "data": {
            "text/latex": "$\\displaystyle  0 $",
            "text/plain": [
              "<IPython.core.display.Math object>"
            ]
          },
          "metadata": {
            "tags": []
          }
        },
        {
          "output_type": "display_data",
          "data": {
            "text/latex": "$\\displaystyle  0 $",
            "text/plain": [
              "<IPython.core.display.Math object>"
            ]
          },
          "metadata": {
            "tags": []
          }
        },
        {
          "output_type": "display_data",
          "data": {
            "text/latex": "$\\displaystyle  0 $",
            "text/plain": [
              "<IPython.core.display.Math object>"
            ]
          },
          "metadata": {
            "tags": []
          }
        },
        {
          "output_type": "display_data",
          "data": {
            "text/latex": "$\\displaystyle  0 $",
            "text/plain": [
              "<IPython.core.display.Math object>"
            ]
          },
          "metadata": {
            "tags": []
          }
        },
        {
          "output_type": "display_data",
          "data": {
            "text/latex": "$\\displaystyle  0 $",
            "text/plain": [
              "<IPython.core.display.Math object>"
            ]
          },
          "metadata": {
            "tags": []
          }
        },
        {
          "output_type": "display_data",
          "data": {
            "text/latex": "$\\displaystyle  0 $",
            "text/plain": [
              "<IPython.core.display.Math object>"
            ]
          },
          "metadata": {
            "tags": []
          }
        },
        {
          "output_type": "display_data",
          "data": {
            "text/latex": "$\\displaystyle  0 $",
            "text/plain": [
              "<IPython.core.display.Math object>"
            ]
          },
          "metadata": {
            "tags": []
          }
        },
        {
          "output_type": "display_data",
          "data": {
            "text/latex": "$\\displaystyle  0 $",
            "text/plain": [
              "<IPython.core.display.Math object>"
            ]
          },
          "metadata": {
            "tags": []
          }
        },
        {
          "output_type": "display_data",
          "data": {
            "text/latex": "$\\displaystyle  0 $",
            "text/plain": [
              "<IPython.core.display.Math object>"
            ]
          },
          "metadata": {
            "tags": []
          }
        },
        {
          "output_type": "display_data",
          "data": {
            "text/latex": "$\\displaystyle  0 $",
            "text/plain": [
              "<IPython.core.display.Math object>"
            ]
          },
          "metadata": {
            "tags": []
          }
        },
        {
          "output_type": "display_data",
          "data": {
            "text/latex": "$\\displaystyle  0 $",
            "text/plain": [
              "<IPython.core.display.Math object>"
            ]
          },
          "metadata": {
            "tags": []
          }
        },
        {
          "output_type": "display_data",
          "data": {
            "text/latex": "$\\displaystyle  0 $",
            "text/plain": [
              "<IPython.core.display.Math object>"
            ]
          },
          "metadata": {
            "tags": []
          }
        },
        {
          "output_type": "display_data",
          "data": {
            "text/latex": "$\\displaystyle  0 $",
            "text/plain": [
              "<IPython.core.display.Math object>"
            ]
          },
          "metadata": {
            "tags": []
          }
        },
        {
          "output_type": "display_data",
          "data": {
            "text/latex": "$\\displaystyle  0 $",
            "text/plain": [
              "<IPython.core.display.Math object>"
            ]
          },
          "metadata": {
            "tags": []
          }
        },
        {
          "output_type": "display_data",
          "data": {
            "text/latex": "$\\displaystyle  0 $",
            "text/plain": [
              "<IPython.core.display.Math object>"
            ]
          },
          "metadata": {
            "tags": []
          }
        },
        {
          "output_type": "display_data",
          "data": {
            "text/latex": "$\\displaystyle  0 $",
            "text/plain": [
              "<IPython.core.display.Math object>"
            ]
          },
          "metadata": {
            "tags": []
          }
        },
        {
          "output_type": "display_data",
          "data": {
            "text/latex": "$\\displaystyle  0 $",
            "text/plain": [
              "<IPython.core.display.Math object>"
            ]
          },
          "metadata": {
            "tags": []
          }
        },
        {
          "output_type": "display_data",
          "data": {
            "text/latex": "$\\displaystyle  0 $",
            "text/plain": [
              "<IPython.core.display.Math object>"
            ]
          },
          "metadata": {
            "tags": []
          }
        },
        {
          "output_type": "display_data",
          "data": {
            "text/latex": "$\\displaystyle  0 $",
            "text/plain": [
              "<IPython.core.display.Math object>"
            ]
          },
          "metadata": {
            "tags": []
          }
        },
        {
          "output_type": "display_data",
          "data": {
            "text/latex": "$\\displaystyle  0 $",
            "text/plain": [
              "<IPython.core.display.Math object>"
            ]
          },
          "metadata": {
            "tags": []
          }
        },
        {
          "output_type": "display_data",
          "data": {
            "text/latex": "$\\displaystyle  0 $",
            "text/plain": [
              "<IPython.core.display.Math object>"
            ]
          },
          "metadata": {
            "tags": []
          }
        },
        {
          "output_type": "display_data",
          "data": {
            "text/latex": "$\\displaystyle  0 $",
            "text/plain": [
              "<IPython.core.display.Math object>"
            ]
          },
          "metadata": {
            "tags": []
          }
        },
        {
          "output_type": "display_data",
          "data": {
            "text/latex": "$\\displaystyle  0 $",
            "text/plain": [
              "<IPython.core.display.Math object>"
            ]
          },
          "metadata": {
            "tags": []
          }
        },
        {
          "output_type": "display_data",
          "data": {
            "text/latex": "$\\displaystyle  0 $",
            "text/plain": [
              "<IPython.core.display.Math object>"
            ]
          },
          "metadata": {
            "tags": []
          }
        },
        {
          "output_type": "display_data",
          "data": {
            "text/latex": "$\\displaystyle  0 $",
            "text/plain": [
              "<IPython.core.display.Math object>"
            ]
          },
          "metadata": {
            "tags": []
          }
        },
        {
          "output_type": "display_data",
          "data": {
            "text/latex": "$\\displaystyle  0 $",
            "text/plain": [
              "<IPython.core.display.Math object>"
            ]
          },
          "metadata": {
            "tags": []
          }
        },
        {
          "output_type": "display_data",
          "data": {
            "text/latex": "$\\displaystyle  0 $",
            "text/plain": [
              "<IPython.core.display.Math object>"
            ]
          },
          "metadata": {
            "tags": []
          }
        },
        {
          "output_type": "display_data",
          "data": {
            "text/latex": "$\\displaystyle  0 $",
            "text/plain": [
              "<IPython.core.display.Math object>"
            ]
          },
          "metadata": {
            "tags": []
          }
        },
        {
          "output_type": "display_data",
          "data": {
            "text/latex": "$\\displaystyle  0 $",
            "text/plain": [
              "<IPython.core.display.Math object>"
            ]
          },
          "metadata": {
            "tags": []
          }
        },
        {
          "output_type": "display_data",
          "data": {
            "text/latex": "$\\displaystyle  0 $",
            "text/plain": [
              "<IPython.core.display.Math object>"
            ]
          },
          "metadata": {
            "tags": []
          }
        },
        {
          "output_type": "display_data",
          "data": {
            "text/latex": "$\\displaystyle  0 $",
            "text/plain": [
              "<IPython.core.display.Math object>"
            ]
          },
          "metadata": {
            "tags": []
          }
        },
        {
          "output_type": "display_data",
          "data": {
            "text/latex": "$\\displaystyle  0 $",
            "text/plain": [
              "<IPython.core.display.Math object>"
            ]
          },
          "metadata": {
            "tags": []
          }
        },
        {
          "output_type": "display_data",
          "data": {
            "text/latex": "$\\displaystyle  0 $",
            "text/plain": [
              "<IPython.core.display.Math object>"
            ]
          },
          "metadata": {
            "tags": []
          }
        },
        {
          "output_type": "display_data",
          "data": {
            "text/latex": "$\\displaystyle  0 $",
            "text/plain": [
              "<IPython.core.display.Math object>"
            ]
          },
          "metadata": {
            "tags": []
          }
        },
        {
          "output_type": "display_data",
          "data": {
            "text/latex": "$\\displaystyle  0 $",
            "text/plain": [
              "<IPython.core.display.Math object>"
            ]
          },
          "metadata": {
            "tags": []
          }
        },
        {
          "output_type": "display_data",
          "data": {
            "text/latex": "$\\displaystyle  0 $",
            "text/plain": [
              "<IPython.core.display.Math object>"
            ]
          },
          "metadata": {
            "tags": []
          }
        },
        {
          "output_type": "display_data",
          "data": {
            "text/latex": "$\\displaystyle  0 $",
            "text/plain": [
              "<IPython.core.display.Math object>"
            ]
          },
          "metadata": {
            "tags": []
          }
        },
        {
          "output_type": "display_data",
          "data": {
            "text/latex": "$\\displaystyle  0 $",
            "text/plain": [
              "<IPython.core.display.Math object>"
            ]
          },
          "metadata": {
            "tags": []
          }
        },
        {
          "output_type": "display_data",
          "data": {
            "text/latex": "$\\displaystyle  0 $",
            "text/plain": [
              "<IPython.core.display.Math object>"
            ]
          },
          "metadata": {
            "tags": []
          }
        },
        {
          "output_type": "display_data",
          "data": {
            "text/latex": "$\\displaystyle  0 $",
            "text/plain": [
              "<IPython.core.display.Math object>"
            ]
          },
          "metadata": {
            "tags": []
          }
        },
        {
          "output_type": "display_data",
          "data": {
            "text/latex": "$\\displaystyle  0 $",
            "text/plain": [
              "<IPython.core.display.Math object>"
            ]
          },
          "metadata": {
            "tags": []
          }
        },
        {
          "output_type": "display_data",
          "data": {
            "text/latex": "$\\displaystyle  0 $",
            "text/plain": [
              "<IPython.core.display.Math object>"
            ]
          },
          "metadata": {
            "tags": []
          }
        },
        {
          "output_type": "display_data",
          "data": {
            "text/latex": "$\\displaystyle  0 $",
            "text/plain": [
              "<IPython.core.display.Math object>"
            ]
          },
          "metadata": {
            "tags": []
          }
        },
        {
          "output_type": "display_data",
          "data": {
            "text/latex": "$\\displaystyle  0 $",
            "text/plain": [
              "<IPython.core.display.Math object>"
            ]
          },
          "metadata": {
            "tags": []
          }
        },
        {
          "output_type": "display_data",
          "data": {
            "text/latex": "$\\displaystyle  0 $",
            "text/plain": [
              "<IPython.core.display.Math object>"
            ]
          },
          "metadata": {
            "tags": []
          }
        },
        {
          "output_type": "display_data",
          "data": {
            "text/latex": "$\\displaystyle  0 $",
            "text/plain": [
              "<IPython.core.display.Math object>"
            ]
          },
          "metadata": {
            "tags": []
          }
        },
        {
          "output_type": "display_data",
          "data": {
            "text/latex": "$\\displaystyle  0 $",
            "text/plain": [
              "<IPython.core.display.Math object>"
            ]
          },
          "metadata": {
            "tags": []
          }
        },
        {
          "output_type": "display_data",
          "data": {
            "text/latex": "$\\displaystyle  0 $",
            "text/plain": [
              "<IPython.core.display.Math object>"
            ]
          },
          "metadata": {
            "tags": []
          }
        },
        {
          "output_type": "display_data",
          "data": {
            "text/latex": "$\\displaystyle  0 $",
            "text/plain": [
              "<IPython.core.display.Math object>"
            ]
          },
          "metadata": {
            "tags": []
          }
        },
        {
          "output_type": "display_data",
          "data": {
            "text/latex": "$\\displaystyle  0 $",
            "text/plain": [
              "<IPython.core.display.Math object>"
            ]
          },
          "metadata": {
            "tags": []
          }
        },
        {
          "output_type": "display_data",
          "data": {
            "text/latex": "$\\displaystyle  0 $",
            "text/plain": [
              "<IPython.core.display.Math object>"
            ]
          },
          "metadata": {
            "tags": []
          }
        },
        {
          "output_type": "display_data",
          "data": {
            "text/latex": "$\\displaystyle  0 $",
            "text/plain": [
              "<IPython.core.display.Math object>"
            ]
          },
          "metadata": {
            "tags": []
          }
        },
        {
          "output_type": "display_data",
          "data": {
            "text/latex": "$\\displaystyle  0 $",
            "text/plain": [
              "<IPython.core.display.Math object>"
            ]
          },
          "metadata": {
            "tags": []
          }
        },
        {
          "output_type": "display_data",
          "data": {
            "text/latex": "$\\displaystyle  0 $",
            "text/plain": [
              "<IPython.core.display.Math object>"
            ]
          },
          "metadata": {
            "tags": []
          }
        },
        {
          "output_type": "display_data",
          "data": {
            "text/latex": "$\\displaystyle  0 $",
            "text/plain": [
              "<IPython.core.display.Math object>"
            ]
          },
          "metadata": {
            "tags": []
          }
        },
        {
          "output_type": "display_data",
          "data": {
            "text/latex": "$\\displaystyle  0 $",
            "text/plain": [
              "<IPython.core.display.Math object>"
            ]
          },
          "metadata": {
            "tags": []
          }
        },
        {
          "output_type": "display_data",
          "data": {
            "text/latex": "$\\displaystyle  0 $",
            "text/plain": [
              "<IPython.core.display.Math object>"
            ]
          },
          "metadata": {
            "tags": []
          }
        },
        {
          "output_type": "display_data",
          "data": {
            "text/latex": "$\\displaystyle  0 $",
            "text/plain": [
              "<IPython.core.display.Math object>"
            ]
          },
          "metadata": {
            "tags": []
          }
        },
        {
          "output_type": "display_data",
          "data": {
            "text/latex": "$\\displaystyle  0 $",
            "text/plain": [
              "<IPython.core.display.Math object>"
            ]
          },
          "metadata": {
            "tags": []
          }
        },
        {
          "output_type": "display_data",
          "data": {
            "text/latex": "$\\displaystyle  0 $",
            "text/plain": [
              "<IPython.core.display.Math object>"
            ]
          },
          "metadata": {
            "tags": []
          }
        },
        {
          "output_type": "display_data",
          "data": {
            "text/latex": "$\\displaystyle  0 $",
            "text/plain": [
              "<IPython.core.display.Math object>"
            ]
          },
          "metadata": {
            "tags": []
          }
        },
        {
          "output_type": "display_data",
          "data": {
            "text/latex": "$\\displaystyle  0 $",
            "text/plain": [
              "<IPython.core.display.Math object>"
            ]
          },
          "metadata": {
            "tags": []
          }
        },
        {
          "output_type": "display_data",
          "data": {
            "text/latex": "$\\displaystyle  0 $",
            "text/plain": [
              "<IPython.core.display.Math object>"
            ]
          },
          "metadata": {
            "tags": []
          }
        },
        {
          "output_type": "display_data",
          "data": {
            "text/latex": "$\\displaystyle  0 $",
            "text/plain": [
              "<IPython.core.display.Math object>"
            ]
          },
          "metadata": {
            "tags": []
          }
        },
        {
          "output_type": "display_data",
          "data": {
            "text/latex": "$\\displaystyle  0 $",
            "text/plain": [
              "<IPython.core.display.Math object>"
            ]
          },
          "metadata": {
            "tags": []
          }
        },
        {
          "output_type": "display_data",
          "data": {
            "text/latex": "$\\displaystyle  0 $",
            "text/plain": [
              "<IPython.core.display.Math object>"
            ]
          },
          "metadata": {
            "tags": []
          }
        },
        {
          "output_type": "display_data",
          "data": {
            "text/latex": "$\\displaystyle  0 $",
            "text/plain": [
              "<IPython.core.display.Math object>"
            ]
          },
          "metadata": {
            "tags": []
          }
        },
        {
          "output_type": "display_data",
          "data": {
            "text/latex": "$\\displaystyle  0 $",
            "text/plain": [
              "<IPython.core.display.Math object>"
            ]
          },
          "metadata": {
            "tags": []
          }
        },
        {
          "output_type": "display_data",
          "data": {
            "text/latex": "$\\displaystyle  0 $",
            "text/plain": [
              "<IPython.core.display.Math object>"
            ]
          },
          "metadata": {
            "tags": []
          }
        },
        {
          "output_type": "display_data",
          "data": {
            "text/latex": "$\\displaystyle  0 $",
            "text/plain": [
              "<IPython.core.display.Math object>"
            ]
          },
          "metadata": {
            "tags": []
          }
        },
        {
          "output_type": "display_data",
          "data": {
            "text/latex": "$\\displaystyle  0 $",
            "text/plain": [
              "<IPython.core.display.Math object>"
            ]
          },
          "metadata": {
            "tags": []
          }
        },
        {
          "output_type": "display_data",
          "data": {
            "text/latex": "$\\displaystyle  0 $",
            "text/plain": [
              "<IPython.core.display.Math object>"
            ]
          },
          "metadata": {
            "tags": []
          }
        },
        {
          "output_type": "display_data",
          "data": {
            "text/latex": "$\\displaystyle  0 $",
            "text/plain": [
              "<IPython.core.display.Math object>"
            ]
          },
          "metadata": {
            "tags": []
          }
        },
        {
          "output_type": "display_data",
          "data": {
            "text/latex": "$\\displaystyle  0 $",
            "text/plain": [
              "<IPython.core.display.Math object>"
            ]
          },
          "metadata": {
            "tags": []
          }
        },
        {
          "output_type": "display_data",
          "data": {
            "text/latex": "$\\displaystyle  0 $",
            "text/plain": [
              "<IPython.core.display.Math object>"
            ]
          },
          "metadata": {
            "tags": []
          }
        },
        {
          "output_type": "display_data",
          "data": {
            "text/latex": "$\\displaystyle  0 $",
            "text/plain": [
              "<IPython.core.display.Math object>"
            ]
          },
          "metadata": {
            "tags": []
          }
        },
        {
          "output_type": "display_data",
          "data": {
            "text/latex": "$\\displaystyle  0 $",
            "text/plain": [
              "<IPython.core.display.Math object>"
            ]
          },
          "metadata": {
            "tags": []
          }
        },
        {
          "output_type": "display_data",
          "data": {
            "text/latex": "$\\displaystyle  0 $",
            "text/plain": [
              "<IPython.core.display.Math object>"
            ]
          },
          "metadata": {
            "tags": []
          }
        },
        {
          "output_type": "display_data",
          "data": {
            "text/latex": "$\\displaystyle  0 $",
            "text/plain": [
              "<IPython.core.display.Math object>"
            ]
          },
          "metadata": {
            "tags": []
          }
        },
        {
          "output_type": "display_data",
          "data": {
            "text/latex": "$\\displaystyle  0 $",
            "text/plain": [
              "<IPython.core.display.Math object>"
            ]
          },
          "metadata": {
            "tags": []
          }
        },
        {
          "output_type": "display_data",
          "data": {
            "text/latex": "$\\displaystyle  0 $",
            "text/plain": [
              "<IPython.core.display.Math object>"
            ]
          },
          "metadata": {
            "tags": []
          }
        },
        {
          "output_type": "display_data",
          "data": {
            "text/latex": "$\\displaystyle  0 $",
            "text/plain": [
              "<IPython.core.display.Math object>"
            ]
          },
          "metadata": {
            "tags": []
          }
        },
        {
          "output_type": "display_data",
          "data": {
            "text/latex": "$\\displaystyle  0 $",
            "text/plain": [
              "<IPython.core.display.Math object>"
            ]
          },
          "metadata": {
            "tags": []
          }
        },
        {
          "output_type": "display_data",
          "data": {
            "text/latex": "$\\displaystyle  0 $",
            "text/plain": [
              "<IPython.core.display.Math object>"
            ]
          },
          "metadata": {
            "tags": []
          }
        },
        {
          "output_type": "display_data",
          "data": {
            "text/latex": "$\\displaystyle  0 $",
            "text/plain": [
              "<IPython.core.display.Math object>"
            ]
          },
          "metadata": {
            "tags": []
          }
        },
        {
          "output_type": "display_data",
          "data": {
            "text/latex": "$\\displaystyle  0 $",
            "text/plain": [
              "<IPython.core.display.Math object>"
            ]
          },
          "metadata": {
            "tags": []
          }
        },
        {
          "output_type": "display_data",
          "data": {
            "text/latex": "$\\displaystyle  0 $",
            "text/plain": [
              "<IPython.core.display.Math object>"
            ]
          },
          "metadata": {
            "tags": []
          }
        },
        {
          "output_type": "display_data",
          "data": {
            "text/latex": "$\\displaystyle  0 $",
            "text/plain": [
              "<IPython.core.display.Math object>"
            ]
          },
          "metadata": {
            "tags": []
          }
        },
        {
          "output_type": "display_data",
          "data": {
            "text/latex": "$\\displaystyle  0 $",
            "text/plain": [
              "<IPython.core.display.Math object>"
            ]
          },
          "metadata": {
            "tags": []
          }
        },
        {
          "output_type": "display_data",
          "data": {
            "text/latex": "$\\displaystyle  0 $",
            "text/plain": [
              "<IPython.core.display.Math object>"
            ]
          },
          "metadata": {
            "tags": []
          }
        },
        {
          "output_type": "display_data",
          "data": {
            "text/latex": "$\\displaystyle  0 $",
            "text/plain": [
              "<IPython.core.display.Math object>"
            ]
          },
          "metadata": {
            "tags": []
          }
        },
        {
          "output_type": "display_data",
          "data": {
            "text/latex": "$\\displaystyle  0 $",
            "text/plain": [
              "<IPython.core.display.Math object>"
            ]
          },
          "metadata": {
            "tags": []
          }
        },
        {
          "output_type": "display_data",
          "data": {
            "text/latex": "$\\displaystyle  0 $",
            "text/plain": [
              "<IPython.core.display.Math object>"
            ]
          },
          "metadata": {
            "tags": []
          }
        },
        {
          "output_type": "display_data",
          "data": {
            "text/latex": "$\\displaystyle  0 $",
            "text/plain": [
              "<IPython.core.display.Math object>"
            ]
          },
          "metadata": {
            "tags": []
          }
        },
        {
          "output_type": "display_data",
          "data": {
            "text/latex": "$\\displaystyle  0 $",
            "text/plain": [
              "<IPython.core.display.Math object>"
            ]
          },
          "metadata": {
            "tags": []
          }
        },
        {
          "output_type": "display_data",
          "data": {
            "text/latex": "$\\displaystyle  0 $",
            "text/plain": [
              "<IPython.core.display.Math object>"
            ]
          },
          "metadata": {
            "tags": []
          }
        },
        {
          "output_type": "display_data",
          "data": {
            "text/latex": "$\\displaystyle  0 $",
            "text/plain": [
              "<IPython.core.display.Math object>"
            ]
          },
          "metadata": {
            "tags": []
          }
        },
        {
          "output_type": "display_data",
          "data": {
            "text/latex": "$\\displaystyle  0 $",
            "text/plain": [
              "<IPython.core.display.Math object>"
            ]
          },
          "metadata": {
            "tags": []
          }
        },
        {
          "output_type": "display_data",
          "data": {
            "text/latex": "$\\displaystyle  0 $",
            "text/plain": [
              "<IPython.core.display.Math object>"
            ]
          },
          "metadata": {
            "tags": []
          }
        },
        {
          "output_type": "display_data",
          "data": {
            "text/latex": "$\\displaystyle  0 $",
            "text/plain": [
              "<IPython.core.display.Math object>"
            ]
          },
          "metadata": {
            "tags": []
          }
        },
        {
          "output_type": "display_data",
          "data": {
            "text/latex": "$\\displaystyle  0 $",
            "text/plain": [
              "<IPython.core.display.Math object>"
            ]
          },
          "metadata": {
            "tags": []
          }
        },
        {
          "output_type": "display_data",
          "data": {
            "text/latex": "$\\displaystyle  0 $",
            "text/plain": [
              "<IPython.core.display.Math object>"
            ]
          },
          "metadata": {
            "tags": []
          }
        },
        {
          "output_type": "display_data",
          "data": {
            "text/latex": "$\\displaystyle  0 $",
            "text/plain": [
              "<IPython.core.display.Math object>"
            ]
          },
          "metadata": {
            "tags": []
          }
        },
        {
          "output_type": "display_data",
          "data": {
            "text/latex": "$\\displaystyle  0 $",
            "text/plain": [
              "<IPython.core.display.Math object>"
            ]
          },
          "metadata": {
            "tags": []
          }
        },
        {
          "output_type": "display_data",
          "data": {
            "text/latex": "$\\displaystyle  0 $",
            "text/plain": [
              "<IPython.core.display.Math object>"
            ]
          },
          "metadata": {
            "tags": []
          }
        },
        {
          "output_type": "display_data",
          "data": {
            "text/latex": "$\\displaystyle  0 $",
            "text/plain": [
              "<IPython.core.display.Math object>"
            ]
          },
          "metadata": {
            "tags": []
          }
        },
        {
          "output_type": "display_data",
          "data": {
            "text/latex": "$\\displaystyle  0 $",
            "text/plain": [
              "<IPython.core.display.Math object>"
            ]
          },
          "metadata": {
            "tags": []
          }
        },
        {
          "output_type": "display_data",
          "data": {
            "text/latex": "$\\displaystyle  0 $",
            "text/plain": [
              "<IPython.core.display.Math object>"
            ]
          },
          "metadata": {
            "tags": []
          }
        },
        {
          "output_type": "display_data",
          "data": {
            "text/latex": "$\\displaystyle  0 $",
            "text/plain": [
              "<IPython.core.display.Math object>"
            ]
          },
          "metadata": {
            "tags": []
          }
        },
        {
          "output_type": "display_data",
          "data": {
            "text/latex": "$\\displaystyle  0 $",
            "text/plain": [
              "<IPython.core.display.Math object>"
            ]
          },
          "metadata": {
            "tags": []
          }
        },
        {
          "output_type": "display_data",
          "data": {
            "text/latex": "$\\displaystyle  0 $",
            "text/plain": [
              "<IPython.core.display.Math object>"
            ]
          },
          "metadata": {
            "tags": []
          }
        },
        {
          "output_type": "display_data",
          "data": {
            "text/latex": "$\\displaystyle  0 $",
            "text/plain": [
              "<IPython.core.display.Math object>"
            ]
          },
          "metadata": {
            "tags": []
          }
        },
        {
          "output_type": "display_data",
          "data": {
            "text/latex": "$\\displaystyle  0 $",
            "text/plain": [
              "<IPython.core.display.Math object>"
            ]
          },
          "metadata": {
            "tags": []
          }
        },
        {
          "output_type": "display_data",
          "data": {
            "text/latex": "$\\displaystyle  0 $",
            "text/plain": [
              "<IPython.core.display.Math object>"
            ]
          },
          "metadata": {
            "tags": []
          }
        },
        {
          "output_type": "display_data",
          "data": {
            "text/latex": "$\\displaystyle  0 $",
            "text/plain": [
              "<IPython.core.display.Math object>"
            ]
          },
          "metadata": {
            "tags": []
          }
        },
        {
          "output_type": "display_data",
          "data": {
            "text/latex": "$\\displaystyle  0 $",
            "text/plain": [
              "<IPython.core.display.Math object>"
            ]
          },
          "metadata": {
            "tags": []
          }
        },
        {
          "output_type": "display_data",
          "data": {
            "text/latex": "$\\displaystyle  0 $",
            "text/plain": [
              "<IPython.core.display.Math object>"
            ]
          },
          "metadata": {
            "tags": []
          }
        },
        {
          "output_type": "display_data",
          "data": {
            "text/latex": "$\\displaystyle  0 $",
            "text/plain": [
              "<IPython.core.display.Math object>"
            ]
          },
          "metadata": {
            "tags": []
          }
        },
        {
          "output_type": "display_data",
          "data": {
            "text/latex": "$\\displaystyle  0 $",
            "text/plain": [
              "<IPython.core.display.Math object>"
            ]
          },
          "metadata": {
            "tags": []
          }
        },
        {
          "output_type": "display_data",
          "data": {
            "text/latex": "$\\displaystyle  0 $",
            "text/plain": [
              "<IPython.core.display.Math object>"
            ]
          },
          "metadata": {
            "tags": []
          }
        },
        {
          "output_type": "display_data",
          "data": {
            "text/latex": "$\\displaystyle  0 $",
            "text/plain": [
              "<IPython.core.display.Math object>"
            ]
          },
          "metadata": {
            "tags": []
          }
        },
        {
          "output_type": "display_data",
          "data": {
            "text/latex": "$\\displaystyle  0 $",
            "text/plain": [
              "<IPython.core.display.Math object>"
            ]
          },
          "metadata": {
            "tags": []
          }
        },
        {
          "output_type": "display_data",
          "data": {
            "text/latex": "$\\displaystyle  0 $",
            "text/plain": [
              "<IPython.core.display.Math object>"
            ]
          },
          "metadata": {
            "tags": []
          }
        },
        {
          "output_type": "display_data",
          "data": {
            "text/latex": "$\\displaystyle  0 $",
            "text/plain": [
              "<IPython.core.display.Math object>"
            ]
          },
          "metadata": {
            "tags": []
          }
        },
        {
          "output_type": "display_data",
          "data": {
            "text/latex": "$\\displaystyle  0 $",
            "text/plain": [
              "<IPython.core.display.Math object>"
            ]
          },
          "metadata": {
            "tags": []
          }
        },
        {
          "output_type": "display_data",
          "data": {
            "text/latex": "$\\displaystyle  0 $",
            "text/plain": [
              "<IPython.core.display.Math object>"
            ]
          },
          "metadata": {
            "tags": []
          }
        },
        {
          "output_type": "display_data",
          "data": {
            "text/latex": "$\\displaystyle  0 $",
            "text/plain": [
              "<IPython.core.display.Math object>"
            ]
          },
          "metadata": {
            "tags": []
          }
        },
        {
          "output_type": "display_data",
          "data": {
            "text/latex": "$\\displaystyle  0 $",
            "text/plain": [
              "<IPython.core.display.Math object>"
            ]
          },
          "metadata": {
            "tags": []
          }
        },
        {
          "output_type": "display_data",
          "data": {
            "text/latex": "$\\displaystyle  0 $",
            "text/plain": [
              "<IPython.core.display.Math object>"
            ]
          },
          "metadata": {
            "tags": []
          }
        },
        {
          "output_type": "display_data",
          "data": {
            "text/latex": "$\\displaystyle  0 $",
            "text/plain": [
              "<IPython.core.display.Math object>"
            ]
          },
          "metadata": {
            "tags": []
          }
        },
        {
          "output_type": "display_data",
          "data": {
            "text/latex": "$\\displaystyle  0 $",
            "text/plain": [
              "<IPython.core.display.Math object>"
            ]
          },
          "metadata": {
            "tags": []
          }
        },
        {
          "output_type": "display_data",
          "data": {
            "text/latex": "$\\displaystyle  0 $",
            "text/plain": [
              "<IPython.core.display.Math object>"
            ]
          },
          "metadata": {
            "tags": []
          }
        },
        {
          "output_type": "display_data",
          "data": {
            "text/latex": "$\\displaystyle  0 $",
            "text/plain": [
              "<IPython.core.display.Math object>"
            ]
          },
          "metadata": {
            "tags": []
          }
        },
        {
          "output_type": "display_data",
          "data": {
            "text/latex": "$\\displaystyle  0 $",
            "text/plain": [
              "<IPython.core.display.Math object>"
            ]
          },
          "metadata": {
            "tags": []
          }
        },
        {
          "output_type": "display_data",
          "data": {
            "text/latex": "$\\displaystyle  0 $",
            "text/plain": [
              "<IPython.core.display.Math object>"
            ]
          },
          "metadata": {
            "tags": []
          }
        },
        {
          "output_type": "display_data",
          "data": {
            "text/latex": "$\\displaystyle  0 $",
            "text/plain": [
              "<IPython.core.display.Math object>"
            ]
          },
          "metadata": {
            "tags": []
          }
        },
        {
          "output_type": "display_data",
          "data": {
            "text/latex": "$\\displaystyle  0 $",
            "text/plain": [
              "<IPython.core.display.Math object>"
            ]
          },
          "metadata": {
            "tags": []
          }
        },
        {
          "output_type": "display_data",
          "data": {
            "text/latex": "$\\displaystyle  0 $",
            "text/plain": [
              "<IPython.core.display.Math object>"
            ]
          },
          "metadata": {
            "tags": []
          }
        },
        {
          "output_type": "display_data",
          "data": {
            "text/latex": "$\\displaystyle  0 $",
            "text/plain": [
              "<IPython.core.display.Math object>"
            ]
          },
          "metadata": {
            "tags": []
          }
        },
        {
          "output_type": "display_data",
          "data": {
            "text/latex": "$\\displaystyle  0 $",
            "text/plain": [
              "<IPython.core.display.Math object>"
            ]
          },
          "metadata": {
            "tags": []
          }
        },
        {
          "output_type": "display_data",
          "data": {
            "text/latex": "$\\displaystyle  0 $",
            "text/plain": [
              "<IPython.core.display.Math object>"
            ]
          },
          "metadata": {
            "tags": []
          }
        },
        {
          "output_type": "display_data",
          "data": {
            "text/latex": "$\\displaystyle  0 $",
            "text/plain": [
              "<IPython.core.display.Math object>"
            ]
          },
          "metadata": {
            "tags": []
          }
        },
        {
          "output_type": "display_data",
          "data": {
            "text/latex": "$\\displaystyle  0 $",
            "text/plain": [
              "<IPython.core.display.Math object>"
            ]
          },
          "metadata": {
            "tags": []
          }
        },
        {
          "output_type": "display_data",
          "data": {
            "text/latex": "$\\displaystyle  0 $",
            "text/plain": [
              "<IPython.core.display.Math object>"
            ]
          },
          "metadata": {
            "tags": []
          }
        },
        {
          "output_type": "display_data",
          "data": {
            "text/latex": "$\\displaystyle  0 $",
            "text/plain": [
              "<IPython.core.display.Math object>"
            ]
          },
          "metadata": {
            "tags": []
          }
        },
        {
          "output_type": "display_data",
          "data": {
            "text/latex": "$\\displaystyle  0 $",
            "text/plain": [
              "<IPython.core.display.Math object>"
            ]
          },
          "metadata": {
            "tags": []
          }
        },
        {
          "output_type": "display_data",
          "data": {
            "text/latex": "$\\displaystyle  0 $",
            "text/plain": [
              "<IPython.core.display.Math object>"
            ]
          },
          "metadata": {
            "tags": []
          }
        },
        {
          "output_type": "display_data",
          "data": {
            "text/latex": "$\\displaystyle  0 $",
            "text/plain": [
              "<IPython.core.display.Math object>"
            ]
          },
          "metadata": {
            "tags": []
          }
        },
        {
          "output_type": "display_data",
          "data": {
            "text/latex": "$\\displaystyle  0 $",
            "text/plain": [
              "<IPython.core.display.Math object>"
            ]
          },
          "metadata": {
            "tags": []
          }
        },
        {
          "output_type": "display_data",
          "data": {
            "text/latex": "$\\displaystyle  0 $",
            "text/plain": [
              "<IPython.core.display.Math object>"
            ]
          },
          "metadata": {
            "tags": []
          }
        },
        {
          "output_type": "display_data",
          "data": {
            "text/latex": "$\\displaystyle  0 $",
            "text/plain": [
              "<IPython.core.display.Math object>"
            ]
          },
          "metadata": {
            "tags": []
          }
        }
      ]
    },
    {
      "cell_type": "code",
      "metadata": {
        "id": "N2lMaDxw8hyu",
        "outputId": "4bdc814c-ad45-45a5-dbf4-ec2b56625eba"
      },
      "source": [
        "# Generating the final equation\n",
        "\n",
        "final_numerator = ''''''\n",
        "\n",
        "for i in range(0, len(T_matrix)):\n",
        "    \n",
        "    if '0' in T_matrix[i]:\n",
        "        \n",
        "        continue\n",
        "        \n",
        "    elif '1' in T_matrix[i]:\n",
        "        \n",
        "        if i != len(T_matrix)-1:\n",
        "            \n",
        "            final_numerator += B_matrix[i].strip('$') + '\\cdot' + S_matrix[i].strip('$') + '\\hspace{0.1cm}+\\hspace{0.1cm}'\n",
        "            \n",
        "        else:\n",
        "            \n",
        "            final_numerator += B_matrix[i].strip('$') + '\\cdot' + S_matrix[i].strip('$')\n",
        "            \n",
        "final_denominator = ''''''\n",
        "\n",
        "for i in range(0, len(T_matrix)):\n",
        "    \n",
        "    if i == 0:\n",
        "        \n",
        "        final_denominator += '1' + '\\hspace{0.1cm}+\\hspace{0.1cm}'\n",
        "        \n",
        "    elif i != len(T_matrix)-1:\n",
        "        \n",
        "        final_denominator += B_matrix[i].strip('$') + '\\cdot' + S_matrix[i].strip('$') + '\\hspace{0.1cm}+\\hspace{0.1cm}'\n",
        "        \n",
        "    else:\n",
        "        \n",
        "        final_denominator += B_matrix[i].strip('$') + '\\cdot' + S_matrix[i].strip('$')\n",
        "        \n",
        "#display(Math(final_numerator))\n",
        "#display(Math(final_denominator))\n",
        "\n",
        "# As a fraction\n",
        "\n",
        "fraction = r'\\phi_m = ' + r'\\frac' + '{' + final_numerator + '}' + '{' + final_denominator + '}'\n",
        "\n",
        "display(Math(fraction))"
      ],
      "execution_count": null,
      "outputs": [
        {
          "output_type": "display_data",
          "data": {
            "text/latex": "$\\displaystyle \\phi_m = \\frac{}{1\\hspace{0.1cm}+\\hspace{0.1cm} K_{[RNA_{pol}]} \\cdot[RNA_{pol}]\\hspace{0.1cm}+\\hspace{0.1cm} K_{[ACT1]} \\cdot[ACT1]\\hspace{0.1cm}+\\hspace{0.1cm} K_{[ACT1]} \\cdot K_{[RNA_{pol}]} \\cdot[ACT1] \\cdot [RNA_{pol}]\\hspace{0.1cm}+\\hspace{0.1cm} K_{[ACT2]} \\cdot[ACT2]\\hspace{0.1cm}+\\hspace{0.1cm} K_{[ACT2]} \\cdot K_{[RNA_{pol}]} \\cdot[ACT2] \\cdot [RNA_{pol}]\\hspace{0.1cm}+\\hspace{0.1cm} K_{[ACT3]} \\cdot[ACT3]\\hspace{0.1cm}+\\hspace{0.1cm} K_{[ACT3]} \\cdot K_{[RNA_{pol}]} \\cdot[ACT3] \\cdot [RNA_{pol}]\\hspace{0.1cm}+\\hspace{0.1cm} K_{[ACT4]} \\cdot[ACT4]\\hspace{0.1cm}+\\hspace{0.1cm} K_{[ACT4]} \\cdot K_{[RNA_{pol}]} \\cdot[ACT4] \\cdot [RNA_{pol}]\\hspace{0.1cm}+\\hspace{0.1cm} K_{[REP1]} \\cdot[REP1]\\hspace{0.1cm}+\\hspace{0.1cm} K_{[REP1]} \\cdot K_{[RNA_{pol}]} \\cdot[REP1] \\cdot [RNA_{pol}]\\hspace{0.1cm}+\\hspace{0.1cm} K_{[REP2]} \\cdot[REP2]\\hspace{0.1cm}+\\hspace{0.1cm} K_{[REP2]} \\cdot K_{[RNA_{pol}]} \\cdot[REP2] \\cdot [RNA_{pol}]\\hspace{0.1cm}+\\hspace{0.1cm} K_{[REP3]} \\cdot[REP3]\\hspace{0.1cm}+\\hspace{0.1cm} K_{[REP3]} \\cdot K_{[RNA_{pol}]} \\cdot[REP3] \\cdot [RNA_{pol}]\\hspace{0.1cm}+\\hspace{0.1cm} K_{[ACT1]} \\cdot K_{[ACT2]} \\cdot[ACT1] \\cdot [ACT2]\\hspace{0.1cm}+\\hspace{0.1cm} K_{[ACT1]} \\cdot K_{[ACT2]} \\cdot K_{[RNA_{pol}]} \\cdot[ACT1] \\cdot [ACT2] \\cdot [RNA_{pol}]\\hspace{0.1cm}+\\hspace{0.1cm} K_{[ACT1]} \\cdot K_{[ACT3]} \\cdot[ACT1] \\cdot [ACT3]\\hspace{0.1cm}+\\hspace{0.1cm} K_{[ACT1]} \\cdot K_{[ACT3]} \\cdot K_{[RNA_{pol}]} \\cdot[ACT1] \\cdot [ACT3] \\cdot [RNA_{pol}]\\hspace{0.1cm}+\\hspace{0.1cm} K_{[ACT1]} \\cdot K_{[ACT4]} \\cdot[ACT1] \\cdot [ACT4]\\hspace{0.1cm}+\\hspace{0.1cm} K_{[ACT1]} \\cdot K_{[ACT4]} \\cdot K_{[RNA_{pol}]} \\cdot[ACT1] \\cdot [ACT4] \\cdot [RNA_{pol}]\\hspace{0.1cm}+\\hspace{0.1cm} K_{[ACT1]} \\cdot K_{[REP1]} \\cdot[ACT1] \\cdot [REP1]\\hspace{0.1cm}+\\hspace{0.1cm} K_{[ACT1]} \\cdot K_{[REP1]} \\cdot K_{[RNA_{pol}]} \\cdot[ACT1] \\cdot [REP1] \\cdot [RNA_{pol}]\\hspace{0.1cm}+\\hspace{0.1cm} K_{[ACT1]} \\cdot K_{[REP2]} \\cdot[ACT1] \\cdot [REP2]\\hspace{0.1cm}+\\hspace{0.1cm} K_{[ACT1]} \\cdot K_{[REP2]} \\cdot K_{[RNA_{pol}]} \\cdot[ACT1] \\cdot [REP2] \\cdot [RNA_{pol}]\\hspace{0.1cm}+\\hspace{0.1cm} K_{[ACT1]} \\cdot K_{[REP3]} \\cdot[ACT1] \\cdot [REP3]\\hspace{0.1cm}+\\hspace{0.1cm} K_{[ACT1]} \\cdot K_{[REP3]} \\cdot K_{[RNA_{pol}]} \\cdot[ACT1] \\cdot [REP3] \\cdot [RNA_{pol}]\\hspace{0.1cm}+\\hspace{0.1cm} K_{[ACT2]} \\cdot K_{[ACT3]} \\cdot[ACT2] \\cdot [ACT3]\\hspace{0.1cm}+\\hspace{0.1cm} K_{[ACT2]} \\cdot K_{[ACT3]} \\cdot K_{[RNA_{pol}]} \\cdot[ACT2] \\cdot [ACT3] \\cdot [RNA_{pol}]\\hspace{0.1cm}+\\hspace{0.1cm} K_{[ACT2]} \\cdot K_{[ACT4]} \\cdot[ACT2] \\cdot [ACT4]\\hspace{0.1cm}+\\hspace{0.1cm} K_{[ACT2]} \\cdot K_{[ACT4]} \\cdot K_{[RNA_{pol}]} \\cdot[ACT2] \\cdot [ACT4] \\cdot [RNA_{pol}]\\hspace{0.1cm}+\\hspace{0.1cm} K_{[ACT2]} \\cdot K_{[REP1]} \\cdot[ACT2] \\cdot [REP1]\\hspace{0.1cm}+\\hspace{0.1cm} K_{[ACT2]} \\cdot K_{[REP1]} \\cdot K_{[RNA_{pol}]} \\cdot[ACT2] \\cdot [REP1] \\cdot [RNA_{pol}]\\hspace{0.1cm}+\\hspace{0.1cm} K_{[ACT2]} \\cdot K_{[REP2]} \\cdot[ACT2] \\cdot [REP2]\\hspace{0.1cm}+\\hspace{0.1cm} K_{[ACT2]} \\cdot K_{[REP2]} \\cdot K_{[RNA_{pol}]} \\cdot[ACT2] \\cdot [REP2] \\cdot [RNA_{pol}]\\hspace{0.1cm}+\\hspace{0.1cm} K_{[ACT2]} \\cdot K_{[REP3]} \\cdot[ACT2] \\cdot [REP3]\\hspace{0.1cm}+\\hspace{0.1cm} K_{[ACT2]} \\cdot K_{[REP3]} \\cdot K_{[RNA_{pol}]} \\cdot[ACT2] \\cdot [REP3] \\cdot [RNA_{pol}]\\hspace{0.1cm}+\\hspace{0.1cm} K_{[ACT3]} \\cdot K_{[ACT4]} \\cdot[ACT3] \\cdot [ACT4]\\hspace{0.1cm}+\\hspace{0.1cm} K_{[ACT3]} \\cdot K_{[ACT4]} \\cdot K_{[RNA_{pol}]} \\cdot[ACT3] \\cdot [ACT4] \\cdot [RNA_{pol}]\\hspace{0.1cm}+\\hspace{0.1cm} K_{[ACT3]} \\cdot K_{[REP1]} \\cdot[ACT3] \\cdot [REP1]\\hspace{0.1cm}+\\hspace{0.1cm} K_{[ACT3]} \\cdot K_{[REP1]} \\cdot K_{[RNA_{pol}]} \\cdot[ACT3] \\cdot [REP1] \\cdot [RNA_{pol}]\\hspace{0.1cm}+\\hspace{0.1cm} K_{[ACT3]} \\cdot K_{[REP2]} \\cdot[ACT3] \\cdot [REP2]\\hspace{0.1cm}+\\hspace{0.1cm} K_{[ACT3]} \\cdot K_{[REP2]} \\cdot K_{[RNA_{pol}]} \\cdot[ACT3] \\cdot [REP2] \\cdot [RNA_{pol}]\\hspace{0.1cm}+\\hspace{0.1cm} K_{[ACT3]} \\cdot K_{[REP3]} \\cdot[ACT3] \\cdot [REP3]\\hspace{0.1cm}+\\hspace{0.1cm} K_{[ACT3]} \\cdot K_{[REP3]} \\cdot K_{[RNA_{pol}]} \\cdot[ACT3] \\cdot [REP3] \\cdot [RNA_{pol}]\\hspace{0.1cm}+\\hspace{0.1cm} K_{[ACT4]} \\cdot K_{[REP1]} \\cdot[ACT4] \\cdot [REP1]\\hspace{0.1cm}+\\hspace{0.1cm} K_{[ACT4]} \\cdot K_{[REP1]} \\cdot K_{[RNA_{pol}]} \\cdot[ACT4] \\cdot [REP1] \\cdot [RNA_{pol}]\\hspace{0.1cm}+\\hspace{0.1cm} K_{[ACT4]} \\cdot K_{[REP2]} \\cdot[ACT4] \\cdot [REP2]\\hspace{0.1cm}+\\hspace{0.1cm} K_{[ACT4]} \\cdot K_{[REP2]} \\cdot K_{[RNA_{pol}]} \\cdot[ACT4] \\cdot [REP2] \\cdot [RNA_{pol}]\\hspace{0.1cm}+\\hspace{0.1cm} K_{[ACT4]} \\cdot K_{[REP3]} \\cdot[ACT4] \\cdot [REP3]\\hspace{0.1cm}+\\hspace{0.1cm} K_{[ACT4]} \\cdot K_{[REP3]} \\cdot K_{[RNA_{pol}]} \\cdot[ACT4] \\cdot [REP3] \\cdot [RNA_{pol}]\\hspace{0.1cm}+\\hspace{0.1cm} K_{[REP1]} \\cdot K_{[REP2]} \\cdot[REP1] \\cdot [REP2]\\hspace{0.1cm}+\\hspace{0.1cm} K_{[REP1]} \\cdot K_{[REP2]} \\cdot K_{[RNA_{pol}]} \\cdot[REP1] \\cdot [REP2] \\cdot [RNA_{pol}]\\hspace{0.1cm}+\\hspace{0.1cm} K_{[REP1]} \\cdot K_{[REP3]} \\cdot[REP1] \\cdot [REP3]\\hspace{0.1cm}+\\hspace{0.1cm} K_{[REP1]} \\cdot K_{[REP3]} \\cdot K_{[RNA_{pol}]} \\cdot[REP1] \\cdot [REP3] \\cdot [RNA_{pol}]\\hspace{0.1cm}+\\hspace{0.1cm} K_{[REP2]} \\cdot K_{[REP3]} \\cdot[REP2] \\cdot [REP3]\\hspace{0.1cm}+\\hspace{0.1cm} K_{[REP2]} \\cdot K_{[REP3]} \\cdot K_{[RNA_{pol}]} \\cdot[REP2] \\cdot [REP3] \\cdot [RNA_{pol}]\\hspace{0.1cm}+\\hspace{0.1cm} K_{[ACT1]} \\cdot K_{[ACT2]} \\cdot K_{[ACT3]} \\cdot[ACT1] \\cdot [ACT2] \\cdot [ACT3]\\hspace{0.1cm}+\\hspace{0.1cm} K_{[ACT1]} \\cdot K_{[ACT2]} \\cdot K_{[ACT3]} \\cdot K_{[RNA_{pol}]} \\cdot[ACT1] \\cdot [ACT2] \\cdot [ACT3] \\cdot [RNA_{pol}]\\hspace{0.1cm}+\\hspace{0.1cm} K_{[ACT1]} \\cdot K_{[ACT2]} \\cdot K_{[ACT4]} \\cdot[ACT1] \\cdot [ACT2] \\cdot [ACT4]\\hspace{0.1cm}+\\hspace{0.1cm} K_{[ACT1]} \\cdot K_{[ACT2]} \\cdot K_{[ACT4]} \\cdot K_{[RNA_{pol}]} \\cdot[ACT1] \\cdot [ACT2] \\cdot [ACT4] \\cdot [RNA_{pol}]\\hspace{0.1cm}+\\hspace{0.1cm} K_{[ACT1]} \\cdot K_{[ACT2]} \\cdot K_{[REP1]} \\cdot[ACT1] \\cdot [ACT2] \\cdot [REP1]\\hspace{0.1cm}+\\hspace{0.1cm} K_{[ACT1]} \\cdot K_{[ACT2]} \\cdot K_{[REP1]} \\cdot K_{[RNA_{pol}]} \\cdot[ACT1] \\cdot [ACT2] \\cdot [REP1] \\cdot [RNA_{pol}]\\hspace{0.1cm}+\\hspace{0.1cm} K_{[ACT1]} \\cdot K_{[ACT2]} \\cdot K_{[REP2]} \\cdot[ACT1] \\cdot [ACT2] \\cdot [REP2]\\hspace{0.1cm}+\\hspace{0.1cm} K_{[ACT1]} \\cdot K_{[ACT2]} \\cdot K_{[REP2]} \\cdot K_{[RNA_{pol}]} \\cdot[ACT1] \\cdot [ACT2] \\cdot [REP2] \\cdot [RNA_{pol}]\\hspace{0.1cm}+\\hspace{0.1cm} K_{[ACT1]} \\cdot K_{[ACT2]} \\cdot K_{[REP3]} \\cdot[ACT1] \\cdot [ACT2] \\cdot [REP3]\\hspace{0.1cm}+\\hspace{0.1cm} K_{[ACT1]} \\cdot K_{[ACT2]} \\cdot K_{[REP3]} \\cdot K_{[RNA_{pol}]} \\cdot[ACT1] \\cdot [ACT2] \\cdot [REP3] \\cdot [RNA_{pol}]\\hspace{0.1cm}+\\hspace{0.1cm} K_{[ACT1]} \\cdot K_{[ACT3]} \\cdot K_{[ACT4]} \\cdot[ACT1] \\cdot [ACT3] \\cdot [ACT4]\\hspace{0.1cm}+\\hspace{0.1cm} K_{[ACT1]} \\cdot K_{[ACT3]} \\cdot K_{[ACT4]} \\cdot K_{[RNA_{pol}]} \\cdot[ACT1] \\cdot [ACT3] \\cdot [ACT4] \\cdot [RNA_{pol}]\\hspace{0.1cm}+\\hspace{0.1cm} K_{[ACT1]} \\cdot K_{[ACT3]} \\cdot K_{[REP1]} \\cdot[ACT1] \\cdot [ACT3] \\cdot [REP1]\\hspace{0.1cm}+\\hspace{0.1cm} K_{[ACT1]} \\cdot K_{[ACT3]} \\cdot K_{[REP1]} \\cdot K_{[RNA_{pol}]} \\cdot[ACT1] \\cdot [ACT3] \\cdot [REP1] \\cdot [RNA_{pol}]\\hspace{0.1cm}+\\hspace{0.1cm} K_{[ACT1]} \\cdot K_{[ACT3]} \\cdot K_{[REP2]} \\cdot[ACT1] \\cdot [ACT3] \\cdot [REP2]\\hspace{0.1cm}+\\hspace{0.1cm} K_{[ACT1]} \\cdot K_{[ACT3]} \\cdot K_{[REP2]} \\cdot K_{[RNA_{pol}]} \\cdot[ACT1] \\cdot [ACT3] \\cdot [REP2] \\cdot [RNA_{pol}]\\hspace{0.1cm}+\\hspace{0.1cm} K_{[ACT1]} \\cdot K_{[ACT3]} \\cdot K_{[REP3]} \\cdot[ACT1] \\cdot [ACT3] \\cdot [REP3]\\hspace{0.1cm}+\\hspace{0.1cm} K_{[ACT1]} \\cdot K_{[ACT3]} \\cdot K_{[REP3]} \\cdot K_{[RNA_{pol}]} \\cdot[ACT1] \\cdot [ACT3] \\cdot [REP3] \\cdot [RNA_{pol}]\\hspace{0.1cm}+\\hspace{0.1cm} K_{[ACT1]} \\cdot K_{[ACT4]} \\cdot K_{[REP1]} \\cdot[ACT1] \\cdot [ACT4] \\cdot [REP1]\\hspace{0.1cm}+\\hspace{0.1cm} K_{[ACT1]} \\cdot K_{[ACT4]} \\cdot K_{[REP1]} \\cdot K_{[RNA_{pol}]} \\cdot[ACT1] \\cdot [ACT4] \\cdot [REP1] \\cdot [RNA_{pol}]\\hspace{0.1cm}+\\hspace{0.1cm} K_{[ACT1]} \\cdot K_{[ACT4]} \\cdot K_{[REP2]} \\cdot[ACT1] \\cdot [ACT4] \\cdot [REP2]\\hspace{0.1cm}+\\hspace{0.1cm} K_{[ACT1]} \\cdot K_{[ACT4]} \\cdot K_{[REP2]} \\cdot K_{[RNA_{pol}]} \\cdot[ACT1] \\cdot [ACT4] \\cdot [REP2] \\cdot [RNA_{pol}]\\hspace{0.1cm}+\\hspace{0.1cm} K_{[ACT1]} \\cdot K_{[ACT4]} \\cdot K_{[REP3]} \\cdot[ACT1] \\cdot [ACT4] \\cdot [REP3]\\hspace{0.1cm}+\\hspace{0.1cm} K_{[ACT1]} \\cdot K_{[ACT4]} \\cdot K_{[REP3]} \\cdot K_{[RNA_{pol}]} \\cdot[ACT1] \\cdot [ACT4] \\cdot [REP3] \\cdot [RNA_{pol}]\\hspace{0.1cm}+\\hspace{0.1cm} K_{[ACT1]} \\cdot K_{[REP1]} \\cdot K_{[REP2]} \\cdot[ACT1] \\cdot [REP1] \\cdot [REP2]\\hspace{0.1cm}+\\hspace{0.1cm} K_{[ACT1]} \\cdot K_{[REP1]} \\cdot K_{[REP2]} \\cdot K_{[RNA_{pol}]} \\cdot[ACT1] \\cdot [REP1] \\cdot [REP2] \\cdot [RNA_{pol}]\\hspace{0.1cm}+\\hspace{0.1cm} K_{[ACT1]} \\cdot K_{[REP1]} \\cdot K_{[REP3]} \\cdot[ACT1] \\cdot [REP1] \\cdot [REP3]\\hspace{0.1cm}+\\hspace{0.1cm} K_{[ACT1]} \\cdot K_{[REP1]} \\cdot K_{[REP3]} \\cdot K_{[RNA_{pol}]} \\cdot[ACT1] \\cdot [REP1] \\cdot [REP3] \\cdot [RNA_{pol}]\\hspace{0.1cm}+\\hspace{0.1cm} K_{[ACT1]} \\cdot K_{[REP2]} \\cdot K_{[REP3]} \\cdot[ACT1] \\cdot [REP2] \\cdot [REP3]\\hspace{0.1cm}+\\hspace{0.1cm} K_{[ACT1]} \\cdot K_{[REP2]} \\cdot K_{[REP3]} \\cdot K_{[RNA_{pol}]} \\cdot[ACT1] \\cdot [REP2] \\cdot [REP3] \\cdot [RNA_{pol}]\\hspace{0.1cm}+\\hspace{0.1cm} K_{[ACT2]} \\cdot K_{[ACT3]} \\cdot K_{[ACT4]} \\cdot[ACT2] \\cdot [ACT3] \\cdot [ACT4]\\hspace{0.1cm}+\\hspace{0.1cm} K_{[ACT2]} \\cdot K_{[ACT3]} \\cdot K_{[ACT4]} \\cdot K_{[RNA_{pol}]} \\cdot[ACT2] \\cdot [ACT3] \\cdot [ACT4] \\cdot [RNA_{pol}]\\hspace{0.1cm}+\\hspace{0.1cm} K_{[ACT2]} \\cdot K_{[ACT3]} \\cdot K_{[REP1]} \\cdot[ACT2] \\cdot [ACT3] \\cdot [REP1]\\hspace{0.1cm}+\\hspace{0.1cm} K_{[ACT2]} \\cdot K_{[ACT3]} \\cdot K_{[REP1]} \\cdot K_{[RNA_{pol}]} \\cdot[ACT2] \\cdot [ACT3] \\cdot [REP1] \\cdot [RNA_{pol}]\\hspace{0.1cm}+\\hspace{0.1cm} K_{[ACT2]} \\cdot K_{[ACT3]} \\cdot K_{[REP2]} \\cdot[ACT2] \\cdot [ACT3] \\cdot [REP2]\\hspace{0.1cm}+\\hspace{0.1cm} K_{[ACT2]} \\cdot K_{[ACT3]} \\cdot K_{[REP2]} \\cdot K_{[RNA_{pol}]} \\cdot[ACT2] \\cdot [ACT3] \\cdot [REP2] \\cdot [RNA_{pol}]\\hspace{0.1cm}+\\hspace{0.1cm} K_{[ACT2]} \\cdot K_{[ACT3]} \\cdot K_{[REP3]} \\cdot[ACT2] \\cdot [ACT3] \\cdot [REP3]\\hspace{0.1cm}+\\hspace{0.1cm} K_{[ACT2]} \\cdot K_{[ACT3]} \\cdot K_{[REP3]} \\cdot K_{[RNA_{pol}]} \\cdot[ACT2] \\cdot [ACT3] \\cdot [REP3] \\cdot [RNA_{pol}]\\hspace{0.1cm}+\\hspace{0.1cm} K_{[ACT2]} \\cdot K_{[ACT4]} \\cdot K_{[REP1]} \\cdot[ACT2] \\cdot [ACT4] \\cdot [REP1]\\hspace{0.1cm}+\\hspace{0.1cm} K_{[ACT2]} \\cdot K_{[ACT4]} \\cdot K_{[REP1]} \\cdot K_{[RNA_{pol}]} \\cdot[ACT2] \\cdot [ACT4] \\cdot [REP1] \\cdot [RNA_{pol}]\\hspace{0.1cm}+\\hspace{0.1cm} K_{[ACT2]} \\cdot K_{[ACT4]} \\cdot K_{[REP2]} \\cdot[ACT2] \\cdot [ACT4] \\cdot [REP2]\\hspace{0.1cm}+\\hspace{0.1cm} K_{[ACT2]} \\cdot K_{[ACT4]} \\cdot K_{[REP2]} \\cdot K_{[RNA_{pol}]} \\cdot[ACT2] \\cdot [ACT4] \\cdot [REP2] \\cdot [RNA_{pol}]\\hspace{0.1cm}+\\hspace{0.1cm} K_{[ACT2]} \\cdot K_{[ACT4]} \\cdot K_{[REP3]} \\cdot[ACT2] \\cdot [ACT4] \\cdot [REP3]\\hspace{0.1cm}+\\hspace{0.1cm} K_{[ACT2]} \\cdot K_{[ACT4]} \\cdot K_{[REP3]} \\cdot K_{[RNA_{pol}]} \\cdot[ACT2] \\cdot [ACT4] \\cdot [REP3] \\cdot [RNA_{pol}]\\hspace{0.1cm}+\\hspace{0.1cm} K_{[ACT2]} \\cdot K_{[REP1]} \\cdot K_{[REP2]} \\cdot[ACT2] \\cdot [REP1] \\cdot [REP2]\\hspace{0.1cm}+\\hspace{0.1cm} K_{[ACT2]} \\cdot K_{[REP1]} \\cdot K_{[REP2]} \\cdot K_{[RNA_{pol}]} \\cdot[ACT2] \\cdot [REP1] \\cdot [REP2] \\cdot [RNA_{pol}]\\hspace{0.1cm}+\\hspace{0.1cm} K_{[ACT2]} \\cdot K_{[REP1]} \\cdot K_{[REP3]} \\cdot[ACT2] \\cdot [REP1] \\cdot [REP3]\\hspace{0.1cm}+\\hspace{0.1cm} K_{[ACT2]} \\cdot K_{[REP1]} \\cdot K_{[REP3]} \\cdot K_{[RNA_{pol}]} \\cdot[ACT2] \\cdot [REP1] \\cdot [REP3] \\cdot [RNA_{pol}]\\hspace{0.1cm}+\\hspace{0.1cm} K_{[ACT2]} \\cdot K_{[REP2]} \\cdot K_{[REP3]} \\cdot[ACT2] \\cdot [REP2] \\cdot [REP3]\\hspace{0.1cm}+\\hspace{0.1cm} K_{[ACT2]} \\cdot K_{[REP2]} \\cdot K_{[REP3]} \\cdot K_{[RNA_{pol}]} \\cdot[ACT2] \\cdot [REP2] \\cdot [REP3] \\cdot [RNA_{pol}]\\hspace{0.1cm}+\\hspace{0.1cm} K_{[ACT3]} \\cdot K_{[ACT4]} \\cdot K_{[REP1]} \\cdot[ACT3] \\cdot [ACT4] \\cdot [REP1]\\hspace{0.1cm}+\\hspace{0.1cm} K_{[ACT3]} \\cdot K_{[ACT4]} \\cdot K_{[REP1]} \\cdot K_{[RNA_{pol}]} \\cdot[ACT3] \\cdot [ACT4] \\cdot [REP1] \\cdot [RNA_{pol}]\\hspace{0.1cm}+\\hspace{0.1cm} K_{[ACT3]} \\cdot K_{[ACT4]} \\cdot K_{[REP2]} \\cdot[ACT3] \\cdot [ACT4] \\cdot [REP2]\\hspace{0.1cm}+\\hspace{0.1cm} K_{[ACT3]} \\cdot K_{[ACT4]} \\cdot K_{[REP2]} \\cdot K_{[RNA_{pol}]} \\cdot[ACT3] \\cdot [ACT4] \\cdot [REP2] \\cdot [RNA_{pol}]\\hspace{0.1cm}+\\hspace{0.1cm} K_{[ACT3]} \\cdot K_{[ACT4]} \\cdot K_{[REP3]} \\cdot[ACT3] \\cdot [ACT4] \\cdot [REP3]\\hspace{0.1cm}+\\hspace{0.1cm} K_{[ACT3]} \\cdot K_{[ACT4]} \\cdot K_{[REP3]} \\cdot K_{[RNA_{pol}]} \\cdot[ACT3] \\cdot [ACT4] \\cdot [REP3] \\cdot [RNA_{pol}]\\hspace{0.1cm}+\\hspace{0.1cm} K_{[ACT3]} \\cdot K_{[REP1]} \\cdot K_{[REP2]} \\cdot[ACT3] \\cdot [REP1] \\cdot [REP2]\\hspace{0.1cm}+\\hspace{0.1cm} K_{[ACT3]} \\cdot K_{[REP1]} \\cdot K_{[REP2]} \\cdot K_{[RNA_{pol}]} \\cdot[ACT3] \\cdot [REP1] \\cdot [REP2] \\cdot [RNA_{pol}]\\hspace{0.1cm}+\\hspace{0.1cm} K_{[ACT3]} \\cdot K_{[REP1]} \\cdot K_{[REP3]} \\cdot[ACT3] \\cdot [REP1] \\cdot [REP3]\\hspace{0.1cm}+\\hspace{0.1cm} K_{[ACT3]} \\cdot K_{[REP1]} \\cdot K_{[REP3]} \\cdot K_{[RNA_{pol}]} \\cdot[ACT3] \\cdot [REP1] \\cdot [REP3] \\cdot [RNA_{pol}]\\hspace{0.1cm}+\\hspace{0.1cm} K_{[ACT3]} \\cdot K_{[REP2]} \\cdot K_{[REP3]} \\cdot[ACT3] \\cdot [REP2] \\cdot [REP3]\\hspace{0.1cm}+\\hspace{0.1cm} K_{[ACT3]} \\cdot K_{[REP2]} \\cdot K_{[REP3]} \\cdot K_{[RNA_{pol}]} \\cdot[ACT3] \\cdot [REP2] \\cdot [REP3] \\cdot [RNA_{pol}]\\hspace{0.1cm}+\\hspace{0.1cm} K_{[ACT4]} \\cdot K_{[REP1]} \\cdot K_{[REP2]} \\cdot[ACT4] \\cdot [REP1] \\cdot [REP2]\\hspace{0.1cm}+\\hspace{0.1cm} K_{[ACT4]} \\cdot K_{[REP1]} \\cdot K_{[REP2]} \\cdot K_{[RNA_{pol}]} \\cdot[ACT4] \\cdot [REP1] \\cdot [REP2] \\cdot [RNA_{pol}]\\hspace{0.1cm}+\\hspace{0.1cm} K_{[ACT4]} \\cdot K_{[REP1]} \\cdot K_{[REP3]} \\cdot[ACT4] \\cdot [REP1] \\cdot [REP3]\\hspace{0.1cm}+\\hspace{0.1cm} K_{[ACT4]} \\cdot K_{[REP1]} \\cdot K_{[REP3]} \\cdot K_{[RNA_{pol}]} \\cdot[ACT4] \\cdot [REP1] \\cdot [REP3] \\cdot [RNA_{pol}]\\hspace{0.1cm}+\\hspace{0.1cm} K_{[ACT4]} \\cdot K_{[REP2]} \\cdot K_{[REP3]} \\cdot[ACT4] \\cdot [REP2] \\cdot [REP3]\\hspace{0.1cm}+\\hspace{0.1cm} K_{[ACT4]} \\cdot K_{[REP2]} \\cdot K_{[REP3]} \\cdot K_{[RNA_{pol}]} \\cdot[ACT4] \\cdot [REP2] \\cdot [REP3] \\cdot [RNA_{pol}]\\hspace{0.1cm}+\\hspace{0.1cm} K_{[REP1]} \\cdot K_{[REP2]} \\cdot K_{[REP3]} \\cdot[REP1] \\cdot [REP2] \\cdot [REP3]\\hspace{0.1cm}+\\hspace{0.1cm} K_{[REP1]} \\cdot K_{[REP2]} \\cdot K_{[REP3]} \\cdot K_{[RNA_{pol}]} \\cdot[REP1] \\cdot [REP2] \\cdot [REP3] \\cdot [RNA_{pol}]\\hspace{0.1cm}+\\hspace{0.1cm} K_{[ACT1]} \\cdot K_{[ACT2]} \\cdot K_{[ACT3]} \\cdot K_{[ACT4]} \\cdot[ACT1] \\cdot [ACT2] \\cdot [ACT3] \\cdot [ACT4]\\hspace{0.1cm}+\\hspace{0.1cm} K_{[ACT1]} \\cdot K_{[ACT2]} \\cdot K_{[ACT3]} \\cdot K_{[ACT4]} \\cdot K_{[RNA_{pol}]} \\cdot[ACT1] \\cdot [ACT2] \\cdot [ACT3] \\cdot [ACT4] \\cdot [RNA_{pol}]\\hspace{0.1cm}+\\hspace{0.1cm} K_{[ACT1]} \\cdot K_{[ACT2]} \\cdot K_{[ACT3]} \\cdot K_{[REP1]} \\cdot[ACT1] \\cdot [ACT2] \\cdot [ACT3] \\cdot [REP1]\\hspace{0.1cm}+\\hspace{0.1cm} K_{[ACT1]} \\cdot K_{[ACT2]} \\cdot K_{[ACT3]} \\cdot K_{[REP1]} \\cdot K_{[RNA_{pol}]} \\cdot[ACT1] \\cdot [ACT2] \\cdot [ACT3] \\cdot [REP1] \\cdot [RNA_{pol}]\\hspace{0.1cm}+\\hspace{0.1cm} K_{[ACT1]} \\cdot K_{[ACT2]} \\cdot K_{[ACT3]} \\cdot K_{[REP2]} \\cdot[ACT1] \\cdot [ACT2] \\cdot [ACT3] \\cdot [REP2]\\hspace{0.1cm}+\\hspace{0.1cm} K_{[ACT1]} \\cdot K_{[ACT2]} \\cdot K_{[ACT3]} \\cdot K_{[REP2]} \\cdot K_{[RNA_{pol}]} \\cdot[ACT1] \\cdot [ACT2] \\cdot [ACT3] \\cdot [REP2] \\cdot [RNA_{pol}]\\hspace{0.1cm}+\\hspace{0.1cm} K_{[ACT1]} \\cdot K_{[ACT2]} \\cdot K_{[ACT3]} \\cdot K_{[REP3]} \\cdot[ACT1] \\cdot [ACT2] \\cdot [ACT3] \\cdot [REP3]\\hspace{0.1cm}+\\hspace{0.1cm} K_{[ACT1]} \\cdot K_{[ACT2]} \\cdot K_{[ACT3]} \\cdot K_{[REP3]} \\cdot K_{[RNA_{pol}]} \\cdot[ACT1] \\cdot [ACT2] \\cdot [ACT3] \\cdot [REP3] \\cdot [RNA_{pol}]\\hspace{0.1cm}+\\hspace{0.1cm} K_{[ACT1]} \\cdot K_{[ACT2]} \\cdot K_{[ACT4]} \\cdot K_{[REP1]} \\cdot[ACT1] \\cdot [ACT2] \\cdot [ACT4] \\cdot [REP1]\\hspace{0.1cm}+\\hspace{0.1cm} K_{[ACT1]} \\cdot K_{[ACT2]} \\cdot K_{[ACT4]} \\cdot K_{[REP1]} \\cdot K_{[RNA_{pol}]} \\cdot[ACT1] \\cdot [ACT2] \\cdot [ACT4] \\cdot [REP1] \\cdot [RNA_{pol}]\\hspace{0.1cm}+\\hspace{0.1cm} K_{[ACT1]} \\cdot K_{[ACT2]} \\cdot K_{[ACT4]} \\cdot K_{[REP2]} \\cdot[ACT1] \\cdot [ACT2] \\cdot [ACT4] \\cdot [REP2]\\hspace{0.1cm}+\\hspace{0.1cm} K_{[ACT1]} \\cdot K_{[ACT2]} \\cdot K_{[ACT4]} \\cdot K_{[REP2]} \\cdot K_{[RNA_{pol}]} \\cdot[ACT1] \\cdot [ACT2] \\cdot [ACT4] \\cdot [REP2] \\cdot [RNA_{pol}]\\hspace{0.1cm}+\\hspace{0.1cm} K_{[ACT1]} \\cdot K_{[ACT2]} \\cdot K_{[ACT4]} \\cdot K_{[REP3]} \\cdot[ACT1] \\cdot [ACT2] \\cdot [ACT4] \\cdot [REP3]\\hspace{0.1cm}+\\hspace{0.1cm} K_{[ACT1]} \\cdot K_{[ACT2]} \\cdot K_{[ACT4]} \\cdot K_{[REP3]} \\cdot K_{[RNA_{pol}]} \\cdot[ACT1] \\cdot [ACT2] \\cdot [ACT4] \\cdot [REP3] \\cdot [RNA_{pol}]\\hspace{0.1cm}+\\hspace{0.1cm} K_{[ACT1]} \\cdot K_{[ACT2]} \\cdot K_{[REP1]} \\cdot K_{[REP2]} \\cdot[ACT1] \\cdot [ACT2] \\cdot [REP1] \\cdot [REP2]\\hspace{0.1cm}+\\hspace{0.1cm} K_{[ACT1]} \\cdot K_{[ACT2]} \\cdot K_{[REP1]} \\cdot K_{[REP2]} \\cdot K_{[RNA_{pol}]} \\cdot[ACT1] \\cdot [ACT2] \\cdot [REP1] \\cdot [REP2] \\cdot [RNA_{pol}]\\hspace{0.1cm}+\\hspace{0.1cm} K_{[ACT1]} \\cdot K_{[ACT2]} \\cdot K_{[REP1]} \\cdot K_{[REP3]} \\cdot[ACT1] \\cdot [ACT2] \\cdot [REP1] \\cdot [REP3]\\hspace{0.1cm}+\\hspace{0.1cm} K_{[ACT1]} \\cdot K_{[ACT2]} \\cdot K_{[REP1]} \\cdot K_{[REP3]} \\cdot K_{[RNA_{pol}]} \\cdot[ACT1] \\cdot [ACT2] \\cdot [REP1] \\cdot [REP3] \\cdot [RNA_{pol}]\\hspace{0.1cm}+\\hspace{0.1cm} K_{[ACT1]} \\cdot K_{[ACT2]} \\cdot K_{[REP2]} \\cdot K_{[REP3]} \\cdot[ACT1] \\cdot [ACT2] \\cdot [REP2] \\cdot [REP3]\\hspace{0.1cm}+\\hspace{0.1cm} K_{[ACT1]} \\cdot K_{[ACT2]} \\cdot K_{[REP2]} \\cdot K_{[REP3]} \\cdot K_{[RNA_{pol}]} \\cdot[ACT1] \\cdot [ACT2] \\cdot [REP2] \\cdot [REP3] \\cdot [RNA_{pol}]\\hspace{0.1cm}+\\hspace{0.1cm} K_{[ACT1]} \\cdot K_{[ACT3]} \\cdot K_{[ACT4]} \\cdot K_{[REP1]} \\cdot[ACT1] \\cdot [ACT3] \\cdot [ACT4] \\cdot [REP1]\\hspace{0.1cm}+\\hspace{0.1cm} K_{[ACT1]} \\cdot K_{[ACT3]} \\cdot K_{[ACT4]} \\cdot K_{[REP1]} \\cdot K_{[RNA_{pol}]} \\cdot[ACT1] \\cdot [ACT3] \\cdot [ACT4] \\cdot [REP1] \\cdot [RNA_{pol}]\\hspace{0.1cm}+\\hspace{0.1cm} K_{[ACT1]} \\cdot K_{[ACT3]} \\cdot K_{[ACT4]} \\cdot K_{[REP2]} \\cdot[ACT1] \\cdot [ACT3] \\cdot [ACT4] \\cdot [REP2]\\hspace{0.1cm}+\\hspace{0.1cm} K_{[ACT1]} \\cdot K_{[ACT3]} \\cdot K_{[ACT4]} \\cdot K_{[REP2]} \\cdot K_{[RNA_{pol}]} \\cdot[ACT1] \\cdot [ACT3] \\cdot [ACT4] \\cdot [REP2] \\cdot [RNA_{pol}]\\hspace{0.1cm}+\\hspace{0.1cm} K_{[ACT1]} \\cdot K_{[ACT3]} \\cdot K_{[ACT4]} \\cdot K_{[REP3]} \\cdot[ACT1] \\cdot [ACT3] \\cdot [ACT4] \\cdot [REP3]\\hspace{0.1cm}+\\hspace{0.1cm} K_{[ACT1]} \\cdot K_{[ACT3]} \\cdot K_{[ACT4]} \\cdot K_{[REP3]} \\cdot K_{[RNA_{pol}]} \\cdot[ACT1] \\cdot [ACT3] \\cdot [ACT4] \\cdot [REP3] \\cdot [RNA_{pol}]\\hspace{0.1cm}+\\hspace{0.1cm} K_{[ACT1]} \\cdot K_{[ACT3]} \\cdot K_{[REP1]} \\cdot K_{[REP2]} \\cdot[ACT1] \\cdot [ACT3] \\cdot [REP1] \\cdot [REP2]\\hspace{0.1cm}+\\hspace{0.1cm} K_{[ACT1]} \\cdot K_{[ACT3]} \\cdot K_{[REP1]} \\cdot K_{[REP2]} \\cdot K_{[RNA_{pol}]} \\cdot[ACT1] \\cdot [ACT3] \\cdot [REP1] \\cdot [REP2] \\cdot [RNA_{pol}]\\hspace{0.1cm}+\\hspace{0.1cm} K_{[ACT1]} \\cdot K_{[ACT3]} \\cdot K_{[REP1]} \\cdot K_{[REP3]} \\cdot[ACT1] \\cdot [ACT3] \\cdot [REP1] \\cdot [REP3]\\hspace{0.1cm}+\\hspace{0.1cm} K_{[ACT1]} \\cdot K_{[ACT3]} \\cdot K_{[REP1]} \\cdot K_{[REP3]} \\cdot K_{[RNA_{pol}]} \\cdot[ACT1] \\cdot [ACT3] \\cdot [REP1] \\cdot [REP3] \\cdot [RNA_{pol}]\\hspace{0.1cm}+\\hspace{0.1cm} K_{[ACT1]} \\cdot K_{[ACT3]} \\cdot K_{[REP2]} \\cdot K_{[REP3]} \\cdot[ACT1] \\cdot [ACT3] \\cdot [REP2] \\cdot [REP3]\\hspace{0.1cm}+\\hspace{0.1cm} K_{[ACT1]} \\cdot K_{[ACT3]} \\cdot K_{[REP2]} \\cdot K_{[REP3]} \\cdot K_{[RNA_{pol}]} \\cdot[ACT1] \\cdot [ACT3] \\cdot [REP2] \\cdot [REP3] \\cdot [RNA_{pol}]\\hspace{0.1cm}+\\hspace{0.1cm} K_{[ACT1]} \\cdot K_{[ACT4]} \\cdot K_{[REP1]} \\cdot K_{[REP2]} \\cdot[ACT1] \\cdot [ACT4] \\cdot [REP1] \\cdot [REP2]\\hspace{0.1cm}+\\hspace{0.1cm} K_{[ACT1]} \\cdot K_{[ACT4]} \\cdot K_{[REP1]} \\cdot K_{[REP2]} \\cdot K_{[RNA_{pol}]} \\cdot[ACT1] \\cdot [ACT4] \\cdot [REP1] \\cdot [REP2] \\cdot [RNA_{pol}]\\hspace{0.1cm}+\\hspace{0.1cm} K_{[ACT1]} \\cdot K_{[ACT4]} \\cdot K_{[REP1]} \\cdot K_{[REP3]} \\cdot[ACT1] \\cdot [ACT4] \\cdot [REP1] \\cdot [REP3]\\hspace{0.1cm}+\\hspace{0.1cm} K_{[ACT1]} \\cdot K_{[ACT4]} \\cdot K_{[REP1]} \\cdot K_{[REP3]} \\cdot K_{[RNA_{pol}]} \\cdot[ACT1] \\cdot [ACT4] \\cdot [REP1] \\cdot [REP3] \\cdot [RNA_{pol}]\\hspace{0.1cm}+\\hspace{0.1cm} K_{[ACT1]} \\cdot K_{[ACT4]} \\cdot K_{[REP2]} \\cdot K_{[REP3]} \\cdot[ACT1] \\cdot [ACT4] \\cdot [REP2] \\cdot [REP3]\\hspace{0.1cm}+\\hspace{0.1cm} K_{[ACT1]} \\cdot K_{[ACT4]} \\cdot K_{[REP2]} \\cdot K_{[REP3]} \\cdot K_{[RNA_{pol}]} \\cdot[ACT1] \\cdot [ACT4] \\cdot [REP2] \\cdot [REP3] \\cdot [RNA_{pol}]\\hspace{0.1cm}+\\hspace{0.1cm} K_{[ACT1]} \\cdot K_{[REP1]} \\cdot K_{[REP2]} \\cdot K_{[REP3]} \\cdot[ACT1] \\cdot [REP1] \\cdot [REP2] \\cdot [REP3]\\hspace{0.1cm}+\\hspace{0.1cm} K_{[ACT1]} \\cdot K_{[REP1]} \\cdot K_{[REP2]} \\cdot K_{[REP3]} \\cdot K_{[RNA_{pol}]} \\cdot[ACT1] \\cdot [REP1] \\cdot [REP2] \\cdot [REP3] \\cdot [RNA_{pol}]\\hspace{0.1cm}+\\hspace{0.1cm} K_{[ACT2]} \\cdot K_{[ACT3]} \\cdot K_{[ACT4]} \\cdot K_{[REP1]} \\cdot[ACT2] \\cdot [ACT3] \\cdot [ACT4] \\cdot [REP1]\\hspace{0.1cm}+\\hspace{0.1cm} K_{[ACT2]} \\cdot K_{[ACT3]} \\cdot K_{[ACT4]} \\cdot K_{[REP1]} \\cdot K_{[RNA_{pol}]} \\cdot[ACT2] \\cdot [ACT3] \\cdot [ACT4] \\cdot [REP1] \\cdot [RNA_{pol}]\\hspace{0.1cm}+\\hspace{0.1cm} K_{[ACT2]} \\cdot K_{[ACT3]} \\cdot K_{[ACT4]} \\cdot K_{[REP2]} \\cdot[ACT2] \\cdot [ACT3] \\cdot [ACT4] \\cdot [REP2]\\hspace{0.1cm}+\\hspace{0.1cm} K_{[ACT2]} \\cdot K_{[ACT3]} \\cdot K_{[ACT4]} \\cdot K_{[REP2]} \\cdot K_{[RNA_{pol}]} \\cdot[ACT2] \\cdot [ACT3] \\cdot [ACT4] \\cdot [REP2] \\cdot [RNA_{pol}]\\hspace{0.1cm}+\\hspace{0.1cm} K_{[ACT2]} \\cdot K_{[ACT3]} \\cdot K_{[ACT4]} \\cdot K_{[REP3]} \\cdot[ACT2] \\cdot [ACT3] \\cdot [ACT4] \\cdot [REP3]\\hspace{0.1cm}+\\hspace{0.1cm} K_{[ACT2]} \\cdot K_{[ACT3]} \\cdot K_{[ACT4]} \\cdot K_{[REP3]} \\cdot K_{[RNA_{pol}]} \\cdot[ACT2] \\cdot [ACT3] \\cdot [ACT4] \\cdot [REP3] \\cdot [RNA_{pol}]\\hspace{0.1cm}+\\hspace{0.1cm} K_{[ACT2]} \\cdot K_{[ACT3]} \\cdot K_{[REP1]} \\cdot K_{[REP2]} \\cdot[ACT2] \\cdot [ACT3] \\cdot [REP1] \\cdot [REP2]\\hspace{0.1cm}+\\hspace{0.1cm} K_{[ACT2]} \\cdot K_{[ACT3]} \\cdot K_{[REP1]} \\cdot K_{[REP2]} \\cdot K_{[RNA_{pol}]} \\cdot[ACT2] \\cdot [ACT3] \\cdot [REP1] \\cdot [REP2] \\cdot [RNA_{pol}]\\hspace{0.1cm}+\\hspace{0.1cm} K_{[ACT2]} \\cdot K_{[ACT3]} \\cdot K_{[REP1]} \\cdot K_{[REP3]} \\cdot[ACT2] \\cdot [ACT3] \\cdot [REP1] \\cdot [REP3]\\hspace{0.1cm}+\\hspace{0.1cm} K_{[ACT2]} \\cdot K_{[ACT3]} \\cdot K_{[REP1]} \\cdot K_{[REP3]} \\cdot K_{[RNA_{pol}]} \\cdot[ACT2] \\cdot [ACT3] \\cdot [REP1] \\cdot [REP3] \\cdot [RNA_{pol}]\\hspace{0.1cm}+\\hspace{0.1cm} K_{[ACT2]} \\cdot K_{[ACT3]} \\cdot K_{[REP2]} \\cdot K_{[REP3]} \\cdot[ACT2] \\cdot [ACT3] \\cdot [REP2] \\cdot [REP3]\\hspace{0.1cm}+\\hspace{0.1cm} K_{[ACT2]} \\cdot K_{[ACT3]} \\cdot K_{[REP2]} \\cdot K_{[REP3]} \\cdot K_{[RNA_{pol}]} \\cdot[ACT2] \\cdot [ACT3] \\cdot [REP2] \\cdot [REP3] \\cdot [RNA_{pol}]\\hspace{0.1cm}+\\hspace{0.1cm} K_{[ACT2]} \\cdot K_{[ACT4]} \\cdot K_{[REP1]} \\cdot K_{[REP2]} \\cdot[ACT2] \\cdot [ACT4] \\cdot [REP1] \\cdot [REP2]\\hspace{0.1cm}+\\hspace{0.1cm} K_{[ACT2]} \\cdot K_{[ACT4]} \\cdot K_{[REP1]} \\cdot K_{[REP2]} \\cdot K_{[RNA_{pol}]} \\cdot[ACT2] \\cdot [ACT4] \\cdot [REP1] \\cdot [REP2] \\cdot [RNA_{pol}]\\hspace{0.1cm}+\\hspace{0.1cm} K_{[ACT2]} \\cdot K_{[ACT4]} \\cdot K_{[REP1]} \\cdot K_{[REP3]} \\cdot[ACT2] \\cdot [ACT4] \\cdot [REP1] \\cdot [REP3]\\hspace{0.1cm}+\\hspace{0.1cm} K_{[ACT2]} \\cdot K_{[ACT4]} \\cdot K_{[REP1]} \\cdot K_{[REP3]} \\cdot K_{[RNA_{pol}]} \\cdot[ACT2] \\cdot [ACT4] \\cdot [REP1] \\cdot [REP3] \\cdot [RNA_{pol}]\\hspace{0.1cm}+\\hspace{0.1cm} K_{[ACT2]} \\cdot K_{[ACT4]} \\cdot K_{[REP2]} \\cdot K_{[REP3]} \\cdot[ACT2] \\cdot [ACT4] \\cdot [REP2] \\cdot [REP3]\\hspace{0.1cm}+\\hspace{0.1cm} K_{[ACT2]} \\cdot K_{[ACT4]} \\cdot K_{[REP2]} \\cdot K_{[REP3]} \\cdot K_{[RNA_{pol}]} \\cdot[ACT2] \\cdot [ACT4] \\cdot [REP2] \\cdot [REP3] \\cdot [RNA_{pol}]\\hspace{0.1cm}+\\hspace{0.1cm} K_{[ACT2]} \\cdot K_{[REP1]} \\cdot K_{[REP2]} \\cdot K_{[REP3]} \\cdot[ACT2] \\cdot [REP1] \\cdot [REP2] \\cdot [REP3]\\hspace{0.1cm}+\\hspace{0.1cm} K_{[ACT2]} \\cdot K_{[REP1]} \\cdot K_{[REP2]} \\cdot K_{[REP3]} \\cdot K_{[RNA_{pol}]} \\cdot[ACT2] \\cdot [REP1] \\cdot [REP2] \\cdot [REP3] \\cdot [RNA_{pol}]\\hspace{0.1cm}+\\hspace{0.1cm} K_{[ACT3]} \\cdot K_{[ACT4]} \\cdot K_{[REP1]} \\cdot K_{[REP2]} \\cdot[ACT3] \\cdot [ACT4] \\cdot [REP1] \\cdot [REP2]\\hspace{0.1cm}+\\hspace{0.1cm} K_{[ACT3]} \\cdot K_{[ACT4]} \\cdot K_{[REP1]} \\cdot K_{[REP2]} \\cdot K_{[RNA_{pol}]} \\cdot[ACT3] \\cdot [ACT4] \\cdot [REP1] \\cdot [REP2] \\cdot [RNA_{pol}]\\hspace{0.1cm}+\\hspace{0.1cm} K_{[ACT3]} \\cdot K_{[ACT4]} \\cdot K_{[REP1]} \\cdot K_{[REP3]} \\cdot[ACT3] \\cdot [ACT4] \\cdot [REP1] \\cdot [REP3]\\hspace{0.1cm}+\\hspace{0.1cm} K_{[ACT3]} \\cdot K_{[ACT4]} \\cdot K_{[REP1]} \\cdot K_{[REP3]} \\cdot K_{[RNA_{pol}]} \\cdot[ACT3] \\cdot [ACT4] \\cdot [REP1] \\cdot [REP3] \\cdot [RNA_{pol}]\\hspace{0.1cm}+\\hspace{0.1cm} K_{[ACT3]} \\cdot K_{[ACT4]} \\cdot K_{[REP2]} \\cdot K_{[REP3]} \\cdot[ACT3] \\cdot [ACT4] \\cdot [REP2] \\cdot [REP3]\\hspace{0.1cm}+\\hspace{0.1cm} K_{[ACT3]} \\cdot K_{[ACT4]} \\cdot K_{[REP2]} \\cdot K_{[REP3]} \\cdot K_{[RNA_{pol}]} \\cdot[ACT3] \\cdot [ACT4] \\cdot [REP2] \\cdot [REP3] \\cdot [RNA_{pol}]\\hspace{0.1cm}+\\hspace{0.1cm} K_{[ACT3]} \\cdot K_{[REP1]} \\cdot K_{[REP2]} \\cdot K_{[REP3]} \\cdot[ACT3] \\cdot [REP1] \\cdot [REP2] \\cdot [REP3]\\hspace{0.1cm}+\\hspace{0.1cm} K_{[ACT3]} \\cdot K_{[REP1]} \\cdot K_{[REP2]} \\cdot K_{[REP3]} \\cdot K_{[RNA_{pol}]} \\cdot[ACT3] \\cdot [REP1] \\cdot [REP2] \\cdot [REP3] \\cdot [RNA_{pol}]\\hspace{0.1cm}+\\hspace{0.1cm} K_{[ACT4]} \\cdot K_{[REP1]} \\cdot K_{[REP2]} \\cdot K_{[REP3]} \\cdot[ACT4] \\cdot [REP1] \\cdot [REP2] \\cdot [REP3]\\hspace{0.1cm}+\\hspace{0.1cm} K_{[ACT4]} \\cdot K_{[REP1]} \\cdot K_{[REP2]} \\cdot K_{[REP3]} \\cdot K_{[RNA_{pol}]} \\cdot[ACT4] \\cdot [REP1] \\cdot [REP2] \\cdot [REP3] \\cdot [RNA_{pol}]\\hspace{0.1cm}+\\hspace{0.1cm} K_{[ACT1]} \\cdot K_{[ACT2]} \\cdot K_{[ACT3]} \\cdot K_{[ACT4]} \\cdot K_{[REP1]} \\cdot[ACT1] \\cdot [ACT2] \\cdot [ACT3] \\cdot [ACT4] \\cdot [REP1]\\hspace{0.1cm}+\\hspace{0.1cm} K_{[ACT1]} \\cdot K_{[ACT2]} \\cdot K_{[ACT3]} \\cdot K_{[ACT4]} \\cdot K_{[REP1]} \\cdot K_{[RNA_{pol}]} \\cdot[ACT1] \\cdot [ACT2] \\cdot [ACT3] \\cdot [ACT4] \\cdot [REP1] \\cdot [RNA_{pol}]\\hspace{0.1cm}+\\hspace{0.1cm} K_{[ACT1]} \\cdot K_{[ACT2]} \\cdot K_{[ACT3]} \\cdot K_{[ACT4]} \\cdot K_{[REP2]} \\cdot[ACT1] \\cdot [ACT2] \\cdot [ACT3] \\cdot [ACT4] \\cdot [REP2]\\hspace{0.1cm}+\\hspace{0.1cm} K_{[ACT1]} \\cdot K_{[ACT2]} \\cdot K_{[ACT3]} \\cdot K_{[ACT4]} \\cdot K_{[REP2]} \\cdot K_{[RNA_{pol}]} \\cdot[ACT1] \\cdot [ACT2] \\cdot [ACT3] \\cdot [ACT4] \\cdot [REP2] \\cdot [RNA_{pol}]\\hspace{0.1cm}+\\hspace{0.1cm} K_{[ACT1]} \\cdot K_{[ACT2]} \\cdot K_{[ACT3]} \\cdot K_{[ACT4]} \\cdot K_{[REP3]} \\cdot[ACT1] \\cdot [ACT2] \\cdot [ACT3] \\cdot [ACT4] \\cdot [REP3]\\hspace{0.1cm}+\\hspace{0.1cm} K_{[ACT1]} \\cdot K_{[ACT2]} \\cdot K_{[ACT3]} \\cdot K_{[ACT4]} \\cdot K_{[REP3]} \\cdot K_{[RNA_{pol}]} \\cdot[ACT1] \\cdot [ACT2] \\cdot [ACT3] \\cdot [ACT4] \\cdot [REP3] \\cdot [RNA_{pol}]\\hspace{0.1cm}+\\hspace{0.1cm} K_{[ACT1]} \\cdot K_{[ACT2]} \\cdot K_{[ACT3]} \\cdot K_{[REP1]} \\cdot K_{[REP2]} \\cdot[ACT1] \\cdot [ACT2] \\cdot [ACT3] \\cdot [REP1] \\cdot [REP2]\\hspace{0.1cm}+\\hspace{0.1cm} K_{[ACT1]} \\cdot K_{[ACT2]} \\cdot K_{[ACT3]} \\cdot K_{[REP1]} \\cdot K_{[REP2]} \\cdot K_{[RNA_{pol}]} \\cdot[ACT1] \\cdot [ACT2] \\cdot [ACT3] \\cdot [REP1] \\cdot [REP2] \\cdot [RNA_{pol}]\\hspace{0.1cm}+\\hspace{0.1cm} K_{[ACT1]} \\cdot K_{[ACT2]} \\cdot K_{[ACT3]} \\cdot K_{[REP1]} \\cdot K_{[REP3]} \\cdot[ACT1] \\cdot [ACT2] \\cdot [ACT3] \\cdot [REP1] \\cdot [REP3]\\hspace{0.1cm}+\\hspace{0.1cm} K_{[ACT1]} \\cdot K_{[ACT2]} \\cdot K_{[ACT3]} \\cdot K_{[REP1]} \\cdot K_{[REP3]} \\cdot K_{[RNA_{pol}]} \\cdot[ACT1] \\cdot [ACT2] \\cdot [ACT3] \\cdot [REP1] \\cdot [REP3] \\cdot [RNA_{pol}]\\hspace{0.1cm}+\\hspace{0.1cm} K_{[ACT1]} \\cdot K_{[ACT2]} \\cdot K_{[ACT3]} \\cdot K_{[REP2]} \\cdot K_{[REP3]} \\cdot[ACT1] \\cdot [ACT2] \\cdot [ACT3] \\cdot [REP2] \\cdot [REP3]\\hspace{0.1cm}+\\hspace{0.1cm} K_{[ACT1]} \\cdot K_{[ACT2]} \\cdot K_{[ACT3]} \\cdot K_{[REP2]} \\cdot K_{[REP3]} \\cdot K_{[RNA_{pol}]} \\cdot[ACT1] \\cdot [ACT2] \\cdot [ACT3] \\cdot [REP2] \\cdot [REP3] \\cdot [RNA_{pol}]\\hspace{0.1cm}+\\hspace{0.1cm} K_{[ACT1]} \\cdot K_{[ACT2]} \\cdot K_{[ACT4]} \\cdot K_{[REP1]} \\cdot K_{[REP2]} \\cdot[ACT1] \\cdot [ACT2] \\cdot [ACT4] \\cdot [REP1] \\cdot [REP2]\\hspace{0.1cm}+\\hspace{0.1cm} K_{[ACT1]} \\cdot K_{[ACT2]} \\cdot K_{[ACT4]} \\cdot K_{[REP1]} \\cdot K_{[REP2]} \\cdot K_{[RNA_{pol}]} \\cdot[ACT1] \\cdot [ACT2] \\cdot [ACT4] \\cdot [REP1] \\cdot [REP2] \\cdot [RNA_{pol}]\\hspace{0.1cm}+\\hspace{0.1cm} K_{[ACT1]} \\cdot K_{[ACT2]} \\cdot K_{[ACT4]} \\cdot K_{[REP1]} \\cdot K_{[REP3]} \\cdot[ACT1] \\cdot [ACT2] \\cdot [ACT4] \\cdot [REP1] \\cdot [REP3]\\hspace{0.1cm}+\\hspace{0.1cm} K_{[ACT1]} \\cdot K_{[ACT2]} \\cdot K_{[ACT4]} \\cdot K_{[REP1]} \\cdot K_{[REP3]} \\cdot K_{[RNA_{pol}]} \\cdot[ACT1] \\cdot [ACT2] \\cdot [ACT4] \\cdot [REP1] \\cdot [REP3] \\cdot [RNA_{pol}]\\hspace{0.1cm}+\\hspace{0.1cm} K_{[ACT1]} \\cdot K_{[ACT2]} \\cdot K_{[ACT4]} \\cdot K_{[REP2]} \\cdot K_{[REP3]} \\cdot[ACT1] \\cdot [ACT2] \\cdot [ACT4] \\cdot [REP2] \\cdot [REP3]\\hspace{0.1cm}+\\hspace{0.1cm} K_{[ACT1]} \\cdot K_{[ACT2]} \\cdot K_{[ACT4]} \\cdot K_{[REP2]} \\cdot K_{[REP3]} \\cdot K_{[RNA_{pol}]} \\cdot[ACT1] \\cdot [ACT2] \\cdot [ACT4] \\cdot [REP2] \\cdot [REP3] \\cdot [RNA_{pol}]\\hspace{0.1cm}+\\hspace{0.1cm} K_{[ACT1]} \\cdot K_{[ACT2]} \\cdot K_{[REP1]} \\cdot K_{[REP2]} \\cdot K_{[REP3]} \\cdot[ACT1] \\cdot [ACT2] \\cdot [REP1] \\cdot [REP2] \\cdot [REP3]\\hspace{0.1cm}+\\hspace{0.1cm} K_{[ACT1]} \\cdot K_{[ACT2]} \\cdot K_{[REP1]} \\cdot K_{[REP2]} \\cdot K_{[REP3]} \\cdot K_{[RNA_{pol}]} \\cdot[ACT1] \\cdot [ACT2] \\cdot [REP1] \\cdot [REP2] \\cdot [REP3] \\cdot [RNA_{pol}]\\hspace{0.1cm}+\\hspace{0.1cm} K_{[ACT1]} \\cdot K_{[ACT3]} \\cdot K_{[ACT4]} \\cdot K_{[REP1]} \\cdot K_{[REP2]} \\cdot[ACT1] \\cdot [ACT3] \\cdot [ACT4] \\cdot [REP1] \\cdot [REP2]\\hspace{0.1cm}+\\hspace{0.1cm} K_{[ACT1]} \\cdot K_{[ACT3]} \\cdot K_{[ACT4]} \\cdot K_{[REP1]} \\cdot K_{[REP2]} \\cdot K_{[RNA_{pol}]} \\cdot[ACT1] \\cdot [ACT3] \\cdot [ACT4] \\cdot [REP1] \\cdot [REP2] \\cdot [RNA_{pol}]\\hspace{0.1cm}+\\hspace{0.1cm} K_{[ACT1]} \\cdot K_{[ACT3]} \\cdot K_{[ACT4]} \\cdot K_{[REP1]} \\cdot K_{[REP3]} \\cdot[ACT1] \\cdot [ACT3] \\cdot [ACT4] \\cdot [REP1] \\cdot [REP3]\\hspace{0.1cm}+\\hspace{0.1cm} K_{[ACT1]} \\cdot K_{[ACT3]} \\cdot K_{[ACT4]} \\cdot K_{[REP1]} \\cdot K_{[REP3]} \\cdot K_{[RNA_{pol}]} \\cdot[ACT1] \\cdot [ACT3] \\cdot [ACT4] \\cdot [REP1] \\cdot [REP3] \\cdot [RNA_{pol}]\\hspace{0.1cm}+\\hspace{0.1cm} K_{[ACT1]} \\cdot K_{[ACT3]} \\cdot K_{[ACT4]} \\cdot K_{[REP2]} \\cdot K_{[REP3]} \\cdot[ACT1] \\cdot [ACT3] \\cdot [ACT4] \\cdot [REP2] \\cdot [REP3]\\hspace{0.1cm}+\\hspace{0.1cm} K_{[ACT1]} \\cdot K_{[ACT3]} \\cdot K_{[ACT4]} \\cdot K_{[REP2]} \\cdot K_{[REP3]} \\cdot K_{[RNA_{pol}]} \\cdot[ACT1] \\cdot [ACT3] \\cdot [ACT4] \\cdot [REP2] \\cdot [REP3] \\cdot [RNA_{pol}]\\hspace{0.1cm}+\\hspace{0.1cm} K_{[ACT1]} \\cdot K_{[ACT3]} \\cdot K_{[REP1]} \\cdot K_{[REP2]} \\cdot K_{[REP3]} \\cdot[ACT1] \\cdot [ACT3] \\cdot [REP1] \\cdot [REP2] \\cdot [REP3]\\hspace{0.1cm}+\\hspace{0.1cm} K_{[ACT1]} \\cdot K_{[ACT3]} \\cdot K_{[REP1]} \\cdot K_{[REP2]} \\cdot K_{[REP3]} \\cdot K_{[RNA_{pol}]} \\cdot[ACT1] \\cdot [ACT3] \\cdot [REP1] \\cdot [REP2] \\cdot [REP3] \\cdot [RNA_{pol}]\\hspace{0.1cm}+\\hspace{0.1cm} K_{[ACT1]} \\cdot K_{[ACT4]} \\cdot K_{[REP1]} \\cdot K_{[REP2]} \\cdot K_{[REP3]} \\cdot[ACT1] \\cdot [ACT4] \\cdot [REP1] \\cdot [REP2] \\cdot [REP3]\\hspace{0.1cm}+\\hspace{0.1cm} K_{[ACT1]} \\cdot K_{[ACT4]} \\cdot K_{[REP1]} \\cdot K_{[REP2]} \\cdot K_{[REP3]} \\cdot K_{[RNA_{pol}]} \\cdot[ACT1] \\cdot [ACT4] \\cdot [REP1] \\cdot [REP2] \\cdot [REP3] \\cdot [RNA_{pol}]\\hspace{0.1cm}+\\hspace{0.1cm} K_{[ACT2]} \\cdot K_{[ACT3]} \\cdot K_{[ACT4]} \\cdot K_{[REP1]} \\cdot K_{[REP2]} \\cdot[ACT2] \\cdot [ACT3] \\cdot [ACT4] \\cdot [REP1] \\cdot [REP2]\\hspace{0.1cm}+\\hspace{0.1cm} K_{[ACT2]} \\cdot K_{[ACT3]} \\cdot K_{[ACT4]} \\cdot K_{[REP1]} \\cdot K_{[REP2]} \\cdot K_{[RNA_{pol}]} \\cdot[ACT2] \\cdot [ACT3] \\cdot [ACT4] \\cdot [REP1] \\cdot [REP2] \\cdot [RNA_{pol}]\\hspace{0.1cm}+\\hspace{0.1cm} K_{[ACT2]} \\cdot K_{[ACT3]} \\cdot K_{[ACT4]} \\cdot K_{[REP1]} \\cdot K_{[REP3]} \\cdot[ACT2] \\cdot [ACT3] \\cdot [ACT4] \\cdot [REP1] \\cdot [REP3]\\hspace{0.1cm}+\\hspace{0.1cm} K_{[ACT2]} \\cdot K_{[ACT3]} \\cdot K_{[ACT4]} \\cdot K_{[REP1]} \\cdot K_{[REP3]} \\cdot K_{[RNA_{pol}]} \\cdot[ACT2] \\cdot [ACT3] \\cdot [ACT4] \\cdot [REP1] \\cdot [REP3] \\cdot [RNA_{pol}]\\hspace{0.1cm}+\\hspace{0.1cm} K_{[ACT2]} \\cdot K_{[ACT3]} \\cdot K_{[ACT4]} \\cdot K_{[REP2]} \\cdot K_{[REP3]} \\cdot[ACT2] \\cdot [ACT3] \\cdot [ACT4] \\cdot [REP2] \\cdot [REP3]\\hspace{0.1cm}+\\hspace{0.1cm} K_{[ACT2]} \\cdot K_{[ACT3]} \\cdot K_{[ACT4]} \\cdot K_{[REP2]} \\cdot K_{[REP3]} \\cdot K_{[RNA_{pol}]} \\cdot[ACT2] \\cdot [ACT3] \\cdot [ACT4] \\cdot [REP2] \\cdot [REP3] \\cdot [RNA_{pol}]\\hspace{0.1cm}+\\hspace{0.1cm} K_{[ACT2]} \\cdot K_{[ACT3]} \\cdot K_{[REP1]} \\cdot K_{[REP2]} \\cdot K_{[REP3]} \\cdot[ACT2] \\cdot [ACT3] \\cdot [REP1] \\cdot [REP2] \\cdot [REP3]\\hspace{0.1cm}+\\hspace{0.1cm} K_{[ACT2]} \\cdot K_{[ACT3]} \\cdot K_{[REP1]} \\cdot K_{[REP2]} \\cdot K_{[REP3]} \\cdot K_{[RNA_{pol}]} \\cdot[ACT2] \\cdot [ACT3] \\cdot [REP1] \\cdot [REP2] \\cdot [REP3] \\cdot [RNA_{pol}]\\hspace{0.1cm}+\\hspace{0.1cm} K_{[ACT2]} \\cdot K_{[ACT4]} \\cdot K_{[REP1]} \\cdot K_{[REP2]} \\cdot K_{[REP3]} \\cdot[ACT2] \\cdot [ACT4] \\cdot [REP1] \\cdot [REP2] \\cdot [REP3]\\hspace{0.1cm}+\\hspace{0.1cm} K_{[ACT2]} \\cdot K_{[ACT4]} \\cdot K_{[REP1]} \\cdot K_{[REP2]} \\cdot K_{[REP3]} \\cdot K_{[RNA_{pol}]} \\cdot[ACT2] \\cdot [ACT4] \\cdot [REP1] \\cdot [REP2] \\cdot [REP3] \\cdot [RNA_{pol}]\\hspace{0.1cm}+\\hspace{0.1cm} K_{[ACT3]} \\cdot K_{[ACT4]} \\cdot K_{[REP1]} \\cdot K_{[REP2]} \\cdot K_{[REP3]} \\cdot[ACT3] \\cdot [ACT4] \\cdot [REP1] \\cdot [REP2] \\cdot [REP3]\\hspace{0.1cm}+\\hspace{0.1cm} K_{[ACT3]} \\cdot K_{[ACT4]} \\cdot K_{[REP1]} \\cdot K_{[REP2]} \\cdot K_{[REP3]} \\cdot K_{[RNA_{pol}]} \\cdot[ACT3] \\cdot [ACT4] \\cdot [REP1] \\cdot [REP2] \\cdot [REP3] \\cdot [RNA_{pol}]\\hspace{0.1cm}+\\hspace{0.1cm} K_{[ACT1]} \\cdot K_{[ACT2]} \\cdot K_{[ACT3]} \\cdot K_{[ACT4]} \\cdot K_{[REP1]} \\cdot K_{[REP2]} \\cdot[ACT1] \\cdot [ACT2] \\cdot [ACT3] \\cdot [ACT4] \\cdot [REP1] \\cdot [REP2]\\hspace{0.1cm}+\\hspace{0.1cm} K_{[ACT1]} \\cdot K_{[ACT2]} \\cdot K_{[ACT3]} \\cdot K_{[ACT4]} \\cdot K_{[REP1]} \\cdot K_{[REP2]} \\cdot K_{[RNA_{pol}]} \\cdot[ACT1] \\cdot [ACT2] \\cdot [ACT3] \\cdot [ACT4] \\cdot [REP1] \\cdot [REP2] \\cdot [RNA_{pol}]\\hspace{0.1cm}+\\hspace{0.1cm} K_{[ACT1]} \\cdot K_{[ACT2]} \\cdot K_{[ACT3]} \\cdot K_{[ACT4]} \\cdot K_{[REP1]} \\cdot K_{[REP3]} \\cdot[ACT1] \\cdot [ACT2] \\cdot [ACT3] \\cdot [ACT4] \\cdot [REP1] \\cdot [REP3]\\hspace{0.1cm}+\\hspace{0.1cm} K_{[ACT1]} \\cdot K_{[ACT2]} \\cdot K_{[ACT3]} \\cdot K_{[ACT4]} \\cdot K_{[REP1]} \\cdot K_{[REP3]} \\cdot K_{[RNA_{pol}]} \\cdot[ACT1] \\cdot [ACT2] \\cdot [ACT3] \\cdot [ACT4] \\cdot [REP1] \\cdot [REP3] \\cdot [RNA_{pol}]\\hspace{0.1cm}+\\hspace{0.1cm} K_{[ACT1]} \\cdot K_{[ACT2]} \\cdot K_{[ACT3]} \\cdot K_{[ACT4]} \\cdot K_{[REP2]} \\cdot K_{[REP3]} \\cdot[ACT1] \\cdot [ACT2] \\cdot [ACT3] \\cdot [ACT4] \\cdot [REP2] \\cdot [REP3]\\hspace{0.1cm}+\\hspace{0.1cm} K_{[ACT1]} \\cdot K_{[ACT2]} \\cdot K_{[ACT3]} \\cdot K_{[ACT4]} \\cdot K_{[REP2]} \\cdot K_{[REP3]} \\cdot K_{[RNA_{pol}]} \\cdot[ACT1] \\cdot [ACT2] \\cdot [ACT3] \\cdot [ACT4] \\cdot [REP2] \\cdot [REP3] \\cdot [RNA_{pol}]\\hspace{0.1cm}+\\hspace{0.1cm} K_{[ACT1]} \\cdot K_{[ACT2]} \\cdot K_{[ACT3]} \\cdot K_{[REP1]} \\cdot K_{[REP2]} \\cdot K_{[REP3]} \\cdot[ACT1] \\cdot [ACT2] \\cdot [ACT3] \\cdot [REP1] \\cdot [REP2] \\cdot [REP3]\\hspace{0.1cm}+\\hspace{0.1cm} K_{[ACT1]} \\cdot K_{[ACT2]} \\cdot K_{[ACT3]} \\cdot K_{[REP1]} \\cdot K_{[REP2]} \\cdot K_{[REP3]} \\cdot K_{[RNA_{pol}]} \\cdot[ACT1] \\cdot [ACT2] \\cdot [ACT3] \\cdot [REP1] \\cdot [REP2] \\cdot [REP3] \\cdot [RNA_{pol}]\\hspace{0.1cm}+\\hspace{0.1cm} K_{[ACT1]} \\cdot K_{[ACT2]} \\cdot K_{[ACT4]} \\cdot K_{[REP1]} \\cdot K_{[REP2]} \\cdot K_{[REP3]} \\cdot[ACT1] \\cdot [ACT2] \\cdot [ACT4] \\cdot [REP1] \\cdot [REP2] \\cdot [REP3]\\hspace{0.1cm}+\\hspace{0.1cm} K_{[ACT1]} \\cdot K_{[ACT2]} \\cdot K_{[ACT4]} \\cdot K_{[REP1]} \\cdot K_{[REP2]} \\cdot K_{[REP3]} \\cdot K_{[RNA_{pol}]} \\cdot[ACT1] \\cdot [ACT2] \\cdot [ACT4] \\cdot [REP1] \\cdot [REP2] \\cdot [REP3] \\cdot [RNA_{pol}]\\hspace{0.1cm}+\\hspace{0.1cm} K_{[ACT1]} \\cdot K_{[ACT3]} \\cdot K_{[ACT4]} \\cdot K_{[REP1]} \\cdot K_{[REP2]} \\cdot K_{[REP3]} \\cdot[ACT1] \\cdot [ACT3] \\cdot [ACT4] \\cdot [REP1] \\cdot [REP2] \\cdot [REP3]\\hspace{0.1cm}+\\hspace{0.1cm} K_{[ACT1]} \\cdot K_{[ACT3]} \\cdot K_{[ACT4]} \\cdot K_{[REP1]} \\cdot K_{[REP2]} \\cdot K_{[REP3]} \\cdot K_{[RNA_{pol}]} \\cdot[ACT1] \\cdot [ACT3] \\cdot [ACT4] \\cdot [REP1] \\cdot [REP2] \\cdot [REP3] \\cdot [RNA_{pol}]\\hspace{0.1cm}+\\hspace{0.1cm} K_{[ACT2]} \\cdot K_{[ACT3]} \\cdot K_{[ACT4]} \\cdot K_{[REP1]} \\cdot K_{[REP2]} \\cdot K_{[REP3]} \\cdot[ACT2] \\cdot [ACT3] \\cdot [ACT4] \\cdot [REP1] \\cdot [REP2] \\cdot [REP3]\\hspace{0.1cm}+\\hspace{0.1cm} K_{[ACT2]} \\cdot K_{[ACT3]} \\cdot K_{[ACT4]} \\cdot K_{[REP1]} \\cdot K_{[REP2]} \\cdot K_{[REP3]} \\cdot K_{[RNA_{pol}]} \\cdot[ACT2] \\cdot [ACT3] \\cdot [ACT4] \\cdot [REP1] \\cdot [REP2] \\cdot [REP3] \\cdot [RNA_{pol}]\\hspace{0.1cm}+\\hspace{0.1cm} K_{[ACT1]} \\cdot K_{[ACT2]} \\cdot K_{[ACT3]} \\cdot K_{[ACT4]} \\cdot K_{[REP1]} \\cdot K_{[REP2]} \\cdot K_{[REP3]} \\cdot[ACT1] \\cdot [ACT2] \\cdot [ACT3] \\cdot [ACT4] \\cdot [REP1] \\cdot [REP2] \\cdot [REP3]\\hspace{0.1cm}+\\hspace{0.1cm} K_{[ACT1]} \\cdot K_{[ACT2]} \\cdot K_{[ACT3]} \\cdot K_{[ACT4]} \\cdot K_{[REP1]} \\cdot K_{[REP2]} \\cdot K_{[REP3]} \\cdot K_{[RNA_{pol}]} \\cdot[ACT1] \\cdot [ACT2] \\cdot [ACT3] \\cdot [ACT4] \\cdot [REP1] \\cdot [REP2] \\cdot [REP3] \\cdot [RNA_{pol}]}$",
            "text/plain": [
              "<IPython.core.display.Math object>"
            ]
          },
          "metadata": {
            "tags": []
          }
        }
      ]
    },
    {
      "cell_type": "code",
      "metadata": {
        "id": "gnQkShS_8hyx",
        "outputId": "4870e9aa-4a84-416d-e06e-a5812c0e517e"
      },
      "source": [
        "# Latex Display\n",
        "\n",
        "def pmatrix(m, name):\n",
        "    \n",
        "    values = ''''''\n",
        "    \n",
        "    for element in m:\n",
        "        \n",
        "        clean_element1 = element.lstrip('$$')\n",
        "        clean_element2 = clean_element1.rstrip('$$')\n",
        "        line = clean_element2 + r'\\\\' + '\\n'\n",
        "        values += line\n",
        "        \n",
        "    final_matrix = r'$\\begin{pmatrix}' + '\\n' + values + r'\\end{pmatrix}$'\n",
        "    \n",
        "    final_text = '${}$ = '.format(name) + final_matrix\n",
        "    \n",
        "    return final_text\n",
        "\n",
        "#display(Math(pmatrix(S_matrix, 'S \\hspace{0.1cm} matrix')))\n",
        "\n",
        "def pmatrix2(m, name):\n",
        "    \n",
        "    values = ''''''\n",
        "    \n",
        "    for line in m:\n",
        "        \n",
        "        row = ''''''\n",
        "        \n",
        "        for element in range(0, len(line)):\n",
        "            \n",
        "            if element != len(line)-1 and line[element] != '[1]':\n",
        "                \n",
        "                row += line[element] + '&'\n",
        "                \n",
        "            elif element != len(line)-1 and line[element] == '[1]':\n",
        "                \n",
        "                leftstr = line[element].lstrip('[')\n",
        "                rightstr = leftstr.rstrip(']')\n",
        "                row += rightstr + '&'\n",
        "            \n",
        "            elif element == len(line)-1 and line[element] == '[1]':\n",
        "                \n",
        "                leftstr = line[element].lstrip('[')\n",
        "                rightstr = leftstr.rstrip(']')\n",
        "                row += rightstr + '&' + r'\\\\'\n",
        "                \n",
        "            else:\n",
        "                \n",
        "                row += line[element] + r'\\\\'\n",
        "                \n",
        "        values += row + '\\n'\n",
        "        \n",
        "    final_matrix = r'$\\begin{pmatrix}' + '\\n' + values + r'\\end{pmatrix}$'\n",
        "    \n",
        "    final_text = '${}$ = '.format(name) + final_matrix\n",
        "    \n",
        "    return final_text\n",
        "\n",
        "print('\\n')\n",
        "print('\\n')\n",
        "display(Math(pmatrix2(L_matrix, 'L \\hspace{0.1cm} matrix')))\n",
        "print('\\n')\n",
        "print('\\n')\n",
        "display(Math(pmatrix(S_matrix, 'S \\hspace{0.1cm} matrix')))\n",
        "print('\\n')\n",
        "print('\\n')\n",
        "display(Math(pmatrix(B_matrix, 'B \\hspace{0.1cm} matrix')))\n",
        "print('\\n')\n",
        "print('\\n')\n",
        "display(Math(pmatrix(T_matrix, 'T \\hspace{0.1cm} matrix')))\n",
        "print('\\n')\n",
        "print('\\n')\n",
        "display(Math(fraction))\n",
        "print('\\n')\n",
        "print('\\n')"
      ],
      "execution_count": null,
      "outputs": [
        {
          "output_type": "stream",
          "text": [
            "\n",
            "\n",
            "\n",
            "\n"
          ],
          "name": "stdout"
        },
        {
          "output_type": "display_data",
          "data": {
            "text/latex": "$\\displaystyle L \\hspace{0.1cm} matrix$ = $\\begin{pmatrix}\n1&1&1&1&1&1&1&1&\\\\\n1&1&1&1&1&1&1&[RNA_{pol}]\\\\\n[ACT1]&1&1&1&1&1&1&1&\\\\\n[ACT1]&1&1&1&1&1&1&[RNA_{pol}]\\\\\n1&[ACT2]&1&1&1&1&1&1&\\\\\n1&[ACT2]&1&1&1&1&1&[RNA_{pol}]\\\\\n1&1&[ACT3]&1&1&1&1&1&\\\\\n1&1&[ACT3]&1&1&1&1&[RNA_{pol}]\\\\\n1&1&1&[ACT4]&1&1&1&1&\\\\\n1&1&1&[ACT4]&1&1&1&[RNA_{pol}]\\\\\n1&1&1&1&[REP1]&1&1&1&\\\\\n1&1&1&1&[REP1]&1&1&[RNA_{pol}]\\\\\n1&1&1&1&1&[REP2]&1&1&\\\\\n1&1&1&1&1&[REP2]&1&[RNA_{pol}]\\\\\n1&1&1&1&1&1&[REP3]&1&\\\\\n1&1&1&1&1&1&[REP3]&[RNA_{pol}]\\\\\n[ACT1]&[ACT2]&1&1&1&1&1&1&\\\\\n[ACT1]&[ACT2]&1&1&1&1&1&[RNA_{pol}]\\\\\n[ACT1]&1&[ACT3]&1&1&1&1&1&\\\\\n[ACT1]&1&[ACT3]&1&1&1&1&[RNA_{pol}]\\\\\n[ACT1]&1&1&[ACT4]&1&1&1&1&\\\\\n[ACT1]&1&1&[ACT4]&1&1&1&[RNA_{pol}]\\\\\n[ACT1]&1&1&1&[REP1]&1&1&1&\\\\\n[ACT1]&1&1&1&[REP1]&1&1&[RNA_{pol}]\\\\\n[ACT1]&1&1&1&1&[REP2]&1&1&\\\\\n[ACT1]&1&1&1&1&[REP2]&1&[RNA_{pol}]\\\\\n[ACT1]&1&1&1&1&1&[REP3]&1&\\\\\n[ACT1]&1&1&1&1&1&[REP3]&[RNA_{pol}]\\\\\n1&[ACT2]&[ACT3]&1&1&1&1&1&\\\\\n1&[ACT2]&[ACT3]&1&1&1&1&[RNA_{pol}]\\\\\n1&[ACT2]&1&[ACT4]&1&1&1&1&\\\\\n1&[ACT2]&1&[ACT4]&1&1&1&[RNA_{pol}]\\\\\n1&[ACT2]&1&1&[REP1]&1&1&1&\\\\\n1&[ACT2]&1&1&[REP1]&1&1&[RNA_{pol}]\\\\\n1&[ACT2]&1&1&1&[REP2]&1&1&\\\\\n1&[ACT2]&1&1&1&[REP2]&1&[RNA_{pol}]\\\\\n1&[ACT2]&1&1&1&1&[REP3]&1&\\\\\n1&[ACT2]&1&1&1&1&[REP3]&[RNA_{pol}]\\\\\n1&1&[ACT3]&[ACT4]&1&1&1&1&\\\\\n1&1&[ACT3]&[ACT4]&1&1&1&[RNA_{pol}]\\\\\n1&1&[ACT3]&1&[REP1]&1&1&1&\\\\\n1&1&[ACT3]&1&[REP1]&1&1&[RNA_{pol}]\\\\\n1&1&[ACT3]&1&1&[REP2]&1&1&\\\\\n1&1&[ACT3]&1&1&[REP2]&1&[RNA_{pol}]\\\\\n1&1&[ACT3]&1&1&1&[REP3]&1&\\\\\n1&1&[ACT3]&1&1&1&[REP3]&[RNA_{pol}]\\\\\n1&1&1&[ACT4]&[REP1]&1&1&1&\\\\\n1&1&1&[ACT4]&[REP1]&1&1&[RNA_{pol}]\\\\\n1&1&1&[ACT4]&1&[REP2]&1&1&\\\\\n1&1&1&[ACT4]&1&[REP2]&1&[RNA_{pol}]\\\\\n1&1&1&[ACT4]&1&1&[REP3]&1&\\\\\n1&1&1&[ACT4]&1&1&[REP3]&[RNA_{pol}]\\\\\n1&1&1&1&[REP1]&[REP2]&1&1&\\\\\n1&1&1&1&[REP1]&[REP2]&1&[RNA_{pol}]\\\\\n1&1&1&1&[REP1]&1&[REP3]&1&\\\\\n1&1&1&1&[REP1]&1&[REP3]&[RNA_{pol}]\\\\\n1&1&1&1&1&[REP2]&[REP3]&1&\\\\\n1&1&1&1&1&[REP2]&[REP3]&[RNA_{pol}]\\\\\n[ACT1]&[ACT2]&[ACT3]&1&1&1&1&1&\\\\\n[ACT1]&[ACT2]&[ACT3]&1&1&1&1&[RNA_{pol}]\\\\\n[ACT1]&[ACT2]&1&[ACT4]&1&1&1&1&\\\\\n[ACT1]&[ACT2]&1&[ACT4]&1&1&1&[RNA_{pol}]\\\\\n[ACT1]&[ACT2]&1&1&[REP1]&1&1&1&\\\\\n[ACT1]&[ACT2]&1&1&[REP1]&1&1&[RNA_{pol}]\\\\\n[ACT1]&[ACT2]&1&1&1&[REP2]&1&1&\\\\\n[ACT1]&[ACT2]&1&1&1&[REP2]&1&[RNA_{pol}]\\\\\n[ACT1]&[ACT2]&1&1&1&1&[REP3]&1&\\\\\n[ACT1]&[ACT2]&1&1&1&1&[REP3]&[RNA_{pol}]\\\\\n[ACT1]&1&[ACT3]&[ACT4]&1&1&1&1&\\\\\n[ACT1]&1&[ACT3]&[ACT4]&1&1&1&[RNA_{pol}]\\\\\n[ACT1]&1&[ACT3]&1&[REP1]&1&1&1&\\\\\n[ACT1]&1&[ACT3]&1&[REP1]&1&1&[RNA_{pol}]\\\\\n[ACT1]&1&[ACT3]&1&1&[REP2]&1&1&\\\\\n[ACT1]&1&[ACT3]&1&1&[REP2]&1&[RNA_{pol}]\\\\\n[ACT1]&1&[ACT3]&1&1&1&[REP3]&1&\\\\\n[ACT1]&1&[ACT3]&1&1&1&[REP3]&[RNA_{pol}]\\\\\n[ACT1]&1&1&[ACT4]&[REP1]&1&1&1&\\\\\n[ACT1]&1&1&[ACT4]&[REP1]&1&1&[RNA_{pol}]\\\\\n[ACT1]&1&1&[ACT4]&1&[REP2]&1&1&\\\\\n[ACT1]&1&1&[ACT4]&1&[REP2]&1&[RNA_{pol}]\\\\\n[ACT1]&1&1&[ACT4]&1&1&[REP3]&1&\\\\\n[ACT1]&1&1&[ACT4]&1&1&[REP3]&[RNA_{pol}]\\\\\n[ACT1]&1&1&1&[REP1]&[REP2]&1&1&\\\\\n[ACT1]&1&1&1&[REP1]&[REP2]&1&[RNA_{pol}]\\\\\n[ACT1]&1&1&1&[REP1]&1&[REP3]&1&\\\\\n[ACT1]&1&1&1&[REP1]&1&[REP3]&[RNA_{pol}]\\\\\n[ACT1]&1&1&1&1&[REP2]&[REP3]&1&\\\\\n[ACT1]&1&1&1&1&[REP2]&[REP3]&[RNA_{pol}]\\\\\n1&[ACT2]&[ACT3]&[ACT4]&1&1&1&1&\\\\\n1&[ACT2]&[ACT3]&[ACT4]&1&1&1&[RNA_{pol}]\\\\\n1&[ACT2]&[ACT3]&1&[REP1]&1&1&1&\\\\\n1&[ACT2]&[ACT3]&1&[REP1]&1&1&[RNA_{pol}]\\\\\n1&[ACT2]&[ACT3]&1&1&[REP2]&1&1&\\\\\n1&[ACT2]&[ACT3]&1&1&[REP2]&1&[RNA_{pol}]\\\\\n1&[ACT2]&[ACT3]&1&1&1&[REP3]&1&\\\\\n1&[ACT2]&[ACT3]&1&1&1&[REP3]&[RNA_{pol}]\\\\\n1&[ACT2]&1&[ACT4]&[REP1]&1&1&1&\\\\\n1&[ACT2]&1&[ACT4]&[REP1]&1&1&[RNA_{pol}]\\\\\n1&[ACT2]&1&[ACT4]&1&[REP2]&1&1&\\\\\n1&[ACT2]&1&[ACT4]&1&[REP2]&1&[RNA_{pol}]\\\\\n1&[ACT2]&1&[ACT4]&1&1&[REP3]&1&\\\\\n1&[ACT2]&1&[ACT4]&1&1&[REP3]&[RNA_{pol}]\\\\\n1&[ACT2]&1&1&[REP1]&[REP2]&1&1&\\\\\n1&[ACT2]&1&1&[REP1]&[REP2]&1&[RNA_{pol}]\\\\\n1&[ACT2]&1&1&[REP1]&1&[REP3]&1&\\\\\n1&[ACT2]&1&1&[REP1]&1&[REP3]&[RNA_{pol}]\\\\\n1&[ACT2]&1&1&1&[REP2]&[REP3]&1&\\\\\n1&[ACT2]&1&1&1&[REP2]&[REP3]&[RNA_{pol}]\\\\\n1&1&[ACT3]&[ACT4]&[REP1]&1&1&1&\\\\\n1&1&[ACT3]&[ACT4]&[REP1]&1&1&[RNA_{pol}]\\\\\n1&1&[ACT3]&[ACT4]&1&[REP2]&1&1&\\\\\n1&1&[ACT3]&[ACT4]&1&[REP2]&1&[RNA_{pol}]\\\\\n1&1&[ACT3]&[ACT4]&1&1&[REP3]&1&\\\\\n1&1&[ACT3]&[ACT4]&1&1&[REP3]&[RNA_{pol}]\\\\\n1&1&[ACT3]&1&[REP1]&[REP2]&1&1&\\\\\n1&1&[ACT3]&1&[REP1]&[REP2]&1&[RNA_{pol}]\\\\\n1&1&[ACT3]&1&[REP1]&1&[REP3]&1&\\\\\n1&1&[ACT3]&1&[REP1]&1&[REP3]&[RNA_{pol}]\\\\\n1&1&[ACT3]&1&1&[REP2]&[REP3]&1&\\\\\n1&1&[ACT3]&1&1&[REP2]&[REP3]&[RNA_{pol}]\\\\\n1&1&1&[ACT4]&[REP1]&[REP2]&1&1&\\\\\n1&1&1&[ACT4]&[REP1]&[REP2]&1&[RNA_{pol}]\\\\\n1&1&1&[ACT4]&[REP1]&1&[REP3]&1&\\\\\n1&1&1&[ACT4]&[REP1]&1&[REP3]&[RNA_{pol}]\\\\\n1&1&1&[ACT4]&1&[REP2]&[REP3]&1&\\\\\n1&1&1&[ACT4]&1&[REP2]&[REP3]&[RNA_{pol}]\\\\\n1&1&1&1&[REP1]&[REP2]&[REP3]&1&\\\\\n1&1&1&1&[REP1]&[REP2]&[REP3]&[RNA_{pol}]\\\\\n[ACT1]&[ACT2]&[ACT3]&[ACT4]&1&1&1&1&\\\\\n[ACT1]&[ACT2]&[ACT3]&[ACT4]&1&1&1&[RNA_{pol}]\\\\\n[ACT1]&[ACT2]&[ACT3]&1&[REP1]&1&1&1&\\\\\n[ACT1]&[ACT2]&[ACT3]&1&[REP1]&1&1&[RNA_{pol}]\\\\\n[ACT1]&[ACT2]&[ACT3]&1&1&[REP2]&1&1&\\\\\n[ACT1]&[ACT2]&[ACT3]&1&1&[REP2]&1&[RNA_{pol}]\\\\\n[ACT1]&[ACT2]&[ACT3]&1&1&1&[REP3]&1&\\\\\n[ACT1]&[ACT2]&[ACT3]&1&1&1&[REP3]&[RNA_{pol}]\\\\\n[ACT1]&[ACT2]&1&[ACT4]&[REP1]&1&1&1&\\\\\n[ACT1]&[ACT2]&1&[ACT4]&[REP1]&1&1&[RNA_{pol}]\\\\\n[ACT1]&[ACT2]&1&[ACT4]&1&[REP2]&1&1&\\\\\n[ACT1]&[ACT2]&1&[ACT4]&1&[REP2]&1&[RNA_{pol}]\\\\\n[ACT1]&[ACT2]&1&[ACT4]&1&1&[REP3]&1&\\\\\n[ACT1]&[ACT2]&1&[ACT4]&1&1&[REP3]&[RNA_{pol}]\\\\\n[ACT1]&[ACT2]&1&1&[REP1]&[REP2]&1&1&\\\\\n[ACT1]&[ACT2]&1&1&[REP1]&[REP2]&1&[RNA_{pol}]\\\\\n[ACT1]&[ACT2]&1&1&[REP1]&1&[REP3]&1&\\\\\n[ACT1]&[ACT2]&1&1&[REP1]&1&[REP3]&[RNA_{pol}]\\\\\n[ACT1]&[ACT2]&1&1&1&[REP2]&[REP3]&1&\\\\\n[ACT1]&[ACT2]&1&1&1&[REP2]&[REP3]&[RNA_{pol}]\\\\\n[ACT1]&1&[ACT3]&[ACT4]&[REP1]&1&1&1&\\\\\n[ACT1]&1&[ACT3]&[ACT4]&[REP1]&1&1&[RNA_{pol}]\\\\\n[ACT1]&1&[ACT3]&[ACT4]&1&[REP2]&1&1&\\\\\n[ACT1]&1&[ACT3]&[ACT4]&1&[REP2]&1&[RNA_{pol}]\\\\\n[ACT1]&1&[ACT3]&[ACT4]&1&1&[REP3]&1&\\\\\n[ACT1]&1&[ACT3]&[ACT4]&1&1&[REP3]&[RNA_{pol}]\\\\\n[ACT1]&1&[ACT3]&1&[REP1]&[REP2]&1&1&\\\\\n[ACT1]&1&[ACT3]&1&[REP1]&[REP2]&1&[RNA_{pol}]\\\\\n[ACT1]&1&[ACT3]&1&[REP1]&1&[REP3]&1&\\\\\n[ACT1]&1&[ACT3]&1&[REP1]&1&[REP3]&[RNA_{pol}]\\\\\n[ACT1]&1&[ACT3]&1&1&[REP2]&[REP3]&1&\\\\\n[ACT1]&1&[ACT3]&1&1&[REP2]&[REP3]&[RNA_{pol}]\\\\\n[ACT1]&1&1&[ACT4]&[REP1]&[REP2]&1&1&\\\\\n[ACT1]&1&1&[ACT4]&[REP1]&[REP2]&1&[RNA_{pol}]\\\\\n[ACT1]&1&1&[ACT4]&[REP1]&1&[REP3]&1&\\\\\n[ACT1]&1&1&[ACT4]&[REP1]&1&[REP3]&[RNA_{pol}]\\\\\n[ACT1]&1&1&[ACT4]&1&[REP2]&[REP3]&1&\\\\\n[ACT1]&1&1&[ACT4]&1&[REP2]&[REP3]&[RNA_{pol}]\\\\\n[ACT1]&1&1&1&[REP1]&[REP2]&[REP3]&1&\\\\\n[ACT1]&1&1&1&[REP1]&[REP2]&[REP3]&[RNA_{pol}]\\\\\n1&[ACT2]&[ACT3]&[ACT4]&[REP1]&1&1&1&\\\\\n1&[ACT2]&[ACT3]&[ACT4]&[REP1]&1&1&[RNA_{pol}]\\\\\n1&[ACT2]&[ACT3]&[ACT4]&1&[REP2]&1&1&\\\\\n1&[ACT2]&[ACT3]&[ACT4]&1&[REP2]&1&[RNA_{pol}]\\\\\n1&[ACT2]&[ACT3]&[ACT4]&1&1&[REP3]&1&\\\\\n1&[ACT2]&[ACT3]&[ACT4]&1&1&[REP3]&[RNA_{pol}]\\\\\n1&[ACT2]&[ACT3]&1&[REP1]&[REP2]&1&1&\\\\\n1&[ACT2]&[ACT3]&1&[REP1]&[REP2]&1&[RNA_{pol}]\\\\\n1&[ACT2]&[ACT3]&1&[REP1]&1&[REP3]&1&\\\\\n1&[ACT2]&[ACT3]&1&[REP1]&1&[REP3]&[RNA_{pol}]\\\\\n1&[ACT2]&[ACT3]&1&1&[REP2]&[REP3]&1&\\\\\n1&[ACT2]&[ACT3]&1&1&[REP2]&[REP3]&[RNA_{pol}]\\\\\n1&[ACT2]&1&[ACT4]&[REP1]&[REP2]&1&1&\\\\\n1&[ACT2]&1&[ACT4]&[REP1]&[REP2]&1&[RNA_{pol}]\\\\\n1&[ACT2]&1&[ACT4]&[REP1]&1&[REP3]&1&\\\\\n1&[ACT2]&1&[ACT4]&[REP1]&1&[REP3]&[RNA_{pol}]\\\\\n1&[ACT2]&1&[ACT4]&1&[REP2]&[REP3]&1&\\\\\n1&[ACT2]&1&[ACT4]&1&[REP2]&[REP3]&[RNA_{pol}]\\\\\n1&[ACT2]&1&1&[REP1]&[REP2]&[REP3]&1&\\\\\n1&[ACT2]&1&1&[REP1]&[REP2]&[REP3]&[RNA_{pol}]\\\\\n1&1&[ACT3]&[ACT4]&[REP1]&[REP2]&1&1&\\\\\n1&1&[ACT3]&[ACT4]&[REP1]&[REP2]&1&[RNA_{pol}]\\\\\n1&1&[ACT3]&[ACT4]&[REP1]&1&[REP3]&1&\\\\\n1&1&[ACT3]&[ACT4]&[REP1]&1&[REP3]&[RNA_{pol}]\\\\\n1&1&[ACT3]&[ACT4]&1&[REP2]&[REP3]&1&\\\\\n1&1&[ACT3]&[ACT4]&1&[REP2]&[REP3]&[RNA_{pol}]\\\\\n1&1&[ACT3]&1&[REP1]&[REP2]&[REP3]&1&\\\\\n1&1&[ACT3]&1&[REP1]&[REP2]&[REP3]&[RNA_{pol}]\\\\\n1&1&1&[ACT4]&[REP1]&[REP2]&[REP3]&1&\\\\\n1&1&1&[ACT4]&[REP1]&[REP2]&[REP3]&[RNA_{pol}]\\\\\n[ACT1]&[ACT2]&[ACT3]&[ACT4]&[REP1]&1&1&1&\\\\\n[ACT1]&[ACT2]&[ACT3]&[ACT4]&[REP1]&1&1&[RNA_{pol}]\\\\\n[ACT1]&[ACT2]&[ACT3]&[ACT4]&1&[REP2]&1&1&\\\\\n[ACT1]&[ACT2]&[ACT3]&[ACT4]&1&[REP2]&1&[RNA_{pol}]\\\\\n[ACT1]&[ACT2]&[ACT3]&[ACT4]&1&1&[REP3]&1&\\\\\n[ACT1]&[ACT2]&[ACT3]&[ACT4]&1&1&[REP3]&[RNA_{pol}]\\\\\n[ACT1]&[ACT2]&[ACT3]&1&[REP1]&[REP2]&1&1&\\\\\n[ACT1]&[ACT2]&[ACT3]&1&[REP1]&[REP2]&1&[RNA_{pol}]\\\\\n[ACT1]&[ACT2]&[ACT3]&1&[REP1]&1&[REP3]&1&\\\\\n[ACT1]&[ACT2]&[ACT3]&1&[REP1]&1&[REP3]&[RNA_{pol}]\\\\\n[ACT1]&[ACT2]&[ACT3]&1&1&[REP2]&[REP3]&1&\\\\\n[ACT1]&[ACT2]&[ACT3]&1&1&[REP2]&[REP3]&[RNA_{pol}]\\\\\n[ACT1]&[ACT2]&1&[ACT4]&[REP1]&[REP2]&1&1&\\\\\n[ACT1]&[ACT2]&1&[ACT4]&[REP1]&[REP2]&1&[RNA_{pol}]\\\\\n[ACT1]&[ACT2]&1&[ACT4]&[REP1]&1&[REP3]&1&\\\\\n[ACT1]&[ACT2]&1&[ACT4]&[REP1]&1&[REP3]&[RNA_{pol}]\\\\\n[ACT1]&[ACT2]&1&[ACT4]&1&[REP2]&[REP3]&1&\\\\\n[ACT1]&[ACT2]&1&[ACT4]&1&[REP2]&[REP3]&[RNA_{pol}]\\\\\n[ACT1]&[ACT2]&1&1&[REP1]&[REP2]&[REP3]&1&\\\\\n[ACT1]&[ACT2]&1&1&[REP1]&[REP2]&[REP3]&[RNA_{pol}]\\\\\n[ACT1]&1&[ACT3]&[ACT4]&[REP1]&[REP2]&1&1&\\\\\n[ACT1]&1&[ACT3]&[ACT4]&[REP1]&[REP2]&1&[RNA_{pol}]\\\\\n[ACT1]&1&[ACT3]&[ACT4]&[REP1]&1&[REP3]&1&\\\\\n[ACT1]&1&[ACT3]&[ACT4]&[REP1]&1&[REP3]&[RNA_{pol}]\\\\\n[ACT1]&1&[ACT3]&[ACT4]&1&[REP2]&[REP3]&1&\\\\\n[ACT1]&1&[ACT3]&[ACT4]&1&[REP2]&[REP3]&[RNA_{pol}]\\\\\n[ACT1]&1&[ACT3]&1&[REP1]&[REP2]&[REP3]&1&\\\\\n[ACT1]&1&[ACT3]&1&[REP1]&[REP2]&[REP3]&[RNA_{pol}]\\\\\n[ACT1]&1&1&[ACT4]&[REP1]&[REP2]&[REP3]&1&\\\\\n[ACT1]&1&1&[ACT4]&[REP1]&[REP2]&[REP3]&[RNA_{pol}]\\\\\n1&[ACT2]&[ACT3]&[ACT4]&[REP1]&[REP2]&1&1&\\\\\n1&[ACT2]&[ACT3]&[ACT4]&[REP1]&[REP2]&1&[RNA_{pol}]\\\\\n1&[ACT2]&[ACT3]&[ACT4]&[REP1]&1&[REP3]&1&\\\\\n1&[ACT2]&[ACT3]&[ACT4]&[REP1]&1&[REP3]&[RNA_{pol}]\\\\\n1&[ACT2]&[ACT3]&[ACT4]&1&[REP2]&[REP3]&1&\\\\\n1&[ACT2]&[ACT3]&[ACT4]&1&[REP2]&[REP3]&[RNA_{pol}]\\\\\n1&[ACT2]&[ACT3]&1&[REP1]&[REP2]&[REP3]&1&\\\\\n1&[ACT2]&[ACT3]&1&[REP1]&[REP2]&[REP3]&[RNA_{pol}]\\\\\n1&[ACT2]&1&[ACT4]&[REP1]&[REP2]&[REP3]&1&\\\\\n1&[ACT2]&1&[ACT4]&[REP1]&[REP2]&[REP3]&[RNA_{pol}]\\\\\n1&1&[ACT3]&[ACT4]&[REP1]&[REP2]&[REP3]&1&\\\\\n1&1&[ACT3]&[ACT4]&[REP1]&[REP2]&[REP3]&[RNA_{pol}]\\\\\n[ACT1]&[ACT2]&[ACT3]&[ACT4]&[REP1]&[REP2]&1&1&\\\\\n[ACT1]&[ACT2]&[ACT3]&[ACT4]&[REP1]&[REP2]&1&[RNA_{pol}]\\\\\n[ACT1]&[ACT2]&[ACT3]&[ACT4]&[REP1]&1&[REP3]&1&\\\\\n[ACT1]&[ACT2]&[ACT3]&[ACT4]&[REP1]&1&[REP3]&[RNA_{pol}]\\\\\n[ACT1]&[ACT2]&[ACT3]&[ACT4]&1&[REP2]&[REP3]&1&\\\\\n[ACT1]&[ACT2]&[ACT3]&[ACT4]&1&[REP2]&[REP3]&[RNA_{pol}]\\\\\n[ACT1]&[ACT2]&[ACT3]&1&[REP1]&[REP2]&[REP3]&1&\\\\\n[ACT1]&[ACT2]&[ACT3]&1&[REP1]&[REP2]&[REP3]&[RNA_{pol}]\\\\\n[ACT1]&[ACT2]&1&[ACT4]&[REP1]&[REP2]&[REP3]&1&\\\\\n[ACT1]&[ACT2]&1&[ACT4]&[REP1]&[REP2]&[REP3]&[RNA_{pol}]\\\\\n[ACT1]&1&[ACT3]&[ACT4]&[REP1]&[REP2]&[REP3]&1&\\\\\n[ACT1]&1&[ACT3]&[ACT4]&[REP1]&[REP2]&[REP3]&[RNA_{pol}]\\\\\n1&[ACT2]&[ACT3]&[ACT4]&[REP1]&[REP2]&[REP3]&1&\\\\\n1&[ACT2]&[ACT3]&[ACT4]&[REP1]&[REP2]&[REP3]&[RNA_{pol}]\\\\\n[ACT1]&[ACT2]&[ACT3]&[ACT4]&[REP1]&[REP2]&[REP3]&1&\\\\\n[ACT1]&[ACT2]&[ACT3]&[ACT4]&[REP1]&[REP2]&[REP3]&[RNA_{pol}]\\\\\n\\end{pmatrix}$",
            "text/plain": [
              "<IPython.core.display.Math object>"
            ]
          },
          "metadata": {
            "tags": []
          }
        },
        {
          "output_type": "stream",
          "text": [
            "\n",
            "\n",
            "\n",
            "\n"
          ],
          "name": "stdout"
        },
        {
          "output_type": "display_data",
          "data": {
            "text/latex": "$\\displaystyle S \\hspace{0.1cm} matrix$ = $\\begin{pmatrix}\n1\\\\\n[RNA_{pol}]\\\\\n[ACT1]\\\\\n[ACT1] \\cdot [RNA_{pol}]\\\\\n[ACT2]\\\\\n[ACT2] \\cdot [RNA_{pol}]\\\\\n[ACT3]\\\\\n[ACT3] \\cdot [RNA_{pol}]\\\\\n[ACT4]\\\\\n[ACT4] \\cdot [RNA_{pol}]\\\\\n[REP1]\\\\\n[REP1] \\cdot [RNA_{pol}]\\\\\n[REP2]\\\\\n[REP2] \\cdot [RNA_{pol}]\\\\\n[REP3]\\\\\n[REP3] \\cdot [RNA_{pol}]\\\\\n[ACT1] \\cdot [ACT2]\\\\\n[ACT1] \\cdot [ACT2] \\cdot [RNA_{pol}]\\\\\n[ACT1] \\cdot [ACT3]\\\\\n[ACT1] \\cdot [ACT3] \\cdot [RNA_{pol}]\\\\\n[ACT1] \\cdot [ACT4]\\\\\n[ACT1] \\cdot [ACT4] \\cdot [RNA_{pol}]\\\\\n[ACT1] \\cdot [REP1]\\\\\n[ACT1] \\cdot [REP1] \\cdot [RNA_{pol}]\\\\\n[ACT1] \\cdot [REP2]\\\\\n[ACT1] \\cdot [REP2] \\cdot [RNA_{pol}]\\\\\n[ACT1] \\cdot [REP3]\\\\\n[ACT1] \\cdot [REP3] \\cdot [RNA_{pol}]\\\\\n[ACT2] \\cdot [ACT3]\\\\\n[ACT2] \\cdot [ACT3] \\cdot [RNA_{pol}]\\\\\n[ACT2] \\cdot [ACT4]\\\\\n[ACT2] \\cdot [ACT4] \\cdot [RNA_{pol}]\\\\\n[ACT2] \\cdot [REP1]\\\\\n[ACT2] \\cdot [REP1] \\cdot [RNA_{pol}]\\\\\n[ACT2] \\cdot [REP2]\\\\\n[ACT2] \\cdot [REP2] \\cdot [RNA_{pol}]\\\\\n[ACT2] \\cdot [REP3]\\\\\n[ACT2] \\cdot [REP3] \\cdot [RNA_{pol}]\\\\\n[ACT3] \\cdot [ACT4]\\\\\n[ACT3] \\cdot [ACT4] \\cdot [RNA_{pol}]\\\\\n[ACT3] \\cdot [REP1]\\\\\n[ACT3] \\cdot [REP1] \\cdot [RNA_{pol}]\\\\\n[ACT3] \\cdot [REP2]\\\\\n[ACT3] \\cdot [REP2] \\cdot [RNA_{pol}]\\\\\n[ACT3] \\cdot [REP3]\\\\\n[ACT3] \\cdot [REP3] \\cdot [RNA_{pol}]\\\\\n[ACT4] \\cdot [REP1]\\\\\n[ACT4] \\cdot [REP1] \\cdot [RNA_{pol}]\\\\\n[ACT4] \\cdot [REP2]\\\\\n[ACT4] \\cdot [REP2] \\cdot [RNA_{pol}]\\\\\n[ACT4] \\cdot [REP3]\\\\\n[ACT4] \\cdot [REP3] \\cdot [RNA_{pol}]\\\\\n[REP1] \\cdot [REP2]\\\\\n[REP1] \\cdot [REP2] \\cdot [RNA_{pol}]\\\\\n[REP1] \\cdot [REP3]\\\\\n[REP1] \\cdot [REP3] \\cdot [RNA_{pol}]\\\\\n[REP2] \\cdot [REP3]\\\\\n[REP2] \\cdot [REP3] \\cdot [RNA_{pol}]\\\\\n[ACT1] \\cdot [ACT2] \\cdot [ACT3]\\\\\n[ACT1] \\cdot [ACT2] \\cdot [ACT3] \\cdot [RNA_{pol}]\\\\\n[ACT1] \\cdot [ACT2] \\cdot [ACT4]\\\\\n[ACT1] \\cdot [ACT2] \\cdot [ACT4] \\cdot [RNA_{pol}]\\\\\n[ACT1] \\cdot [ACT2] \\cdot [REP1]\\\\\n[ACT1] \\cdot [ACT2] \\cdot [REP1] \\cdot [RNA_{pol}]\\\\\n[ACT1] \\cdot [ACT2] \\cdot [REP2]\\\\\n[ACT1] \\cdot [ACT2] \\cdot [REP2] \\cdot [RNA_{pol}]\\\\\n[ACT1] \\cdot [ACT2] \\cdot [REP3]\\\\\n[ACT1] \\cdot [ACT2] \\cdot [REP3] \\cdot [RNA_{pol}]\\\\\n[ACT1] \\cdot [ACT3] \\cdot [ACT4]\\\\\n[ACT1] \\cdot [ACT3] \\cdot [ACT4] \\cdot [RNA_{pol}]\\\\\n[ACT1] \\cdot [ACT3] \\cdot [REP1]\\\\\n[ACT1] \\cdot [ACT3] \\cdot [REP1] \\cdot [RNA_{pol}]\\\\\n[ACT1] \\cdot [ACT3] \\cdot [REP2]\\\\\n[ACT1] \\cdot [ACT3] \\cdot [REP2] \\cdot [RNA_{pol}]\\\\\n[ACT1] \\cdot [ACT3] \\cdot [REP3]\\\\\n[ACT1] \\cdot [ACT3] \\cdot [REP3] \\cdot [RNA_{pol}]\\\\\n[ACT1] \\cdot [ACT4] \\cdot [REP1]\\\\\n[ACT1] \\cdot [ACT4] \\cdot [REP1] \\cdot [RNA_{pol}]\\\\\n[ACT1] \\cdot [ACT4] \\cdot [REP2]\\\\\n[ACT1] \\cdot [ACT4] \\cdot [REP2] \\cdot [RNA_{pol}]\\\\\n[ACT1] \\cdot [ACT4] \\cdot [REP3]\\\\\n[ACT1] \\cdot [ACT4] \\cdot [REP3] \\cdot [RNA_{pol}]\\\\\n[ACT1] \\cdot [REP1] \\cdot [REP2]\\\\\n[ACT1] \\cdot [REP1] \\cdot [REP2] \\cdot [RNA_{pol}]\\\\\n[ACT1] \\cdot [REP1] \\cdot [REP3]\\\\\n[ACT1] \\cdot [REP1] \\cdot [REP3] \\cdot [RNA_{pol}]\\\\\n[ACT1] \\cdot [REP2] \\cdot [REP3]\\\\\n[ACT1] \\cdot [REP2] \\cdot [REP3] \\cdot [RNA_{pol}]\\\\\n[ACT2] \\cdot [ACT3] \\cdot [ACT4]\\\\\n[ACT2] \\cdot [ACT3] \\cdot [ACT4] \\cdot [RNA_{pol}]\\\\\n[ACT2] \\cdot [ACT3] \\cdot [REP1]\\\\\n[ACT2] \\cdot [ACT3] \\cdot [REP1] \\cdot [RNA_{pol}]\\\\\n[ACT2] \\cdot [ACT3] \\cdot [REP2]\\\\\n[ACT2] \\cdot [ACT3] \\cdot [REP2] \\cdot [RNA_{pol}]\\\\\n[ACT2] \\cdot [ACT3] \\cdot [REP3]\\\\\n[ACT2] \\cdot [ACT3] \\cdot [REP3] \\cdot [RNA_{pol}]\\\\\n[ACT2] \\cdot [ACT4] \\cdot [REP1]\\\\\n[ACT2] \\cdot [ACT4] \\cdot [REP1] \\cdot [RNA_{pol}]\\\\\n[ACT2] \\cdot [ACT4] \\cdot [REP2]\\\\\n[ACT2] \\cdot [ACT4] \\cdot [REP2] \\cdot [RNA_{pol}]\\\\\n[ACT2] \\cdot [ACT4] \\cdot [REP3]\\\\\n[ACT2] \\cdot [ACT4] \\cdot [REP3] \\cdot [RNA_{pol}]\\\\\n[ACT2] \\cdot [REP1] \\cdot [REP2]\\\\\n[ACT2] \\cdot [REP1] \\cdot [REP2] \\cdot [RNA_{pol}]\\\\\n[ACT2] \\cdot [REP1] \\cdot [REP3]\\\\\n[ACT2] \\cdot [REP1] \\cdot [REP3] \\cdot [RNA_{pol}]\\\\\n[ACT2] \\cdot [REP2] \\cdot [REP3]\\\\\n[ACT2] \\cdot [REP2] \\cdot [REP3] \\cdot [RNA_{pol}]\\\\\n[ACT3] \\cdot [ACT4] \\cdot [REP1]\\\\\n[ACT3] \\cdot [ACT4] \\cdot [REP1] \\cdot [RNA_{pol}]\\\\\n[ACT3] \\cdot [ACT4] \\cdot [REP2]\\\\\n[ACT3] \\cdot [ACT4] \\cdot [REP2] \\cdot [RNA_{pol}]\\\\\n[ACT3] \\cdot [ACT4] \\cdot [REP3]\\\\\n[ACT3] \\cdot [ACT4] \\cdot [REP3] \\cdot [RNA_{pol}]\\\\\n[ACT3] \\cdot [REP1] \\cdot [REP2]\\\\\n[ACT3] \\cdot [REP1] \\cdot [REP2] \\cdot [RNA_{pol}]\\\\\n[ACT3] \\cdot [REP1] \\cdot [REP3]\\\\\n[ACT3] \\cdot [REP1] \\cdot [REP3] \\cdot [RNA_{pol}]\\\\\n[ACT3] \\cdot [REP2] \\cdot [REP3]\\\\\n[ACT3] \\cdot [REP2] \\cdot [REP3] \\cdot [RNA_{pol}]\\\\\n[ACT4] \\cdot [REP1] \\cdot [REP2]\\\\\n[ACT4] \\cdot [REP1] \\cdot [REP2] \\cdot [RNA_{pol}]\\\\\n[ACT4] \\cdot [REP1] \\cdot [REP3]\\\\\n[ACT4] \\cdot [REP1] \\cdot [REP3] \\cdot [RNA_{pol}]\\\\\n[ACT4] \\cdot [REP2] \\cdot [REP3]\\\\\n[ACT4] \\cdot [REP2] \\cdot [REP3] \\cdot [RNA_{pol}]\\\\\n[REP1] \\cdot [REP2] \\cdot [REP3]\\\\\n[REP1] \\cdot [REP2] \\cdot [REP3] \\cdot [RNA_{pol}]\\\\\n[ACT1] \\cdot [ACT2] \\cdot [ACT3] \\cdot [ACT4]\\\\\n[ACT1] \\cdot [ACT2] \\cdot [ACT3] \\cdot [ACT4] \\cdot [RNA_{pol}]\\\\\n[ACT1] \\cdot [ACT2] \\cdot [ACT3] \\cdot [REP1]\\\\\n[ACT1] \\cdot [ACT2] \\cdot [ACT3] \\cdot [REP1] \\cdot [RNA_{pol}]\\\\\n[ACT1] \\cdot [ACT2] \\cdot [ACT3] \\cdot [REP2]\\\\\n[ACT1] \\cdot [ACT2] \\cdot [ACT3] \\cdot [REP2] \\cdot [RNA_{pol}]\\\\\n[ACT1] \\cdot [ACT2] \\cdot [ACT3] \\cdot [REP3]\\\\\n[ACT1] \\cdot [ACT2] \\cdot [ACT3] \\cdot [REP3] \\cdot [RNA_{pol}]\\\\\n[ACT1] \\cdot [ACT2] \\cdot [ACT4] \\cdot [REP1]\\\\\n[ACT1] \\cdot [ACT2] \\cdot [ACT4] \\cdot [REP1] \\cdot [RNA_{pol}]\\\\\n[ACT1] \\cdot [ACT2] \\cdot [ACT4] \\cdot [REP2]\\\\\n[ACT1] \\cdot [ACT2] \\cdot [ACT4] \\cdot [REP2] \\cdot [RNA_{pol}]\\\\\n[ACT1] \\cdot [ACT2] \\cdot [ACT4] \\cdot [REP3]\\\\\n[ACT1] \\cdot [ACT2] \\cdot [ACT4] \\cdot [REP3] \\cdot [RNA_{pol}]\\\\\n[ACT1] \\cdot [ACT2] \\cdot [REP1] \\cdot [REP2]\\\\\n[ACT1] \\cdot [ACT2] \\cdot [REP1] \\cdot [REP2] \\cdot [RNA_{pol}]\\\\\n[ACT1] \\cdot [ACT2] \\cdot [REP1] \\cdot [REP3]\\\\\n[ACT1] \\cdot [ACT2] \\cdot [REP1] \\cdot [REP3] \\cdot [RNA_{pol}]\\\\\n[ACT1] \\cdot [ACT2] \\cdot [REP2] \\cdot [REP3]\\\\\n[ACT1] \\cdot [ACT2] \\cdot [REP2] \\cdot [REP3] \\cdot [RNA_{pol}]\\\\\n[ACT1] \\cdot [ACT3] \\cdot [ACT4] \\cdot [REP1]\\\\\n[ACT1] \\cdot [ACT3] \\cdot [ACT4] \\cdot [REP1] \\cdot [RNA_{pol}]\\\\\n[ACT1] \\cdot [ACT3] \\cdot [ACT4] \\cdot [REP2]\\\\\n[ACT1] \\cdot [ACT3] \\cdot [ACT4] \\cdot [REP2] \\cdot [RNA_{pol}]\\\\\n[ACT1] \\cdot [ACT3] \\cdot [ACT4] \\cdot [REP3]\\\\\n[ACT1] \\cdot [ACT3] \\cdot [ACT4] \\cdot [REP3] \\cdot [RNA_{pol}]\\\\\n[ACT1] \\cdot [ACT3] \\cdot [REP1] \\cdot [REP2]\\\\\n[ACT1] \\cdot [ACT3] \\cdot [REP1] \\cdot [REP2] \\cdot [RNA_{pol}]\\\\\n[ACT1] \\cdot [ACT3] \\cdot [REP1] \\cdot [REP3]\\\\\n[ACT1] \\cdot [ACT3] \\cdot [REP1] \\cdot [REP3] \\cdot [RNA_{pol}]\\\\\n[ACT1] \\cdot [ACT3] \\cdot [REP2] \\cdot [REP3]\\\\\n[ACT1] \\cdot [ACT3] \\cdot [REP2] \\cdot [REP3] \\cdot [RNA_{pol}]\\\\\n[ACT1] \\cdot [ACT4] \\cdot [REP1] \\cdot [REP2]\\\\\n[ACT1] \\cdot [ACT4] \\cdot [REP1] \\cdot [REP2] \\cdot [RNA_{pol}]\\\\\n[ACT1] \\cdot [ACT4] \\cdot [REP1] \\cdot [REP3]\\\\\n[ACT1] \\cdot [ACT4] \\cdot [REP1] \\cdot [REP3] \\cdot [RNA_{pol}]\\\\\n[ACT1] \\cdot [ACT4] \\cdot [REP2] \\cdot [REP3]\\\\\n[ACT1] \\cdot [ACT4] \\cdot [REP2] \\cdot [REP3] \\cdot [RNA_{pol}]\\\\\n[ACT1] \\cdot [REP1] \\cdot [REP2] \\cdot [REP3]\\\\\n[ACT1] \\cdot [REP1] \\cdot [REP2] \\cdot [REP3] \\cdot [RNA_{pol}]\\\\\n[ACT2] \\cdot [ACT3] \\cdot [ACT4] \\cdot [REP1]\\\\\n[ACT2] \\cdot [ACT3] \\cdot [ACT4] \\cdot [REP1] \\cdot [RNA_{pol}]\\\\\n[ACT2] \\cdot [ACT3] \\cdot [ACT4] \\cdot [REP2]\\\\\n[ACT2] \\cdot [ACT3] \\cdot [ACT4] \\cdot [REP2] \\cdot [RNA_{pol}]\\\\\n[ACT2] \\cdot [ACT3] \\cdot [ACT4] \\cdot [REP3]\\\\\n[ACT2] \\cdot [ACT3] \\cdot [ACT4] \\cdot [REP3] \\cdot [RNA_{pol}]\\\\\n[ACT2] \\cdot [ACT3] \\cdot [REP1] \\cdot [REP2]\\\\\n[ACT2] \\cdot [ACT3] \\cdot [REP1] \\cdot [REP2] \\cdot [RNA_{pol}]\\\\\n[ACT2] \\cdot [ACT3] \\cdot [REP1] \\cdot [REP3]\\\\\n[ACT2] \\cdot [ACT3] \\cdot [REP1] \\cdot [REP3] \\cdot [RNA_{pol}]\\\\\n[ACT2] \\cdot [ACT3] \\cdot [REP2] \\cdot [REP3]\\\\\n[ACT2] \\cdot [ACT3] \\cdot [REP2] \\cdot [REP3] \\cdot [RNA_{pol}]\\\\\n[ACT2] \\cdot [ACT4] \\cdot [REP1] \\cdot [REP2]\\\\\n[ACT2] \\cdot [ACT4] \\cdot [REP1] \\cdot [REP2] \\cdot [RNA_{pol}]\\\\\n[ACT2] \\cdot [ACT4] \\cdot [REP1] \\cdot [REP3]\\\\\n[ACT2] \\cdot [ACT4] \\cdot [REP1] \\cdot [REP3] \\cdot [RNA_{pol}]\\\\\n[ACT2] \\cdot [ACT4] \\cdot [REP2] \\cdot [REP3]\\\\\n[ACT2] \\cdot [ACT4] \\cdot [REP2] \\cdot [REP3] \\cdot [RNA_{pol}]\\\\\n[ACT2] \\cdot [REP1] \\cdot [REP2] \\cdot [REP3]\\\\\n[ACT2] \\cdot [REP1] \\cdot [REP2] \\cdot [REP3] \\cdot [RNA_{pol}]\\\\\n[ACT3] \\cdot [ACT4] \\cdot [REP1] \\cdot [REP2]\\\\\n[ACT3] \\cdot [ACT4] \\cdot [REP1] \\cdot [REP2] \\cdot [RNA_{pol}]\\\\\n[ACT3] \\cdot [ACT4] \\cdot [REP1] \\cdot [REP3]\\\\\n[ACT3] \\cdot [ACT4] \\cdot [REP1] \\cdot [REP3] \\cdot [RNA_{pol}]\\\\\n[ACT3] \\cdot [ACT4] \\cdot [REP2] \\cdot [REP3]\\\\\n[ACT3] \\cdot [ACT4] \\cdot [REP2] \\cdot [REP3] \\cdot [RNA_{pol}]\\\\\n[ACT3] \\cdot [REP1] \\cdot [REP2] \\cdot [REP3]\\\\\n[ACT3] \\cdot [REP1] \\cdot [REP2] \\cdot [REP3] \\cdot [RNA_{pol}]\\\\\n[ACT4] \\cdot [REP1] \\cdot [REP2] \\cdot [REP3]\\\\\n[ACT4] \\cdot [REP1] \\cdot [REP2] \\cdot [REP3] \\cdot [RNA_{pol}]\\\\\n[ACT1] \\cdot [ACT2] \\cdot [ACT3] \\cdot [ACT4] \\cdot [REP1]\\\\\n[ACT1] \\cdot [ACT2] \\cdot [ACT3] \\cdot [ACT4] \\cdot [REP1] \\cdot [RNA_{pol}]\\\\\n[ACT1] \\cdot [ACT2] \\cdot [ACT3] \\cdot [ACT4] \\cdot [REP2]\\\\\n[ACT1] \\cdot [ACT2] \\cdot [ACT3] \\cdot [ACT4] \\cdot [REP2] \\cdot [RNA_{pol}]\\\\\n[ACT1] \\cdot [ACT2] \\cdot [ACT3] \\cdot [ACT4] \\cdot [REP3]\\\\\n[ACT1] \\cdot [ACT2] \\cdot [ACT3] \\cdot [ACT4] \\cdot [REP3] \\cdot [RNA_{pol}]\\\\\n[ACT1] \\cdot [ACT2] \\cdot [ACT3] \\cdot [REP1] \\cdot [REP2]\\\\\n[ACT1] \\cdot [ACT2] \\cdot [ACT3] \\cdot [REP1] \\cdot [REP2] \\cdot [RNA_{pol}]\\\\\n[ACT1] \\cdot [ACT2] \\cdot [ACT3] \\cdot [REP1] \\cdot [REP3]\\\\\n[ACT1] \\cdot [ACT2] \\cdot [ACT3] \\cdot [REP1] \\cdot [REP3] \\cdot [RNA_{pol}]\\\\\n[ACT1] \\cdot [ACT2] \\cdot [ACT3] \\cdot [REP2] \\cdot [REP3]\\\\\n[ACT1] \\cdot [ACT2] \\cdot [ACT3] \\cdot [REP2] \\cdot [REP3] \\cdot [RNA_{pol}]\\\\\n[ACT1] \\cdot [ACT2] \\cdot [ACT4] \\cdot [REP1] \\cdot [REP2]\\\\\n[ACT1] \\cdot [ACT2] \\cdot [ACT4] \\cdot [REP1] \\cdot [REP2] \\cdot [RNA_{pol}]\\\\\n[ACT1] \\cdot [ACT2] \\cdot [ACT4] \\cdot [REP1] \\cdot [REP3]\\\\\n[ACT1] \\cdot [ACT2] \\cdot [ACT4] \\cdot [REP1] \\cdot [REP3] \\cdot [RNA_{pol}]\\\\\n[ACT1] \\cdot [ACT2] \\cdot [ACT4] \\cdot [REP2] \\cdot [REP3]\\\\\n[ACT1] \\cdot [ACT2] \\cdot [ACT4] \\cdot [REP2] \\cdot [REP3] \\cdot [RNA_{pol}]\\\\\n[ACT1] \\cdot [ACT2] \\cdot [REP1] \\cdot [REP2] \\cdot [REP3]\\\\\n[ACT1] \\cdot [ACT2] \\cdot [REP1] \\cdot [REP2] \\cdot [REP3] \\cdot [RNA_{pol}]\\\\\n[ACT1] \\cdot [ACT3] \\cdot [ACT4] \\cdot [REP1] \\cdot [REP2]\\\\\n[ACT1] \\cdot [ACT3] \\cdot [ACT4] \\cdot [REP1] \\cdot [REP2] \\cdot [RNA_{pol}]\\\\\n[ACT1] \\cdot [ACT3] \\cdot [ACT4] \\cdot [REP1] \\cdot [REP3]\\\\\n[ACT1] \\cdot [ACT3] \\cdot [ACT4] \\cdot [REP1] \\cdot [REP3] \\cdot [RNA_{pol}]\\\\\n[ACT1] \\cdot [ACT3] \\cdot [ACT4] \\cdot [REP2] \\cdot [REP3]\\\\\n[ACT1] \\cdot [ACT3] \\cdot [ACT4] \\cdot [REP2] \\cdot [REP3] \\cdot [RNA_{pol}]\\\\\n[ACT1] \\cdot [ACT3] \\cdot [REP1] \\cdot [REP2] \\cdot [REP3]\\\\\n[ACT1] \\cdot [ACT3] \\cdot [REP1] \\cdot [REP2] \\cdot [REP3] \\cdot [RNA_{pol}]\\\\\n[ACT1] \\cdot [ACT4] \\cdot [REP1] \\cdot [REP2] \\cdot [REP3]\\\\\n[ACT1] \\cdot [ACT4] \\cdot [REP1] \\cdot [REP2] \\cdot [REP3] \\cdot [RNA_{pol}]\\\\\n[ACT2] \\cdot [ACT3] \\cdot [ACT4] \\cdot [REP1] \\cdot [REP2]\\\\\n[ACT2] \\cdot [ACT3] \\cdot [ACT4] \\cdot [REP1] \\cdot [REP2] \\cdot [RNA_{pol}]\\\\\n[ACT2] \\cdot [ACT3] \\cdot [ACT4] \\cdot [REP1] \\cdot [REP3]\\\\\n[ACT2] \\cdot [ACT3] \\cdot [ACT4] \\cdot [REP1] \\cdot [REP3] \\cdot [RNA_{pol}]\\\\\n[ACT2] \\cdot [ACT3] \\cdot [ACT4] \\cdot [REP2] \\cdot [REP3]\\\\\n[ACT2] \\cdot [ACT3] \\cdot [ACT4] \\cdot [REP2] \\cdot [REP3] \\cdot [RNA_{pol}]\\\\\n[ACT2] \\cdot [ACT3] \\cdot [REP1] \\cdot [REP2] \\cdot [REP3]\\\\\n[ACT2] \\cdot [ACT3] \\cdot [REP1] \\cdot [REP2] \\cdot [REP3] \\cdot [RNA_{pol}]\\\\\n[ACT2] \\cdot [ACT4] \\cdot [REP1] \\cdot [REP2] \\cdot [REP3]\\\\\n[ACT2] \\cdot [ACT4] \\cdot [REP1] \\cdot [REP2] \\cdot [REP3] \\cdot [RNA_{pol}]\\\\\n[ACT3] \\cdot [ACT4] \\cdot [REP1] \\cdot [REP2] \\cdot [REP3]\\\\\n[ACT3] \\cdot [ACT4] \\cdot [REP1] \\cdot [REP2] \\cdot [REP3] \\cdot [RNA_{pol}]\\\\\n[ACT1] \\cdot [ACT2] \\cdot [ACT3] \\cdot [ACT4] \\cdot [REP1] \\cdot [REP2]\\\\\n[ACT1] \\cdot [ACT2] \\cdot [ACT3] \\cdot [ACT4] \\cdot [REP1] \\cdot [REP2] \\cdot [RNA_{pol}]\\\\\n[ACT1] \\cdot [ACT2] \\cdot [ACT3] \\cdot [ACT4] \\cdot [REP1] \\cdot [REP3]\\\\\n[ACT1] \\cdot [ACT2] \\cdot [ACT3] \\cdot [ACT4] \\cdot [REP1] \\cdot [REP3] \\cdot [RNA_{pol}]\\\\\n[ACT1] \\cdot [ACT2] \\cdot [ACT3] \\cdot [ACT4] \\cdot [REP2] \\cdot [REP3]\\\\\n[ACT1] \\cdot [ACT2] \\cdot [ACT3] \\cdot [ACT4] \\cdot [REP2] \\cdot [REP3] \\cdot [RNA_{pol}]\\\\\n[ACT1] \\cdot [ACT2] \\cdot [ACT3] \\cdot [REP1] \\cdot [REP2] \\cdot [REP3]\\\\\n[ACT1] \\cdot [ACT2] \\cdot [ACT3] \\cdot [REP1] \\cdot [REP2] \\cdot [REP3] \\cdot [RNA_{pol}]\\\\\n[ACT1] \\cdot [ACT2] \\cdot [ACT4] \\cdot [REP1] \\cdot [REP2] \\cdot [REP3]\\\\\n[ACT1] \\cdot [ACT2] \\cdot [ACT4] \\cdot [REP1] \\cdot [REP2] \\cdot [REP3] \\cdot [RNA_{pol}]\\\\\n[ACT1] \\cdot [ACT3] \\cdot [ACT4] \\cdot [REP1] \\cdot [REP2] \\cdot [REP3]\\\\\n[ACT1] \\cdot [ACT3] \\cdot [ACT4] \\cdot [REP1] \\cdot [REP2] \\cdot [REP3] \\cdot [RNA_{pol}]\\\\\n[ACT2] \\cdot [ACT3] \\cdot [ACT4] \\cdot [REP1] \\cdot [REP2] \\cdot [REP3]\\\\\n[ACT2] \\cdot [ACT3] \\cdot [ACT4] \\cdot [REP1] \\cdot [REP2] \\cdot [REP3] \\cdot [RNA_{pol}]\\\\\n[ACT1] \\cdot [ACT2] \\cdot [ACT3] \\cdot [ACT4] \\cdot [REP1] \\cdot [REP2] \\cdot [REP3]\\\\\n[ACT1] \\cdot [ACT2] \\cdot [ACT3] \\cdot [ACT4] \\cdot [REP1] \\cdot [REP2] \\cdot [REP3] \\cdot [RNA_{pol}]\\\\\n\\end{pmatrix}$",
            "text/plain": [
              "<IPython.core.display.Math object>"
            ]
          },
          "metadata": {
            "tags": []
          }
        },
        {
          "output_type": "stream",
          "text": [
            "\n",
            "\n",
            "\n",
            "\n"
          ],
          "name": "stdout"
        },
        {
          "output_type": "display_data",
          "data": {
            "text/latex": "$\\displaystyle B \\hspace{0.1cm} matrix$ = $\\begin{pmatrix}\n0\\\\\n K_{[RNA_{pol}]} \\\\\n K_{[ACT1]} \\\\\n K_{[ACT1]} \\cdot K_{[RNA_{pol}]} \\\\\n K_{[ACT2]} \\\\\n K_{[ACT2]} \\cdot K_{[RNA_{pol}]} \\\\\n K_{[ACT3]} \\\\\n K_{[ACT3]} \\cdot K_{[RNA_{pol}]} \\\\\n K_{[ACT4]} \\\\\n K_{[ACT4]} \\cdot K_{[RNA_{pol}]} \\\\\n K_{[REP1]} \\\\\n K_{[REP1]} \\cdot K_{[RNA_{pol}]} \\\\\n K_{[REP2]} \\\\\n K_{[REP2]} \\cdot K_{[RNA_{pol}]} \\\\\n K_{[REP3]} \\\\\n K_{[REP3]} \\cdot K_{[RNA_{pol}]} \\\\\n K_{[ACT1]} \\cdot K_{[ACT2]} \\\\\n K_{[ACT1]} \\cdot K_{[ACT2]} \\cdot K_{[RNA_{pol}]} \\\\\n K_{[ACT1]} \\cdot K_{[ACT3]} \\\\\n K_{[ACT1]} \\cdot K_{[ACT3]} \\cdot K_{[RNA_{pol}]} \\\\\n K_{[ACT1]} \\cdot K_{[ACT4]} \\\\\n K_{[ACT1]} \\cdot K_{[ACT4]} \\cdot K_{[RNA_{pol}]} \\\\\n K_{[ACT1]} \\cdot K_{[REP1]} \\\\\n K_{[ACT1]} \\cdot K_{[REP1]} \\cdot K_{[RNA_{pol}]} \\\\\n K_{[ACT1]} \\cdot K_{[REP2]} \\\\\n K_{[ACT1]} \\cdot K_{[REP2]} \\cdot K_{[RNA_{pol}]} \\\\\n K_{[ACT1]} \\cdot K_{[REP3]} \\\\\n K_{[ACT1]} \\cdot K_{[REP3]} \\cdot K_{[RNA_{pol}]} \\\\\n K_{[ACT2]} \\cdot K_{[ACT3]} \\\\\n K_{[ACT2]} \\cdot K_{[ACT3]} \\cdot K_{[RNA_{pol}]} \\\\\n K_{[ACT2]} \\cdot K_{[ACT4]} \\\\\n K_{[ACT2]} \\cdot K_{[ACT4]} \\cdot K_{[RNA_{pol}]} \\\\\n K_{[ACT2]} \\cdot K_{[REP1]} \\\\\n K_{[ACT2]} \\cdot K_{[REP1]} \\cdot K_{[RNA_{pol}]} \\\\\n K_{[ACT2]} \\cdot K_{[REP2]} \\\\\n K_{[ACT2]} \\cdot K_{[REP2]} \\cdot K_{[RNA_{pol}]} \\\\\n K_{[ACT2]} \\cdot K_{[REP3]} \\\\\n K_{[ACT2]} \\cdot K_{[REP3]} \\cdot K_{[RNA_{pol}]} \\\\\n K_{[ACT3]} \\cdot K_{[ACT4]} \\\\\n K_{[ACT3]} \\cdot K_{[ACT4]} \\cdot K_{[RNA_{pol}]} \\\\\n K_{[ACT3]} \\cdot K_{[REP1]} \\\\\n K_{[ACT3]} \\cdot K_{[REP1]} \\cdot K_{[RNA_{pol}]} \\\\\n K_{[ACT3]} \\cdot K_{[REP2]} \\\\\n K_{[ACT3]} \\cdot K_{[REP2]} \\cdot K_{[RNA_{pol}]} \\\\\n K_{[ACT3]} \\cdot K_{[REP3]} \\\\\n K_{[ACT3]} \\cdot K_{[REP3]} \\cdot K_{[RNA_{pol}]} \\\\\n K_{[ACT4]} \\cdot K_{[REP1]} \\\\\n K_{[ACT4]} \\cdot K_{[REP1]} \\cdot K_{[RNA_{pol}]} \\\\\n K_{[ACT4]} \\cdot K_{[REP2]} \\\\\n K_{[ACT4]} \\cdot K_{[REP2]} \\cdot K_{[RNA_{pol}]} \\\\\n K_{[ACT4]} \\cdot K_{[REP3]} \\\\\n K_{[ACT4]} \\cdot K_{[REP3]} \\cdot K_{[RNA_{pol}]} \\\\\n K_{[REP1]} \\cdot K_{[REP2]} \\\\\n K_{[REP1]} \\cdot K_{[REP2]} \\cdot K_{[RNA_{pol}]} \\\\\n K_{[REP1]} \\cdot K_{[REP3]} \\\\\n K_{[REP1]} \\cdot K_{[REP3]} \\cdot K_{[RNA_{pol}]} \\\\\n K_{[REP2]} \\cdot K_{[REP3]} \\\\\n K_{[REP2]} \\cdot K_{[REP3]} \\cdot K_{[RNA_{pol}]} \\\\\n K_{[ACT1]} \\cdot K_{[ACT2]} \\cdot K_{[ACT3]} \\\\\n K_{[ACT1]} \\cdot K_{[ACT2]} \\cdot K_{[ACT3]} \\cdot K_{[RNA_{pol}]} \\\\\n K_{[ACT1]} \\cdot K_{[ACT2]} \\cdot K_{[ACT4]} \\\\\n K_{[ACT1]} \\cdot K_{[ACT2]} \\cdot K_{[ACT4]} \\cdot K_{[RNA_{pol}]} \\\\\n K_{[ACT1]} \\cdot K_{[ACT2]} \\cdot K_{[REP1]} \\\\\n K_{[ACT1]} \\cdot K_{[ACT2]} \\cdot K_{[REP1]} \\cdot K_{[RNA_{pol}]} \\\\\n K_{[ACT1]} \\cdot K_{[ACT2]} \\cdot K_{[REP2]} \\\\\n K_{[ACT1]} \\cdot K_{[ACT2]} \\cdot K_{[REP2]} \\cdot K_{[RNA_{pol}]} \\\\\n K_{[ACT1]} \\cdot K_{[ACT2]} \\cdot K_{[REP3]} \\\\\n K_{[ACT1]} \\cdot K_{[ACT2]} \\cdot K_{[REP3]} \\cdot K_{[RNA_{pol}]} \\\\\n K_{[ACT1]} \\cdot K_{[ACT3]} \\cdot K_{[ACT4]} \\\\\n K_{[ACT1]} \\cdot K_{[ACT3]} \\cdot K_{[ACT4]} \\cdot K_{[RNA_{pol}]} \\\\\n K_{[ACT1]} \\cdot K_{[ACT3]} \\cdot K_{[REP1]} \\\\\n K_{[ACT1]} \\cdot K_{[ACT3]} \\cdot K_{[REP1]} \\cdot K_{[RNA_{pol}]} \\\\\n K_{[ACT1]} \\cdot K_{[ACT3]} \\cdot K_{[REP2]} \\\\\n K_{[ACT1]} \\cdot K_{[ACT3]} \\cdot K_{[REP2]} \\cdot K_{[RNA_{pol}]} \\\\\n K_{[ACT1]} \\cdot K_{[ACT3]} \\cdot K_{[REP3]} \\\\\n K_{[ACT1]} \\cdot K_{[ACT3]} \\cdot K_{[REP3]} \\cdot K_{[RNA_{pol}]} \\\\\n K_{[ACT1]} \\cdot K_{[ACT4]} \\cdot K_{[REP1]} \\\\\n K_{[ACT1]} \\cdot K_{[ACT4]} \\cdot K_{[REP1]} \\cdot K_{[RNA_{pol}]} \\\\\n K_{[ACT1]} \\cdot K_{[ACT4]} \\cdot K_{[REP2]} \\\\\n K_{[ACT1]} \\cdot K_{[ACT4]} \\cdot K_{[REP2]} \\cdot K_{[RNA_{pol}]} \\\\\n K_{[ACT1]} \\cdot K_{[ACT4]} \\cdot K_{[REP3]} \\\\\n K_{[ACT1]} \\cdot K_{[ACT4]} \\cdot K_{[REP3]} \\cdot K_{[RNA_{pol}]} \\\\\n K_{[ACT1]} \\cdot K_{[REP1]} \\cdot K_{[REP2]} \\\\\n K_{[ACT1]} \\cdot K_{[REP1]} \\cdot K_{[REP2]} \\cdot K_{[RNA_{pol}]} \\\\\n K_{[ACT1]} \\cdot K_{[REP1]} \\cdot K_{[REP3]} \\\\\n K_{[ACT1]} \\cdot K_{[REP1]} \\cdot K_{[REP3]} \\cdot K_{[RNA_{pol}]} \\\\\n K_{[ACT1]} \\cdot K_{[REP2]} \\cdot K_{[REP3]} \\\\\n K_{[ACT1]} \\cdot K_{[REP2]} \\cdot K_{[REP3]} \\cdot K_{[RNA_{pol}]} \\\\\n K_{[ACT2]} \\cdot K_{[ACT3]} \\cdot K_{[ACT4]} \\\\\n K_{[ACT2]} \\cdot K_{[ACT3]} \\cdot K_{[ACT4]} \\cdot K_{[RNA_{pol}]} \\\\\n K_{[ACT2]} \\cdot K_{[ACT3]} \\cdot K_{[REP1]} \\\\\n K_{[ACT2]} \\cdot K_{[ACT3]} \\cdot K_{[REP1]} \\cdot K_{[RNA_{pol}]} \\\\\n K_{[ACT2]} \\cdot K_{[ACT3]} \\cdot K_{[REP2]} \\\\\n K_{[ACT2]} \\cdot K_{[ACT3]} \\cdot K_{[REP2]} \\cdot K_{[RNA_{pol}]} \\\\\n K_{[ACT2]} \\cdot K_{[ACT3]} \\cdot K_{[REP3]} \\\\\n K_{[ACT2]} \\cdot K_{[ACT3]} \\cdot K_{[REP3]} \\cdot K_{[RNA_{pol}]} \\\\\n K_{[ACT2]} \\cdot K_{[ACT4]} \\cdot K_{[REP1]} \\\\\n K_{[ACT2]} \\cdot K_{[ACT4]} \\cdot K_{[REP1]} \\cdot K_{[RNA_{pol}]} \\\\\n K_{[ACT2]} \\cdot K_{[ACT4]} \\cdot K_{[REP2]} \\\\\n K_{[ACT2]} \\cdot K_{[ACT4]} \\cdot K_{[REP2]} \\cdot K_{[RNA_{pol}]} \\\\\n K_{[ACT2]} \\cdot K_{[ACT4]} \\cdot K_{[REP3]} \\\\\n K_{[ACT2]} \\cdot K_{[ACT4]} \\cdot K_{[REP3]} \\cdot K_{[RNA_{pol}]} \\\\\n K_{[ACT2]} \\cdot K_{[REP1]} \\cdot K_{[REP2]} \\\\\n K_{[ACT2]} \\cdot K_{[REP1]} \\cdot K_{[REP2]} \\cdot K_{[RNA_{pol}]} \\\\\n K_{[ACT2]} \\cdot K_{[REP1]} \\cdot K_{[REP3]} \\\\\n K_{[ACT2]} \\cdot K_{[REP1]} \\cdot K_{[REP3]} \\cdot K_{[RNA_{pol}]} \\\\\n K_{[ACT2]} \\cdot K_{[REP2]} \\cdot K_{[REP3]} \\\\\n K_{[ACT2]} \\cdot K_{[REP2]} \\cdot K_{[REP3]} \\cdot K_{[RNA_{pol}]} \\\\\n K_{[ACT3]} \\cdot K_{[ACT4]} \\cdot K_{[REP1]} \\\\\n K_{[ACT3]} \\cdot K_{[ACT4]} \\cdot K_{[REP1]} \\cdot K_{[RNA_{pol}]} \\\\\n K_{[ACT3]} \\cdot K_{[ACT4]} \\cdot K_{[REP2]} \\\\\n K_{[ACT3]} \\cdot K_{[ACT4]} \\cdot K_{[REP2]} \\cdot K_{[RNA_{pol}]} \\\\\n K_{[ACT3]} \\cdot K_{[ACT4]} \\cdot K_{[REP3]} \\\\\n K_{[ACT3]} \\cdot K_{[ACT4]} \\cdot K_{[REP3]} \\cdot K_{[RNA_{pol}]} \\\\\n K_{[ACT3]} \\cdot K_{[REP1]} \\cdot K_{[REP2]} \\\\\n K_{[ACT3]} \\cdot K_{[REP1]} \\cdot K_{[REP2]} \\cdot K_{[RNA_{pol}]} \\\\\n K_{[ACT3]} \\cdot K_{[REP1]} \\cdot K_{[REP3]} \\\\\n K_{[ACT3]} \\cdot K_{[REP1]} \\cdot K_{[REP3]} \\cdot K_{[RNA_{pol}]} \\\\\n K_{[ACT3]} \\cdot K_{[REP2]} \\cdot K_{[REP3]} \\\\\n K_{[ACT3]} \\cdot K_{[REP2]} \\cdot K_{[REP3]} \\cdot K_{[RNA_{pol}]} \\\\\n K_{[ACT4]} \\cdot K_{[REP1]} \\cdot K_{[REP2]} \\\\\n K_{[ACT4]} \\cdot K_{[REP1]} \\cdot K_{[REP2]} \\cdot K_{[RNA_{pol}]} \\\\\n K_{[ACT4]} \\cdot K_{[REP1]} \\cdot K_{[REP3]} \\\\\n K_{[ACT4]} \\cdot K_{[REP1]} \\cdot K_{[REP3]} \\cdot K_{[RNA_{pol}]} \\\\\n K_{[ACT4]} \\cdot K_{[REP2]} \\cdot K_{[REP3]} \\\\\n K_{[ACT4]} \\cdot K_{[REP2]} \\cdot K_{[REP3]} \\cdot K_{[RNA_{pol}]} \\\\\n K_{[REP1]} \\cdot K_{[REP2]} \\cdot K_{[REP3]} \\\\\n K_{[REP1]} \\cdot K_{[REP2]} \\cdot K_{[REP3]} \\cdot K_{[RNA_{pol}]} \\\\\n K_{[ACT1]} \\cdot K_{[ACT2]} \\cdot K_{[ACT3]} \\cdot K_{[ACT4]} \\\\\n K_{[ACT1]} \\cdot K_{[ACT2]} \\cdot K_{[ACT3]} \\cdot K_{[ACT4]} \\cdot K_{[RNA_{pol}]} \\\\\n K_{[ACT1]} \\cdot K_{[ACT2]} \\cdot K_{[ACT3]} \\cdot K_{[REP1]} \\\\\n K_{[ACT1]} \\cdot K_{[ACT2]} \\cdot K_{[ACT3]} \\cdot K_{[REP1]} \\cdot K_{[RNA_{pol}]} \\\\\n K_{[ACT1]} \\cdot K_{[ACT2]} \\cdot K_{[ACT3]} \\cdot K_{[REP2]} \\\\\n K_{[ACT1]} \\cdot K_{[ACT2]} \\cdot K_{[ACT3]} \\cdot K_{[REP2]} \\cdot K_{[RNA_{pol}]} \\\\\n K_{[ACT1]} \\cdot K_{[ACT2]} \\cdot K_{[ACT3]} \\cdot K_{[REP3]} \\\\\n K_{[ACT1]} \\cdot K_{[ACT2]} \\cdot K_{[ACT3]} \\cdot K_{[REP3]} \\cdot K_{[RNA_{pol}]} \\\\\n K_{[ACT1]} \\cdot K_{[ACT2]} \\cdot K_{[ACT4]} \\cdot K_{[REP1]} \\\\\n K_{[ACT1]} \\cdot K_{[ACT2]} \\cdot K_{[ACT4]} \\cdot K_{[REP1]} \\cdot K_{[RNA_{pol}]} \\\\\n K_{[ACT1]} \\cdot K_{[ACT2]} \\cdot K_{[ACT4]} \\cdot K_{[REP2]} \\\\\n K_{[ACT1]} \\cdot K_{[ACT2]} \\cdot K_{[ACT4]} \\cdot K_{[REP2]} \\cdot K_{[RNA_{pol}]} \\\\\n K_{[ACT1]} \\cdot K_{[ACT2]} \\cdot K_{[ACT4]} \\cdot K_{[REP3]} \\\\\n K_{[ACT1]} \\cdot K_{[ACT2]} \\cdot K_{[ACT4]} \\cdot K_{[REP3]} \\cdot K_{[RNA_{pol}]} \\\\\n K_{[ACT1]} \\cdot K_{[ACT2]} \\cdot K_{[REP1]} \\cdot K_{[REP2]} \\\\\n K_{[ACT1]} \\cdot K_{[ACT2]} \\cdot K_{[REP1]} \\cdot K_{[REP2]} \\cdot K_{[RNA_{pol}]} \\\\\n K_{[ACT1]} \\cdot K_{[ACT2]} \\cdot K_{[REP1]} \\cdot K_{[REP3]} \\\\\n K_{[ACT1]} \\cdot K_{[ACT2]} \\cdot K_{[REP1]} \\cdot K_{[REP3]} \\cdot K_{[RNA_{pol}]} \\\\\n K_{[ACT1]} \\cdot K_{[ACT2]} \\cdot K_{[REP2]} \\cdot K_{[REP3]} \\\\\n K_{[ACT1]} \\cdot K_{[ACT2]} \\cdot K_{[REP2]} \\cdot K_{[REP3]} \\cdot K_{[RNA_{pol}]} \\\\\n K_{[ACT1]} \\cdot K_{[ACT3]} \\cdot K_{[ACT4]} \\cdot K_{[REP1]} \\\\\n K_{[ACT1]} \\cdot K_{[ACT3]} \\cdot K_{[ACT4]} \\cdot K_{[REP1]} \\cdot K_{[RNA_{pol}]} \\\\\n K_{[ACT1]} \\cdot K_{[ACT3]} \\cdot K_{[ACT4]} \\cdot K_{[REP2]} \\\\\n K_{[ACT1]} \\cdot K_{[ACT3]} \\cdot K_{[ACT4]} \\cdot K_{[REP2]} \\cdot K_{[RNA_{pol}]} \\\\\n K_{[ACT1]} \\cdot K_{[ACT3]} \\cdot K_{[ACT4]} \\cdot K_{[REP3]} \\\\\n K_{[ACT1]} \\cdot K_{[ACT3]} \\cdot K_{[ACT4]} \\cdot K_{[REP3]} \\cdot K_{[RNA_{pol}]} \\\\\n K_{[ACT1]} \\cdot K_{[ACT3]} \\cdot K_{[REP1]} \\cdot K_{[REP2]} \\\\\n K_{[ACT1]} \\cdot K_{[ACT3]} \\cdot K_{[REP1]} \\cdot K_{[REP2]} \\cdot K_{[RNA_{pol}]} \\\\\n K_{[ACT1]} \\cdot K_{[ACT3]} \\cdot K_{[REP1]} \\cdot K_{[REP3]} \\\\\n K_{[ACT1]} \\cdot K_{[ACT3]} \\cdot K_{[REP1]} \\cdot K_{[REP3]} \\cdot K_{[RNA_{pol}]} \\\\\n K_{[ACT1]} \\cdot K_{[ACT3]} \\cdot K_{[REP2]} \\cdot K_{[REP3]} \\\\\n K_{[ACT1]} \\cdot K_{[ACT3]} \\cdot K_{[REP2]} \\cdot K_{[REP3]} \\cdot K_{[RNA_{pol}]} \\\\\n K_{[ACT1]} \\cdot K_{[ACT4]} \\cdot K_{[REP1]} \\cdot K_{[REP2]} \\\\\n K_{[ACT1]} \\cdot K_{[ACT4]} \\cdot K_{[REP1]} \\cdot K_{[REP2]} \\cdot K_{[RNA_{pol}]} \\\\\n K_{[ACT1]} \\cdot K_{[ACT4]} \\cdot K_{[REP1]} \\cdot K_{[REP3]} \\\\\n K_{[ACT1]} \\cdot K_{[ACT4]} \\cdot K_{[REP1]} \\cdot K_{[REP3]} \\cdot K_{[RNA_{pol}]} \\\\\n K_{[ACT1]} \\cdot K_{[ACT4]} \\cdot K_{[REP2]} \\cdot K_{[REP3]} \\\\\n K_{[ACT1]} \\cdot K_{[ACT4]} \\cdot K_{[REP2]} \\cdot K_{[REP3]} \\cdot K_{[RNA_{pol}]} \\\\\n K_{[ACT1]} \\cdot K_{[REP1]} \\cdot K_{[REP2]} \\cdot K_{[REP3]} \\\\\n K_{[ACT1]} \\cdot K_{[REP1]} \\cdot K_{[REP2]} \\cdot K_{[REP3]} \\cdot K_{[RNA_{pol}]} \\\\\n K_{[ACT2]} \\cdot K_{[ACT3]} \\cdot K_{[ACT4]} \\cdot K_{[REP1]} \\\\\n K_{[ACT2]} \\cdot K_{[ACT3]} \\cdot K_{[ACT4]} \\cdot K_{[REP1]} \\cdot K_{[RNA_{pol}]} \\\\\n K_{[ACT2]} \\cdot K_{[ACT3]} \\cdot K_{[ACT4]} \\cdot K_{[REP2]} \\\\\n K_{[ACT2]} \\cdot K_{[ACT3]} \\cdot K_{[ACT4]} \\cdot K_{[REP2]} \\cdot K_{[RNA_{pol}]} \\\\\n K_{[ACT2]} \\cdot K_{[ACT3]} \\cdot K_{[ACT4]} \\cdot K_{[REP3]} \\\\\n K_{[ACT2]} \\cdot K_{[ACT3]} \\cdot K_{[ACT4]} \\cdot K_{[REP3]} \\cdot K_{[RNA_{pol}]} \\\\\n K_{[ACT2]} \\cdot K_{[ACT3]} \\cdot K_{[REP1]} \\cdot K_{[REP2]} \\\\\n K_{[ACT2]} \\cdot K_{[ACT3]} \\cdot K_{[REP1]} \\cdot K_{[REP2]} \\cdot K_{[RNA_{pol}]} \\\\\n K_{[ACT2]} \\cdot K_{[ACT3]} \\cdot K_{[REP1]} \\cdot K_{[REP3]} \\\\\n K_{[ACT2]} \\cdot K_{[ACT3]} \\cdot K_{[REP1]} \\cdot K_{[REP3]} \\cdot K_{[RNA_{pol}]} \\\\\n K_{[ACT2]} \\cdot K_{[ACT3]} \\cdot K_{[REP2]} \\cdot K_{[REP3]} \\\\\n K_{[ACT2]} \\cdot K_{[ACT3]} \\cdot K_{[REP2]} \\cdot K_{[REP3]} \\cdot K_{[RNA_{pol}]} \\\\\n K_{[ACT2]} \\cdot K_{[ACT4]} \\cdot K_{[REP1]} \\cdot K_{[REP2]} \\\\\n K_{[ACT2]} \\cdot K_{[ACT4]} \\cdot K_{[REP1]} \\cdot K_{[REP2]} \\cdot K_{[RNA_{pol}]} \\\\\n K_{[ACT2]} \\cdot K_{[ACT4]} \\cdot K_{[REP1]} \\cdot K_{[REP3]} \\\\\n K_{[ACT2]} \\cdot K_{[ACT4]} \\cdot K_{[REP1]} \\cdot K_{[REP3]} \\cdot K_{[RNA_{pol}]} \\\\\n K_{[ACT2]} \\cdot K_{[ACT4]} \\cdot K_{[REP2]} \\cdot K_{[REP3]} \\\\\n K_{[ACT2]} \\cdot K_{[ACT4]} \\cdot K_{[REP2]} \\cdot K_{[REP3]} \\cdot K_{[RNA_{pol}]} \\\\\n K_{[ACT2]} \\cdot K_{[REP1]} \\cdot K_{[REP2]} \\cdot K_{[REP3]} \\\\\n K_{[ACT2]} \\cdot K_{[REP1]} \\cdot K_{[REP2]} \\cdot K_{[REP3]} \\cdot K_{[RNA_{pol}]} \\\\\n K_{[ACT3]} \\cdot K_{[ACT4]} \\cdot K_{[REP1]} \\cdot K_{[REP2]} \\\\\n K_{[ACT3]} \\cdot K_{[ACT4]} \\cdot K_{[REP1]} \\cdot K_{[REP2]} \\cdot K_{[RNA_{pol}]} \\\\\n K_{[ACT3]} \\cdot K_{[ACT4]} \\cdot K_{[REP1]} \\cdot K_{[REP3]} \\\\\n K_{[ACT3]} \\cdot K_{[ACT4]} \\cdot K_{[REP1]} \\cdot K_{[REP3]} \\cdot K_{[RNA_{pol}]} \\\\\n K_{[ACT3]} \\cdot K_{[ACT4]} \\cdot K_{[REP2]} \\cdot K_{[REP3]} \\\\\n K_{[ACT3]} \\cdot K_{[ACT4]} \\cdot K_{[REP2]} \\cdot K_{[REP3]} \\cdot K_{[RNA_{pol}]} \\\\\n K_{[ACT3]} \\cdot K_{[REP1]} \\cdot K_{[REP2]} \\cdot K_{[REP3]} \\\\\n K_{[ACT3]} \\cdot K_{[REP1]} \\cdot K_{[REP2]} \\cdot K_{[REP3]} \\cdot K_{[RNA_{pol}]} \\\\\n K_{[ACT4]} \\cdot K_{[REP1]} \\cdot K_{[REP2]} \\cdot K_{[REP3]} \\\\\n K_{[ACT4]} \\cdot K_{[REP1]} \\cdot K_{[REP2]} \\cdot K_{[REP3]} \\cdot K_{[RNA_{pol}]} \\\\\n K_{[ACT1]} \\cdot K_{[ACT2]} \\cdot K_{[ACT3]} \\cdot K_{[ACT4]} \\cdot K_{[REP1]} \\\\\n K_{[ACT1]} \\cdot K_{[ACT2]} \\cdot K_{[ACT3]} \\cdot K_{[ACT4]} \\cdot K_{[REP1]} \\cdot K_{[RNA_{pol}]} \\\\\n K_{[ACT1]} \\cdot K_{[ACT2]} \\cdot K_{[ACT3]} \\cdot K_{[ACT4]} \\cdot K_{[REP2]} \\\\\n K_{[ACT1]} \\cdot K_{[ACT2]} \\cdot K_{[ACT3]} \\cdot K_{[ACT4]} \\cdot K_{[REP2]} \\cdot K_{[RNA_{pol}]} \\\\\n K_{[ACT1]} \\cdot K_{[ACT2]} \\cdot K_{[ACT3]} \\cdot K_{[ACT4]} \\cdot K_{[REP3]} \\\\\n K_{[ACT1]} \\cdot K_{[ACT2]} \\cdot K_{[ACT3]} \\cdot K_{[ACT4]} \\cdot K_{[REP3]} \\cdot K_{[RNA_{pol}]} \\\\\n K_{[ACT1]} \\cdot K_{[ACT2]} \\cdot K_{[ACT3]} \\cdot K_{[REP1]} \\cdot K_{[REP2]} \\\\\n K_{[ACT1]} \\cdot K_{[ACT2]} \\cdot K_{[ACT3]} \\cdot K_{[REP1]} \\cdot K_{[REP2]} \\cdot K_{[RNA_{pol}]} \\\\\n K_{[ACT1]} \\cdot K_{[ACT2]} \\cdot K_{[ACT3]} \\cdot K_{[REP1]} \\cdot K_{[REP3]} \\\\\n K_{[ACT1]} \\cdot K_{[ACT2]} \\cdot K_{[ACT3]} \\cdot K_{[REP1]} \\cdot K_{[REP3]} \\cdot K_{[RNA_{pol}]} \\\\\n K_{[ACT1]} \\cdot K_{[ACT2]} \\cdot K_{[ACT3]} \\cdot K_{[REP2]} \\cdot K_{[REP3]} \\\\\n K_{[ACT1]} \\cdot K_{[ACT2]} \\cdot K_{[ACT3]} \\cdot K_{[REP2]} \\cdot K_{[REP3]} \\cdot K_{[RNA_{pol}]} \\\\\n K_{[ACT1]} \\cdot K_{[ACT2]} \\cdot K_{[ACT4]} \\cdot K_{[REP1]} \\cdot K_{[REP2]} \\\\\n K_{[ACT1]} \\cdot K_{[ACT2]} \\cdot K_{[ACT4]} \\cdot K_{[REP1]} \\cdot K_{[REP2]} \\cdot K_{[RNA_{pol}]} \\\\\n K_{[ACT1]} \\cdot K_{[ACT2]} \\cdot K_{[ACT4]} \\cdot K_{[REP1]} \\cdot K_{[REP3]} \\\\\n K_{[ACT1]} \\cdot K_{[ACT2]} \\cdot K_{[ACT4]} \\cdot K_{[REP1]} \\cdot K_{[REP3]} \\cdot K_{[RNA_{pol}]} \\\\\n K_{[ACT1]} \\cdot K_{[ACT2]} \\cdot K_{[ACT4]} \\cdot K_{[REP2]} \\cdot K_{[REP3]} \\\\\n K_{[ACT1]} \\cdot K_{[ACT2]} \\cdot K_{[ACT4]} \\cdot K_{[REP2]} \\cdot K_{[REP3]} \\cdot K_{[RNA_{pol}]} \\\\\n K_{[ACT1]} \\cdot K_{[ACT2]} \\cdot K_{[REP1]} \\cdot K_{[REP2]} \\cdot K_{[REP3]} \\\\\n K_{[ACT1]} \\cdot K_{[ACT2]} \\cdot K_{[REP1]} \\cdot K_{[REP2]} \\cdot K_{[REP3]} \\cdot K_{[RNA_{pol}]} \\\\\n K_{[ACT1]} \\cdot K_{[ACT3]} \\cdot K_{[ACT4]} \\cdot K_{[REP1]} \\cdot K_{[REP2]} \\\\\n K_{[ACT1]} \\cdot K_{[ACT3]} \\cdot K_{[ACT4]} \\cdot K_{[REP1]} \\cdot K_{[REP2]} \\cdot K_{[RNA_{pol}]} \\\\\n K_{[ACT1]} \\cdot K_{[ACT3]} \\cdot K_{[ACT4]} \\cdot K_{[REP1]} \\cdot K_{[REP3]} \\\\\n K_{[ACT1]} \\cdot K_{[ACT3]} \\cdot K_{[ACT4]} \\cdot K_{[REP1]} \\cdot K_{[REP3]} \\cdot K_{[RNA_{pol}]} \\\\\n K_{[ACT1]} \\cdot K_{[ACT3]} \\cdot K_{[ACT4]} \\cdot K_{[REP2]} \\cdot K_{[REP3]} \\\\\n K_{[ACT1]} \\cdot K_{[ACT3]} \\cdot K_{[ACT4]} \\cdot K_{[REP2]} \\cdot K_{[REP3]} \\cdot K_{[RNA_{pol}]} \\\\\n K_{[ACT1]} \\cdot K_{[ACT3]} \\cdot K_{[REP1]} \\cdot K_{[REP2]} \\cdot K_{[REP3]} \\\\\n K_{[ACT1]} \\cdot K_{[ACT3]} \\cdot K_{[REP1]} \\cdot K_{[REP2]} \\cdot K_{[REP3]} \\cdot K_{[RNA_{pol}]} \\\\\n K_{[ACT1]} \\cdot K_{[ACT4]} \\cdot K_{[REP1]} \\cdot K_{[REP2]} \\cdot K_{[REP3]} \\\\\n K_{[ACT1]} \\cdot K_{[ACT4]} \\cdot K_{[REP1]} \\cdot K_{[REP2]} \\cdot K_{[REP3]} \\cdot K_{[RNA_{pol}]} \\\\\n K_{[ACT2]} \\cdot K_{[ACT3]} \\cdot K_{[ACT4]} \\cdot K_{[REP1]} \\cdot K_{[REP2]} \\\\\n K_{[ACT2]} \\cdot K_{[ACT3]} \\cdot K_{[ACT4]} \\cdot K_{[REP1]} \\cdot K_{[REP2]} \\cdot K_{[RNA_{pol}]} \\\\\n K_{[ACT2]} \\cdot K_{[ACT3]} \\cdot K_{[ACT4]} \\cdot K_{[REP1]} \\cdot K_{[REP3]} \\\\\n K_{[ACT2]} \\cdot K_{[ACT3]} \\cdot K_{[ACT4]} \\cdot K_{[REP1]} \\cdot K_{[REP3]} \\cdot K_{[RNA_{pol}]} \\\\\n K_{[ACT2]} \\cdot K_{[ACT3]} \\cdot K_{[ACT4]} \\cdot K_{[REP2]} \\cdot K_{[REP3]} \\\\\n K_{[ACT2]} \\cdot K_{[ACT3]} \\cdot K_{[ACT4]} \\cdot K_{[REP2]} \\cdot K_{[REP3]} \\cdot K_{[RNA_{pol}]} \\\\\n K_{[ACT2]} \\cdot K_{[ACT3]} \\cdot K_{[REP1]} \\cdot K_{[REP2]} \\cdot K_{[REP3]} \\\\\n K_{[ACT2]} \\cdot K_{[ACT3]} \\cdot K_{[REP1]} \\cdot K_{[REP2]} \\cdot K_{[REP3]} \\cdot K_{[RNA_{pol}]} \\\\\n K_{[ACT2]} \\cdot K_{[ACT4]} \\cdot K_{[REP1]} \\cdot K_{[REP2]} \\cdot K_{[REP3]} \\\\\n K_{[ACT2]} \\cdot K_{[ACT4]} \\cdot K_{[REP1]} \\cdot K_{[REP2]} \\cdot K_{[REP3]} \\cdot K_{[RNA_{pol}]} \\\\\n K_{[ACT3]} \\cdot K_{[ACT4]} \\cdot K_{[REP1]} \\cdot K_{[REP2]} \\cdot K_{[REP3]} \\\\\n K_{[ACT3]} \\cdot K_{[ACT4]} \\cdot K_{[REP1]} \\cdot K_{[REP2]} \\cdot K_{[REP3]} \\cdot K_{[RNA_{pol}]} \\\\\n K_{[ACT1]} \\cdot K_{[ACT2]} \\cdot K_{[ACT3]} \\cdot K_{[ACT4]} \\cdot K_{[REP1]} \\cdot K_{[REP2]} \\\\\n K_{[ACT1]} \\cdot K_{[ACT2]} \\cdot K_{[ACT3]} \\cdot K_{[ACT4]} \\cdot K_{[REP1]} \\cdot K_{[REP2]} \\cdot K_{[RNA_{pol}]} \\\\\n K_{[ACT1]} \\cdot K_{[ACT2]} \\cdot K_{[ACT3]} \\cdot K_{[ACT4]} \\cdot K_{[REP1]} \\cdot K_{[REP3]} \\\\\n K_{[ACT1]} \\cdot K_{[ACT2]} \\cdot K_{[ACT3]} \\cdot K_{[ACT4]} \\cdot K_{[REP1]} \\cdot K_{[REP3]} \\cdot K_{[RNA_{pol}]} \\\\\n K_{[ACT1]} \\cdot K_{[ACT2]} \\cdot K_{[ACT3]} \\cdot K_{[ACT4]} \\cdot K_{[REP2]} \\cdot K_{[REP3]} \\\\\n K_{[ACT1]} \\cdot K_{[ACT2]} \\cdot K_{[ACT3]} \\cdot K_{[ACT4]} \\cdot K_{[REP2]} \\cdot K_{[REP3]} \\cdot K_{[RNA_{pol}]} \\\\\n K_{[ACT1]} \\cdot K_{[ACT2]} \\cdot K_{[ACT3]} \\cdot K_{[REP1]} \\cdot K_{[REP2]} \\cdot K_{[REP3]} \\\\\n K_{[ACT1]} \\cdot K_{[ACT2]} \\cdot K_{[ACT3]} \\cdot K_{[REP1]} \\cdot K_{[REP2]} \\cdot K_{[REP3]} \\cdot K_{[RNA_{pol}]} \\\\\n K_{[ACT1]} \\cdot K_{[ACT2]} \\cdot K_{[ACT4]} \\cdot K_{[REP1]} \\cdot K_{[REP2]} \\cdot K_{[REP3]} \\\\\n K_{[ACT1]} \\cdot K_{[ACT2]} \\cdot K_{[ACT4]} \\cdot K_{[REP1]} \\cdot K_{[REP2]} \\cdot K_{[REP3]} \\cdot K_{[RNA_{pol}]} \\\\\n K_{[ACT1]} \\cdot K_{[ACT3]} \\cdot K_{[ACT4]} \\cdot K_{[REP1]} \\cdot K_{[REP2]} \\cdot K_{[REP3]} \\\\\n K_{[ACT1]} \\cdot K_{[ACT3]} \\cdot K_{[ACT4]} \\cdot K_{[REP1]} \\cdot K_{[REP2]} \\cdot K_{[REP3]} \\cdot K_{[RNA_{pol}]} \\\\\n K_{[ACT2]} \\cdot K_{[ACT3]} \\cdot K_{[ACT4]} \\cdot K_{[REP1]} \\cdot K_{[REP2]} \\cdot K_{[REP3]} \\\\\n K_{[ACT2]} \\cdot K_{[ACT3]} \\cdot K_{[ACT4]} \\cdot K_{[REP1]} \\cdot K_{[REP2]} \\cdot K_{[REP3]} \\cdot K_{[RNA_{pol}]} \\\\\n K_{[ACT1]} \\cdot K_{[ACT2]} \\cdot K_{[ACT3]} \\cdot K_{[ACT4]} \\cdot K_{[REP1]} \\cdot K_{[REP2]} \\cdot K_{[REP3]} \\\\\n K_{[ACT1]} \\cdot K_{[ACT2]} \\cdot K_{[ACT3]} \\cdot K_{[ACT4]} \\cdot K_{[REP1]} \\cdot K_{[REP2]} \\cdot K_{[REP3]} \\cdot K_{[RNA_{pol}]} \\\\\n\\end{pmatrix}$",
            "text/plain": [
              "<IPython.core.display.Math object>"
            ]
          },
          "metadata": {
            "tags": []
          }
        },
        {
          "output_type": "stream",
          "text": [
            "\n",
            "\n",
            "\n",
            "\n"
          ],
          "name": "stdout"
        },
        {
          "output_type": "display_data",
          "data": {
            "text/latex": "$\\displaystyle T \\hspace{0.1cm} matrix$ = $\\begin{pmatrix}\n 0 \\\\\n 0 \\\\\n 0 \\\\\n 0 \\\\\n 0 \\\\\n 0 \\\\\n 0 \\\\\n 0 \\\\\n 0 \\\\\n 0 \\\\\n 0 \\\\\n 0 \\\\\n 0 \\\\\n 0 \\\\\n 0 \\\\\n 0 \\\\\n 0 \\\\\n 0 \\\\\n 0 \\\\\n 0 \\\\\n 0 \\\\\n 0 \\\\\n 0 \\\\\n 0 \\\\\n 0 \\\\\n 0 \\\\\n 0 \\\\\n 0 \\\\\n 0 \\\\\n 0 \\\\\n 0 \\\\\n 0 \\\\\n 0 \\\\\n 0 \\\\\n 0 \\\\\n 0 \\\\\n 0 \\\\\n 0 \\\\\n 0 \\\\\n 0 \\\\\n 0 \\\\\n 0 \\\\\n 0 \\\\\n 0 \\\\\n 0 \\\\\n 0 \\\\\n 0 \\\\\n 0 \\\\\n 0 \\\\\n 0 \\\\\n 0 \\\\\n 0 \\\\\n 0 \\\\\n 0 \\\\\n 0 \\\\\n 0 \\\\\n 0 \\\\\n 0 \\\\\n 0 \\\\\n 0 \\\\\n 0 \\\\\n 0 \\\\\n 0 \\\\\n 0 \\\\\n 0 \\\\\n 0 \\\\\n 0 \\\\\n 0 \\\\\n 0 \\\\\n 0 \\\\\n 0 \\\\\n 0 \\\\\n 0 \\\\\n 0 \\\\\n 0 \\\\\n 0 \\\\\n 0 \\\\\n 0 \\\\\n 0 \\\\\n 0 \\\\\n 0 \\\\\n 0 \\\\\n 0 \\\\\n 0 \\\\\n 0 \\\\\n 0 \\\\\n 0 \\\\\n 0 \\\\\n 0 \\\\\n 0 \\\\\n 0 \\\\\n 0 \\\\\n 0 \\\\\n 0 \\\\\n 0 \\\\\n 0 \\\\\n 0 \\\\\n 0 \\\\\n 0 \\\\\n 0 \\\\\n 0 \\\\\n 0 \\\\\n 0 \\\\\n 0 \\\\\n 0 \\\\\n 0 \\\\\n 0 \\\\\n 0 \\\\\n 0 \\\\\n 0 \\\\\n 0 \\\\\n 0 \\\\\n 0 \\\\\n 0 \\\\\n 0 \\\\\n 0 \\\\\n 0 \\\\\n 0 \\\\\n 0 \\\\\n 0 \\\\\n 0 \\\\\n 0 \\\\\n 0 \\\\\n 0 \\\\\n 0 \\\\\n 0 \\\\\n 0 \\\\\n 0 \\\\\n 0 \\\\\n 0 \\\\\n 0 \\\\\n 0 \\\\\n 0 \\\\\n 0 \\\\\n 0 \\\\\n 0 \\\\\n 0 \\\\\n 0 \\\\\n 0 \\\\\n 0 \\\\\n 0 \\\\\n 0 \\\\\n 0 \\\\\n 0 \\\\\n 0 \\\\\n 0 \\\\\n 0 \\\\\n 0 \\\\\n 0 \\\\\n 0 \\\\\n 0 \\\\\n 0 \\\\\n 0 \\\\\n 0 \\\\\n 0 \\\\\n 0 \\\\\n 0 \\\\\n 0 \\\\\n 0 \\\\\n 0 \\\\\n 0 \\\\\n 0 \\\\\n 0 \\\\\n 0 \\\\\n 0 \\\\\n 0 \\\\\n 0 \\\\\n 0 \\\\\n 0 \\\\\n 0 \\\\\n 0 \\\\\n 0 \\\\\n 0 \\\\\n 0 \\\\\n 0 \\\\\n 0 \\\\\n 0 \\\\\n 0 \\\\\n 0 \\\\\n 0 \\\\\n 0 \\\\\n 0 \\\\\n 0 \\\\\n 0 \\\\\n 0 \\\\\n 0 \\\\\n 0 \\\\\n 0 \\\\\n 0 \\\\\n 0 \\\\\n 0 \\\\\n 0 \\\\\n 0 \\\\\n 0 \\\\\n 0 \\\\\n 0 \\\\\n 0 \\\\\n 0 \\\\\n 0 \\\\\n 0 \\\\\n 0 \\\\\n 0 \\\\\n 0 \\\\\n 0 \\\\\n 0 \\\\\n 0 \\\\\n 0 \\\\\n 0 \\\\\n 0 \\\\\n 0 \\\\\n 0 \\\\\n 0 \\\\\n 0 \\\\\n 0 \\\\\n 0 \\\\\n 0 \\\\\n 0 \\\\\n 0 \\\\\n 0 \\\\\n 0 \\\\\n 0 \\\\\n 0 \\\\\n 0 \\\\\n 0 \\\\\n 0 \\\\\n 0 \\\\\n 0 \\\\\n 0 \\\\\n 0 \\\\\n 0 \\\\\n 0 \\\\\n 0 \\\\\n 0 \\\\\n 0 \\\\\n 0 \\\\\n 0 \\\\\n 0 \\\\\n 0 \\\\\n 0 \\\\\n 0 \\\\\n 0 \\\\\n 0 \\\\\n 0 \\\\\n 0 \\\\\n 0 \\\\\n 0 \\\\\n 0 \\\\\n 0 \\\\\n 0 \\\\\n 0 \\\\\n 0 \\\\\n 0 \\\\\n 0 \\\\\n 0 \\\\\n 0 \\\\\n 0 \\\\\n\\end{pmatrix}$",
            "text/plain": [
              "<IPython.core.display.Math object>"
            ]
          },
          "metadata": {
            "tags": []
          }
        },
        {
          "output_type": "stream",
          "text": [
            "\n",
            "\n",
            "\n",
            "\n"
          ],
          "name": "stdout"
        },
        {
          "output_type": "display_data",
          "data": {
            "text/latex": "$\\displaystyle \\phi_m = \\frac{}{1\\hspace{0.1cm}+\\hspace{0.1cm} K_{[RNA_{pol}]} \\cdot[RNA_{pol}]\\hspace{0.1cm}+\\hspace{0.1cm} K_{[ACT1]} \\cdot[ACT1]\\hspace{0.1cm}+\\hspace{0.1cm} K_{[ACT1]} \\cdot K_{[RNA_{pol}]} \\cdot[ACT1] \\cdot [RNA_{pol}]\\hspace{0.1cm}+\\hspace{0.1cm} K_{[ACT2]} \\cdot[ACT2]\\hspace{0.1cm}+\\hspace{0.1cm} K_{[ACT2]} \\cdot K_{[RNA_{pol}]} \\cdot[ACT2] \\cdot [RNA_{pol}]\\hspace{0.1cm}+\\hspace{0.1cm} K_{[ACT3]} \\cdot[ACT3]\\hspace{0.1cm}+\\hspace{0.1cm} K_{[ACT3]} \\cdot K_{[RNA_{pol}]} \\cdot[ACT3] \\cdot [RNA_{pol}]\\hspace{0.1cm}+\\hspace{0.1cm} K_{[ACT4]} \\cdot[ACT4]\\hspace{0.1cm}+\\hspace{0.1cm} K_{[ACT4]} \\cdot K_{[RNA_{pol}]} \\cdot[ACT4] \\cdot [RNA_{pol}]\\hspace{0.1cm}+\\hspace{0.1cm} K_{[REP1]} \\cdot[REP1]\\hspace{0.1cm}+\\hspace{0.1cm} K_{[REP1]} \\cdot K_{[RNA_{pol}]} \\cdot[REP1] \\cdot [RNA_{pol}]\\hspace{0.1cm}+\\hspace{0.1cm} K_{[REP2]} \\cdot[REP2]\\hspace{0.1cm}+\\hspace{0.1cm} K_{[REP2]} \\cdot K_{[RNA_{pol}]} \\cdot[REP2] \\cdot [RNA_{pol}]\\hspace{0.1cm}+\\hspace{0.1cm} K_{[REP3]} \\cdot[REP3]\\hspace{0.1cm}+\\hspace{0.1cm} K_{[REP3]} \\cdot K_{[RNA_{pol}]} \\cdot[REP3] \\cdot [RNA_{pol}]\\hspace{0.1cm}+\\hspace{0.1cm} K_{[ACT1]} \\cdot K_{[ACT2]} \\cdot[ACT1] \\cdot [ACT2]\\hspace{0.1cm}+\\hspace{0.1cm} K_{[ACT1]} \\cdot K_{[ACT2]} \\cdot K_{[RNA_{pol}]} \\cdot[ACT1] \\cdot [ACT2] \\cdot [RNA_{pol}]\\hspace{0.1cm}+\\hspace{0.1cm} K_{[ACT1]} \\cdot K_{[ACT3]} \\cdot[ACT1] \\cdot [ACT3]\\hspace{0.1cm}+\\hspace{0.1cm} K_{[ACT1]} \\cdot K_{[ACT3]} \\cdot K_{[RNA_{pol}]} \\cdot[ACT1] \\cdot [ACT3] \\cdot [RNA_{pol}]\\hspace{0.1cm}+\\hspace{0.1cm} K_{[ACT1]} \\cdot K_{[ACT4]} \\cdot[ACT1] \\cdot [ACT4]\\hspace{0.1cm}+\\hspace{0.1cm} K_{[ACT1]} \\cdot K_{[ACT4]} \\cdot K_{[RNA_{pol}]} \\cdot[ACT1] \\cdot [ACT4] \\cdot [RNA_{pol}]\\hspace{0.1cm}+\\hspace{0.1cm} K_{[ACT1]} \\cdot K_{[REP1]} \\cdot[ACT1] \\cdot [REP1]\\hspace{0.1cm}+\\hspace{0.1cm} K_{[ACT1]} \\cdot K_{[REP1]} \\cdot K_{[RNA_{pol}]} \\cdot[ACT1] \\cdot [REP1] \\cdot [RNA_{pol}]\\hspace{0.1cm}+\\hspace{0.1cm} K_{[ACT1]} \\cdot K_{[REP2]} \\cdot[ACT1] \\cdot [REP2]\\hspace{0.1cm}+\\hspace{0.1cm} K_{[ACT1]} \\cdot K_{[REP2]} \\cdot K_{[RNA_{pol}]} \\cdot[ACT1] \\cdot [REP2] \\cdot [RNA_{pol}]\\hspace{0.1cm}+\\hspace{0.1cm} K_{[ACT1]} \\cdot K_{[REP3]} \\cdot[ACT1] \\cdot [REP3]\\hspace{0.1cm}+\\hspace{0.1cm} K_{[ACT1]} \\cdot K_{[REP3]} \\cdot K_{[RNA_{pol}]} \\cdot[ACT1] \\cdot [REP3] \\cdot [RNA_{pol}]\\hspace{0.1cm}+\\hspace{0.1cm} K_{[ACT2]} \\cdot K_{[ACT3]} \\cdot[ACT2] \\cdot [ACT3]\\hspace{0.1cm}+\\hspace{0.1cm} K_{[ACT2]} \\cdot K_{[ACT3]} \\cdot K_{[RNA_{pol}]} \\cdot[ACT2] \\cdot [ACT3] \\cdot [RNA_{pol}]\\hspace{0.1cm}+\\hspace{0.1cm} K_{[ACT2]} \\cdot K_{[ACT4]} \\cdot[ACT2] \\cdot [ACT4]\\hspace{0.1cm}+\\hspace{0.1cm} K_{[ACT2]} \\cdot K_{[ACT4]} \\cdot K_{[RNA_{pol}]} \\cdot[ACT2] \\cdot [ACT4] \\cdot [RNA_{pol}]\\hspace{0.1cm}+\\hspace{0.1cm} K_{[ACT2]} \\cdot K_{[REP1]} \\cdot[ACT2] \\cdot [REP1]\\hspace{0.1cm}+\\hspace{0.1cm} K_{[ACT2]} \\cdot K_{[REP1]} \\cdot K_{[RNA_{pol}]} \\cdot[ACT2] \\cdot [REP1] \\cdot [RNA_{pol}]\\hspace{0.1cm}+\\hspace{0.1cm} K_{[ACT2]} \\cdot K_{[REP2]} \\cdot[ACT2] \\cdot [REP2]\\hspace{0.1cm}+\\hspace{0.1cm} K_{[ACT2]} \\cdot K_{[REP2]} \\cdot K_{[RNA_{pol}]} \\cdot[ACT2] \\cdot [REP2] \\cdot [RNA_{pol}]\\hspace{0.1cm}+\\hspace{0.1cm} K_{[ACT2]} \\cdot K_{[REP3]} \\cdot[ACT2] \\cdot [REP3]\\hspace{0.1cm}+\\hspace{0.1cm} K_{[ACT2]} \\cdot K_{[REP3]} \\cdot K_{[RNA_{pol}]} \\cdot[ACT2] \\cdot [REP3] \\cdot [RNA_{pol}]\\hspace{0.1cm}+\\hspace{0.1cm} K_{[ACT3]} \\cdot K_{[ACT4]} \\cdot[ACT3] \\cdot [ACT4]\\hspace{0.1cm}+\\hspace{0.1cm} K_{[ACT3]} \\cdot K_{[ACT4]} \\cdot K_{[RNA_{pol}]} \\cdot[ACT3] \\cdot [ACT4] \\cdot [RNA_{pol}]\\hspace{0.1cm}+\\hspace{0.1cm} K_{[ACT3]} \\cdot K_{[REP1]} \\cdot[ACT3] \\cdot [REP1]\\hspace{0.1cm}+\\hspace{0.1cm} K_{[ACT3]} \\cdot K_{[REP1]} \\cdot K_{[RNA_{pol}]} \\cdot[ACT3] \\cdot [REP1] \\cdot [RNA_{pol}]\\hspace{0.1cm}+\\hspace{0.1cm} K_{[ACT3]} \\cdot K_{[REP2]} \\cdot[ACT3] \\cdot [REP2]\\hspace{0.1cm}+\\hspace{0.1cm} K_{[ACT3]} \\cdot K_{[REP2]} \\cdot K_{[RNA_{pol}]} \\cdot[ACT3] \\cdot [REP2] \\cdot [RNA_{pol}]\\hspace{0.1cm}+\\hspace{0.1cm} K_{[ACT3]} \\cdot K_{[REP3]} \\cdot[ACT3] \\cdot [REP3]\\hspace{0.1cm}+\\hspace{0.1cm} K_{[ACT3]} \\cdot K_{[REP3]} \\cdot K_{[RNA_{pol}]} \\cdot[ACT3] \\cdot [REP3] \\cdot [RNA_{pol}]\\hspace{0.1cm}+\\hspace{0.1cm} K_{[ACT4]} \\cdot K_{[REP1]} \\cdot[ACT4] \\cdot [REP1]\\hspace{0.1cm}+\\hspace{0.1cm} K_{[ACT4]} \\cdot K_{[REP1]} \\cdot K_{[RNA_{pol}]} \\cdot[ACT4] \\cdot [REP1] \\cdot [RNA_{pol}]\\hspace{0.1cm}+\\hspace{0.1cm} K_{[ACT4]} \\cdot K_{[REP2]} \\cdot[ACT4] \\cdot [REP2]\\hspace{0.1cm}+\\hspace{0.1cm} K_{[ACT4]} \\cdot K_{[REP2]} \\cdot K_{[RNA_{pol}]} \\cdot[ACT4] \\cdot [REP2] \\cdot [RNA_{pol}]\\hspace{0.1cm}+\\hspace{0.1cm} K_{[ACT4]} \\cdot K_{[REP3]} \\cdot[ACT4] \\cdot [REP3]\\hspace{0.1cm}+\\hspace{0.1cm} K_{[ACT4]} \\cdot K_{[REP3]} \\cdot K_{[RNA_{pol}]} \\cdot[ACT4] \\cdot [REP3] \\cdot [RNA_{pol}]\\hspace{0.1cm}+\\hspace{0.1cm} K_{[REP1]} \\cdot K_{[REP2]} \\cdot[REP1] \\cdot [REP2]\\hspace{0.1cm}+\\hspace{0.1cm} K_{[REP1]} \\cdot K_{[REP2]} \\cdot K_{[RNA_{pol}]} \\cdot[REP1] \\cdot [REP2] \\cdot [RNA_{pol}]\\hspace{0.1cm}+\\hspace{0.1cm} K_{[REP1]} \\cdot K_{[REP3]} \\cdot[REP1] \\cdot [REP3]\\hspace{0.1cm}+\\hspace{0.1cm} K_{[REP1]} \\cdot K_{[REP3]} \\cdot K_{[RNA_{pol}]} \\cdot[REP1] \\cdot [REP3] \\cdot [RNA_{pol}]\\hspace{0.1cm}+\\hspace{0.1cm} K_{[REP2]} \\cdot K_{[REP3]} \\cdot[REP2] \\cdot [REP3]\\hspace{0.1cm}+\\hspace{0.1cm} K_{[REP2]} \\cdot K_{[REP3]} \\cdot K_{[RNA_{pol}]} \\cdot[REP2] \\cdot [REP3] \\cdot [RNA_{pol}]\\hspace{0.1cm}+\\hspace{0.1cm} K_{[ACT1]} \\cdot K_{[ACT2]} \\cdot K_{[ACT3]} \\cdot[ACT1] \\cdot [ACT2] \\cdot [ACT3]\\hspace{0.1cm}+\\hspace{0.1cm} K_{[ACT1]} \\cdot K_{[ACT2]} \\cdot K_{[ACT3]} \\cdot K_{[RNA_{pol}]} \\cdot[ACT1] \\cdot [ACT2] \\cdot [ACT3] \\cdot [RNA_{pol}]\\hspace{0.1cm}+\\hspace{0.1cm} K_{[ACT1]} \\cdot K_{[ACT2]} \\cdot K_{[ACT4]} \\cdot[ACT1] \\cdot [ACT2] \\cdot [ACT4]\\hspace{0.1cm}+\\hspace{0.1cm} K_{[ACT1]} \\cdot K_{[ACT2]} \\cdot K_{[ACT4]} \\cdot K_{[RNA_{pol}]} \\cdot[ACT1] \\cdot [ACT2] \\cdot [ACT4] \\cdot [RNA_{pol}]\\hspace{0.1cm}+\\hspace{0.1cm} K_{[ACT1]} \\cdot K_{[ACT2]} \\cdot K_{[REP1]} \\cdot[ACT1] \\cdot [ACT2] \\cdot [REP1]\\hspace{0.1cm}+\\hspace{0.1cm} K_{[ACT1]} \\cdot K_{[ACT2]} \\cdot K_{[REP1]} \\cdot K_{[RNA_{pol}]} \\cdot[ACT1] \\cdot [ACT2] \\cdot [REP1] \\cdot [RNA_{pol}]\\hspace{0.1cm}+\\hspace{0.1cm} K_{[ACT1]} \\cdot K_{[ACT2]} \\cdot K_{[REP2]} \\cdot[ACT1] \\cdot [ACT2] \\cdot [REP2]\\hspace{0.1cm}+\\hspace{0.1cm} K_{[ACT1]} \\cdot K_{[ACT2]} \\cdot K_{[REP2]} \\cdot K_{[RNA_{pol}]} \\cdot[ACT1] \\cdot [ACT2] \\cdot [REP2] \\cdot [RNA_{pol}]\\hspace{0.1cm}+\\hspace{0.1cm} K_{[ACT1]} \\cdot K_{[ACT2]} \\cdot K_{[REP3]} \\cdot[ACT1] \\cdot [ACT2] \\cdot [REP3]\\hspace{0.1cm}+\\hspace{0.1cm} K_{[ACT1]} \\cdot K_{[ACT2]} \\cdot K_{[REP3]} \\cdot K_{[RNA_{pol}]} \\cdot[ACT1] \\cdot [ACT2] \\cdot [REP3] \\cdot [RNA_{pol}]\\hspace{0.1cm}+\\hspace{0.1cm} K_{[ACT1]} \\cdot K_{[ACT3]} \\cdot K_{[ACT4]} \\cdot[ACT1] \\cdot [ACT3] \\cdot [ACT4]\\hspace{0.1cm}+\\hspace{0.1cm} K_{[ACT1]} \\cdot K_{[ACT3]} \\cdot K_{[ACT4]} \\cdot K_{[RNA_{pol}]} \\cdot[ACT1] \\cdot [ACT3] \\cdot [ACT4] \\cdot [RNA_{pol}]\\hspace{0.1cm}+\\hspace{0.1cm} K_{[ACT1]} \\cdot K_{[ACT3]} \\cdot K_{[REP1]} \\cdot[ACT1] \\cdot [ACT3] \\cdot [REP1]\\hspace{0.1cm}+\\hspace{0.1cm} K_{[ACT1]} \\cdot K_{[ACT3]} \\cdot K_{[REP1]} \\cdot K_{[RNA_{pol}]} \\cdot[ACT1] \\cdot [ACT3] \\cdot [REP1] \\cdot [RNA_{pol}]\\hspace{0.1cm}+\\hspace{0.1cm} K_{[ACT1]} \\cdot K_{[ACT3]} \\cdot K_{[REP2]} \\cdot[ACT1] \\cdot [ACT3] \\cdot [REP2]\\hspace{0.1cm}+\\hspace{0.1cm} K_{[ACT1]} \\cdot K_{[ACT3]} \\cdot K_{[REP2]} \\cdot K_{[RNA_{pol}]} \\cdot[ACT1] \\cdot [ACT3] \\cdot [REP2] \\cdot [RNA_{pol}]\\hspace{0.1cm}+\\hspace{0.1cm} K_{[ACT1]} \\cdot K_{[ACT3]} \\cdot K_{[REP3]} \\cdot[ACT1] \\cdot [ACT3] \\cdot [REP3]\\hspace{0.1cm}+\\hspace{0.1cm} K_{[ACT1]} \\cdot K_{[ACT3]} \\cdot K_{[REP3]} \\cdot K_{[RNA_{pol}]} \\cdot[ACT1] \\cdot [ACT3] \\cdot [REP3] \\cdot [RNA_{pol}]\\hspace{0.1cm}+\\hspace{0.1cm} K_{[ACT1]} \\cdot K_{[ACT4]} \\cdot K_{[REP1]} \\cdot[ACT1] \\cdot [ACT4] \\cdot [REP1]\\hspace{0.1cm}+\\hspace{0.1cm} K_{[ACT1]} \\cdot K_{[ACT4]} \\cdot K_{[REP1]} \\cdot K_{[RNA_{pol}]} \\cdot[ACT1] \\cdot [ACT4] \\cdot [REP1] \\cdot [RNA_{pol}]\\hspace{0.1cm}+\\hspace{0.1cm} K_{[ACT1]} \\cdot K_{[ACT4]} \\cdot K_{[REP2]} \\cdot[ACT1] \\cdot [ACT4] \\cdot [REP2]\\hspace{0.1cm}+\\hspace{0.1cm} K_{[ACT1]} \\cdot K_{[ACT4]} \\cdot K_{[REP2]} \\cdot K_{[RNA_{pol}]} \\cdot[ACT1] \\cdot [ACT4] \\cdot [REP2] \\cdot [RNA_{pol}]\\hspace{0.1cm}+\\hspace{0.1cm} K_{[ACT1]} \\cdot K_{[ACT4]} \\cdot K_{[REP3]} \\cdot[ACT1] \\cdot [ACT4] \\cdot [REP3]\\hspace{0.1cm}+\\hspace{0.1cm} K_{[ACT1]} \\cdot K_{[ACT4]} \\cdot K_{[REP3]} \\cdot K_{[RNA_{pol}]} \\cdot[ACT1] \\cdot [ACT4] \\cdot [REP3] \\cdot [RNA_{pol}]\\hspace{0.1cm}+\\hspace{0.1cm} K_{[ACT1]} \\cdot K_{[REP1]} \\cdot K_{[REP2]} \\cdot[ACT1] \\cdot [REP1] \\cdot [REP2]\\hspace{0.1cm}+\\hspace{0.1cm} K_{[ACT1]} \\cdot K_{[REP1]} \\cdot K_{[REP2]} \\cdot K_{[RNA_{pol}]} \\cdot[ACT1] \\cdot [REP1] \\cdot [REP2] \\cdot [RNA_{pol}]\\hspace{0.1cm}+\\hspace{0.1cm} K_{[ACT1]} \\cdot K_{[REP1]} \\cdot K_{[REP3]} \\cdot[ACT1] \\cdot [REP1] \\cdot [REP3]\\hspace{0.1cm}+\\hspace{0.1cm} K_{[ACT1]} \\cdot K_{[REP1]} \\cdot K_{[REP3]} \\cdot K_{[RNA_{pol}]} \\cdot[ACT1] \\cdot [REP1] \\cdot [REP3] \\cdot [RNA_{pol}]\\hspace{0.1cm}+\\hspace{0.1cm} K_{[ACT1]} \\cdot K_{[REP2]} \\cdot K_{[REP3]} \\cdot[ACT1] \\cdot [REP2] \\cdot [REP3]\\hspace{0.1cm}+\\hspace{0.1cm} K_{[ACT1]} \\cdot K_{[REP2]} \\cdot K_{[REP3]} \\cdot K_{[RNA_{pol}]} \\cdot[ACT1] \\cdot [REP2] \\cdot [REP3] \\cdot [RNA_{pol}]\\hspace{0.1cm}+\\hspace{0.1cm} K_{[ACT2]} \\cdot K_{[ACT3]} \\cdot K_{[ACT4]} \\cdot[ACT2] \\cdot [ACT3] \\cdot [ACT4]\\hspace{0.1cm}+\\hspace{0.1cm} K_{[ACT2]} \\cdot K_{[ACT3]} \\cdot K_{[ACT4]} \\cdot K_{[RNA_{pol}]} \\cdot[ACT2] \\cdot [ACT3] \\cdot [ACT4] \\cdot [RNA_{pol}]\\hspace{0.1cm}+\\hspace{0.1cm} K_{[ACT2]} \\cdot K_{[ACT3]} \\cdot K_{[REP1]} \\cdot[ACT2] \\cdot [ACT3] \\cdot [REP1]\\hspace{0.1cm}+\\hspace{0.1cm} K_{[ACT2]} \\cdot K_{[ACT3]} \\cdot K_{[REP1]} \\cdot K_{[RNA_{pol}]} \\cdot[ACT2] \\cdot [ACT3] \\cdot [REP1] \\cdot [RNA_{pol}]\\hspace{0.1cm}+\\hspace{0.1cm} K_{[ACT2]} \\cdot K_{[ACT3]} \\cdot K_{[REP2]} \\cdot[ACT2] \\cdot [ACT3] \\cdot [REP2]\\hspace{0.1cm}+\\hspace{0.1cm} K_{[ACT2]} \\cdot K_{[ACT3]} \\cdot K_{[REP2]} \\cdot K_{[RNA_{pol}]} \\cdot[ACT2] \\cdot [ACT3] \\cdot [REP2] \\cdot [RNA_{pol}]\\hspace{0.1cm}+\\hspace{0.1cm} K_{[ACT2]} \\cdot K_{[ACT3]} \\cdot K_{[REP3]} \\cdot[ACT2] \\cdot [ACT3] \\cdot [REP3]\\hspace{0.1cm}+\\hspace{0.1cm} K_{[ACT2]} \\cdot K_{[ACT3]} \\cdot K_{[REP3]} \\cdot K_{[RNA_{pol}]} \\cdot[ACT2] \\cdot [ACT3] \\cdot [REP3] \\cdot [RNA_{pol}]\\hspace{0.1cm}+\\hspace{0.1cm} K_{[ACT2]} \\cdot K_{[ACT4]} \\cdot K_{[REP1]} \\cdot[ACT2] \\cdot [ACT4] \\cdot [REP1]\\hspace{0.1cm}+\\hspace{0.1cm} K_{[ACT2]} \\cdot K_{[ACT4]} \\cdot K_{[REP1]} \\cdot K_{[RNA_{pol}]} \\cdot[ACT2] \\cdot [ACT4] \\cdot [REP1] \\cdot [RNA_{pol}]\\hspace{0.1cm}+\\hspace{0.1cm} K_{[ACT2]} \\cdot K_{[ACT4]} \\cdot K_{[REP2]} \\cdot[ACT2] \\cdot [ACT4] \\cdot [REP2]\\hspace{0.1cm}+\\hspace{0.1cm} K_{[ACT2]} \\cdot K_{[ACT4]} \\cdot K_{[REP2]} \\cdot K_{[RNA_{pol}]} \\cdot[ACT2] \\cdot [ACT4] \\cdot [REP2] \\cdot [RNA_{pol}]\\hspace{0.1cm}+\\hspace{0.1cm} K_{[ACT2]} \\cdot K_{[ACT4]} \\cdot K_{[REP3]} \\cdot[ACT2] \\cdot [ACT4] \\cdot [REP3]\\hspace{0.1cm}+\\hspace{0.1cm} K_{[ACT2]} \\cdot K_{[ACT4]} \\cdot K_{[REP3]} \\cdot K_{[RNA_{pol}]} \\cdot[ACT2] \\cdot [ACT4] \\cdot [REP3] \\cdot [RNA_{pol}]\\hspace{0.1cm}+\\hspace{0.1cm} K_{[ACT2]} \\cdot K_{[REP1]} \\cdot K_{[REP2]} \\cdot[ACT2] \\cdot [REP1] \\cdot [REP2]\\hspace{0.1cm}+\\hspace{0.1cm} K_{[ACT2]} \\cdot K_{[REP1]} \\cdot K_{[REP2]} \\cdot K_{[RNA_{pol}]} \\cdot[ACT2] \\cdot [REP1] \\cdot [REP2] \\cdot [RNA_{pol}]\\hspace{0.1cm}+\\hspace{0.1cm} K_{[ACT2]} \\cdot K_{[REP1]} \\cdot K_{[REP3]} \\cdot[ACT2] \\cdot [REP1] \\cdot [REP3]\\hspace{0.1cm}+\\hspace{0.1cm} K_{[ACT2]} \\cdot K_{[REP1]} \\cdot K_{[REP3]} \\cdot K_{[RNA_{pol}]} \\cdot[ACT2] \\cdot [REP1] \\cdot [REP3] \\cdot [RNA_{pol}]\\hspace{0.1cm}+\\hspace{0.1cm} K_{[ACT2]} \\cdot K_{[REP2]} \\cdot K_{[REP3]} \\cdot[ACT2] \\cdot [REP2] \\cdot [REP3]\\hspace{0.1cm}+\\hspace{0.1cm} K_{[ACT2]} \\cdot K_{[REP2]} \\cdot K_{[REP3]} \\cdot K_{[RNA_{pol}]} \\cdot[ACT2] \\cdot [REP2] \\cdot [REP3] \\cdot [RNA_{pol}]\\hspace{0.1cm}+\\hspace{0.1cm} K_{[ACT3]} \\cdot K_{[ACT4]} \\cdot K_{[REP1]} \\cdot[ACT3] \\cdot [ACT4] \\cdot [REP1]\\hspace{0.1cm}+\\hspace{0.1cm} K_{[ACT3]} \\cdot K_{[ACT4]} \\cdot K_{[REP1]} \\cdot K_{[RNA_{pol}]} \\cdot[ACT3] \\cdot [ACT4] \\cdot [REP1] \\cdot [RNA_{pol}]\\hspace{0.1cm}+\\hspace{0.1cm} K_{[ACT3]} \\cdot K_{[ACT4]} \\cdot K_{[REP2]} \\cdot[ACT3] \\cdot [ACT4] \\cdot [REP2]\\hspace{0.1cm}+\\hspace{0.1cm} K_{[ACT3]} \\cdot K_{[ACT4]} \\cdot K_{[REP2]} \\cdot K_{[RNA_{pol}]} \\cdot[ACT3] \\cdot [ACT4] \\cdot [REP2] \\cdot [RNA_{pol}]\\hspace{0.1cm}+\\hspace{0.1cm} K_{[ACT3]} \\cdot K_{[ACT4]} \\cdot K_{[REP3]} \\cdot[ACT3] \\cdot [ACT4] \\cdot [REP3]\\hspace{0.1cm}+\\hspace{0.1cm} K_{[ACT3]} \\cdot K_{[ACT4]} \\cdot K_{[REP3]} \\cdot K_{[RNA_{pol}]} \\cdot[ACT3] \\cdot [ACT4] \\cdot [REP3] \\cdot [RNA_{pol}]\\hspace{0.1cm}+\\hspace{0.1cm} K_{[ACT3]} \\cdot K_{[REP1]} \\cdot K_{[REP2]} \\cdot[ACT3] \\cdot [REP1] \\cdot [REP2]\\hspace{0.1cm}+\\hspace{0.1cm} K_{[ACT3]} \\cdot K_{[REP1]} \\cdot K_{[REP2]} \\cdot K_{[RNA_{pol}]} \\cdot[ACT3] \\cdot [REP1] \\cdot [REP2] \\cdot [RNA_{pol}]\\hspace{0.1cm}+\\hspace{0.1cm} K_{[ACT3]} \\cdot K_{[REP1]} \\cdot K_{[REP3]} \\cdot[ACT3] \\cdot [REP1] \\cdot [REP3]\\hspace{0.1cm}+\\hspace{0.1cm} K_{[ACT3]} \\cdot K_{[REP1]} \\cdot K_{[REP3]} \\cdot K_{[RNA_{pol}]} \\cdot[ACT3] \\cdot [REP1] \\cdot [REP3] \\cdot [RNA_{pol}]\\hspace{0.1cm}+\\hspace{0.1cm} K_{[ACT3]} \\cdot K_{[REP2]} \\cdot K_{[REP3]} \\cdot[ACT3] \\cdot [REP2] \\cdot [REP3]\\hspace{0.1cm}+\\hspace{0.1cm} K_{[ACT3]} \\cdot K_{[REP2]} \\cdot K_{[REP3]} \\cdot K_{[RNA_{pol}]} \\cdot[ACT3] \\cdot [REP2] \\cdot [REP3] \\cdot [RNA_{pol}]\\hspace{0.1cm}+\\hspace{0.1cm} K_{[ACT4]} \\cdot K_{[REP1]} \\cdot K_{[REP2]} \\cdot[ACT4] \\cdot [REP1] \\cdot [REP2]\\hspace{0.1cm}+\\hspace{0.1cm} K_{[ACT4]} \\cdot K_{[REP1]} \\cdot K_{[REP2]} \\cdot K_{[RNA_{pol}]} \\cdot[ACT4] \\cdot [REP1] \\cdot [REP2] \\cdot [RNA_{pol}]\\hspace{0.1cm}+\\hspace{0.1cm} K_{[ACT4]} \\cdot K_{[REP1]} \\cdot K_{[REP3]} \\cdot[ACT4] \\cdot [REP1] \\cdot [REP3]\\hspace{0.1cm}+\\hspace{0.1cm} K_{[ACT4]} \\cdot K_{[REP1]} \\cdot K_{[REP3]} \\cdot K_{[RNA_{pol}]} \\cdot[ACT4] \\cdot [REP1] \\cdot [REP3] \\cdot [RNA_{pol}]\\hspace{0.1cm}+\\hspace{0.1cm} K_{[ACT4]} \\cdot K_{[REP2]} \\cdot K_{[REP3]} \\cdot[ACT4] \\cdot [REP2] \\cdot [REP3]\\hspace{0.1cm}+\\hspace{0.1cm} K_{[ACT4]} \\cdot K_{[REP2]} \\cdot K_{[REP3]} \\cdot K_{[RNA_{pol}]} \\cdot[ACT4] \\cdot [REP2] \\cdot [REP3] \\cdot [RNA_{pol}]\\hspace{0.1cm}+\\hspace{0.1cm} K_{[REP1]} \\cdot K_{[REP2]} \\cdot K_{[REP3]} \\cdot[REP1] \\cdot [REP2] \\cdot [REP3]\\hspace{0.1cm}+\\hspace{0.1cm} K_{[REP1]} \\cdot K_{[REP2]} \\cdot K_{[REP3]} \\cdot K_{[RNA_{pol}]} \\cdot[REP1] \\cdot [REP2] \\cdot [REP3] \\cdot [RNA_{pol}]\\hspace{0.1cm}+\\hspace{0.1cm} K_{[ACT1]} \\cdot K_{[ACT2]} \\cdot K_{[ACT3]} \\cdot K_{[ACT4]} \\cdot[ACT1] \\cdot [ACT2] \\cdot [ACT3] \\cdot [ACT4]\\hspace{0.1cm}+\\hspace{0.1cm} K_{[ACT1]} \\cdot K_{[ACT2]} \\cdot K_{[ACT3]} \\cdot K_{[ACT4]} \\cdot K_{[RNA_{pol}]} \\cdot[ACT1] \\cdot [ACT2] \\cdot [ACT3] \\cdot [ACT4] \\cdot [RNA_{pol}]\\hspace{0.1cm}+\\hspace{0.1cm} K_{[ACT1]} \\cdot K_{[ACT2]} \\cdot K_{[ACT3]} \\cdot K_{[REP1]} \\cdot[ACT1] \\cdot [ACT2] \\cdot [ACT3] \\cdot [REP1]\\hspace{0.1cm}+\\hspace{0.1cm} K_{[ACT1]} \\cdot K_{[ACT2]} \\cdot K_{[ACT3]} \\cdot K_{[REP1]} \\cdot K_{[RNA_{pol}]} \\cdot[ACT1] \\cdot [ACT2] \\cdot [ACT3] \\cdot [REP1] \\cdot [RNA_{pol}]\\hspace{0.1cm}+\\hspace{0.1cm} K_{[ACT1]} \\cdot K_{[ACT2]} \\cdot K_{[ACT3]} \\cdot K_{[REP2]} \\cdot[ACT1] \\cdot [ACT2] \\cdot [ACT3] \\cdot [REP2]\\hspace{0.1cm}+\\hspace{0.1cm} K_{[ACT1]} \\cdot K_{[ACT2]} \\cdot K_{[ACT3]} \\cdot K_{[REP2]} \\cdot K_{[RNA_{pol}]} \\cdot[ACT1] \\cdot [ACT2] \\cdot [ACT3] \\cdot [REP2] \\cdot [RNA_{pol}]\\hspace{0.1cm}+\\hspace{0.1cm} K_{[ACT1]} \\cdot K_{[ACT2]} \\cdot K_{[ACT3]} \\cdot K_{[REP3]} \\cdot[ACT1] \\cdot [ACT2] \\cdot [ACT3] \\cdot [REP3]\\hspace{0.1cm}+\\hspace{0.1cm} K_{[ACT1]} \\cdot K_{[ACT2]} \\cdot K_{[ACT3]} \\cdot K_{[REP3]} \\cdot K_{[RNA_{pol}]} \\cdot[ACT1] \\cdot [ACT2] \\cdot [ACT3] \\cdot [REP3] \\cdot [RNA_{pol}]\\hspace{0.1cm}+\\hspace{0.1cm} K_{[ACT1]} \\cdot K_{[ACT2]} \\cdot K_{[ACT4]} \\cdot K_{[REP1]} \\cdot[ACT1] \\cdot [ACT2] \\cdot [ACT4] \\cdot [REP1]\\hspace{0.1cm}+\\hspace{0.1cm} K_{[ACT1]} \\cdot K_{[ACT2]} \\cdot K_{[ACT4]} \\cdot K_{[REP1]} \\cdot K_{[RNA_{pol}]} \\cdot[ACT1] \\cdot [ACT2] \\cdot [ACT4] \\cdot [REP1] \\cdot [RNA_{pol}]\\hspace{0.1cm}+\\hspace{0.1cm} K_{[ACT1]} \\cdot K_{[ACT2]} \\cdot K_{[ACT4]} \\cdot K_{[REP2]} \\cdot[ACT1] \\cdot [ACT2] \\cdot [ACT4] \\cdot [REP2]\\hspace{0.1cm}+\\hspace{0.1cm} K_{[ACT1]} \\cdot K_{[ACT2]} \\cdot K_{[ACT4]} \\cdot K_{[REP2]} \\cdot K_{[RNA_{pol}]} \\cdot[ACT1] \\cdot [ACT2] \\cdot [ACT4] \\cdot [REP2] \\cdot [RNA_{pol}]\\hspace{0.1cm}+\\hspace{0.1cm} K_{[ACT1]} \\cdot K_{[ACT2]} \\cdot K_{[ACT4]} \\cdot K_{[REP3]} \\cdot[ACT1] \\cdot [ACT2] \\cdot [ACT4] \\cdot [REP3]\\hspace{0.1cm}+\\hspace{0.1cm} K_{[ACT1]} \\cdot K_{[ACT2]} \\cdot K_{[ACT4]} \\cdot K_{[REP3]} \\cdot K_{[RNA_{pol}]} \\cdot[ACT1] \\cdot [ACT2] \\cdot [ACT4] \\cdot [REP3] \\cdot [RNA_{pol}]\\hspace{0.1cm}+\\hspace{0.1cm} K_{[ACT1]} \\cdot K_{[ACT2]} \\cdot K_{[REP1]} \\cdot K_{[REP2]} \\cdot[ACT1] \\cdot [ACT2] \\cdot [REP1] \\cdot [REP2]\\hspace{0.1cm}+\\hspace{0.1cm} K_{[ACT1]} \\cdot K_{[ACT2]} \\cdot K_{[REP1]} \\cdot K_{[REP2]} \\cdot K_{[RNA_{pol}]} \\cdot[ACT1] \\cdot [ACT2] \\cdot [REP1] \\cdot [REP2] \\cdot [RNA_{pol}]\\hspace{0.1cm}+\\hspace{0.1cm} K_{[ACT1]} \\cdot K_{[ACT2]} \\cdot K_{[REP1]} \\cdot K_{[REP3]} \\cdot[ACT1] \\cdot [ACT2] \\cdot [REP1] \\cdot [REP3]\\hspace{0.1cm}+\\hspace{0.1cm} K_{[ACT1]} \\cdot K_{[ACT2]} \\cdot K_{[REP1]} \\cdot K_{[REP3]} \\cdot K_{[RNA_{pol}]} \\cdot[ACT1] \\cdot [ACT2] \\cdot [REP1] \\cdot [REP3] \\cdot [RNA_{pol}]\\hspace{0.1cm}+\\hspace{0.1cm} K_{[ACT1]} \\cdot K_{[ACT2]} \\cdot K_{[REP2]} \\cdot K_{[REP3]} \\cdot[ACT1] \\cdot [ACT2] \\cdot [REP2] \\cdot [REP3]\\hspace{0.1cm}+\\hspace{0.1cm} K_{[ACT1]} \\cdot K_{[ACT2]} \\cdot K_{[REP2]} \\cdot K_{[REP3]} \\cdot K_{[RNA_{pol}]} \\cdot[ACT1] \\cdot [ACT2] \\cdot [REP2] \\cdot [REP3] \\cdot [RNA_{pol}]\\hspace{0.1cm}+\\hspace{0.1cm} K_{[ACT1]} \\cdot K_{[ACT3]} \\cdot K_{[ACT4]} \\cdot K_{[REP1]} \\cdot[ACT1] \\cdot [ACT3] \\cdot [ACT4] \\cdot [REP1]\\hspace{0.1cm}+\\hspace{0.1cm} K_{[ACT1]} \\cdot K_{[ACT3]} \\cdot K_{[ACT4]} \\cdot K_{[REP1]} \\cdot K_{[RNA_{pol}]} \\cdot[ACT1] \\cdot [ACT3] \\cdot [ACT4] \\cdot [REP1] \\cdot [RNA_{pol}]\\hspace{0.1cm}+\\hspace{0.1cm} K_{[ACT1]} \\cdot K_{[ACT3]} \\cdot K_{[ACT4]} \\cdot K_{[REP2]} \\cdot[ACT1] \\cdot [ACT3] \\cdot [ACT4] \\cdot [REP2]\\hspace{0.1cm}+\\hspace{0.1cm} K_{[ACT1]} \\cdot K_{[ACT3]} \\cdot K_{[ACT4]} \\cdot K_{[REP2]} \\cdot K_{[RNA_{pol}]} \\cdot[ACT1] \\cdot [ACT3] \\cdot [ACT4] \\cdot [REP2] \\cdot [RNA_{pol}]\\hspace{0.1cm}+\\hspace{0.1cm} K_{[ACT1]} \\cdot K_{[ACT3]} \\cdot K_{[ACT4]} \\cdot K_{[REP3]} \\cdot[ACT1] \\cdot [ACT3] \\cdot [ACT4] \\cdot [REP3]\\hspace{0.1cm}+\\hspace{0.1cm} K_{[ACT1]} \\cdot K_{[ACT3]} \\cdot K_{[ACT4]} \\cdot K_{[REP3]} \\cdot K_{[RNA_{pol}]} \\cdot[ACT1] \\cdot [ACT3] \\cdot [ACT4] \\cdot [REP3] \\cdot [RNA_{pol}]\\hspace{0.1cm}+\\hspace{0.1cm} K_{[ACT1]} \\cdot K_{[ACT3]} \\cdot K_{[REP1]} \\cdot K_{[REP2]} \\cdot[ACT1] \\cdot [ACT3] \\cdot [REP1] \\cdot [REP2]\\hspace{0.1cm}+\\hspace{0.1cm} K_{[ACT1]} \\cdot K_{[ACT3]} \\cdot K_{[REP1]} \\cdot K_{[REP2]} \\cdot K_{[RNA_{pol}]} \\cdot[ACT1] \\cdot [ACT3] \\cdot [REP1] \\cdot [REP2] \\cdot [RNA_{pol}]\\hspace{0.1cm}+\\hspace{0.1cm} K_{[ACT1]} \\cdot K_{[ACT3]} \\cdot K_{[REP1]} \\cdot K_{[REP3]} \\cdot[ACT1] \\cdot [ACT3] \\cdot [REP1] \\cdot [REP3]\\hspace{0.1cm}+\\hspace{0.1cm} K_{[ACT1]} \\cdot K_{[ACT3]} \\cdot K_{[REP1]} \\cdot K_{[REP3]} \\cdot K_{[RNA_{pol}]} \\cdot[ACT1] \\cdot [ACT3] \\cdot [REP1] \\cdot [REP3] \\cdot [RNA_{pol}]\\hspace{0.1cm}+\\hspace{0.1cm} K_{[ACT1]} \\cdot K_{[ACT3]} \\cdot K_{[REP2]} \\cdot K_{[REP3]} \\cdot[ACT1] \\cdot [ACT3] \\cdot [REP2] \\cdot [REP3]\\hspace{0.1cm}+\\hspace{0.1cm} K_{[ACT1]} \\cdot K_{[ACT3]} \\cdot K_{[REP2]} \\cdot K_{[REP3]} \\cdot K_{[RNA_{pol}]} \\cdot[ACT1] \\cdot [ACT3] \\cdot [REP2] \\cdot [REP3] \\cdot [RNA_{pol}]\\hspace{0.1cm}+\\hspace{0.1cm} K_{[ACT1]} \\cdot K_{[ACT4]} \\cdot K_{[REP1]} \\cdot K_{[REP2]} \\cdot[ACT1] \\cdot [ACT4] \\cdot [REP1] \\cdot [REP2]\\hspace{0.1cm}+\\hspace{0.1cm} K_{[ACT1]} \\cdot K_{[ACT4]} \\cdot K_{[REP1]} \\cdot K_{[REP2]} \\cdot K_{[RNA_{pol}]} \\cdot[ACT1] \\cdot [ACT4] \\cdot [REP1] \\cdot [REP2] \\cdot [RNA_{pol}]\\hspace{0.1cm}+\\hspace{0.1cm} K_{[ACT1]} \\cdot K_{[ACT4]} \\cdot K_{[REP1]} \\cdot K_{[REP3]} \\cdot[ACT1] \\cdot [ACT4] \\cdot [REP1] \\cdot [REP3]\\hspace{0.1cm}+\\hspace{0.1cm} K_{[ACT1]} \\cdot K_{[ACT4]} \\cdot K_{[REP1]} \\cdot K_{[REP3]} \\cdot K_{[RNA_{pol}]} \\cdot[ACT1] \\cdot [ACT4] \\cdot [REP1] \\cdot [REP3] \\cdot [RNA_{pol}]\\hspace{0.1cm}+\\hspace{0.1cm} K_{[ACT1]} \\cdot K_{[ACT4]} \\cdot K_{[REP2]} \\cdot K_{[REP3]} \\cdot[ACT1] \\cdot [ACT4] \\cdot [REP2] \\cdot [REP3]\\hspace{0.1cm}+\\hspace{0.1cm} K_{[ACT1]} \\cdot K_{[ACT4]} \\cdot K_{[REP2]} \\cdot K_{[REP3]} \\cdot K_{[RNA_{pol}]} \\cdot[ACT1] \\cdot [ACT4] \\cdot [REP2] \\cdot [REP3] \\cdot [RNA_{pol}]\\hspace{0.1cm}+\\hspace{0.1cm} K_{[ACT1]} \\cdot K_{[REP1]} \\cdot K_{[REP2]} \\cdot K_{[REP3]} \\cdot[ACT1] \\cdot [REP1] \\cdot [REP2] \\cdot [REP3]\\hspace{0.1cm}+\\hspace{0.1cm} K_{[ACT1]} \\cdot K_{[REP1]} \\cdot K_{[REP2]} \\cdot K_{[REP3]} \\cdot K_{[RNA_{pol}]} \\cdot[ACT1] \\cdot [REP1] \\cdot [REP2] \\cdot [REP3] \\cdot [RNA_{pol}]\\hspace{0.1cm}+\\hspace{0.1cm} K_{[ACT2]} \\cdot K_{[ACT3]} \\cdot K_{[ACT4]} \\cdot K_{[REP1]} \\cdot[ACT2] \\cdot [ACT3] \\cdot [ACT4] \\cdot [REP1]\\hspace{0.1cm}+\\hspace{0.1cm} K_{[ACT2]} \\cdot K_{[ACT3]} \\cdot K_{[ACT4]} \\cdot K_{[REP1]} \\cdot K_{[RNA_{pol}]} \\cdot[ACT2] \\cdot [ACT3] \\cdot [ACT4] \\cdot [REP1] \\cdot [RNA_{pol}]\\hspace{0.1cm}+\\hspace{0.1cm} K_{[ACT2]} \\cdot K_{[ACT3]} \\cdot K_{[ACT4]} \\cdot K_{[REP2]} \\cdot[ACT2] \\cdot [ACT3] \\cdot [ACT4] \\cdot [REP2]\\hspace{0.1cm}+\\hspace{0.1cm} K_{[ACT2]} \\cdot K_{[ACT3]} \\cdot K_{[ACT4]} \\cdot K_{[REP2]} \\cdot K_{[RNA_{pol}]} \\cdot[ACT2] \\cdot [ACT3] \\cdot [ACT4] \\cdot [REP2] \\cdot [RNA_{pol}]\\hspace{0.1cm}+\\hspace{0.1cm} K_{[ACT2]} \\cdot K_{[ACT3]} \\cdot K_{[ACT4]} \\cdot K_{[REP3]} \\cdot[ACT2] \\cdot [ACT3] \\cdot [ACT4] \\cdot [REP3]\\hspace{0.1cm}+\\hspace{0.1cm} K_{[ACT2]} \\cdot K_{[ACT3]} \\cdot K_{[ACT4]} \\cdot K_{[REP3]} \\cdot K_{[RNA_{pol}]} \\cdot[ACT2] \\cdot [ACT3] \\cdot [ACT4] \\cdot [REP3] \\cdot [RNA_{pol}]\\hspace{0.1cm}+\\hspace{0.1cm} K_{[ACT2]} \\cdot K_{[ACT3]} \\cdot K_{[REP1]} \\cdot K_{[REP2]} \\cdot[ACT2] \\cdot [ACT3] \\cdot [REP1] \\cdot [REP2]\\hspace{0.1cm}+\\hspace{0.1cm} K_{[ACT2]} \\cdot K_{[ACT3]} \\cdot K_{[REP1]} \\cdot K_{[REP2]} \\cdot K_{[RNA_{pol}]} \\cdot[ACT2] \\cdot [ACT3] \\cdot [REP1] \\cdot [REP2] \\cdot [RNA_{pol}]\\hspace{0.1cm}+\\hspace{0.1cm} K_{[ACT2]} \\cdot K_{[ACT3]} \\cdot K_{[REP1]} \\cdot K_{[REP3]} \\cdot[ACT2] \\cdot [ACT3] \\cdot [REP1] \\cdot [REP3]\\hspace{0.1cm}+\\hspace{0.1cm} K_{[ACT2]} \\cdot K_{[ACT3]} \\cdot K_{[REP1]} \\cdot K_{[REP3]} \\cdot K_{[RNA_{pol}]} \\cdot[ACT2] \\cdot [ACT3] \\cdot [REP1] \\cdot [REP3] \\cdot [RNA_{pol}]\\hspace{0.1cm}+\\hspace{0.1cm} K_{[ACT2]} \\cdot K_{[ACT3]} \\cdot K_{[REP2]} \\cdot K_{[REP3]} \\cdot[ACT2] \\cdot [ACT3] \\cdot [REP2] \\cdot [REP3]\\hspace{0.1cm}+\\hspace{0.1cm} K_{[ACT2]} \\cdot K_{[ACT3]} \\cdot K_{[REP2]} \\cdot K_{[REP3]} \\cdot K_{[RNA_{pol}]} \\cdot[ACT2] \\cdot [ACT3] \\cdot [REP2] \\cdot [REP3] \\cdot [RNA_{pol}]\\hspace{0.1cm}+\\hspace{0.1cm} K_{[ACT2]} \\cdot K_{[ACT4]} \\cdot K_{[REP1]} \\cdot K_{[REP2]} \\cdot[ACT2] \\cdot [ACT4] \\cdot [REP1] \\cdot [REP2]\\hspace{0.1cm}+\\hspace{0.1cm} K_{[ACT2]} \\cdot K_{[ACT4]} \\cdot K_{[REP1]} \\cdot K_{[REP2]} \\cdot K_{[RNA_{pol}]} \\cdot[ACT2] \\cdot [ACT4] \\cdot [REP1] \\cdot [REP2] \\cdot [RNA_{pol}]\\hspace{0.1cm}+\\hspace{0.1cm} K_{[ACT2]} \\cdot K_{[ACT4]} \\cdot K_{[REP1]} \\cdot K_{[REP3]} \\cdot[ACT2] \\cdot [ACT4] \\cdot [REP1] \\cdot [REP3]\\hspace{0.1cm}+\\hspace{0.1cm} K_{[ACT2]} \\cdot K_{[ACT4]} \\cdot K_{[REP1]} \\cdot K_{[REP3]} \\cdot K_{[RNA_{pol}]} \\cdot[ACT2] \\cdot [ACT4] \\cdot [REP1] \\cdot [REP3] \\cdot [RNA_{pol}]\\hspace{0.1cm}+\\hspace{0.1cm} K_{[ACT2]} \\cdot K_{[ACT4]} \\cdot K_{[REP2]} \\cdot K_{[REP3]} \\cdot[ACT2] \\cdot [ACT4] \\cdot [REP2] \\cdot [REP3]\\hspace{0.1cm}+\\hspace{0.1cm} K_{[ACT2]} \\cdot K_{[ACT4]} \\cdot K_{[REP2]} \\cdot K_{[REP3]} \\cdot K_{[RNA_{pol}]} \\cdot[ACT2] \\cdot [ACT4] \\cdot [REP2] \\cdot [REP3] \\cdot [RNA_{pol}]\\hspace{0.1cm}+\\hspace{0.1cm} K_{[ACT2]} \\cdot K_{[REP1]} \\cdot K_{[REP2]} \\cdot K_{[REP3]} \\cdot[ACT2] \\cdot [REP1] \\cdot [REP2] \\cdot [REP3]\\hspace{0.1cm}+\\hspace{0.1cm} K_{[ACT2]} \\cdot K_{[REP1]} \\cdot K_{[REP2]} \\cdot K_{[REP3]} \\cdot K_{[RNA_{pol}]} \\cdot[ACT2] \\cdot [REP1] \\cdot [REP2] \\cdot [REP3] \\cdot [RNA_{pol}]\\hspace{0.1cm}+\\hspace{0.1cm} K_{[ACT3]} \\cdot K_{[ACT4]} \\cdot K_{[REP1]} \\cdot K_{[REP2]} \\cdot[ACT3] \\cdot [ACT4] \\cdot [REP1] \\cdot [REP2]\\hspace{0.1cm}+\\hspace{0.1cm} K_{[ACT3]} \\cdot K_{[ACT4]} \\cdot K_{[REP1]} \\cdot K_{[REP2]} \\cdot K_{[RNA_{pol}]} \\cdot[ACT3] \\cdot [ACT4] \\cdot [REP1] \\cdot [REP2] \\cdot [RNA_{pol}]\\hspace{0.1cm}+\\hspace{0.1cm} K_{[ACT3]} \\cdot K_{[ACT4]} \\cdot K_{[REP1]} \\cdot K_{[REP3]} \\cdot[ACT3] \\cdot [ACT4] \\cdot [REP1] \\cdot [REP3]\\hspace{0.1cm}+\\hspace{0.1cm} K_{[ACT3]} \\cdot K_{[ACT4]} \\cdot K_{[REP1]} \\cdot K_{[REP3]} \\cdot K_{[RNA_{pol}]} \\cdot[ACT3] \\cdot [ACT4] \\cdot [REP1] \\cdot [REP3] \\cdot [RNA_{pol}]\\hspace{0.1cm}+\\hspace{0.1cm} K_{[ACT3]} \\cdot K_{[ACT4]} \\cdot K_{[REP2]} \\cdot K_{[REP3]} \\cdot[ACT3] \\cdot [ACT4] \\cdot [REP2] \\cdot [REP3]\\hspace{0.1cm}+\\hspace{0.1cm} K_{[ACT3]} \\cdot K_{[ACT4]} \\cdot K_{[REP2]} \\cdot K_{[REP3]} \\cdot K_{[RNA_{pol}]} \\cdot[ACT3] \\cdot [ACT4] \\cdot [REP2] \\cdot [REP3] \\cdot [RNA_{pol}]\\hspace{0.1cm}+\\hspace{0.1cm} K_{[ACT3]} \\cdot K_{[REP1]} \\cdot K_{[REP2]} \\cdot K_{[REP3]} \\cdot[ACT3] \\cdot [REP1] \\cdot [REP2] \\cdot [REP3]\\hspace{0.1cm}+\\hspace{0.1cm} K_{[ACT3]} \\cdot K_{[REP1]} \\cdot K_{[REP2]} \\cdot K_{[REP3]} \\cdot K_{[RNA_{pol}]} \\cdot[ACT3] \\cdot [REP1] \\cdot [REP2] \\cdot [REP3] \\cdot [RNA_{pol}]\\hspace{0.1cm}+\\hspace{0.1cm} K_{[ACT4]} \\cdot K_{[REP1]} \\cdot K_{[REP2]} \\cdot K_{[REP3]} \\cdot[ACT4] \\cdot [REP1] \\cdot [REP2] \\cdot [REP3]\\hspace{0.1cm}+\\hspace{0.1cm} K_{[ACT4]} \\cdot K_{[REP1]} \\cdot K_{[REP2]} \\cdot K_{[REP3]} \\cdot K_{[RNA_{pol}]} \\cdot[ACT4] \\cdot [REP1] \\cdot [REP2] \\cdot [REP3] \\cdot [RNA_{pol}]\\hspace{0.1cm}+\\hspace{0.1cm} K_{[ACT1]} \\cdot K_{[ACT2]} \\cdot K_{[ACT3]} \\cdot K_{[ACT4]} \\cdot K_{[REP1]} \\cdot[ACT1] \\cdot [ACT2] \\cdot [ACT3] \\cdot [ACT4] \\cdot [REP1]\\hspace{0.1cm}+\\hspace{0.1cm} K_{[ACT1]} \\cdot K_{[ACT2]} \\cdot K_{[ACT3]} \\cdot K_{[ACT4]} \\cdot K_{[REP1]} \\cdot K_{[RNA_{pol}]} \\cdot[ACT1] \\cdot [ACT2] \\cdot [ACT3] \\cdot [ACT4] \\cdot [REP1] \\cdot [RNA_{pol}]\\hspace{0.1cm}+\\hspace{0.1cm} K_{[ACT1]} \\cdot K_{[ACT2]} \\cdot K_{[ACT3]} \\cdot K_{[ACT4]} \\cdot K_{[REP2]} \\cdot[ACT1] \\cdot [ACT2] \\cdot [ACT3] \\cdot [ACT4] \\cdot [REP2]\\hspace{0.1cm}+\\hspace{0.1cm} K_{[ACT1]} \\cdot K_{[ACT2]} \\cdot K_{[ACT3]} \\cdot K_{[ACT4]} \\cdot K_{[REP2]} \\cdot K_{[RNA_{pol}]} \\cdot[ACT1] \\cdot [ACT2] \\cdot [ACT3] \\cdot [ACT4] \\cdot [REP2] \\cdot [RNA_{pol}]\\hspace{0.1cm}+\\hspace{0.1cm} K_{[ACT1]} \\cdot K_{[ACT2]} \\cdot K_{[ACT3]} \\cdot K_{[ACT4]} \\cdot K_{[REP3]} \\cdot[ACT1] \\cdot [ACT2] \\cdot [ACT3] \\cdot [ACT4] \\cdot [REP3]\\hspace{0.1cm}+\\hspace{0.1cm} K_{[ACT1]} \\cdot K_{[ACT2]} \\cdot K_{[ACT3]} \\cdot K_{[ACT4]} \\cdot K_{[REP3]} \\cdot K_{[RNA_{pol}]} \\cdot[ACT1] \\cdot [ACT2] \\cdot [ACT3] \\cdot [ACT4] \\cdot [REP3] \\cdot [RNA_{pol}]\\hspace{0.1cm}+\\hspace{0.1cm} K_{[ACT1]} \\cdot K_{[ACT2]} \\cdot K_{[ACT3]} \\cdot K_{[REP1]} \\cdot K_{[REP2]} \\cdot[ACT1] \\cdot [ACT2] \\cdot [ACT3] \\cdot [REP1] \\cdot [REP2]\\hspace{0.1cm}+\\hspace{0.1cm} K_{[ACT1]} \\cdot K_{[ACT2]} \\cdot K_{[ACT3]} \\cdot K_{[REP1]} \\cdot K_{[REP2]} \\cdot K_{[RNA_{pol}]} \\cdot[ACT1] \\cdot [ACT2] \\cdot [ACT3] \\cdot [REP1] \\cdot [REP2] \\cdot [RNA_{pol}]\\hspace{0.1cm}+\\hspace{0.1cm} K_{[ACT1]} \\cdot K_{[ACT2]} \\cdot K_{[ACT3]} \\cdot K_{[REP1]} \\cdot K_{[REP3]} \\cdot[ACT1] \\cdot [ACT2] \\cdot [ACT3] \\cdot [REP1] \\cdot [REP3]\\hspace{0.1cm}+\\hspace{0.1cm} K_{[ACT1]} \\cdot K_{[ACT2]} \\cdot K_{[ACT3]} \\cdot K_{[REP1]} \\cdot K_{[REP3]} \\cdot K_{[RNA_{pol}]} \\cdot[ACT1] \\cdot [ACT2] \\cdot [ACT3] \\cdot [REP1] \\cdot [REP3] \\cdot [RNA_{pol}]\\hspace{0.1cm}+\\hspace{0.1cm} K_{[ACT1]} \\cdot K_{[ACT2]} \\cdot K_{[ACT3]} \\cdot K_{[REP2]} \\cdot K_{[REP3]} \\cdot[ACT1] \\cdot [ACT2] \\cdot [ACT3] \\cdot [REP2] \\cdot [REP3]\\hspace{0.1cm}+\\hspace{0.1cm} K_{[ACT1]} \\cdot K_{[ACT2]} \\cdot K_{[ACT3]} \\cdot K_{[REP2]} \\cdot K_{[REP3]} \\cdot K_{[RNA_{pol}]} \\cdot[ACT1] \\cdot [ACT2] \\cdot [ACT3] \\cdot [REP2] \\cdot [REP3] \\cdot [RNA_{pol}]\\hspace{0.1cm}+\\hspace{0.1cm} K_{[ACT1]} \\cdot K_{[ACT2]} \\cdot K_{[ACT4]} \\cdot K_{[REP1]} \\cdot K_{[REP2]} \\cdot[ACT1] \\cdot [ACT2] \\cdot [ACT4] \\cdot [REP1] \\cdot [REP2]\\hspace{0.1cm}+\\hspace{0.1cm} K_{[ACT1]} \\cdot K_{[ACT2]} \\cdot K_{[ACT4]} \\cdot K_{[REP1]} \\cdot K_{[REP2]} \\cdot K_{[RNA_{pol}]} \\cdot[ACT1] \\cdot [ACT2] \\cdot [ACT4] \\cdot [REP1] \\cdot [REP2] \\cdot [RNA_{pol}]\\hspace{0.1cm}+\\hspace{0.1cm} K_{[ACT1]} \\cdot K_{[ACT2]} \\cdot K_{[ACT4]} \\cdot K_{[REP1]} \\cdot K_{[REP3]} \\cdot[ACT1] \\cdot [ACT2] \\cdot [ACT4] \\cdot [REP1] \\cdot [REP3]\\hspace{0.1cm}+\\hspace{0.1cm} K_{[ACT1]} \\cdot K_{[ACT2]} \\cdot K_{[ACT4]} \\cdot K_{[REP1]} \\cdot K_{[REP3]} \\cdot K_{[RNA_{pol}]} \\cdot[ACT1] \\cdot [ACT2] \\cdot [ACT4] \\cdot [REP1] \\cdot [REP3] \\cdot [RNA_{pol}]\\hspace{0.1cm}+\\hspace{0.1cm} K_{[ACT1]} \\cdot K_{[ACT2]} \\cdot K_{[ACT4]} \\cdot K_{[REP2]} \\cdot K_{[REP3]} \\cdot[ACT1] \\cdot [ACT2] \\cdot [ACT4] \\cdot [REP2] \\cdot [REP3]\\hspace{0.1cm}+\\hspace{0.1cm} K_{[ACT1]} \\cdot K_{[ACT2]} \\cdot K_{[ACT4]} \\cdot K_{[REP2]} \\cdot K_{[REP3]} \\cdot K_{[RNA_{pol}]} \\cdot[ACT1] \\cdot [ACT2] \\cdot [ACT4] \\cdot [REP2] \\cdot [REP3] \\cdot [RNA_{pol}]\\hspace{0.1cm}+\\hspace{0.1cm} K_{[ACT1]} \\cdot K_{[ACT2]} \\cdot K_{[REP1]} \\cdot K_{[REP2]} \\cdot K_{[REP3]} \\cdot[ACT1] \\cdot [ACT2] \\cdot [REP1] \\cdot [REP2] \\cdot [REP3]\\hspace{0.1cm}+\\hspace{0.1cm} K_{[ACT1]} \\cdot K_{[ACT2]} \\cdot K_{[REP1]} \\cdot K_{[REP2]} \\cdot K_{[REP3]} \\cdot K_{[RNA_{pol}]} \\cdot[ACT1] \\cdot [ACT2] \\cdot [REP1] \\cdot [REP2] \\cdot [REP3] \\cdot [RNA_{pol}]\\hspace{0.1cm}+\\hspace{0.1cm} K_{[ACT1]} \\cdot K_{[ACT3]} \\cdot K_{[ACT4]} \\cdot K_{[REP1]} \\cdot K_{[REP2]} \\cdot[ACT1] \\cdot [ACT3] \\cdot [ACT4] \\cdot [REP1] \\cdot [REP2]\\hspace{0.1cm}+\\hspace{0.1cm} K_{[ACT1]} \\cdot K_{[ACT3]} \\cdot K_{[ACT4]} \\cdot K_{[REP1]} \\cdot K_{[REP2]} \\cdot K_{[RNA_{pol}]} \\cdot[ACT1] \\cdot [ACT3] \\cdot [ACT4] \\cdot [REP1] \\cdot [REP2] \\cdot [RNA_{pol}]\\hspace{0.1cm}+\\hspace{0.1cm} K_{[ACT1]} \\cdot K_{[ACT3]} \\cdot K_{[ACT4]} \\cdot K_{[REP1]} \\cdot K_{[REP3]} \\cdot[ACT1] \\cdot [ACT3] \\cdot [ACT4] \\cdot [REP1] \\cdot [REP3]\\hspace{0.1cm}+\\hspace{0.1cm} K_{[ACT1]} \\cdot K_{[ACT3]} \\cdot K_{[ACT4]} \\cdot K_{[REP1]} \\cdot K_{[REP3]} \\cdot K_{[RNA_{pol}]} \\cdot[ACT1] \\cdot [ACT3] \\cdot [ACT4] \\cdot [REP1] \\cdot [REP3] \\cdot [RNA_{pol}]\\hspace{0.1cm}+\\hspace{0.1cm} K_{[ACT1]} \\cdot K_{[ACT3]} \\cdot K_{[ACT4]} \\cdot K_{[REP2]} \\cdot K_{[REP3]} \\cdot[ACT1] \\cdot [ACT3] \\cdot [ACT4] \\cdot [REP2] \\cdot [REP3]\\hspace{0.1cm}+\\hspace{0.1cm} K_{[ACT1]} \\cdot K_{[ACT3]} \\cdot K_{[ACT4]} \\cdot K_{[REP2]} \\cdot K_{[REP3]} \\cdot K_{[RNA_{pol}]} \\cdot[ACT1] \\cdot [ACT3] \\cdot [ACT4] \\cdot [REP2] \\cdot [REP3] \\cdot [RNA_{pol}]\\hspace{0.1cm}+\\hspace{0.1cm} K_{[ACT1]} \\cdot K_{[ACT3]} \\cdot K_{[REP1]} \\cdot K_{[REP2]} \\cdot K_{[REP3]} \\cdot[ACT1] \\cdot [ACT3] \\cdot [REP1] \\cdot [REP2] \\cdot [REP3]\\hspace{0.1cm}+\\hspace{0.1cm} K_{[ACT1]} \\cdot K_{[ACT3]} \\cdot K_{[REP1]} \\cdot K_{[REP2]} \\cdot K_{[REP3]} \\cdot K_{[RNA_{pol}]} \\cdot[ACT1] \\cdot [ACT3] \\cdot [REP1] \\cdot [REP2] \\cdot [REP3] \\cdot [RNA_{pol}]\\hspace{0.1cm}+\\hspace{0.1cm} K_{[ACT1]} \\cdot K_{[ACT4]} \\cdot K_{[REP1]} \\cdot K_{[REP2]} \\cdot K_{[REP3]} \\cdot[ACT1] \\cdot [ACT4] \\cdot [REP1] \\cdot [REP2] \\cdot [REP3]\\hspace{0.1cm}+\\hspace{0.1cm} K_{[ACT1]} \\cdot K_{[ACT4]} \\cdot K_{[REP1]} \\cdot K_{[REP2]} \\cdot K_{[REP3]} \\cdot K_{[RNA_{pol}]} \\cdot[ACT1] \\cdot [ACT4] \\cdot [REP1] \\cdot [REP2] \\cdot [REP3] \\cdot [RNA_{pol}]\\hspace{0.1cm}+\\hspace{0.1cm} K_{[ACT2]} \\cdot K_{[ACT3]} \\cdot K_{[ACT4]} \\cdot K_{[REP1]} \\cdot K_{[REP2]} \\cdot[ACT2] \\cdot [ACT3] \\cdot [ACT4] \\cdot [REP1] \\cdot [REP2]\\hspace{0.1cm}+\\hspace{0.1cm} K_{[ACT2]} \\cdot K_{[ACT3]} \\cdot K_{[ACT4]} \\cdot K_{[REP1]} \\cdot K_{[REP2]} \\cdot K_{[RNA_{pol}]} \\cdot[ACT2] \\cdot [ACT3] \\cdot [ACT4] \\cdot [REP1] \\cdot [REP2] \\cdot [RNA_{pol}]\\hspace{0.1cm}+\\hspace{0.1cm} K_{[ACT2]} \\cdot K_{[ACT3]} \\cdot K_{[ACT4]} \\cdot K_{[REP1]} \\cdot K_{[REP3]} \\cdot[ACT2] \\cdot [ACT3] \\cdot [ACT4] \\cdot [REP1] \\cdot [REP3]\\hspace{0.1cm}+\\hspace{0.1cm} K_{[ACT2]} \\cdot K_{[ACT3]} \\cdot K_{[ACT4]} \\cdot K_{[REP1]} \\cdot K_{[REP3]} \\cdot K_{[RNA_{pol}]} \\cdot[ACT2] \\cdot [ACT3] \\cdot [ACT4] \\cdot [REP1] \\cdot [REP3] \\cdot [RNA_{pol}]\\hspace{0.1cm}+\\hspace{0.1cm} K_{[ACT2]} \\cdot K_{[ACT3]} \\cdot K_{[ACT4]} \\cdot K_{[REP2]} \\cdot K_{[REP3]} \\cdot[ACT2] \\cdot [ACT3] \\cdot [ACT4] \\cdot [REP2] \\cdot [REP3]\\hspace{0.1cm}+\\hspace{0.1cm} K_{[ACT2]} \\cdot K_{[ACT3]} \\cdot K_{[ACT4]} \\cdot K_{[REP2]} \\cdot K_{[REP3]} \\cdot K_{[RNA_{pol}]} \\cdot[ACT2] \\cdot [ACT3] \\cdot [ACT4] \\cdot [REP2] \\cdot [REP3] \\cdot [RNA_{pol}]\\hspace{0.1cm}+\\hspace{0.1cm} K_{[ACT2]} \\cdot K_{[ACT3]} \\cdot K_{[REP1]} \\cdot K_{[REP2]} \\cdot K_{[REP3]} \\cdot[ACT2] \\cdot [ACT3] \\cdot [REP1] \\cdot [REP2] \\cdot [REP3]\\hspace{0.1cm}+\\hspace{0.1cm} K_{[ACT2]} \\cdot K_{[ACT3]} \\cdot K_{[REP1]} \\cdot K_{[REP2]} \\cdot K_{[REP3]} \\cdot K_{[RNA_{pol}]} \\cdot[ACT2] \\cdot [ACT3] \\cdot [REP1] \\cdot [REP2] \\cdot [REP3] \\cdot [RNA_{pol}]\\hspace{0.1cm}+\\hspace{0.1cm} K_{[ACT2]} \\cdot K_{[ACT4]} \\cdot K_{[REP1]} \\cdot K_{[REP2]} \\cdot K_{[REP3]} \\cdot[ACT2] \\cdot [ACT4] \\cdot [REP1] \\cdot [REP2] \\cdot [REP3]\\hspace{0.1cm}+\\hspace{0.1cm} K_{[ACT2]} \\cdot K_{[ACT4]} \\cdot K_{[REP1]} \\cdot K_{[REP2]} \\cdot K_{[REP3]} \\cdot K_{[RNA_{pol}]} \\cdot[ACT2] \\cdot [ACT4] \\cdot [REP1] \\cdot [REP2] \\cdot [REP3] \\cdot [RNA_{pol}]\\hspace{0.1cm}+\\hspace{0.1cm} K_{[ACT3]} \\cdot K_{[ACT4]} \\cdot K_{[REP1]} \\cdot K_{[REP2]} \\cdot K_{[REP3]} \\cdot[ACT3] \\cdot [ACT4] \\cdot [REP1] \\cdot [REP2] \\cdot [REP3]\\hspace{0.1cm}+\\hspace{0.1cm} K_{[ACT3]} \\cdot K_{[ACT4]} \\cdot K_{[REP1]} \\cdot K_{[REP2]} \\cdot K_{[REP3]} \\cdot K_{[RNA_{pol}]} \\cdot[ACT3] \\cdot [ACT4] \\cdot [REP1] \\cdot [REP2] \\cdot [REP3] \\cdot [RNA_{pol}]\\hspace{0.1cm}+\\hspace{0.1cm} K_{[ACT1]} \\cdot K_{[ACT2]} \\cdot K_{[ACT3]} \\cdot K_{[ACT4]} \\cdot K_{[REP1]} \\cdot K_{[REP2]} \\cdot[ACT1] \\cdot [ACT2] \\cdot [ACT3] \\cdot [ACT4] \\cdot [REP1] \\cdot [REP2]\\hspace{0.1cm}+\\hspace{0.1cm} K_{[ACT1]} \\cdot K_{[ACT2]} \\cdot K_{[ACT3]} \\cdot K_{[ACT4]} \\cdot K_{[REP1]} \\cdot K_{[REP2]} \\cdot K_{[RNA_{pol}]} \\cdot[ACT1] \\cdot [ACT2] \\cdot [ACT3] \\cdot [ACT4] \\cdot [REP1] \\cdot [REP2] \\cdot [RNA_{pol}]\\hspace{0.1cm}+\\hspace{0.1cm} K_{[ACT1]} \\cdot K_{[ACT2]} \\cdot K_{[ACT3]} \\cdot K_{[ACT4]} \\cdot K_{[REP1]} \\cdot K_{[REP3]} \\cdot[ACT1] \\cdot [ACT2] \\cdot [ACT3] \\cdot [ACT4] \\cdot [REP1] \\cdot [REP3]\\hspace{0.1cm}+\\hspace{0.1cm} K_{[ACT1]} \\cdot K_{[ACT2]} \\cdot K_{[ACT3]} \\cdot K_{[ACT4]} \\cdot K_{[REP1]} \\cdot K_{[REP3]} \\cdot K_{[RNA_{pol}]} \\cdot[ACT1] \\cdot [ACT2] \\cdot [ACT3] \\cdot [ACT4] \\cdot [REP1] \\cdot [REP3] \\cdot [RNA_{pol}]\\hspace{0.1cm}+\\hspace{0.1cm} K_{[ACT1]} \\cdot K_{[ACT2]} \\cdot K_{[ACT3]} \\cdot K_{[ACT4]} \\cdot K_{[REP2]} \\cdot K_{[REP3]} \\cdot[ACT1] \\cdot [ACT2] \\cdot [ACT3] \\cdot [ACT4] \\cdot [REP2] \\cdot [REP3]\\hspace{0.1cm}+\\hspace{0.1cm} K_{[ACT1]} \\cdot K_{[ACT2]} \\cdot K_{[ACT3]} \\cdot K_{[ACT4]} \\cdot K_{[REP2]} \\cdot K_{[REP3]} \\cdot K_{[RNA_{pol}]} \\cdot[ACT1] \\cdot [ACT2] \\cdot [ACT3] \\cdot [ACT4] \\cdot [REP2] \\cdot [REP3] \\cdot [RNA_{pol}]\\hspace{0.1cm}+\\hspace{0.1cm} K_{[ACT1]} \\cdot K_{[ACT2]} \\cdot K_{[ACT3]} \\cdot K_{[REP1]} \\cdot K_{[REP2]} \\cdot K_{[REP3]} \\cdot[ACT1] \\cdot [ACT2] \\cdot [ACT3] \\cdot [REP1] \\cdot [REP2] \\cdot [REP3]\\hspace{0.1cm}+\\hspace{0.1cm} K_{[ACT1]} \\cdot K_{[ACT2]} \\cdot K_{[ACT3]} \\cdot K_{[REP1]} \\cdot K_{[REP2]} \\cdot K_{[REP3]} \\cdot K_{[RNA_{pol}]} \\cdot[ACT1] \\cdot [ACT2] \\cdot [ACT3] \\cdot [REP1] \\cdot [REP2] \\cdot [REP3] \\cdot [RNA_{pol}]\\hspace{0.1cm}+\\hspace{0.1cm} K_{[ACT1]} \\cdot K_{[ACT2]} \\cdot K_{[ACT4]} \\cdot K_{[REP1]} \\cdot K_{[REP2]} \\cdot K_{[REP3]} \\cdot[ACT1] \\cdot [ACT2] \\cdot [ACT4] \\cdot [REP1] \\cdot [REP2] \\cdot [REP3]\\hspace{0.1cm}+\\hspace{0.1cm} K_{[ACT1]} \\cdot K_{[ACT2]} \\cdot K_{[ACT4]} \\cdot K_{[REP1]} \\cdot K_{[REP2]} \\cdot K_{[REP3]} \\cdot K_{[RNA_{pol}]} \\cdot[ACT1] \\cdot [ACT2] \\cdot [ACT4] \\cdot [REP1] \\cdot [REP2] \\cdot [REP3] \\cdot [RNA_{pol}]\\hspace{0.1cm}+\\hspace{0.1cm} K_{[ACT1]} \\cdot K_{[ACT3]} \\cdot K_{[ACT4]} \\cdot K_{[REP1]} \\cdot K_{[REP2]} \\cdot K_{[REP3]} \\cdot[ACT1] \\cdot [ACT3] \\cdot [ACT4] \\cdot [REP1] \\cdot [REP2] \\cdot [REP3]\\hspace{0.1cm}+\\hspace{0.1cm} K_{[ACT1]} \\cdot K_{[ACT3]} \\cdot K_{[ACT4]} \\cdot K_{[REP1]} \\cdot K_{[REP2]} \\cdot K_{[REP3]} \\cdot K_{[RNA_{pol}]} \\cdot[ACT1] \\cdot [ACT3] \\cdot [ACT4] \\cdot [REP1] \\cdot [REP2] \\cdot [REP3] \\cdot [RNA_{pol}]\\hspace{0.1cm}+\\hspace{0.1cm} K_{[ACT2]} \\cdot K_{[ACT3]} \\cdot K_{[ACT4]} \\cdot K_{[REP1]} \\cdot K_{[REP2]} \\cdot K_{[REP3]} \\cdot[ACT2] \\cdot [ACT3] \\cdot [ACT4] \\cdot [REP1] \\cdot [REP2] \\cdot [REP3]\\hspace{0.1cm}+\\hspace{0.1cm} K_{[ACT2]} \\cdot K_{[ACT3]} \\cdot K_{[ACT4]} \\cdot K_{[REP1]} \\cdot K_{[REP2]} \\cdot K_{[REP3]} \\cdot K_{[RNA_{pol}]} \\cdot[ACT2] \\cdot [ACT3] \\cdot [ACT4] \\cdot [REP1] \\cdot [REP2] \\cdot [REP3] \\cdot [RNA_{pol}]\\hspace{0.1cm}+\\hspace{0.1cm} K_{[ACT1]} \\cdot K_{[ACT2]} \\cdot K_{[ACT3]} \\cdot K_{[ACT4]} \\cdot K_{[REP1]} \\cdot K_{[REP2]} \\cdot K_{[REP3]} \\cdot[ACT1] \\cdot [ACT2] \\cdot [ACT3] \\cdot [ACT4] \\cdot [REP1] \\cdot [REP2] \\cdot [REP3]\\hspace{0.1cm}+\\hspace{0.1cm} K_{[ACT1]} \\cdot K_{[ACT2]} \\cdot K_{[ACT3]} \\cdot K_{[ACT4]} \\cdot K_{[REP1]} \\cdot K_{[REP2]} \\cdot K_{[REP3]} \\cdot K_{[RNA_{pol}]} \\cdot[ACT1] \\cdot [ACT2] \\cdot [ACT3] \\cdot [ACT4] \\cdot [REP1] \\cdot [REP2] \\cdot [REP3] \\cdot [RNA_{pol}]}$",
            "text/plain": [
              "<IPython.core.display.Math object>"
            ]
          },
          "metadata": {
            "tags": []
          }
        },
        {
          "output_type": "stream",
          "text": [
            "\n",
            "\n",
            "\n",
            "\n"
          ],
          "name": "stdout"
        }
      ]
    },
    {
      "cell_type": "code",
      "metadata": {
        "id": "tij9Q3LQ8hy1"
      },
      "source": [
        ""
      ],
      "execution_count": null,
      "outputs": []
    },
    {
      "cell_type": "code",
      "metadata": {
        "id": "B19ShxGf8hy4"
      },
      "source": [
        ""
      ],
      "execution_count": null,
      "outputs": []
    },
    {
      "cell_type": "code",
      "metadata": {
        "id": "aiYlp-4T8hy7"
      },
      "source": [
        ""
      ],
      "execution_count": null,
      "outputs": []
    },
    {
      "cell_type": "code",
      "metadata": {
        "id": "-9t62XUC8hy-"
      },
      "source": [
        ""
      ],
      "execution_count": null,
      "outputs": []
    }
  ]
}
